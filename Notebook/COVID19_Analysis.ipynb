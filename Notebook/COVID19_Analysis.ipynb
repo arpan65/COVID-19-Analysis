{
 "cells": [
  {
   "cell_type": "code",
   "execution_count": 1,
   "metadata": {},
   "outputs": [],
   "source": [
    "# Import necessary libraries\n",
    "import gpxpy.geo #Get the haversine distance\n",
    "import math\n",
    "import pickle\n",
    "import os\n",
    "import pandas as pd\n",
    "import folium \n",
    "import datetime #Convert to unix time\n",
    "import time #Convert to unix time\n",
    "import numpy as np#Do aritmetic operations on arrays\n",
    "# matplotlib: used to plot graphs\n",
    "import matplotlib\n",
    "# matplotlib.use('nbagg') : matplotlib uses this protocall which makes plots more user intractive like zoom in and zoom out\n",
    "matplotlib.use('nbagg')\n",
    "import matplotlib.pylab as plt\n",
    "import seaborn as sns#Plots\n",
    "from matplotlib import rcParams#Size of plots \n",
    "import plotly as py\n",
    "import cufflinks"
   ]
  },
  {
   "cell_type": "markdown",
   "metadata": {},
   "source": [
    "### Reading Data"
   ]
  },
  {
   "cell_type": "code",
   "execution_count": 2,
   "metadata": {},
   "outputs": [],
   "source": [
    "# Reading Data\n",
    "covid_master=pd.read_csv('covid_19_data.csv')\n",
    "covid_open=pd.read_csv('COVID19_open_line_list.csv')\n",
    "covid_confirmed=pd.read_csv('time_series_covid_19_confirmed.csv')\n",
    "covid_death= pd.read_csv('time_series_covid_19_deaths.csv')\n",
    "covid_recovered=pd.read_csv('time_series_covid_19_recovered.csv')"
   ]
  },
  {
   "cell_type": "markdown",
   "metadata": {},
   "source": [
    "## Covid 19 Master Data"
   ]
  },
  {
   "cell_type": "markdown",
   "metadata": {},
   "source": [
    "The raw data is structured such a way that the last updated row by each country and state contains the latest value for that region and state. Suppose on '02/02/2020' the value of confirmed cases in China/Hubei was 'X' then on '03/02/2020' the value is 'X+y'. So the total confirmed cases will be the sum of all the latest values of each state of each region/country."
   ]
  },
  {
   "cell_type": "markdown",
   "metadata": {},
   "source": [
    "### Preprocessing"
   ]
  },
  {
   "cell_type": "code",
   "execution_count": 3,
   "metadata": {},
   "outputs": [
    {
     "data": {
      "text/html": [
       "<div>\n",
       "<style scoped>\n",
       "    .dataframe tbody tr th:only-of-type {\n",
       "        vertical-align: middle;\n",
       "    }\n",
       "\n",
       "    .dataframe tbody tr th {\n",
       "        vertical-align: top;\n",
       "    }\n",
       "\n",
       "    .dataframe thead th {\n",
       "        text-align: right;\n",
       "    }\n",
       "</style>\n",
       "<table border=\"1\" class=\"dataframe\">\n",
       "  <thead>\n",
       "    <tr style=\"text-align: right;\">\n",
       "      <th></th>\n",
       "      <th>SNo</th>\n",
       "      <th>ObservationDate</th>\n",
       "      <th>Province/State</th>\n",
       "      <th>Country/Region</th>\n",
       "      <th>Last Update</th>\n",
       "      <th>Confirmed</th>\n",
       "      <th>Deaths</th>\n",
       "      <th>Recovered</th>\n",
       "    </tr>\n",
       "  </thead>\n",
       "  <tbody>\n",
       "    <tr>\n",
       "      <th>0</th>\n",
       "      <td>1</td>\n",
       "      <td>01/22/2020</td>\n",
       "      <td>Anhui</td>\n",
       "      <td>Mainland China</td>\n",
       "      <td>1/22/2020 17:00</td>\n",
       "      <td>1.0</td>\n",
       "      <td>0.0</td>\n",
       "      <td>0.0</td>\n",
       "    </tr>\n",
       "    <tr>\n",
       "      <th>1</th>\n",
       "      <td>2</td>\n",
       "      <td>01/22/2020</td>\n",
       "      <td>Beijing</td>\n",
       "      <td>Mainland China</td>\n",
       "      <td>1/22/2020 17:00</td>\n",
       "      <td>14.0</td>\n",
       "      <td>0.0</td>\n",
       "      <td>0.0</td>\n",
       "    </tr>\n",
       "    <tr>\n",
       "      <th>2</th>\n",
       "      <td>3</td>\n",
       "      <td>01/22/2020</td>\n",
       "      <td>Chongqing</td>\n",
       "      <td>Mainland China</td>\n",
       "      <td>1/22/2020 17:00</td>\n",
       "      <td>6.0</td>\n",
       "      <td>0.0</td>\n",
       "      <td>0.0</td>\n",
       "    </tr>\n",
       "  </tbody>\n",
       "</table>\n",
       "</div>"
      ],
      "text/plain": [
       "   SNo ObservationDate Province/State  Country/Region      Last Update  \\\n",
       "0    1      01/22/2020          Anhui  Mainland China  1/22/2020 17:00   \n",
       "1    2      01/22/2020        Beijing  Mainland China  1/22/2020 17:00   \n",
       "2    3      01/22/2020      Chongqing  Mainland China  1/22/2020 17:00   \n",
       "\n",
       "   Confirmed  Deaths  Recovered  \n",
       "0        1.0     0.0        0.0  \n",
       "1       14.0     0.0        0.0  \n",
       "2        6.0     0.0        0.0  "
      ]
     },
     "execution_count": 3,
     "metadata": {},
     "output_type": "execute_result"
    }
   ],
   "source": [
    "covid_master.head(3)\n",
    "#data[data['ObservationDate']=='03/04/2020']"
   ]
  },
  {
   "cell_type": "code",
   "execution_count": 4,
   "metadata": {},
   "outputs": [
    {
     "data": {
      "text/plain": [
       "Index(['SNo', 'ObservationDate', 'Province/State', 'Country/Region',\n",
       "       'Last Update', 'Confirmed', 'Deaths', 'Recovered'],\n",
       "      dtype='object')"
      ]
     },
     "execution_count": 4,
     "metadata": {},
     "output_type": "execute_result"
    }
   ],
   "source": [
    "# data columns\n",
    "#covid_master=covid_master.drop(columns=['SNo'])\n",
    "covid_master.columns"
   ]
  },
  {
   "cell_type": "markdown",
   "metadata": {},
   "source": [
    "Checking for Null values"
   ]
  },
  {
   "cell_type": "code",
   "execution_count": 5,
   "metadata": {},
   "outputs": [
    {
     "data": {
      "text/plain": [
       "SNo                   0\n",
       "ObservationDate       0\n",
       "Province/State     1398\n",
       "Country/Region        0\n",
       "Last Update           0\n",
       "Confirmed             0\n",
       "Deaths                0\n",
       "Recovered             0\n",
       "dtype: int64"
      ]
     },
     "execution_count": 5,
     "metadata": {},
     "output_type": "execute_result"
    }
   ],
   "source": [
    "covid_master.isna().sum()"
   ]
  },
  {
   "cell_type": "code",
   "execution_count": 6,
   "metadata": {},
   "outputs": [
    {
     "data": {
      "text/plain": [
       "SNo                0\n",
       "ObservationDate    0\n",
       "Province/State     0\n",
       "Country/Region     0\n",
       "Last Update        0\n",
       "Confirmed          0\n",
       "Deaths             0\n",
       "Recovered          0\n",
       "dtype: int64"
      ]
     },
     "execution_count": 6,
     "metadata": {},
     "output_type": "execute_result"
    }
   ],
   "source": [
    "# We will replace Null states to a value 'NoState'\n",
    "covid_master=covid_master.fillna('NoState')\n",
    "covid_master.isna().sum()"
   ]
  },
  {
   "cell_type": "code",
   "execution_count": 7,
   "metadata": {},
   "outputs": [],
   "source": [
    "# changing the data type\n",
    "num_cols=['Confirmed', 'Deaths', 'Recovered']\n",
    "for col in num_cols:\n",
    "    temp=[int(i) for i in covid_master[col]]\n",
    "    covid_master[col]=temp"
   ]
  },
  {
   "cell_type": "code",
   "execution_count": 8,
   "metadata": {},
   "outputs": [
    {
     "data": {
      "text/html": [
       "<div>\n",
       "<style scoped>\n",
       "    .dataframe tbody tr th:only-of-type {\n",
       "        vertical-align: middle;\n",
       "    }\n",
       "\n",
       "    .dataframe tbody tr th {\n",
       "        vertical-align: top;\n",
       "    }\n",
       "\n",
       "    .dataframe thead th {\n",
       "        text-align: right;\n",
       "    }\n",
       "</style>\n",
       "<table border=\"1\" class=\"dataframe\">\n",
       "  <thead>\n",
       "    <tr style=\"text-align: right;\">\n",
       "      <th></th>\n",
       "      <th></th>\n",
       "      <th>SNo</th>\n",
       "      <th>Deaths</th>\n",
       "      <th>Recovered</th>\n",
       "    </tr>\n",
       "    <tr>\n",
       "      <th>Country/Region</th>\n",
       "      <th>Confirmed</th>\n",
       "      <th></th>\n",
       "      <th></th>\n",
       "      <th></th>\n",
       "    </tr>\n",
       "  </thead>\n",
       "  <tbody>\n",
       "    <tr>\n",
       "      <th>Azerbaijan</th>\n",
       "      <th>1</th>\n",
       "      <td>2664</td>\n",
       "      <td>0</td>\n",
       "      <td>0</td>\n",
       "    </tr>\n",
       "    <tr>\n",
       "      <th>Afghanistan</th>\n",
       "      <th>1</th>\n",
       "      <td>38707</td>\n",
       "      <td>0</td>\n",
       "      <td>0</td>\n",
       "    </tr>\n",
       "    <tr>\n",
       "      <th rowspan=\"3\" valign=\"top\">Algeria</th>\n",
       "      <th>1</th>\n",
       "      <td>15727</td>\n",
       "      <td>0</td>\n",
       "      <td>0</td>\n",
       "    </tr>\n",
       "    <tr>\n",
       "      <th>3</th>\n",
       "      <td>3023</td>\n",
       "      <td>0</td>\n",
       "      <td>0</td>\n",
       "    </tr>\n",
       "    <tr>\n",
       "      <th>5</th>\n",
       "      <td>3161</td>\n",
       "      <td>0</td>\n",
       "      <td>0</td>\n",
       "    </tr>\n",
       "    <tr>\n",
       "      <th>...</th>\n",
       "      <th>...</th>\n",
       "      <td>...</td>\n",
       "      <td>...</td>\n",
       "      <td>...</td>\n",
       "    </tr>\n",
       "    <tr>\n",
       "      <th rowspan=\"5\" valign=\"top\">Vietnam</th>\n",
       "      <th>13</th>\n",
       "      <td>2110</td>\n",
       "      <td>0</td>\n",
       "      <td>2</td>\n",
       "    </tr>\n",
       "    <tr>\n",
       "      <th>14</th>\n",
       "      <td>1163</td>\n",
       "      <td>0</td>\n",
       "      <td>1</td>\n",
       "    </tr>\n",
       "    <tr>\n",
       "      <th>15</th>\n",
       "      <td>2543</td>\n",
       "      <td>0</td>\n",
       "      <td>12</td>\n",
       "    </tr>\n",
       "    <tr>\n",
       "      <th>16</th>\n",
       "      <td>53661</td>\n",
       "      <td>0</td>\n",
       "      <td>288</td>\n",
       "    </tr>\n",
       "    <tr>\n",
       "      <th>18</th>\n",
       "      <td>3842</td>\n",
       "      <td>0</td>\n",
       "      <td>16</td>\n",
       "    </tr>\n",
       "  </tbody>\n",
       "</table>\n",
       "<p>1249 rows × 3 columns</p>\n",
       "</div>"
      ],
      "text/plain": [
       "                            SNo  Deaths  Recovered\n",
       "Country/Region Confirmed                          \n",
       " Azerbaijan    1           2664       0          0\n",
       "Afghanistan    1          38707       0          0\n",
       "Algeria        1          15727       0          0\n",
       "               3           3023       0          0\n",
       "               5           3161       0          0\n",
       "...                         ...     ...        ...\n",
       "Vietnam        13          2110       0          2\n",
       "               14          1163       0          1\n",
       "               15          2543       0         12\n",
       "               16         53661       0        288\n",
       "               18          3842       0         16\n",
       "\n",
       "[1249 rows x 3 columns]"
      ]
     },
     "execution_count": 8,
     "metadata": {},
     "output_type": "execute_result"
    }
   ],
   "source": [
    "covid_master.groupby(['Country/Region','Confirmed']).sum()"
   ]
  },
  {
   "cell_type": "code",
   "execution_count": 9,
   "metadata": {},
   "outputs": [],
   "source": [
    "# Consolidating unique affected regions till date\n",
    "unique_regions=[country for country in list(set(covid_master['Country/Region']))]"
   ]
  },
  {
   "cell_type": "markdown",
   "metadata": {},
   "source": [
    "### Creating country wise cumulative data"
   ]
  },
  {
   "cell_type": "code",
   "execution_count": 10,
   "metadata": {},
   "outputs": [],
   "source": [
    "# creating list of all affected states of the countries\n",
    "states_per_regions=[]\n",
    "for reg in unique_regions:\n",
    "    states=[]\n",
    "    for i in  range(len(covid_master)):\n",
    "        if(covid_master.iloc[i]['Country/Region']==reg):\n",
    "            states.append(covid_master.iloc[i]['Province/State'])\n",
    "    states_per_regions.append(set(states))        "
   ]
  },
  {
   "cell_type": "code",
   "execution_count": 11,
   "metadata": {},
   "outputs": [],
   "source": [
    "# Total Confirmed cases per conutry\n",
    "total_confirmed=[]\n",
    "for i in range(len(unique_regions)):\n",
    "    count=0\n",
    "    covid_temp=covid_master[covid_master['Country/Region']==unique_regions[i]]\n",
    "    for state in states_per_regions[i]:\n",
    "        #print(state)\n",
    "        count+=covid_temp[covid_temp['Province/State']==state].sort_values('ObservationDate').iloc[-1]['Confirmed']\n",
    "    total_confirmed.append(count)"
   ]
  },
  {
   "cell_type": "code",
   "execution_count": 12,
   "metadata": {},
   "outputs": [],
   "source": [
    "# Total Deaths cases per conutry\n",
    "total_deaths=[]\n",
    "for i in range(len(unique_regions)):\n",
    "    count=0\n",
    "    covid_temp=covid_master[covid_master['Country/Region']==unique_regions[i]]\n",
    "    for state in states_per_regions[i]:\n",
    "        #print(state)\n",
    "        count+=covid_temp[covid_temp['Province/State']==state].sort_values('ObservationDate').iloc[-1]['Deaths']\n",
    "    total_deaths.append(count)"
   ]
  },
  {
   "cell_type": "code",
   "execution_count": 13,
   "metadata": {},
   "outputs": [],
   "source": [
    "# Total Recovered cases per conutry\n",
    "total_recovered=[]\n",
    "for i in range(len(unique_regions)):\n",
    "    count=0\n",
    "    covid_temp=covid_master[covid_master['Country/Region']==unique_regions[i]]\n",
    "    for state in states_per_regions[i]:\n",
    "        #print(state)\n",
    "        count+=covid_temp[covid_temp['Province/State']==state].sort_values('ObservationDate').iloc[-1]['Recovered']\n",
    "    total_recovered.append(count)"
   ]
  },
  {
   "cell_type": "code",
   "execution_count": 14,
   "metadata": {},
   "outputs": [
    {
     "data": {
      "text/html": [
       "<div>\n",
       "<style scoped>\n",
       "    .dataframe tbody tr th:only-of-type {\n",
       "        vertical-align: middle;\n",
       "    }\n",
       "\n",
       "    .dataframe tbody tr th {\n",
       "        vertical-align: top;\n",
       "    }\n",
       "\n",
       "    .dataframe thead th {\n",
       "        text-align: right;\n",
       "    }\n",
       "</style>\n",
       "<table border=\"1\" class=\"dataframe\">\n",
       "  <thead>\n",
       "    <tr style=\"text-align: right;\">\n",
       "      <th></th>\n",
       "      <th>country</th>\n",
       "      <th>confirmed</th>\n",
       "      <th>deaths</th>\n",
       "      <th>recovered</th>\n",
       "    </tr>\n",
       "  </thead>\n",
       "  <tbody>\n",
       "    <tr>\n",
       "      <th>0</th>\n",
       "      <td>Sweden</td>\n",
       "      <td>161</td>\n",
       "      <td>0</td>\n",
       "      <td>0</td>\n",
       "    </tr>\n",
       "    <tr>\n",
       "      <th>1</th>\n",
       "      <td>Greece</td>\n",
       "      <td>46</td>\n",
       "      <td>0</td>\n",
       "      <td>0</td>\n",
       "    </tr>\n",
       "    <tr>\n",
       "      <th>2</th>\n",
       "      <td>Lebanon</td>\n",
       "      <td>23</td>\n",
       "      <td>0</td>\n",
       "      <td>1</td>\n",
       "    </tr>\n",
       "    <tr>\n",
       "      <th>3</th>\n",
       "      <td>Vietnam</td>\n",
       "      <td>18</td>\n",
       "      <td>0</td>\n",
       "      <td>16</td>\n",
       "    </tr>\n",
       "    <tr>\n",
       "      <th>4</th>\n",
       "      <td>Monaco</td>\n",
       "      <td>1</td>\n",
       "      <td>0</td>\n",
       "      <td>0</td>\n",
       "    </tr>\n",
       "  </tbody>\n",
       "</table>\n",
       "</div>"
      ],
      "text/plain": [
       "   country  confirmed  deaths  recovered\n",
       "0   Sweden        161       0          0\n",
       "1   Greece         46       0          0\n",
       "2  Lebanon         23       0          1\n",
       "3  Vietnam         18       0         16\n",
       "4   Monaco          1       0          0"
      ]
     },
     "execution_count": 14,
     "metadata": {},
     "output_type": "execute_result"
    }
   ],
   "source": [
    "covid_countrywise=pd.DataFrame(columns=['country','confirmed','deaths','recovered'],index=None)\n",
    "unique_regions[53]='unconfirmed/Diamond princes Cruise'\n",
    "total_confirmed[53]=1\n",
    "covid_countrywise.country=unique_regions\n",
    "covid_countrywise.confirmed=total_confirmed\n",
    "covid_countrywise.deaths=total_deaths\n",
    "covid_countrywise.recovered=total_recovered\n",
    "covid_countrywise.to_csv('covid_countrywise.csv')\n",
    "covid_countrywise.head()"
   ]
  },
  {
   "cell_type": "markdown",
   "metadata": {},
   "source": [
    "### Exploratory Data Analysis"
   ]
  },
  {
   "cell_type": "markdown",
   "metadata": {},
   "source": [
    "Here we will seek answers of 11 key questions to analyze the outbreak closely.\n",
    "1. Which countries are mostly affected by the outbreak?                                     \n",
    "2. As we know China is the source of the incident, What is the comparative situation between china and rest of the world?   \n",
    "3. How the confirmed cases are distributed globally over various regions?                                        \n",
    "4. How confirmed and death cases are distributed over worstly effected countries?                                     \n",
    "5. Which countries have the worst death rates?                                                                   \n",
    "6. Which countries have the best recovery rates?                                                                                                                                      \n",
    "7. How the virus is spread across various regions?                                                                  \n",
    "8. How many new incidents (confirmed/ recovered/ Death) are reported on a daily basis?                                    \n",
    "9. How the virus is spreading outside ot china?                                                                                        \n",
    "10. Which countries are completely recovered tilll date (All confirmed cases are recovred)?                                \n",
    "11. Which are the regious where death cases are reported?                                                              \n"
   ]
  },
  {
   "cell_type": "code",
   "execution_count": 25,
   "metadata": {},
   "outputs": [
    {
     "data": {
      "text/html": [
       "<div>\n",
       "<style scoped>\n",
       "    .dataframe tbody tr th:only-of-type {\n",
       "        vertical-align: middle;\n",
       "    }\n",
       "\n",
       "    .dataframe tbody tr th {\n",
       "        vertical-align: top;\n",
       "    }\n",
       "\n",
       "    .dataframe thead th {\n",
       "        text-align: right;\n",
       "    }\n",
       "</style>\n",
       "<table border=\"1\" class=\"dataframe\">\n",
       "  <thead>\n",
       "    <tr style=\"text-align: right;\">\n",
       "      <th></th>\n",
       "      <th>country</th>\n",
       "      <th>confirmed</th>\n",
       "      <th>deaths</th>\n",
       "      <th>recovered</th>\n",
       "    </tr>\n",
       "  </thead>\n",
       "  <tbody>\n",
       "    <tr>\n",
       "      <th>46</th>\n",
       "      <td>Mainland China</td>\n",
       "      <td>80652</td>\n",
       "      <td>3070</td>\n",
       "      <td>55478</td>\n",
       "    </tr>\n",
       "    <tr>\n",
       "      <th>44</th>\n",
       "      <td>South Korea</td>\n",
       "      <td>7041</td>\n",
       "      <td>44</td>\n",
       "      <td>135</td>\n",
       "    </tr>\n",
       "    <tr>\n",
       "      <th>32</th>\n",
       "      <td>Italy</td>\n",
       "      <td>5883</td>\n",
       "      <td>233</td>\n",
       "      <td>589</td>\n",
       "    </tr>\n",
       "    <tr>\n",
       "      <th>47</th>\n",
       "      <td>Iran</td>\n",
       "      <td>5823</td>\n",
       "      <td>145</td>\n",
       "      <td>1669</td>\n",
       "    </tr>\n",
       "    <tr>\n",
       "      <th>85</th>\n",
       "      <td>France</td>\n",
       "      <td>949</td>\n",
       "      <td>11</td>\n",
       "      <td>12</td>\n",
       "    </tr>\n",
       "    <tr>\n",
       "      <th>13</th>\n",
       "      <td>Germany</td>\n",
       "      <td>804</td>\n",
       "      <td>0</td>\n",
       "      <td>18</td>\n",
       "    </tr>\n",
       "  </tbody>\n",
       "</table>\n",
       "</div>"
      ],
      "text/plain": [
       "           country  confirmed  deaths  recovered\n",
       "46  Mainland China      80652    3070      55478\n",
       "44     South Korea       7041      44        135\n",
       "32           Italy       5883     233        589\n",
       "47            Iran       5823     145       1669\n",
       "85          France        949      11         12\n",
       "13         Germany        804       0         18"
      ]
     },
     "execution_count": 25,
     "metadata": {},
     "output_type": "execute_result"
    }
   ],
   "source": [
    "covid_countrywise.iloc[53]['Country']='unconfirmed/Diamond princes Cruise'\n",
    "covid_countrywise.sort_values('confirmed',ascending=False).head(6)"
   ]
  },
  {
   "cell_type": "markdown",
   "metadata": {},
   "source": [
    "#### Q1. Which countries are mostly hit by COVID?"
   ]
  },
  {
   "cell_type": "code",
   "execution_count": 26,
   "metadata": {},
   "outputs": [
    {
     "data": {
      "application/vnd.plotly.v1+json": {
       "config": {
        "plotlyServerURL": "https://plot.ly"
       },
       "data": [
        {
         "alignmentgroup": "True",
         "customdata": [
          [
           "Mainland China",
           80652
          ],
          [
           "South Korea",
           7041
          ],
          [
           "Italy",
           5883
          ],
          [
           "Iran",
           5823
          ],
          [
           "France",
           949
          ]
         ],
         "hoverlabel": {
          "namelength": 0
         },
         "hovertemplate": "country=%{customdata[0]}<br>confirmed=%{marker.color}",
         "legendgroup": "",
         "marker": {
          "color": [
           80652,
           7041,
           5883,
           5823,
           949
          ],
          "coloraxis": "coloraxis"
         },
         "name": "",
         "offsetgroup": "",
         "orientation": "v",
         "showlegend": false,
         "textposition": "auto",
         "type": "bar",
         "x": [
          "Mainland China",
          "South Korea",
          "Italy",
          "Iran",
          "France"
         ],
         "xaxis": "x",
         "y": [
          80652,
          7041,
          5883,
          5823,
          949
         ],
         "yaxis": "y"
        }
       ],
       "layout": {
        "barmode": "relative",
        "coloraxis": {
         "colorbar": {
          "title": {
           "text": "confirmed"
          }
         },
         "colorscale": [
          [
           0,
           "#0d0887"
          ],
          [
           0.1111111111111111,
           "#46039f"
          ],
          [
           0.2222222222222222,
           "#7201a8"
          ],
          [
           0.3333333333333333,
           "#9c179e"
          ],
          [
           0.4444444444444444,
           "#bd3786"
          ],
          [
           0.5555555555555556,
           "#d8576b"
          ],
          [
           0.6666666666666666,
           "#ed7953"
          ],
          [
           0.7777777777777778,
           "#fb9f3a"
          ],
          [
           0.8888888888888888,
           "#fdca26"
          ],
          [
           1,
           "#f0f921"
          ]
         ]
        },
        "height": 400,
        "legend": {
         "tracegroupgap": 0
        },
        "template": {
         "data": {
          "bar": [
           {
            "error_x": {
             "color": "#f2f5fa"
            },
            "error_y": {
             "color": "#f2f5fa"
            },
            "marker": {
             "line": {
              "color": "rgb(17,17,17)",
              "width": 0.5
             }
            },
            "type": "bar"
           }
          ],
          "barpolar": [
           {
            "marker": {
             "line": {
              "color": "rgb(17,17,17)",
              "width": 0.5
             }
            },
            "type": "barpolar"
           }
          ],
          "carpet": [
           {
            "aaxis": {
             "endlinecolor": "#A2B1C6",
             "gridcolor": "#506784",
             "linecolor": "#506784",
             "minorgridcolor": "#506784",
             "startlinecolor": "#A2B1C6"
            },
            "baxis": {
             "endlinecolor": "#A2B1C6",
             "gridcolor": "#506784",
             "linecolor": "#506784",
             "minorgridcolor": "#506784",
             "startlinecolor": "#A2B1C6"
            },
            "type": "carpet"
           }
          ],
          "choropleth": [
           {
            "colorbar": {
             "outlinewidth": 0,
             "ticks": ""
            },
            "type": "choropleth"
           }
          ],
          "contour": [
           {
            "colorbar": {
             "outlinewidth": 0,
             "ticks": ""
            },
            "colorscale": [
             [
              0,
              "#0d0887"
             ],
             [
              0.1111111111111111,
              "#46039f"
             ],
             [
              0.2222222222222222,
              "#7201a8"
             ],
             [
              0.3333333333333333,
              "#9c179e"
             ],
             [
              0.4444444444444444,
              "#bd3786"
             ],
             [
              0.5555555555555556,
              "#d8576b"
             ],
             [
              0.6666666666666666,
              "#ed7953"
             ],
             [
              0.7777777777777778,
              "#fb9f3a"
             ],
             [
              0.8888888888888888,
              "#fdca26"
             ],
             [
              1,
              "#f0f921"
             ]
            ],
            "type": "contour"
           }
          ],
          "contourcarpet": [
           {
            "colorbar": {
             "outlinewidth": 0,
             "ticks": ""
            },
            "type": "contourcarpet"
           }
          ],
          "heatmap": [
           {
            "colorbar": {
             "outlinewidth": 0,
             "ticks": ""
            },
            "colorscale": [
             [
              0,
              "#0d0887"
             ],
             [
              0.1111111111111111,
              "#46039f"
             ],
             [
              0.2222222222222222,
              "#7201a8"
             ],
             [
              0.3333333333333333,
              "#9c179e"
             ],
             [
              0.4444444444444444,
              "#bd3786"
             ],
             [
              0.5555555555555556,
              "#d8576b"
             ],
             [
              0.6666666666666666,
              "#ed7953"
             ],
             [
              0.7777777777777778,
              "#fb9f3a"
             ],
             [
              0.8888888888888888,
              "#fdca26"
             ],
             [
              1,
              "#f0f921"
             ]
            ],
            "type": "heatmap"
           }
          ],
          "heatmapgl": [
           {
            "colorbar": {
             "outlinewidth": 0,
             "ticks": ""
            },
            "colorscale": [
             [
              0,
              "#0d0887"
             ],
             [
              0.1111111111111111,
              "#46039f"
             ],
             [
              0.2222222222222222,
              "#7201a8"
             ],
             [
              0.3333333333333333,
              "#9c179e"
             ],
             [
              0.4444444444444444,
              "#bd3786"
             ],
             [
              0.5555555555555556,
              "#d8576b"
             ],
             [
              0.6666666666666666,
              "#ed7953"
             ],
             [
              0.7777777777777778,
              "#fb9f3a"
             ],
             [
              0.8888888888888888,
              "#fdca26"
             ],
             [
              1,
              "#f0f921"
             ]
            ],
            "type": "heatmapgl"
           }
          ],
          "histogram": [
           {
            "marker": {
             "colorbar": {
              "outlinewidth": 0,
              "ticks": ""
             }
            },
            "type": "histogram"
           }
          ],
          "histogram2d": [
           {
            "colorbar": {
             "outlinewidth": 0,
             "ticks": ""
            },
            "colorscale": [
             [
              0,
              "#0d0887"
             ],
             [
              0.1111111111111111,
              "#46039f"
             ],
             [
              0.2222222222222222,
              "#7201a8"
             ],
             [
              0.3333333333333333,
              "#9c179e"
             ],
             [
              0.4444444444444444,
              "#bd3786"
             ],
             [
              0.5555555555555556,
              "#d8576b"
             ],
             [
              0.6666666666666666,
              "#ed7953"
             ],
             [
              0.7777777777777778,
              "#fb9f3a"
             ],
             [
              0.8888888888888888,
              "#fdca26"
             ],
             [
              1,
              "#f0f921"
             ]
            ],
            "type": "histogram2d"
           }
          ],
          "histogram2dcontour": [
           {
            "colorbar": {
             "outlinewidth": 0,
             "ticks": ""
            },
            "colorscale": [
             [
              0,
              "#0d0887"
             ],
             [
              0.1111111111111111,
              "#46039f"
             ],
             [
              0.2222222222222222,
              "#7201a8"
             ],
             [
              0.3333333333333333,
              "#9c179e"
             ],
             [
              0.4444444444444444,
              "#bd3786"
             ],
             [
              0.5555555555555556,
              "#d8576b"
             ],
             [
              0.6666666666666666,
              "#ed7953"
             ],
             [
              0.7777777777777778,
              "#fb9f3a"
             ],
             [
              0.8888888888888888,
              "#fdca26"
             ],
             [
              1,
              "#f0f921"
             ]
            ],
            "type": "histogram2dcontour"
           }
          ],
          "mesh3d": [
           {
            "colorbar": {
             "outlinewidth": 0,
             "ticks": ""
            },
            "type": "mesh3d"
           }
          ],
          "parcoords": [
           {
            "line": {
             "colorbar": {
              "outlinewidth": 0,
              "ticks": ""
             }
            },
            "type": "parcoords"
           }
          ],
          "pie": [
           {
            "automargin": true,
            "type": "pie"
           }
          ],
          "scatter": [
           {
            "marker": {
             "line": {
              "color": "#283442"
             }
            },
            "type": "scatter"
           }
          ],
          "scatter3d": [
           {
            "line": {
             "colorbar": {
              "outlinewidth": 0,
              "ticks": ""
             }
            },
            "marker": {
             "colorbar": {
              "outlinewidth": 0,
              "ticks": ""
             }
            },
            "type": "scatter3d"
           }
          ],
          "scattercarpet": [
           {
            "marker": {
             "colorbar": {
              "outlinewidth": 0,
              "ticks": ""
             }
            },
            "type": "scattercarpet"
           }
          ],
          "scattergeo": [
           {
            "marker": {
             "colorbar": {
              "outlinewidth": 0,
              "ticks": ""
             }
            },
            "type": "scattergeo"
           }
          ],
          "scattergl": [
           {
            "marker": {
             "line": {
              "color": "#283442"
             }
            },
            "type": "scattergl"
           }
          ],
          "scattermapbox": [
           {
            "marker": {
             "colorbar": {
              "outlinewidth": 0,
              "ticks": ""
             }
            },
            "type": "scattermapbox"
           }
          ],
          "scatterpolar": [
           {
            "marker": {
             "colorbar": {
              "outlinewidth": 0,
              "ticks": ""
             }
            },
            "type": "scatterpolar"
           }
          ],
          "scatterpolargl": [
           {
            "marker": {
             "colorbar": {
              "outlinewidth": 0,
              "ticks": ""
             }
            },
            "type": "scatterpolargl"
           }
          ],
          "scatterternary": [
           {
            "marker": {
             "colorbar": {
              "outlinewidth": 0,
              "ticks": ""
             }
            },
            "type": "scatterternary"
           }
          ],
          "surface": [
           {
            "colorbar": {
             "outlinewidth": 0,
             "ticks": ""
            },
            "colorscale": [
             [
              0,
              "#0d0887"
             ],
             [
              0.1111111111111111,
              "#46039f"
             ],
             [
              0.2222222222222222,
              "#7201a8"
             ],
             [
              0.3333333333333333,
              "#9c179e"
             ],
             [
              0.4444444444444444,
              "#bd3786"
             ],
             [
              0.5555555555555556,
              "#d8576b"
             ],
             [
              0.6666666666666666,
              "#ed7953"
             ],
             [
              0.7777777777777778,
              "#fb9f3a"
             ],
             [
              0.8888888888888888,
              "#fdca26"
             ],
             [
              1,
              "#f0f921"
             ]
            ],
            "type": "surface"
           }
          ],
          "table": [
           {
            "cells": {
             "fill": {
              "color": "#506784"
             },
             "line": {
              "color": "rgb(17,17,17)"
             }
            },
            "header": {
             "fill": {
              "color": "#2a3f5f"
             },
             "line": {
              "color": "rgb(17,17,17)"
             }
            },
            "type": "table"
           }
          ]
         },
         "layout": {
          "annotationdefaults": {
           "arrowcolor": "#f2f5fa",
           "arrowhead": 0,
           "arrowwidth": 1
          },
          "coloraxis": {
           "colorbar": {
            "outlinewidth": 0,
            "ticks": ""
           }
          },
          "colorscale": {
           "diverging": [
            [
             0,
             "#8e0152"
            ],
            [
             0.1,
             "#c51b7d"
            ],
            [
             0.2,
             "#de77ae"
            ],
            [
             0.3,
             "#f1b6da"
            ],
            [
             0.4,
             "#fde0ef"
            ],
            [
             0.5,
             "#f7f7f7"
            ],
            [
             0.6,
             "#e6f5d0"
            ],
            [
             0.7,
             "#b8e186"
            ],
            [
             0.8,
             "#7fbc41"
            ],
            [
             0.9,
             "#4d9221"
            ],
            [
             1,
             "#276419"
            ]
           ],
           "sequential": [
            [
             0,
             "#0d0887"
            ],
            [
             0.1111111111111111,
             "#46039f"
            ],
            [
             0.2222222222222222,
             "#7201a8"
            ],
            [
             0.3333333333333333,
             "#9c179e"
            ],
            [
             0.4444444444444444,
             "#bd3786"
            ],
            [
             0.5555555555555556,
             "#d8576b"
            ],
            [
             0.6666666666666666,
             "#ed7953"
            ],
            [
             0.7777777777777778,
             "#fb9f3a"
            ],
            [
             0.8888888888888888,
             "#fdca26"
            ],
            [
             1,
             "#f0f921"
            ]
           ],
           "sequentialminus": [
            [
             0,
             "#0d0887"
            ],
            [
             0.1111111111111111,
             "#46039f"
            ],
            [
             0.2222222222222222,
             "#7201a8"
            ],
            [
             0.3333333333333333,
             "#9c179e"
            ],
            [
             0.4444444444444444,
             "#bd3786"
            ],
            [
             0.5555555555555556,
             "#d8576b"
            ],
            [
             0.6666666666666666,
             "#ed7953"
            ],
            [
             0.7777777777777778,
             "#fb9f3a"
            ],
            [
             0.8888888888888888,
             "#fdca26"
            ],
            [
             1,
             "#f0f921"
            ]
           ]
          },
          "colorway": [
           "#636efa",
           "#EF553B",
           "#00cc96",
           "#ab63fa",
           "#FFA15A",
           "#19d3f3",
           "#FF6692",
           "#B6E880",
           "#FF97FF",
           "#FECB52"
          ],
          "font": {
           "color": "#f2f5fa"
          },
          "geo": {
           "bgcolor": "rgb(17,17,17)",
           "lakecolor": "rgb(17,17,17)",
           "landcolor": "rgb(17,17,17)",
           "showlakes": true,
           "showland": true,
           "subunitcolor": "#506784"
          },
          "hoverlabel": {
           "align": "left"
          },
          "hovermode": "closest",
          "mapbox": {
           "style": "dark"
          },
          "paper_bgcolor": "rgb(17,17,17)",
          "plot_bgcolor": "rgb(17,17,17)",
          "polar": {
           "angularaxis": {
            "gridcolor": "#506784",
            "linecolor": "#506784",
            "ticks": ""
           },
           "bgcolor": "rgb(17,17,17)",
           "radialaxis": {
            "gridcolor": "#506784",
            "linecolor": "#506784",
            "ticks": ""
           }
          },
          "scene": {
           "xaxis": {
            "backgroundcolor": "rgb(17,17,17)",
            "gridcolor": "#506784",
            "gridwidth": 2,
            "linecolor": "#506784",
            "showbackground": true,
            "ticks": "",
            "zerolinecolor": "#C8D4E3"
           },
           "yaxis": {
            "backgroundcolor": "rgb(17,17,17)",
            "gridcolor": "#506784",
            "gridwidth": 2,
            "linecolor": "#506784",
            "showbackground": true,
            "ticks": "",
            "zerolinecolor": "#C8D4E3"
           },
           "zaxis": {
            "backgroundcolor": "rgb(17,17,17)",
            "gridcolor": "#506784",
            "gridwidth": 2,
            "linecolor": "#506784",
            "showbackground": true,
            "ticks": "",
            "zerolinecolor": "#C8D4E3"
           }
          },
          "shapedefaults": {
           "line": {
            "color": "#f2f5fa"
           }
          },
          "sliderdefaults": {
           "bgcolor": "#C8D4E3",
           "bordercolor": "rgb(17,17,17)",
           "borderwidth": 1,
           "tickwidth": 0
          },
          "ternary": {
           "aaxis": {
            "gridcolor": "#506784",
            "linecolor": "#506784",
            "ticks": ""
           },
           "baxis": {
            "gridcolor": "#506784",
            "linecolor": "#506784",
            "ticks": ""
           },
           "bgcolor": "rgb(17,17,17)",
           "caxis": {
            "gridcolor": "#506784",
            "linecolor": "#506784",
            "ticks": ""
           }
          },
          "title": {
           "x": 0.05
          },
          "updatemenudefaults": {
           "bgcolor": "#506784",
           "borderwidth": 0
          },
          "xaxis": {
           "automargin": true,
           "gridcolor": "#283442",
           "linecolor": "#506784",
           "ticks": "",
           "title": {
            "standoff": 15
           },
           "zerolinecolor": "#283442",
           "zerolinewidth": 2
          },
          "yaxis": {
           "automargin": true,
           "gridcolor": "#283442",
           "linecolor": "#506784",
           "ticks": "",
           "title": {
            "standoff": 15
           },
           "zerolinecolor": "#283442",
           "zerolinewidth": 2
          }
         }
        },
        "title": {
         "text": "Five worstly hit countries"
        },
        "xaxis": {
         "anchor": "y",
         "domain": [
          0,
          1
         ],
         "title": {
          "text": "country"
         }
        },
        "yaxis": {
         "anchor": "x",
         "domain": [
          0,
          1
         ],
         "title": {
          "text": "confirmed"
         }
        }
       }
      },
      "text/html": [
       "<div>\n",
       "        \n",
       "        \n",
       "            <div id=\"5b5ed652-cda7-455a-87da-80b1e0572389\" class=\"plotly-graph-div\" style=\"height:400px; width:100%;\"></div>\n",
       "            <script type=\"text/javascript\">\n",
       "                require([\"plotly\"], function(Plotly) {\n",
       "                    window.PLOTLYENV=window.PLOTLYENV || {};\n",
       "                    \n",
       "                if (document.getElementById(\"5b5ed652-cda7-455a-87da-80b1e0572389\")) {\n",
       "                    Plotly.newPlot(\n",
       "                        '5b5ed652-cda7-455a-87da-80b1e0572389',\n",
       "                        [{\"alignmentgroup\": \"True\", \"customdata\": [[\"Mainland China\", 80652], [\"South Korea\", 7041], [\"Italy\", 5883], [\"Iran\", 5823], [\"France\", 949]], \"hoverlabel\": {\"namelength\": 0}, \"hovertemplate\": \"country=%{customdata[0]}<br>confirmed=%{marker.color}\", \"legendgroup\": \"\", \"marker\": {\"color\": [80652, 7041, 5883, 5823, 949], \"coloraxis\": \"coloraxis\"}, \"name\": \"\", \"offsetgroup\": \"\", \"orientation\": \"v\", \"showlegend\": false, \"textposition\": \"auto\", \"type\": \"bar\", \"x\": [\"Mainland China\", \"South Korea\", \"Italy\", \"Iran\", \"France\"], \"xaxis\": \"x\", \"y\": [80652, 7041, 5883, 5823, 949], \"yaxis\": \"y\"}],\n",
       "                        {\"barmode\": \"relative\", \"coloraxis\": {\"colorbar\": {\"title\": {\"text\": \"confirmed\"}}, \"colorscale\": [[0.0, \"#0d0887\"], [0.1111111111111111, \"#46039f\"], [0.2222222222222222, \"#7201a8\"], [0.3333333333333333, \"#9c179e\"], [0.4444444444444444, \"#bd3786\"], [0.5555555555555556, \"#d8576b\"], [0.6666666666666666, \"#ed7953\"], [0.7777777777777778, \"#fb9f3a\"], [0.8888888888888888, \"#fdca26\"], [1.0, \"#f0f921\"]]}, \"height\": 400, \"legend\": {\"tracegroupgap\": 0}, \"template\": {\"data\": {\"bar\": [{\"error_x\": {\"color\": \"#f2f5fa\"}, \"error_y\": {\"color\": \"#f2f5fa\"}, \"marker\": {\"line\": {\"color\": \"rgb(17,17,17)\", \"width\": 0.5}}, \"type\": \"bar\"}], \"barpolar\": [{\"marker\": {\"line\": {\"color\": \"rgb(17,17,17)\", \"width\": 0.5}}, \"type\": \"barpolar\"}], \"carpet\": [{\"aaxis\": {\"endlinecolor\": \"#A2B1C6\", \"gridcolor\": \"#506784\", \"linecolor\": \"#506784\", \"minorgridcolor\": \"#506784\", \"startlinecolor\": \"#A2B1C6\"}, \"baxis\": {\"endlinecolor\": \"#A2B1C6\", \"gridcolor\": \"#506784\", \"linecolor\": \"#506784\", \"minorgridcolor\": \"#506784\", \"startlinecolor\": \"#A2B1C6\"}, \"type\": \"carpet\"}], \"choropleth\": [{\"colorbar\": {\"outlinewidth\": 0, \"ticks\": \"\"}, \"type\": \"choropleth\"}], \"contour\": [{\"colorbar\": {\"outlinewidth\": 0, \"ticks\": \"\"}, \"colorscale\": [[0.0, \"#0d0887\"], [0.1111111111111111, \"#46039f\"], [0.2222222222222222, \"#7201a8\"], [0.3333333333333333, \"#9c179e\"], [0.4444444444444444, \"#bd3786\"], [0.5555555555555556, \"#d8576b\"], [0.6666666666666666, \"#ed7953\"], [0.7777777777777778, \"#fb9f3a\"], [0.8888888888888888, \"#fdca26\"], [1.0, \"#f0f921\"]], \"type\": \"contour\"}], \"contourcarpet\": [{\"colorbar\": {\"outlinewidth\": 0, \"ticks\": \"\"}, \"type\": \"contourcarpet\"}], \"heatmap\": [{\"colorbar\": {\"outlinewidth\": 0, \"ticks\": \"\"}, \"colorscale\": [[0.0, \"#0d0887\"], [0.1111111111111111, \"#46039f\"], [0.2222222222222222, \"#7201a8\"], [0.3333333333333333, \"#9c179e\"], [0.4444444444444444, \"#bd3786\"], [0.5555555555555556, \"#d8576b\"], [0.6666666666666666, \"#ed7953\"], [0.7777777777777778, \"#fb9f3a\"], [0.8888888888888888, \"#fdca26\"], [1.0, \"#f0f921\"]], \"type\": \"heatmap\"}], \"heatmapgl\": [{\"colorbar\": {\"outlinewidth\": 0, \"ticks\": \"\"}, \"colorscale\": [[0.0, \"#0d0887\"], [0.1111111111111111, \"#46039f\"], [0.2222222222222222, \"#7201a8\"], [0.3333333333333333, \"#9c179e\"], [0.4444444444444444, \"#bd3786\"], [0.5555555555555556, \"#d8576b\"], [0.6666666666666666, \"#ed7953\"], [0.7777777777777778, \"#fb9f3a\"], [0.8888888888888888, \"#fdca26\"], [1.0, \"#f0f921\"]], \"type\": \"heatmapgl\"}], \"histogram\": [{\"marker\": {\"colorbar\": {\"outlinewidth\": 0, \"ticks\": \"\"}}, \"type\": \"histogram\"}], \"histogram2d\": [{\"colorbar\": {\"outlinewidth\": 0, \"ticks\": \"\"}, \"colorscale\": [[0.0, \"#0d0887\"], [0.1111111111111111, \"#46039f\"], [0.2222222222222222, \"#7201a8\"], [0.3333333333333333, \"#9c179e\"], [0.4444444444444444, \"#bd3786\"], [0.5555555555555556, \"#d8576b\"], [0.6666666666666666, \"#ed7953\"], [0.7777777777777778, \"#fb9f3a\"], [0.8888888888888888, \"#fdca26\"], [1.0, \"#f0f921\"]], \"type\": \"histogram2d\"}], \"histogram2dcontour\": [{\"colorbar\": {\"outlinewidth\": 0, \"ticks\": \"\"}, \"colorscale\": [[0.0, \"#0d0887\"], [0.1111111111111111, \"#46039f\"], [0.2222222222222222, \"#7201a8\"], [0.3333333333333333, \"#9c179e\"], [0.4444444444444444, \"#bd3786\"], [0.5555555555555556, \"#d8576b\"], [0.6666666666666666, \"#ed7953\"], [0.7777777777777778, \"#fb9f3a\"], [0.8888888888888888, \"#fdca26\"], [1.0, \"#f0f921\"]], \"type\": \"histogram2dcontour\"}], \"mesh3d\": [{\"colorbar\": {\"outlinewidth\": 0, \"ticks\": \"\"}, \"type\": \"mesh3d\"}], \"parcoords\": [{\"line\": {\"colorbar\": {\"outlinewidth\": 0, \"ticks\": \"\"}}, \"type\": \"parcoords\"}], \"pie\": [{\"automargin\": true, \"type\": \"pie\"}], \"scatter\": [{\"marker\": {\"line\": {\"color\": \"#283442\"}}, \"type\": \"scatter\"}], \"scatter3d\": [{\"line\": {\"colorbar\": {\"outlinewidth\": 0, \"ticks\": \"\"}}, \"marker\": {\"colorbar\": {\"outlinewidth\": 0, \"ticks\": \"\"}}, \"type\": \"scatter3d\"}], \"scattercarpet\": [{\"marker\": {\"colorbar\": {\"outlinewidth\": 0, \"ticks\": \"\"}}, \"type\": \"scattercarpet\"}], \"scattergeo\": [{\"marker\": {\"colorbar\": {\"outlinewidth\": 0, \"ticks\": \"\"}}, \"type\": \"scattergeo\"}], \"scattergl\": [{\"marker\": {\"line\": {\"color\": \"#283442\"}}, \"type\": \"scattergl\"}], \"scattermapbox\": [{\"marker\": {\"colorbar\": {\"outlinewidth\": 0, \"ticks\": \"\"}}, \"type\": \"scattermapbox\"}], \"scatterpolar\": [{\"marker\": {\"colorbar\": {\"outlinewidth\": 0, \"ticks\": \"\"}}, \"type\": \"scatterpolar\"}], \"scatterpolargl\": [{\"marker\": {\"colorbar\": {\"outlinewidth\": 0, \"ticks\": \"\"}}, \"type\": \"scatterpolargl\"}], \"scatterternary\": [{\"marker\": {\"colorbar\": {\"outlinewidth\": 0, \"ticks\": \"\"}}, \"type\": \"scatterternary\"}], \"surface\": [{\"colorbar\": {\"outlinewidth\": 0, \"ticks\": \"\"}, \"colorscale\": [[0.0, \"#0d0887\"], [0.1111111111111111, \"#46039f\"], [0.2222222222222222, \"#7201a8\"], [0.3333333333333333, \"#9c179e\"], [0.4444444444444444, \"#bd3786\"], [0.5555555555555556, \"#d8576b\"], [0.6666666666666666, \"#ed7953\"], [0.7777777777777778, \"#fb9f3a\"], [0.8888888888888888, \"#fdca26\"], [1.0, \"#f0f921\"]], \"type\": \"surface\"}], \"table\": [{\"cells\": {\"fill\": {\"color\": \"#506784\"}, \"line\": {\"color\": \"rgb(17,17,17)\"}}, \"header\": {\"fill\": {\"color\": \"#2a3f5f\"}, \"line\": {\"color\": \"rgb(17,17,17)\"}}, \"type\": \"table\"}]}, \"layout\": {\"annotationdefaults\": {\"arrowcolor\": \"#f2f5fa\", \"arrowhead\": 0, \"arrowwidth\": 1}, \"coloraxis\": {\"colorbar\": {\"outlinewidth\": 0, \"ticks\": \"\"}}, \"colorscale\": {\"diverging\": [[0, \"#8e0152\"], [0.1, \"#c51b7d\"], [0.2, \"#de77ae\"], [0.3, \"#f1b6da\"], [0.4, \"#fde0ef\"], [0.5, \"#f7f7f7\"], [0.6, \"#e6f5d0\"], [0.7, \"#b8e186\"], [0.8, \"#7fbc41\"], [0.9, \"#4d9221\"], [1, \"#276419\"]], \"sequential\": [[0.0, \"#0d0887\"], [0.1111111111111111, \"#46039f\"], [0.2222222222222222, \"#7201a8\"], [0.3333333333333333, \"#9c179e\"], [0.4444444444444444, \"#bd3786\"], [0.5555555555555556, \"#d8576b\"], [0.6666666666666666, \"#ed7953\"], [0.7777777777777778, \"#fb9f3a\"], [0.8888888888888888, \"#fdca26\"], [1.0, \"#f0f921\"]], \"sequentialminus\": [[0.0, \"#0d0887\"], [0.1111111111111111, \"#46039f\"], [0.2222222222222222, \"#7201a8\"], [0.3333333333333333, \"#9c179e\"], [0.4444444444444444, \"#bd3786\"], [0.5555555555555556, \"#d8576b\"], [0.6666666666666666, \"#ed7953\"], [0.7777777777777778, \"#fb9f3a\"], [0.8888888888888888, \"#fdca26\"], [1.0, \"#f0f921\"]]}, \"colorway\": [\"#636efa\", \"#EF553B\", \"#00cc96\", \"#ab63fa\", \"#FFA15A\", \"#19d3f3\", \"#FF6692\", \"#B6E880\", \"#FF97FF\", \"#FECB52\"], \"font\": {\"color\": \"#f2f5fa\"}, \"geo\": {\"bgcolor\": \"rgb(17,17,17)\", \"lakecolor\": \"rgb(17,17,17)\", \"landcolor\": \"rgb(17,17,17)\", \"showlakes\": true, \"showland\": true, \"subunitcolor\": \"#506784\"}, \"hoverlabel\": {\"align\": \"left\"}, \"hovermode\": \"closest\", \"mapbox\": {\"style\": \"dark\"}, \"paper_bgcolor\": \"rgb(17,17,17)\", \"plot_bgcolor\": \"rgb(17,17,17)\", \"polar\": {\"angularaxis\": {\"gridcolor\": \"#506784\", \"linecolor\": \"#506784\", \"ticks\": \"\"}, \"bgcolor\": \"rgb(17,17,17)\", \"radialaxis\": {\"gridcolor\": \"#506784\", \"linecolor\": \"#506784\", \"ticks\": \"\"}}, \"scene\": {\"xaxis\": {\"backgroundcolor\": \"rgb(17,17,17)\", \"gridcolor\": \"#506784\", \"gridwidth\": 2, \"linecolor\": \"#506784\", \"showbackground\": true, \"ticks\": \"\", \"zerolinecolor\": \"#C8D4E3\"}, \"yaxis\": {\"backgroundcolor\": \"rgb(17,17,17)\", \"gridcolor\": \"#506784\", \"gridwidth\": 2, \"linecolor\": \"#506784\", \"showbackground\": true, \"ticks\": \"\", \"zerolinecolor\": \"#C8D4E3\"}, \"zaxis\": {\"backgroundcolor\": \"rgb(17,17,17)\", \"gridcolor\": \"#506784\", \"gridwidth\": 2, \"linecolor\": \"#506784\", \"showbackground\": true, \"ticks\": \"\", \"zerolinecolor\": \"#C8D4E3\"}}, \"shapedefaults\": {\"line\": {\"color\": \"#f2f5fa\"}}, \"sliderdefaults\": {\"bgcolor\": \"#C8D4E3\", \"bordercolor\": \"rgb(17,17,17)\", \"borderwidth\": 1, \"tickwidth\": 0}, \"ternary\": {\"aaxis\": {\"gridcolor\": \"#506784\", \"linecolor\": \"#506784\", \"ticks\": \"\"}, \"baxis\": {\"gridcolor\": \"#506784\", \"linecolor\": \"#506784\", \"ticks\": \"\"}, \"bgcolor\": \"rgb(17,17,17)\", \"caxis\": {\"gridcolor\": \"#506784\", \"linecolor\": \"#506784\", \"ticks\": \"\"}}, \"title\": {\"x\": 0.05}, \"updatemenudefaults\": {\"bgcolor\": \"#506784\", \"borderwidth\": 0}, \"xaxis\": {\"automargin\": true, \"gridcolor\": \"#283442\", \"linecolor\": \"#506784\", \"ticks\": \"\", \"title\": {\"standoff\": 15}, \"zerolinecolor\": \"#283442\", \"zerolinewidth\": 2}, \"yaxis\": {\"automargin\": true, \"gridcolor\": \"#283442\", \"linecolor\": \"#506784\", \"ticks\": \"\", \"title\": {\"standoff\": 15}, \"zerolinecolor\": \"#283442\", \"zerolinewidth\": 2}}}, \"title\": {\"text\": \"Five worstly hit countries\"}, \"xaxis\": {\"anchor\": \"y\", \"domain\": [0.0, 1.0], \"title\": {\"text\": \"country\"}}, \"yaxis\": {\"anchor\": \"x\", \"domain\": [0.0, 1.0], \"title\": {\"text\": \"confirmed\"}}},\n",
       "                        {\"responsive\": true}\n",
       "                    ).then(function(){\n",
       "                            \n",
       "var gd = document.getElementById('5b5ed652-cda7-455a-87da-80b1e0572389');\n",
       "var x = new MutationObserver(function (mutations, observer) {{\n",
       "        var display = window.getComputedStyle(gd).display;\n",
       "        if (!display || display === 'none') {{\n",
       "            console.log([gd, 'removed!']);\n",
       "            Plotly.purge(gd);\n",
       "            observer.disconnect();\n",
       "        }}\n",
       "}});\n",
       "\n",
       "// Listen for the removal of the full notebook cells\n",
       "var notebookContainer = gd.closest('#notebook-container');\n",
       "if (notebookContainer) {{\n",
       "    x.observe(notebookContainer, {childList: true});\n",
       "}}\n",
       "\n",
       "// Listen for the clearing of the current output cell\n",
       "var outputEl = gd.closest('.output');\n",
       "if (outputEl) {{\n",
       "    x.observe(outputEl, {childList: true});\n",
       "}}\n",
       "\n",
       "                        })\n",
       "                };\n",
       "                });\n",
       "            </script>\n",
       "        </div>"
      ]
     },
     "metadata": {},
     "output_type": "display_data"
    }
   ],
   "source": [
    "import plotly.express as px\n",
    "data=covid_countrywise.sort_values('confirmed',ascending=False)[0:5]\n",
    "\n",
    "fig = px.bar(data, x='country', y='confirmed',\n",
    "             hover_data=['country','confirmed'], color='confirmed',\n",
    "             labels={'pop':'Confirmed Cases'}, height=400,title='Five worstly hit countries')\n",
    "fig.update_layout(template='plotly_dark')\n",
    "fig.show()"
   ]
  },
  {
   "cell_type": "markdown",
   "metadata": {},
   "source": [
    "#### Q2. What is the comparative situation between china and rest of the world?"
   ]
  },
  {
   "cell_type": "code",
   "execution_count": 27,
   "metadata": {},
   "outputs": [],
   "source": [
    "data=covid_countrywise.sort_values('confirmed',ascending=False)\n",
    "row_confirmed=0\n",
    "row_deaths=0\n",
    "row_recovered=0\n",
    "for i in range(1,len(covid_countrywise)):\n",
    "    row_confirmed+=data.iloc[i]['confirmed']\n",
    "    row_deaths+=data.iloc[i]['deaths']\n",
    "    row_recovered+=data.iloc[i]['recovered']"
   ]
  },
  {
   "cell_type": "code",
   "execution_count": 28,
   "metadata": {},
   "outputs": [],
   "source": [
    "china=[data.iloc[0]['confirmed'],data.iloc[0]['recovered'],data.iloc[0]['deaths']]\n",
    "rest_of_the_world=[row_confirmed,row_recovered,row_deaths]"
   ]
  },
  {
   "cell_type": "code",
   "execution_count": 29,
   "metadata": {},
   "outputs": [
    {
     "data": {
      "application/vnd.plotly.v1+json": {
       "config": {
        "plotlyServerURL": "https://plot.ly"
       },
       "data": [
        {
         "marker": {
          "color": "rgb(102, 102, 255)"
         },
         "name": "Confirmed",
         "type": "bar",
         "x": [
          "china",
          "Rest of the world"
         ],
         "y": [
          80652,
          25269
         ]
        },
        {
         "marker": {
          "color": "rgb(0,255,153)"
         },
         "name": "Recovered",
         "type": "bar",
         "x": [
          "china",
          "Rest of the world"
         ],
         "y": [
          55478,
          2887
         ]
        },
        {
         "marker": {
          "color": "rgb(255, 102, 102)"
         },
         "name": "Deaths",
         "type": "bar",
         "x": [
          "china",
          "Rest of the world"
         ],
         "y": [
          3070,
          489
         ]
        }
       ],
       "layout": {
        "bargap": 0.1,
        "bargroupgap": 0.2,
        "barmode": "group",
        "legend": {
         "bgcolor": "rgba(255, 255, 255, 0)",
         "bordercolor": "rgba(255, 255, 255, 0)",
         "x": 1,
         "y": 1
        },
        "template": {
         "data": {
          "bar": [
           {
            "error_x": {
             "color": "#f2f5fa"
            },
            "error_y": {
             "color": "#f2f5fa"
            },
            "marker": {
             "line": {
              "color": "rgb(17,17,17)",
              "width": 0.5
             }
            },
            "type": "bar"
           }
          ],
          "barpolar": [
           {
            "marker": {
             "line": {
              "color": "rgb(17,17,17)",
              "width": 0.5
             }
            },
            "type": "barpolar"
           }
          ],
          "carpet": [
           {
            "aaxis": {
             "endlinecolor": "#A2B1C6",
             "gridcolor": "#506784",
             "linecolor": "#506784",
             "minorgridcolor": "#506784",
             "startlinecolor": "#A2B1C6"
            },
            "baxis": {
             "endlinecolor": "#A2B1C6",
             "gridcolor": "#506784",
             "linecolor": "#506784",
             "minorgridcolor": "#506784",
             "startlinecolor": "#A2B1C6"
            },
            "type": "carpet"
           }
          ],
          "choropleth": [
           {
            "colorbar": {
             "outlinewidth": 0,
             "ticks": ""
            },
            "type": "choropleth"
           }
          ],
          "contour": [
           {
            "colorbar": {
             "outlinewidth": 0,
             "ticks": ""
            },
            "colorscale": [
             [
              0,
              "#0d0887"
             ],
             [
              0.1111111111111111,
              "#46039f"
             ],
             [
              0.2222222222222222,
              "#7201a8"
             ],
             [
              0.3333333333333333,
              "#9c179e"
             ],
             [
              0.4444444444444444,
              "#bd3786"
             ],
             [
              0.5555555555555556,
              "#d8576b"
             ],
             [
              0.6666666666666666,
              "#ed7953"
             ],
             [
              0.7777777777777778,
              "#fb9f3a"
             ],
             [
              0.8888888888888888,
              "#fdca26"
             ],
             [
              1,
              "#f0f921"
             ]
            ],
            "type": "contour"
           }
          ],
          "contourcarpet": [
           {
            "colorbar": {
             "outlinewidth": 0,
             "ticks": ""
            },
            "type": "contourcarpet"
           }
          ],
          "heatmap": [
           {
            "colorbar": {
             "outlinewidth": 0,
             "ticks": ""
            },
            "colorscale": [
             [
              0,
              "#0d0887"
             ],
             [
              0.1111111111111111,
              "#46039f"
             ],
             [
              0.2222222222222222,
              "#7201a8"
             ],
             [
              0.3333333333333333,
              "#9c179e"
             ],
             [
              0.4444444444444444,
              "#bd3786"
             ],
             [
              0.5555555555555556,
              "#d8576b"
             ],
             [
              0.6666666666666666,
              "#ed7953"
             ],
             [
              0.7777777777777778,
              "#fb9f3a"
             ],
             [
              0.8888888888888888,
              "#fdca26"
             ],
             [
              1,
              "#f0f921"
             ]
            ],
            "type": "heatmap"
           }
          ],
          "heatmapgl": [
           {
            "colorbar": {
             "outlinewidth": 0,
             "ticks": ""
            },
            "colorscale": [
             [
              0,
              "#0d0887"
             ],
             [
              0.1111111111111111,
              "#46039f"
             ],
             [
              0.2222222222222222,
              "#7201a8"
             ],
             [
              0.3333333333333333,
              "#9c179e"
             ],
             [
              0.4444444444444444,
              "#bd3786"
             ],
             [
              0.5555555555555556,
              "#d8576b"
             ],
             [
              0.6666666666666666,
              "#ed7953"
             ],
             [
              0.7777777777777778,
              "#fb9f3a"
             ],
             [
              0.8888888888888888,
              "#fdca26"
             ],
             [
              1,
              "#f0f921"
             ]
            ],
            "type": "heatmapgl"
           }
          ],
          "histogram": [
           {
            "marker": {
             "colorbar": {
              "outlinewidth": 0,
              "ticks": ""
             }
            },
            "type": "histogram"
           }
          ],
          "histogram2d": [
           {
            "colorbar": {
             "outlinewidth": 0,
             "ticks": ""
            },
            "colorscale": [
             [
              0,
              "#0d0887"
             ],
             [
              0.1111111111111111,
              "#46039f"
             ],
             [
              0.2222222222222222,
              "#7201a8"
             ],
             [
              0.3333333333333333,
              "#9c179e"
             ],
             [
              0.4444444444444444,
              "#bd3786"
             ],
             [
              0.5555555555555556,
              "#d8576b"
             ],
             [
              0.6666666666666666,
              "#ed7953"
             ],
             [
              0.7777777777777778,
              "#fb9f3a"
             ],
             [
              0.8888888888888888,
              "#fdca26"
             ],
             [
              1,
              "#f0f921"
             ]
            ],
            "type": "histogram2d"
           }
          ],
          "histogram2dcontour": [
           {
            "colorbar": {
             "outlinewidth": 0,
             "ticks": ""
            },
            "colorscale": [
             [
              0,
              "#0d0887"
             ],
             [
              0.1111111111111111,
              "#46039f"
             ],
             [
              0.2222222222222222,
              "#7201a8"
             ],
             [
              0.3333333333333333,
              "#9c179e"
             ],
             [
              0.4444444444444444,
              "#bd3786"
             ],
             [
              0.5555555555555556,
              "#d8576b"
             ],
             [
              0.6666666666666666,
              "#ed7953"
             ],
             [
              0.7777777777777778,
              "#fb9f3a"
             ],
             [
              0.8888888888888888,
              "#fdca26"
             ],
             [
              1,
              "#f0f921"
             ]
            ],
            "type": "histogram2dcontour"
           }
          ],
          "mesh3d": [
           {
            "colorbar": {
             "outlinewidth": 0,
             "ticks": ""
            },
            "type": "mesh3d"
           }
          ],
          "parcoords": [
           {
            "line": {
             "colorbar": {
              "outlinewidth": 0,
              "ticks": ""
             }
            },
            "type": "parcoords"
           }
          ],
          "pie": [
           {
            "automargin": true,
            "type": "pie"
           }
          ],
          "scatter": [
           {
            "marker": {
             "line": {
              "color": "#283442"
             }
            },
            "type": "scatter"
           }
          ],
          "scatter3d": [
           {
            "line": {
             "colorbar": {
              "outlinewidth": 0,
              "ticks": ""
             }
            },
            "marker": {
             "colorbar": {
              "outlinewidth": 0,
              "ticks": ""
             }
            },
            "type": "scatter3d"
           }
          ],
          "scattercarpet": [
           {
            "marker": {
             "colorbar": {
              "outlinewidth": 0,
              "ticks": ""
             }
            },
            "type": "scattercarpet"
           }
          ],
          "scattergeo": [
           {
            "marker": {
             "colorbar": {
              "outlinewidth": 0,
              "ticks": ""
             }
            },
            "type": "scattergeo"
           }
          ],
          "scattergl": [
           {
            "marker": {
             "line": {
              "color": "#283442"
             }
            },
            "type": "scattergl"
           }
          ],
          "scattermapbox": [
           {
            "marker": {
             "colorbar": {
              "outlinewidth": 0,
              "ticks": ""
             }
            },
            "type": "scattermapbox"
           }
          ],
          "scatterpolar": [
           {
            "marker": {
             "colorbar": {
              "outlinewidth": 0,
              "ticks": ""
             }
            },
            "type": "scatterpolar"
           }
          ],
          "scatterpolargl": [
           {
            "marker": {
             "colorbar": {
              "outlinewidth": 0,
              "ticks": ""
             }
            },
            "type": "scatterpolargl"
           }
          ],
          "scatterternary": [
           {
            "marker": {
             "colorbar": {
              "outlinewidth": 0,
              "ticks": ""
             }
            },
            "type": "scatterternary"
           }
          ],
          "surface": [
           {
            "colorbar": {
             "outlinewidth": 0,
             "ticks": ""
            },
            "colorscale": [
             [
              0,
              "#0d0887"
             ],
             [
              0.1111111111111111,
              "#46039f"
             ],
             [
              0.2222222222222222,
              "#7201a8"
             ],
             [
              0.3333333333333333,
              "#9c179e"
             ],
             [
              0.4444444444444444,
              "#bd3786"
             ],
             [
              0.5555555555555556,
              "#d8576b"
             ],
             [
              0.6666666666666666,
              "#ed7953"
             ],
             [
              0.7777777777777778,
              "#fb9f3a"
             ],
             [
              0.8888888888888888,
              "#fdca26"
             ],
             [
              1,
              "#f0f921"
             ]
            ],
            "type": "surface"
           }
          ],
          "table": [
           {
            "cells": {
             "fill": {
              "color": "#506784"
             },
             "line": {
              "color": "rgb(17,17,17)"
             }
            },
            "header": {
             "fill": {
              "color": "#2a3f5f"
             },
             "line": {
              "color": "rgb(17,17,17)"
             }
            },
            "type": "table"
           }
          ]
         },
         "layout": {
          "annotationdefaults": {
           "arrowcolor": "#f2f5fa",
           "arrowhead": 0,
           "arrowwidth": 1
          },
          "coloraxis": {
           "colorbar": {
            "outlinewidth": 0,
            "ticks": ""
           }
          },
          "colorscale": {
           "diverging": [
            [
             0,
             "#8e0152"
            ],
            [
             0.1,
             "#c51b7d"
            ],
            [
             0.2,
             "#de77ae"
            ],
            [
             0.3,
             "#f1b6da"
            ],
            [
             0.4,
             "#fde0ef"
            ],
            [
             0.5,
             "#f7f7f7"
            ],
            [
             0.6,
             "#e6f5d0"
            ],
            [
             0.7,
             "#b8e186"
            ],
            [
             0.8,
             "#7fbc41"
            ],
            [
             0.9,
             "#4d9221"
            ],
            [
             1,
             "#276419"
            ]
           ],
           "sequential": [
            [
             0,
             "#0d0887"
            ],
            [
             0.1111111111111111,
             "#46039f"
            ],
            [
             0.2222222222222222,
             "#7201a8"
            ],
            [
             0.3333333333333333,
             "#9c179e"
            ],
            [
             0.4444444444444444,
             "#bd3786"
            ],
            [
             0.5555555555555556,
             "#d8576b"
            ],
            [
             0.6666666666666666,
             "#ed7953"
            ],
            [
             0.7777777777777778,
             "#fb9f3a"
            ],
            [
             0.8888888888888888,
             "#fdca26"
            ],
            [
             1,
             "#f0f921"
            ]
           ],
           "sequentialminus": [
            [
             0,
             "#0d0887"
            ],
            [
             0.1111111111111111,
             "#46039f"
            ],
            [
             0.2222222222222222,
             "#7201a8"
            ],
            [
             0.3333333333333333,
             "#9c179e"
            ],
            [
             0.4444444444444444,
             "#bd3786"
            ],
            [
             0.5555555555555556,
             "#d8576b"
            ],
            [
             0.6666666666666666,
             "#ed7953"
            ],
            [
             0.7777777777777778,
             "#fb9f3a"
            ],
            [
             0.8888888888888888,
             "#fdca26"
            ],
            [
             1,
             "#f0f921"
            ]
           ]
          },
          "colorway": [
           "#636efa",
           "#EF553B",
           "#00cc96",
           "#ab63fa",
           "#FFA15A",
           "#19d3f3",
           "#FF6692",
           "#B6E880",
           "#FF97FF",
           "#FECB52"
          ],
          "font": {
           "color": "#f2f5fa"
          },
          "geo": {
           "bgcolor": "rgb(17,17,17)",
           "lakecolor": "rgb(17,17,17)",
           "landcolor": "rgb(17,17,17)",
           "showlakes": true,
           "showland": true,
           "subunitcolor": "#506784"
          },
          "hoverlabel": {
           "align": "left"
          },
          "hovermode": "closest",
          "mapbox": {
           "style": "dark"
          },
          "paper_bgcolor": "rgb(17,17,17)",
          "plot_bgcolor": "rgb(17,17,17)",
          "polar": {
           "angularaxis": {
            "gridcolor": "#506784",
            "linecolor": "#506784",
            "ticks": ""
           },
           "bgcolor": "rgb(17,17,17)",
           "radialaxis": {
            "gridcolor": "#506784",
            "linecolor": "#506784",
            "ticks": ""
           }
          },
          "scene": {
           "xaxis": {
            "backgroundcolor": "rgb(17,17,17)",
            "gridcolor": "#506784",
            "gridwidth": 2,
            "linecolor": "#506784",
            "showbackground": true,
            "ticks": "",
            "zerolinecolor": "#C8D4E3"
           },
           "yaxis": {
            "backgroundcolor": "rgb(17,17,17)",
            "gridcolor": "#506784",
            "gridwidth": 2,
            "linecolor": "#506784",
            "showbackground": true,
            "ticks": "",
            "zerolinecolor": "#C8D4E3"
           },
           "zaxis": {
            "backgroundcolor": "rgb(17,17,17)",
            "gridcolor": "#506784",
            "gridwidth": 2,
            "linecolor": "#506784",
            "showbackground": true,
            "ticks": "",
            "zerolinecolor": "#C8D4E3"
           }
          },
          "shapedefaults": {
           "line": {
            "color": "#f2f5fa"
           }
          },
          "sliderdefaults": {
           "bgcolor": "#C8D4E3",
           "bordercolor": "rgb(17,17,17)",
           "borderwidth": 1,
           "tickwidth": 0
          },
          "ternary": {
           "aaxis": {
            "gridcolor": "#506784",
            "linecolor": "#506784",
            "ticks": ""
           },
           "baxis": {
            "gridcolor": "#506784",
            "linecolor": "#506784",
            "ticks": ""
           },
           "bgcolor": "rgb(17,17,17)",
           "caxis": {
            "gridcolor": "#506784",
            "linecolor": "#506784",
            "ticks": ""
           }
          },
          "title": {
           "x": 0.05
          },
          "updatemenudefaults": {
           "bgcolor": "#506784",
           "borderwidth": 0
          },
          "xaxis": {
           "automargin": true,
           "gridcolor": "#283442",
           "linecolor": "#506784",
           "ticks": "",
           "title": {
            "standoff": 15
           },
           "zerolinecolor": "#283442",
           "zerolinewidth": 2
          },
          "yaxis": {
           "automargin": true,
           "gridcolor": "#283442",
           "linecolor": "#506784",
           "ticks": "",
           "title": {
            "standoff": 15
           },
           "zerolinecolor": "#283442",
           "zerolinewidth": 2
          }
         }
        },
        "title": {
         "text": "Confirmed/Recovered/Deaths in China and Rest of the World"
        },
        "xaxis": {
         "tickfont": {
          "size": 15
         }
        },
        "yaxis": {
         "tickfont": {
          "size": 15
         },
         "title": {
          "font": {
           "size": 12
          },
          "text": "count"
         }
        }
       }
      },
      "text/html": [
       "<div>\n",
       "        \n",
       "        \n",
       "            <div id=\"b229b87b-e693-4e82-a81e-109c5efdf365\" class=\"plotly-graph-div\" style=\"height:525px; width:100%;\"></div>\n",
       "            <script type=\"text/javascript\">\n",
       "                require([\"plotly\"], function(Plotly) {\n",
       "                    window.PLOTLYENV=window.PLOTLYENV || {};\n",
       "                    \n",
       "                if (document.getElementById(\"b229b87b-e693-4e82-a81e-109c5efdf365\")) {\n",
       "                    Plotly.newPlot(\n",
       "                        'b229b87b-e693-4e82-a81e-109c5efdf365',\n",
       "                        [{\"marker\": {\"color\": \"rgb(102, 102, 255)\"}, \"name\": \"Confirmed\", \"type\": \"bar\", \"x\": [\"china\", \"Rest of the world\"], \"y\": [80652, 25269]}, {\"marker\": {\"color\": \"rgb(0,255,153)\"}, \"name\": \"Recovered\", \"type\": \"bar\", \"x\": [\"china\", \"Rest of the world\"], \"y\": [55478, 2887]}, {\"marker\": {\"color\": \"rgb(255, 102, 102)\"}, \"name\": \"Deaths\", \"type\": \"bar\", \"x\": [\"china\", \"Rest of the world\"], \"y\": [3070, 489]}],\n",
       "                        {\"bargap\": 0.1, \"bargroupgap\": 0.2, \"barmode\": \"group\", \"legend\": {\"bgcolor\": \"rgba(255, 255, 255, 0)\", \"bordercolor\": \"rgba(255, 255, 255, 0)\", \"x\": 1, \"y\": 1.0}, \"template\": {\"data\": {\"bar\": [{\"error_x\": {\"color\": \"#f2f5fa\"}, \"error_y\": {\"color\": \"#f2f5fa\"}, \"marker\": {\"line\": {\"color\": \"rgb(17,17,17)\", \"width\": 0.5}}, \"type\": \"bar\"}], \"barpolar\": [{\"marker\": {\"line\": {\"color\": \"rgb(17,17,17)\", \"width\": 0.5}}, \"type\": \"barpolar\"}], \"carpet\": [{\"aaxis\": {\"endlinecolor\": \"#A2B1C6\", \"gridcolor\": \"#506784\", \"linecolor\": \"#506784\", \"minorgridcolor\": \"#506784\", \"startlinecolor\": \"#A2B1C6\"}, \"baxis\": {\"endlinecolor\": \"#A2B1C6\", \"gridcolor\": \"#506784\", \"linecolor\": \"#506784\", \"minorgridcolor\": \"#506784\", \"startlinecolor\": \"#A2B1C6\"}, \"type\": \"carpet\"}], \"choropleth\": [{\"colorbar\": {\"outlinewidth\": 0, \"ticks\": \"\"}, \"type\": \"choropleth\"}], \"contour\": [{\"colorbar\": {\"outlinewidth\": 0, \"ticks\": \"\"}, \"colorscale\": [[0.0, \"#0d0887\"], [0.1111111111111111, \"#46039f\"], [0.2222222222222222, \"#7201a8\"], [0.3333333333333333, \"#9c179e\"], [0.4444444444444444, \"#bd3786\"], [0.5555555555555556, \"#d8576b\"], [0.6666666666666666, \"#ed7953\"], [0.7777777777777778, \"#fb9f3a\"], [0.8888888888888888, \"#fdca26\"], [1.0, \"#f0f921\"]], \"type\": \"contour\"}], \"contourcarpet\": [{\"colorbar\": {\"outlinewidth\": 0, \"ticks\": \"\"}, \"type\": \"contourcarpet\"}], \"heatmap\": [{\"colorbar\": {\"outlinewidth\": 0, \"ticks\": \"\"}, \"colorscale\": [[0.0, \"#0d0887\"], [0.1111111111111111, \"#46039f\"], [0.2222222222222222, \"#7201a8\"], [0.3333333333333333, \"#9c179e\"], [0.4444444444444444, \"#bd3786\"], [0.5555555555555556, \"#d8576b\"], [0.6666666666666666, \"#ed7953\"], [0.7777777777777778, \"#fb9f3a\"], [0.8888888888888888, \"#fdca26\"], [1.0, \"#f0f921\"]], \"type\": \"heatmap\"}], \"heatmapgl\": [{\"colorbar\": {\"outlinewidth\": 0, \"ticks\": \"\"}, \"colorscale\": [[0.0, \"#0d0887\"], [0.1111111111111111, \"#46039f\"], [0.2222222222222222, \"#7201a8\"], [0.3333333333333333, \"#9c179e\"], [0.4444444444444444, \"#bd3786\"], [0.5555555555555556, \"#d8576b\"], [0.6666666666666666, \"#ed7953\"], [0.7777777777777778, \"#fb9f3a\"], [0.8888888888888888, \"#fdca26\"], [1.0, \"#f0f921\"]], \"type\": \"heatmapgl\"}], \"histogram\": [{\"marker\": {\"colorbar\": {\"outlinewidth\": 0, \"ticks\": \"\"}}, \"type\": \"histogram\"}], \"histogram2d\": [{\"colorbar\": {\"outlinewidth\": 0, \"ticks\": \"\"}, \"colorscale\": [[0.0, \"#0d0887\"], [0.1111111111111111, \"#46039f\"], [0.2222222222222222, \"#7201a8\"], [0.3333333333333333, \"#9c179e\"], [0.4444444444444444, \"#bd3786\"], [0.5555555555555556, \"#d8576b\"], [0.6666666666666666, \"#ed7953\"], [0.7777777777777778, \"#fb9f3a\"], [0.8888888888888888, \"#fdca26\"], [1.0, \"#f0f921\"]], \"type\": \"histogram2d\"}], \"histogram2dcontour\": [{\"colorbar\": {\"outlinewidth\": 0, \"ticks\": \"\"}, \"colorscale\": [[0.0, \"#0d0887\"], [0.1111111111111111, \"#46039f\"], [0.2222222222222222, \"#7201a8\"], [0.3333333333333333, \"#9c179e\"], [0.4444444444444444, \"#bd3786\"], [0.5555555555555556, \"#d8576b\"], [0.6666666666666666, \"#ed7953\"], [0.7777777777777778, \"#fb9f3a\"], [0.8888888888888888, \"#fdca26\"], [1.0, \"#f0f921\"]], \"type\": \"histogram2dcontour\"}], \"mesh3d\": [{\"colorbar\": {\"outlinewidth\": 0, \"ticks\": \"\"}, \"type\": \"mesh3d\"}], \"parcoords\": [{\"line\": {\"colorbar\": {\"outlinewidth\": 0, \"ticks\": \"\"}}, \"type\": \"parcoords\"}], \"pie\": [{\"automargin\": true, \"type\": \"pie\"}], \"scatter\": [{\"marker\": {\"line\": {\"color\": \"#283442\"}}, \"type\": \"scatter\"}], \"scatter3d\": [{\"line\": {\"colorbar\": {\"outlinewidth\": 0, \"ticks\": \"\"}}, \"marker\": {\"colorbar\": {\"outlinewidth\": 0, \"ticks\": \"\"}}, \"type\": \"scatter3d\"}], \"scattercarpet\": [{\"marker\": {\"colorbar\": {\"outlinewidth\": 0, \"ticks\": \"\"}}, \"type\": \"scattercarpet\"}], \"scattergeo\": [{\"marker\": {\"colorbar\": {\"outlinewidth\": 0, \"ticks\": \"\"}}, \"type\": \"scattergeo\"}], \"scattergl\": [{\"marker\": {\"line\": {\"color\": \"#283442\"}}, \"type\": \"scattergl\"}], \"scattermapbox\": [{\"marker\": {\"colorbar\": {\"outlinewidth\": 0, \"ticks\": \"\"}}, \"type\": \"scattermapbox\"}], \"scatterpolar\": [{\"marker\": {\"colorbar\": {\"outlinewidth\": 0, \"ticks\": \"\"}}, \"type\": \"scatterpolar\"}], \"scatterpolargl\": [{\"marker\": {\"colorbar\": {\"outlinewidth\": 0, \"ticks\": \"\"}}, \"type\": \"scatterpolargl\"}], \"scatterternary\": [{\"marker\": {\"colorbar\": {\"outlinewidth\": 0, \"ticks\": \"\"}}, \"type\": \"scatterternary\"}], \"surface\": [{\"colorbar\": {\"outlinewidth\": 0, \"ticks\": \"\"}, \"colorscale\": [[0.0, \"#0d0887\"], [0.1111111111111111, \"#46039f\"], [0.2222222222222222, \"#7201a8\"], [0.3333333333333333, \"#9c179e\"], [0.4444444444444444, \"#bd3786\"], [0.5555555555555556, \"#d8576b\"], [0.6666666666666666, \"#ed7953\"], [0.7777777777777778, \"#fb9f3a\"], [0.8888888888888888, \"#fdca26\"], [1.0, \"#f0f921\"]], \"type\": \"surface\"}], \"table\": [{\"cells\": {\"fill\": {\"color\": \"#506784\"}, \"line\": {\"color\": \"rgb(17,17,17)\"}}, \"header\": {\"fill\": {\"color\": \"#2a3f5f\"}, \"line\": {\"color\": \"rgb(17,17,17)\"}}, \"type\": \"table\"}]}, \"layout\": {\"annotationdefaults\": {\"arrowcolor\": \"#f2f5fa\", \"arrowhead\": 0, \"arrowwidth\": 1}, \"coloraxis\": {\"colorbar\": {\"outlinewidth\": 0, \"ticks\": \"\"}}, \"colorscale\": {\"diverging\": [[0, \"#8e0152\"], [0.1, \"#c51b7d\"], [0.2, \"#de77ae\"], [0.3, \"#f1b6da\"], [0.4, \"#fde0ef\"], [0.5, \"#f7f7f7\"], [0.6, \"#e6f5d0\"], [0.7, \"#b8e186\"], [0.8, \"#7fbc41\"], [0.9, \"#4d9221\"], [1, \"#276419\"]], \"sequential\": [[0.0, \"#0d0887\"], [0.1111111111111111, \"#46039f\"], [0.2222222222222222, \"#7201a8\"], [0.3333333333333333, \"#9c179e\"], [0.4444444444444444, \"#bd3786\"], [0.5555555555555556, \"#d8576b\"], [0.6666666666666666, \"#ed7953\"], [0.7777777777777778, \"#fb9f3a\"], [0.8888888888888888, \"#fdca26\"], [1.0, \"#f0f921\"]], \"sequentialminus\": [[0.0, \"#0d0887\"], [0.1111111111111111, \"#46039f\"], [0.2222222222222222, \"#7201a8\"], [0.3333333333333333, \"#9c179e\"], [0.4444444444444444, \"#bd3786\"], [0.5555555555555556, \"#d8576b\"], [0.6666666666666666, \"#ed7953\"], [0.7777777777777778, \"#fb9f3a\"], [0.8888888888888888, \"#fdca26\"], [1.0, \"#f0f921\"]]}, \"colorway\": [\"#636efa\", \"#EF553B\", \"#00cc96\", \"#ab63fa\", \"#FFA15A\", \"#19d3f3\", \"#FF6692\", \"#B6E880\", \"#FF97FF\", \"#FECB52\"], \"font\": {\"color\": \"#f2f5fa\"}, \"geo\": {\"bgcolor\": \"rgb(17,17,17)\", \"lakecolor\": \"rgb(17,17,17)\", \"landcolor\": \"rgb(17,17,17)\", \"showlakes\": true, \"showland\": true, \"subunitcolor\": \"#506784\"}, \"hoverlabel\": {\"align\": \"left\"}, \"hovermode\": \"closest\", \"mapbox\": {\"style\": \"dark\"}, \"paper_bgcolor\": \"rgb(17,17,17)\", \"plot_bgcolor\": \"rgb(17,17,17)\", \"polar\": {\"angularaxis\": {\"gridcolor\": \"#506784\", \"linecolor\": \"#506784\", \"ticks\": \"\"}, \"bgcolor\": \"rgb(17,17,17)\", \"radialaxis\": {\"gridcolor\": \"#506784\", \"linecolor\": \"#506784\", \"ticks\": \"\"}}, \"scene\": {\"xaxis\": {\"backgroundcolor\": \"rgb(17,17,17)\", \"gridcolor\": \"#506784\", \"gridwidth\": 2, \"linecolor\": \"#506784\", \"showbackground\": true, \"ticks\": \"\", \"zerolinecolor\": \"#C8D4E3\"}, \"yaxis\": {\"backgroundcolor\": \"rgb(17,17,17)\", \"gridcolor\": \"#506784\", \"gridwidth\": 2, \"linecolor\": \"#506784\", \"showbackground\": true, \"ticks\": \"\", \"zerolinecolor\": \"#C8D4E3\"}, \"zaxis\": {\"backgroundcolor\": \"rgb(17,17,17)\", \"gridcolor\": \"#506784\", \"gridwidth\": 2, \"linecolor\": \"#506784\", \"showbackground\": true, \"ticks\": \"\", \"zerolinecolor\": \"#C8D4E3\"}}, \"shapedefaults\": {\"line\": {\"color\": \"#f2f5fa\"}}, \"sliderdefaults\": {\"bgcolor\": \"#C8D4E3\", \"bordercolor\": \"rgb(17,17,17)\", \"borderwidth\": 1, \"tickwidth\": 0}, \"ternary\": {\"aaxis\": {\"gridcolor\": \"#506784\", \"linecolor\": \"#506784\", \"ticks\": \"\"}, \"baxis\": {\"gridcolor\": \"#506784\", \"linecolor\": \"#506784\", \"ticks\": \"\"}, \"bgcolor\": \"rgb(17,17,17)\", \"caxis\": {\"gridcolor\": \"#506784\", \"linecolor\": \"#506784\", \"ticks\": \"\"}}, \"title\": {\"x\": 0.05}, \"updatemenudefaults\": {\"bgcolor\": \"#506784\", \"borderwidth\": 0}, \"xaxis\": {\"automargin\": true, \"gridcolor\": \"#283442\", \"linecolor\": \"#506784\", \"ticks\": \"\", \"title\": {\"standoff\": 15}, \"zerolinecolor\": \"#283442\", \"zerolinewidth\": 2}, \"yaxis\": {\"automargin\": true, \"gridcolor\": \"#283442\", \"linecolor\": \"#506784\", \"ticks\": \"\", \"title\": {\"standoff\": 15}, \"zerolinecolor\": \"#283442\", \"zerolinewidth\": 2}}}, \"title\": {\"text\": \"Confirmed/Recovered/Deaths in China and Rest of the World\"}, \"xaxis\": {\"tickfont\": {\"size\": 15}}, \"yaxis\": {\"tickfont\": {\"size\": 15}, \"title\": {\"font\": {\"size\": 12}, \"text\": \"count\"}}},\n",
       "                        {\"responsive\": true}\n",
       "                    ).then(function(){\n",
       "                            \n",
       "var gd = document.getElementById('b229b87b-e693-4e82-a81e-109c5efdf365');\n",
       "var x = new MutationObserver(function (mutations, observer) {{\n",
       "        var display = window.getComputedStyle(gd).display;\n",
       "        if (!display || display === 'none') {{\n",
       "            console.log([gd, 'removed!']);\n",
       "            Plotly.purge(gd);\n",
       "            observer.disconnect();\n",
       "        }}\n",
       "}});\n",
       "\n",
       "// Listen for the removal of the full notebook cells\n",
       "var notebookContainer = gd.closest('#notebook-container');\n",
       "if (notebookContainer) {{\n",
       "    x.observe(notebookContainer, {childList: true});\n",
       "}}\n",
       "\n",
       "// Listen for the clearing of the current output cell\n",
       "var outputEl = gd.closest('.output');\n",
       "if (outputEl) {{\n",
       "    x.observe(outputEl, {childList: true});\n",
       "}}\n",
       "\n",
       "                        })\n",
       "                };\n",
       "                });\n",
       "            </script>\n",
       "        </div>"
      ]
     },
     "metadata": {},
     "output_type": "display_data"
    }
   ],
   "source": [
    "#https://plot.ly/python/bar-charts/\n",
    "import plotly.graph_objects as go\n",
    "data=covid_countrywise.sort_values('confirmed',ascending=False)[0:10]\n",
    "country=data['country']\n",
    "\n",
    "fig = go.Figure()\n",
    "fig.update_layout(template='plotly_dark')\n",
    "fig.add_trace(go.Bar(x=['china','Rest of the world'],\n",
    "                y=[china[0],rest_of_the_world[0]],\n",
    "                name='Confirmed',\n",
    "                marker_color='rgb(102, 102, 255)'\n",
    "                ))\n",
    "fig.add_trace(go.Bar(x=['china','Rest of the world'],\n",
    "                y=[china[1],rest_of_the_world[1]],\n",
    "                name='Recovered',\n",
    "                marker_color='rgb(0,255,153)'\n",
    "                ))\n",
    "fig.add_trace(go.Bar(x=['china','Rest of the world'],\n",
    "                y=[china[2],rest_of_the_world[2]],\n",
    "                name='Deaths',\n",
    "                marker_color='rgb(255, 102, 102)'\n",
    "                ))\n",
    "fig.update_layout(\n",
    "    title='Confirmed/Recovered/Deaths in China and Rest of the World',\n",
    "    xaxis_tickfont_size=15,\n",
    "    yaxis=dict(\n",
    "        title='count',\n",
    "        titlefont_size=12,\n",
    "        tickfont_size=15,\n",
    "       \n",
    "    ),\n",
    "    legend=dict(\n",
    "        x=1,\n",
    "        y=1.0,\n",
    "        bgcolor='rgba(255, 255, 255, 0)',\n",
    "        bordercolor='rgba(255, 255, 255, 0)'\n",
    "    ),\n",
    "    barmode='group',\n",
    "    bargap=0.10, # gap between bars of adjacent location coordinates.\n",
    "    bargroupgap=0.2 # gap between bars of the same location coordinate.\n",
    ")\n",
    "fig.show()"
   ]
  },
  {
   "cell_type": "code",
   "execution_count": 30,
   "metadata": {},
   "outputs": [
    {
     "name": "stdout",
     "output_type": "stream",
     "text": [
      "The death rate in china is: 3.8064772107325298 %\n",
      "The rate of people already recovered in china is(till date): 68.78688687199326 %\n",
      "The death rate in rest of the world is: 1.93517749020539 %\n",
      "The rate of people already recovered in rest of the world is(till date): 11.425066286754522 %\n",
      "The current overall death rate is: 3.3600513590317314 %\n"
     ]
    }
   ],
   "source": [
    "print('The death rate in china is:',str((china[2]/china[0])*100)+' %')\n",
    "print('The rate of people already recovered in china is(till date):',str((china[1]/china[0])*100)+' %')\n",
    "print('The death rate in rest of the world is:',str((rest_of_the_world[2]/rest_of_the_world[0])*100)+' %')\n",
    "print('The rate of people already recovered in rest of the world is(till date):',str((rest_of_the_world[1]/rest_of_the_world[0])*100)+' %')\n",
    "print('The current overall death rate is:',str(((china[2]+rest_of_the_world[2])/(china[0]+rest_of_the_world[0]))*100)+' %')"
   ]
  },
  {
   "cell_type": "code",
   "execution_count": 31,
   "metadata": {},
   "outputs": [
    {
     "data": {
      "application/vnd.plotly.v1+json": {
       "config": {
        "plotlyServerURL": "https://plot.ly"
       },
       "data": [
        {
         "marker": {
          "color": "rgb(102, 102, 255)"
         },
         "name": "Confirmed",
         "type": "bar",
         "x": [
          "china",
          "Rest of the world"
         ],
         "y": [
          80652,
          25269
         ]
        },
        {
         "marker": {
          "color": "rgb(0,255,153)"
         },
         "name": "Recovered",
         "type": "bar",
         "x": [
          "china",
          "Rest of the world"
         ],
         "y": [
          55478,
          2887
         ]
        },
        {
         "marker": {
          "color": "rgb(255, 102, 102)"
         },
         "name": "Deaths",
         "type": "bar",
         "x": [
          "china",
          "Rest of the world"
         ],
         "y": [
          3070,
          489
         ]
        }
       ],
       "layout": {
        "bargap": 0.2,
        "bargroupgap": 0.2,
        "barmode": "relative",
        "legend": {
         "bgcolor": "rgba(255, 255, 255, 0)",
         "bordercolor": "rgba(255, 255, 255, 0)",
         "x": 1,
         "y": 1
        },
        "template": {
         "data": {
          "bar": [
           {
            "error_x": {
             "color": "#f2f5fa"
            },
            "error_y": {
             "color": "#f2f5fa"
            },
            "marker": {
             "line": {
              "color": "rgb(17,17,17)",
              "width": 0.5
             }
            },
            "type": "bar"
           }
          ],
          "barpolar": [
           {
            "marker": {
             "line": {
              "color": "rgb(17,17,17)",
              "width": 0.5
             }
            },
            "type": "barpolar"
           }
          ],
          "carpet": [
           {
            "aaxis": {
             "endlinecolor": "#A2B1C6",
             "gridcolor": "#506784",
             "linecolor": "#506784",
             "minorgridcolor": "#506784",
             "startlinecolor": "#A2B1C6"
            },
            "baxis": {
             "endlinecolor": "#A2B1C6",
             "gridcolor": "#506784",
             "linecolor": "#506784",
             "minorgridcolor": "#506784",
             "startlinecolor": "#A2B1C6"
            },
            "type": "carpet"
           }
          ],
          "choropleth": [
           {
            "colorbar": {
             "outlinewidth": 0,
             "ticks": ""
            },
            "type": "choropleth"
           }
          ],
          "contour": [
           {
            "colorbar": {
             "outlinewidth": 0,
             "ticks": ""
            },
            "colorscale": [
             [
              0,
              "#0d0887"
             ],
             [
              0.1111111111111111,
              "#46039f"
             ],
             [
              0.2222222222222222,
              "#7201a8"
             ],
             [
              0.3333333333333333,
              "#9c179e"
             ],
             [
              0.4444444444444444,
              "#bd3786"
             ],
             [
              0.5555555555555556,
              "#d8576b"
             ],
             [
              0.6666666666666666,
              "#ed7953"
             ],
             [
              0.7777777777777778,
              "#fb9f3a"
             ],
             [
              0.8888888888888888,
              "#fdca26"
             ],
             [
              1,
              "#f0f921"
             ]
            ],
            "type": "contour"
           }
          ],
          "contourcarpet": [
           {
            "colorbar": {
             "outlinewidth": 0,
             "ticks": ""
            },
            "type": "contourcarpet"
           }
          ],
          "heatmap": [
           {
            "colorbar": {
             "outlinewidth": 0,
             "ticks": ""
            },
            "colorscale": [
             [
              0,
              "#0d0887"
             ],
             [
              0.1111111111111111,
              "#46039f"
             ],
             [
              0.2222222222222222,
              "#7201a8"
             ],
             [
              0.3333333333333333,
              "#9c179e"
             ],
             [
              0.4444444444444444,
              "#bd3786"
             ],
             [
              0.5555555555555556,
              "#d8576b"
             ],
             [
              0.6666666666666666,
              "#ed7953"
             ],
             [
              0.7777777777777778,
              "#fb9f3a"
             ],
             [
              0.8888888888888888,
              "#fdca26"
             ],
             [
              1,
              "#f0f921"
             ]
            ],
            "type": "heatmap"
           }
          ],
          "heatmapgl": [
           {
            "colorbar": {
             "outlinewidth": 0,
             "ticks": ""
            },
            "colorscale": [
             [
              0,
              "#0d0887"
             ],
             [
              0.1111111111111111,
              "#46039f"
             ],
             [
              0.2222222222222222,
              "#7201a8"
             ],
             [
              0.3333333333333333,
              "#9c179e"
             ],
             [
              0.4444444444444444,
              "#bd3786"
             ],
             [
              0.5555555555555556,
              "#d8576b"
             ],
             [
              0.6666666666666666,
              "#ed7953"
             ],
             [
              0.7777777777777778,
              "#fb9f3a"
             ],
             [
              0.8888888888888888,
              "#fdca26"
             ],
             [
              1,
              "#f0f921"
             ]
            ],
            "type": "heatmapgl"
           }
          ],
          "histogram": [
           {
            "marker": {
             "colorbar": {
              "outlinewidth": 0,
              "ticks": ""
             }
            },
            "type": "histogram"
           }
          ],
          "histogram2d": [
           {
            "colorbar": {
             "outlinewidth": 0,
             "ticks": ""
            },
            "colorscale": [
             [
              0,
              "#0d0887"
             ],
             [
              0.1111111111111111,
              "#46039f"
             ],
             [
              0.2222222222222222,
              "#7201a8"
             ],
             [
              0.3333333333333333,
              "#9c179e"
             ],
             [
              0.4444444444444444,
              "#bd3786"
             ],
             [
              0.5555555555555556,
              "#d8576b"
             ],
             [
              0.6666666666666666,
              "#ed7953"
             ],
             [
              0.7777777777777778,
              "#fb9f3a"
             ],
             [
              0.8888888888888888,
              "#fdca26"
             ],
             [
              1,
              "#f0f921"
             ]
            ],
            "type": "histogram2d"
           }
          ],
          "histogram2dcontour": [
           {
            "colorbar": {
             "outlinewidth": 0,
             "ticks": ""
            },
            "colorscale": [
             [
              0,
              "#0d0887"
             ],
             [
              0.1111111111111111,
              "#46039f"
             ],
             [
              0.2222222222222222,
              "#7201a8"
             ],
             [
              0.3333333333333333,
              "#9c179e"
             ],
             [
              0.4444444444444444,
              "#bd3786"
             ],
             [
              0.5555555555555556,
              "#d8576b"
             ],
             [
              0.6666666666666666,
              "#ed7953"
             ],
             [
              0.7777777777777778,
              "#fb9f3a"
             ],
             [
              0.8888888888888888,
              "#fdca26"
             ],
             [
              1,
              "#f0f921"
             ]
            ],
            "type": "histogram2dcontour"
           }
          ],
          "mesh3d": [
           {
            "colorbar": {
             "outlinewidth": 0,
             "ticks": ""
            },
            "type": "mesh3d"
           }
          ],
          "parcoords": [
           {
            "line": {
             "colorbar": {
              "outlinewidth": 0,
              "ticks": ""
             }
            },
            "type": "parcoords"
           }
          ],
          "pie": [
           {
            "automargin": true,
            "type": "pie"
           }
          ],
          "scatter": [
           {
            "marker": {
             "line": {
              "color": "#283442"
             }
            },
            "type": "scatter"
           }
          ],
          "scatter3d": [
           {
            "line": {
             "colorbar": {
              "outlinewidth": 0,
              "ticks": ""
             }
            },
            "marker": {
             "colorbar": {
              "outlinewidth": 0,
              "ticks": ""
             }
            },
            "type": "scatter3d"
           }
          ],
          "scattercarpet": [
           {
            "marker": {
             "colorbar": {
              "outlinewidth": 0,
              "ticks": ""
             }
            },
            "type": "scattercarpet"
           }
          ],
          "scattergeo": [
           {
            "marker": {
             "colorbar": {
              "outlinewidth": 0,
              "ticks": ""
             }
            },
            "type": "scattergeo"
           }
          ],
          "scattergl": [
           {
            "marker": {
             "line": {
              "color": "#283442"
             }
            },
            "type": "scattergl"
           }
          ],
          "scattermapbox": [
           {
            "marker": {
             "colorbar": {
              "outlinewidth": 0,
              "ticks": ""
             }
            },
            "type": "scattermapbox"
           }
          ],
          "scatterpolar": [
           {
            "marker": {
             "colorbar": {
              "outlinewidth": 0,
              "ticks": ""
             }
            },
            "type": "scatterpolar"
           }
          ],
          "scatterpolargl": [
           {
            "marker": {
             "colorbar": {
              "outlinewidth": 0,
              "ticks": ""
             }
            },
            "type": "scatterpolargl"
           }
          ],
          "scatterternary": [
           {
            "marker": {
             "colorbar": {
              "outlinewidth": 0,
              "ticks": ""
             }
            },
            "type": "scatterternary"
           }
          ],
          "surface": [
           {
            "colorbar": {
             "outlinewidth": 0,
             "ticks": ""
            },
            "colorscale": [
             [
              0,
              "#0d0887"
             ],
             [
              0.1111111111111111,
              "#46039f"
             ],
             [
              0.2222222222222222,
              "#7201a8"
             ],
             [
              0.3333333333333333,
              "#9c179e"
             ],
             [
              0.4444444444444444,
              "#bd3786"
             ],
             [
              0.5555555555555556,
              "#d8576b"
             ],
             [
              0.6666666666666666,
              "#ed7953"
             ],
             [
              0.7777777777777778,
              "#fb9f3a"
             ],
             [
              0.8888888888888888,
              "#fdca26"
             ],
             [
              1,
              "#f0f921"
             ]
            ],
            "type": "surface"
           }
          ],
          "table": [
           {
            "cells": {
             "fill": {
              "color": "#506784"
             },
             "line": {
              "color": "rgb(17,17,17)"
             }
            },
            "header": {
             "fill": {
              "color": "#2a3f5f"
             },
             "line": {
              "color": "rgb(17,17,17)"
             }
            },
            "type": "table"
           }
          ]
         },
         "layout": {
          "annotationdefaults": {
           "arrowcolor": "#f2f5fa",
           "arrowhead": 0,
           "arrowwidth": 1
          },
          "coloraxis": {
           "colorbar": {
            "outlinewidth": 0,
            "ticks": ""
           }
          },
          "colorscale": {
           "diverging": [
            [
             0,
             "#8e0152"
            ],
            [
             0.1,
             "#c51b7d"
            ],
            [
             0.2,
             "#de77ae"
            ],
            [
             0.3,
             "#f1b6da"
            ],
            [
             0.4,
             "#fde0ef"
            ],
            [
             0.5,
             "#f7f7f7"
            ],
            [
             0.6,
             "#e6f5d0"
            ],
            [
             0.7,
             "#b8e186"
            ],
            [
             0.8,
             "#7fbc41"
            ],
            [
             0.9,
             "#4d9221"
            ],
            [
             1,
             "#276419"
            ]
           ],
           "sequential": [
            [
             0,
             "#0d0887"
            ],
            [
             0.1111111111111111,
             "#46039f"
            ],
            [
             0.2222222222222222,
             "#7201a8"
            ],
            [
             0.3333333333333333,
             "#9c179e"
            ],
            [
             0.4444444444444444,
             "#bd3786"
            ],
            [
             0.5555555555555556,
             "#d8576b"
            ],
            [
             0.6666666666666666,
             "#ed7953"
            ],
            [
             0.7777777777777778,
             "#fb9f3a"
            ],
            [
             0.8888888888888888,
             "#fdca26"
            ],
            [
             1,
             "#f0f921"
            ]
           ],
           "sequentialminus": [
            [
             0,
             "#0d0887"
            ],
            [
             0.1111111111111111,
             "#46039f"
            ],
            [
             0.2222222222222222,
             "#7201a8"
            ],
            [
             0.3333333333333333,
             "#9c179e"
            ],
            [
             0.4444444444444444,
             "#bd3786"
            ],
            [
             0.5555555555555556,
             "#d8576b"
            ],
            [
             0.6666666666666666,
             "#ed7953"
            ],
            [
             0.7777777777777778,
             "#fb9f3a"
            ],
            [
             0.8888888888888888,
             "#fdca26"
            ],
            [
             1,
             "#f0f921"
            ]
           ]
          },
          "colorway": [
           "#636efa",
           "#EF553B",
           "#00cc96",
           "#ab63fa",
           "#FFA15A",
           "#19d3f3",
           "#FF6692",
           "#B6E880",
           "#FF97FF",
           "#FECB52"
          ],
          "font": {
           "color": "#f2f5fa"
          },
          "geo": {
           "bgcolor": "rgb(17,17,17)",
           "lakecolor": "rgb(17,17,17)",
           "landcolor": "rgb(17,17,17)",
           "showlakes": true,
           "showland": true,
           "subunitcolor": "#506784"
          },
          "hoverlabel": {
           "align": "left"
          },
          "hovermode": "closest",
          "mapbox": {
           "style": "dark"
          },
          "paper_bgcolor": "rgb(17,17,17)",
          "plot_bgcolor": "rgb(17,17,17)",
          "polar": {
           "angularaxis": {
            "gridcolor": "#506784",
            "linecolor": "#506784",
            "ticks": ""
           },
           "bgcolor": "rgb(17,17,17)",
           "radialaxis": {
            "gridcolor": "#506784",
            "linecolor": "#506784",
            "ticks": ""
           }
          },
          "scene": {
           "xaxis": {
            "backgroundcolor": "rgb(17,17,17)",
            "gridcolor": "#506784",
            "gridwidth": 2,
            "linecolor": "#506784",
            "showbackground": true,
            "ticks": "",
            "zerolinecolor": "#C8D4E3"
           },
           "yaxis": {
            "backgroundcolor": "rgb(17,17,17)",
            "gridcolor": "#506784",
            "gridwidth": 2,
            "linecolor": "#506784",
            "showbackground": true,
            "ticks": "",
            "zerolinecolor": "#C8D4E3"
           },
           "zaxis": {
            "backgroundcolor": "rgb(17,17,17)",
            "gridcolor": "#506784",
            "gridwidth": 2,
            "linecolor": "#506784",
            "showbackground": true,
            "ticks": "",
            "zerolinecolor": "#C8D4E3"
           }
          },
          "shapedefaults": {
           "line": {
            "color": "#f2f5fa"
           }
          },
          "sliderdefaults": {
           "bgcolor": "#C8D4E3",
           "bordercolor": "rgb(17,17,17)",
           "borderwidth": 1,
           "tickwidth": 0
          },
          "ternary": {
           "aaxis": {
            "gridcolor": "#506784",
            "linecolor": "#506784",
            "ticks": ""
           },
           "baxis": {
            "gridcolor": "#506784",
            "linecolor": "#506784",
            "ticks": ""
           },
           "bgcolor": "rgb(17,17,17)",
           "caxis": {
            "gridcolor": "#506784",
            "linecolor": "#506784",
            "ticks": ""
           }
          },
          "title": {
           "x": 0.05
          },
          "updatemenudefaults": {
           "bgcolor": "#506784",
           "borderwidth": 0
          },
          "xaxis": {
           "automargin": true,
           "gridcolor": "#283442",
           "linecolor": "#506784",
           "ticks": "",
           "title": {
            "standoff": 15
           },
           "zerolinecolor": "#283442",
           "zerolinewidth": 2
          },
          "yaxis": {
           "automargin": true,
           "gridcolor": "#283442",
           "linecolor": "#506784",
           "ticks": "",
           "title": {
            "standoff": 15
           },
           "zerolinecolor": "#283442",
           "zerolinewidth": 2
          }
         }
        },
        "title": {
         "text": "China vs Rest of the World Relative Stats"
        },
        "xaxis": {
         "tickfont": {
          "size": 15
         }
        },
        "yaxis": {
         "tickfont": {
          "size": 15
         },
         "title": {
          "font": {
           "size": 12
          },
          "text": "count"
         }
        }
       }
      },
      "text/html": [
       "<div>\n",
       "        \n",
       "        \n",
       "            <div id=\"a9e9f124-bb37-4bc0-8fb0-2540a32214f1\" class=\"plotly-graph-div\" style=\"height:525px; width:100%;\"></div>\n",
       "            <script type=\"text/javascript\">\n",
       "                require([\"plotly\"], function(Plotly) {\n",
       "                    window.PLOTLYENV=window.PLOTLYENV || {};\n",
       "                    \n",
       "                if (document.getElementById(\"a9e9f124-bb37-4bc0-8fb0-2540a32214f1\")) {\n",
       "                    Plotly.newPlot(\n",
       "                        'a9e9f124-bb37-4bc0-8fb0-2540a32214f1',\n",
       "                        [{\"marker\": {\"color\": \"rgb(102, 102, 255)\"}, \"name\": \"Confirmed\", \"type\": \"bar\", \"x\": [\"china\", \"Rest of the world\"], \"y\": [80652, 25269]}, {\"marker\": {\"color\": \"rgb(0,255,153)\"}, \"name\": \"Recovered\", \"type\": \"bar\", \"x\": [\"china\", \"Rest of the world\"], \"y\": [55478, 2887]}, {\"marker\": {\"color\": \"rgb(255, 102, 102)\"}, \"name\": \"Deaths\", \"type\": \"bar\", \"x\": [\"china\", \"Rest of the world\"], \"y\": [3070, 489]}],\n",
       "                        {\"bargap\": 0.2, \"bargroupgap\": 0.2, \"barmode\": \"relative\", \"legend\": {\"bgcolor\": \"rgba(255, 255, 255, 0)\", \"bordercolor\": \"rgba(255, 255, 255, 0)\", \"x\": 1, \"y\": 1.0}, \"template\": {\"data\": {\"bar\": [{\"error_x\": {\"color\": \"#f2f5fa\"}, \"error_y\": {\"color\": \"#f2f5fa\"}, \"marker\": {\"line\": {\"color\": \"rgb(17,17,17)\", \"width\": 0.5}}, \"type\": \"bar\"}], \"barpolar\": [{\"marker\": {\"line\": {\"color\": \"rgb(17,17,17)\", \"width\": 0.5}}, \"type\": \"barpolar\"}], \"carpet\": [{\"aaxis\": {\"endlinecolor\": \"#A2B1C6\", \"gridcolor\": \"#506784\", \"linecolor\": \"#506784\", \"minorgridcolor\": \"#506784\", \"startlinecolor\": \"#A2B1C6\"}, \"baxis\": {\"endlinecolor\": \"#A2B1C6\", \"gridcolor\": \"#506784\", \"linecolor\": \"#506784\", \"minorgridcolor\": \"#506784\", \"startlinecolor\": \"#A2B1C6\"}, \"type\": \"carpet\"}], \"choropleth\": [{\"colorbar\": {\"outlinewidth\": 0, \"ticks\": \"\"}, \"type\": \"choropleth\"}], \"contour\": [{\"colorbar\": {\"outlinewidth\": 0, \"ticks\": \"\"}, \"colorscale\": [[0.0, \"#0d0887\"], [0.1111111111111111, \"#46039f\"], [0.2222222222222222, \"#7201a8\"], [0.3333333333333333, \"#9c179e\"], [0.4444444444444444, \"#bd3786\"], [0.5555555555555556, \"#d8576b\"], [0.6666666666666666, \"#ed7953\"], [0.7777777777777778, \"#fb9f3a\"], [0.8888888888888888, \"#fdca26\"], [1.0, \"#f0f921\"]], \"type\": \"contour\"}], \"contourcarpet\": [{\"colorbar\": {\"outlinewidth\": 0, \"ticks\": \"\"}, \"type\": \"contourcarpet\"}], \"heatmap\": [{\"colorbar\": {\"outlinewidth\": 0, \"ticks\": \"\"}, \"colorscale\": [[0.0, \"#0d0887\"], [0.1111111111111111, \"#46039f\"], [0.2222222222222222, \"#7201a8\"], [0.3333333333333333, \"#9c179e\"], [0.4444444444444444, \"#bd3786\"], [0.5555555555555556, \"#d8576b\"], [0.6666666666666666, \"#ed7953\"], [0.7777777777777778, \"#fb9f3a\"], [0.8888888888888888, \"#fdca26\"], [1.0, \"#f0f921\"]], \"type\": \"heatmap\"}], \"heatmapgl\": [{\"colorbar\": {\"outlinewidth\": 0, \"ticks\": \"\"}, \"colorscale\": [[0.0, \"#0d0887\"], [0.1111111111111111, \"#46039f\"], [0.2222222222222222, \"#7201a8\"], [0.3333333333333333, \"#9c179e\"], [0.4444444444444444, \"#bd3786\"], [0.5555555555555556, \"#d8576b\"], [0.6666666666666666, \"#ed7953\"], [0.7777777777777778, \"#fb9f3a\"], [0.8888888888888888, \"#fdca26\"], [1.0, \"#f0f921\"]], \"type\": \"heatmapgl\"}], \"histogram\": [{\"marker\": {\"colorbar\": {\"outlinewidth\": 0, \"ticks\": \"\"}}, \"type\": \"histogram\"}], \"histogram2d\": [{\"colorbar\": {\"outlinewidth\": 0, \"ticks\": \"\"}, \"colorscale\": [[0.0, \"#0d0887\"], [0.1111111111111111, \"#46039f\"], [0.2222222222222222, \"#7201a8\"], [0.3333333333333333, \"#9c179e\"], [0.4444444444444444, \"#bd3786\"], [0.5555555555555556, \"#d8576b\"], [0.6666666666666666, \"#ed7953\"], [0.7777777777777778, \"#fb9f3a\"], [0.8888888888888888, \"#fdca26\"], [1.0, \"#f0f921\"]], \"type\": \"histogram2d\"}], \"histogram2dcontour\": [{\"colorbar\": {\"outlinewidth\": 0, \"ticks\": \"\"}, \"colorscale\": [[0.0, \"#0d0887\"], [0.1111111111111111, \"#46039f\"], [0.2222222222222222, \"#7201a8\"], [0.3333333333333333, \"#9c179e\"], [0.4444444444444444, \"#bd3786\"], [0.5555555555555556, \"#d8576b\"], [0.6666666666666666, \"#ed7953\"], [0.7777777777777778, \"#fb9f3a\"], [0.8888888888888888, \"#fdca26\"], [1.0, \"#f0f921\"]], \"type\": \"histogram2dcontour\"}], \"mesh3d\": [{\"colorbar\": {\"outlinewidth\": 0, \"ticks\": \"\"}, \"type\": \"mesh3d\"}], \"parcoords\": [{\"line\": {\"colorbar\": {\"outlinewidth\": 0, \"ticks\": \"\"}}, \"type\": \"parcoords\"}], \"pie\": [{\"automargin\": true, \"type\": \"pie\"}], \"scatter\": [{\"marker\": {\"line\": {\"color\": \"#283442\"}}, \"type\": \"scatter\"}], \"scatter3d\": [{\"line\": {\"colorbar\": {\"outlinewidth\": 0, \"ticks\": \"\"}}, \"marker\": {\"colorbar\": {\"outlinewidth\": 0, \"ticks\": \"\"}}, \"type\": \"scatter3d\"}], \"scattercarpet\": [{\"marker\": {\"colorbar\": {\"outlinewidth\": 0, \"ticks\": \"\"}}, \"type\": \"scattercarpet\"}], \"scattergeo\": [{\"marker\": {\"colorbar\": {\"outlinewidth\": 0, \"ticks\": \"\"}}, \"type\": \"scattergeo\"}], \"scattergl\": [{\"marker\": {\"line\": {\"color\": \"#283442\"}}, \"type\": \"scattergl\"}], \"scattermapbox\": [{\"marker\": {\"colorbar\": {\"outlinewidth\": 0, \"ticks\": \"\"}}, \"type\": \"scattermapbox\"}], \"scatterpolar\": [{\"marker\": {\"colorbar\": {\"outlinewidth\": 0, \"ticks\": \"\"}}, \"type\": \"scatterpolar\"}], \"scatterpolargl\": [{\"marker\": {\"colorbar\": {\"outlinewidth\": 0, \"ticks\": \"\"}}, \"type\": \"scatterpolargl\"}], \"scatterternary\": [{\"marker\": {\"colorbar\": {\"outlinewidth\": 0, \"ticks\": \"\"}}, \"type\": \"scatterternary\"}], \"surface\": [{\"colorbar\": {\"outlinewidth\": 0, \"ticks\": \"\"}, \"colorscale\": [[0.0, \"#0d0887\"], [0.1111111111111111, \"#46039f\"], [0.2222222222222222, \"#7201a8\"], [0.3333333333333333, \"#9c179e\"], [0.4444444444444444, \"#bd3786\"], [0.5555555555555556, \"#d8576b\"], [0.6666666666666666, \"#ed7953\"], [0.7777777777777778, \"#fb9f3a\"], [0.8888888888888888, \"#fdca26\"], [1.0, \"#f0f921\"]], \"type\": \"surface\"}], \"table\": [{\"cells\": {\"fill\": {\"color\": \"#506784\"}, \"line\": {\"color\": \"rgb(17,17,17)\"}}, \"header\": {\"fill\": {\"color\": \"#2a3f5f\"}, \"line\": {\"color\": \"rgb(17,17,17)\"}}, \"type\": \"table\"}]}, \"layout\": {\"annotationdefaults\": {\"arrowcolor\": \"#f2f5fa\", \"arrowhead\": 0, \"arrowwidth\": 1}, \"coloraxis\": {\"colorbar\": {\"outlinewidth\": 0, \"ticks\": \"\"}}, \"colorscale\": {\"diverging\": [[0, \"#8e0152\"], [0.1, \"#c51b7d\"], [0.2, \"#de77ae\"], [0.3, \"#f1b6da\"], [0.4, \"#fde0ef\"], [0.5, \"#f7f7f7\"], [0.6, \"#e6f5d0\"], [0.7, \"#b8e186\"], [0.8, \"#7fbc41\"], [0.9, \"#4d9221\"], [1, \"#276419\"]], \"sequential\": [[0.0, \"#0d0887\"], [0.1111111111111111, \"#46039f\"], [0.2222222222222222, \"#7201a8\"], [0.3333333333333333, \"#9c179e\"], [0.4444444444444444, \"#bd3786\"], [0.5555555555555556, \"#d8576b\"], [0.6666666666666666, \"#ed7953\"], [0.7777777777777778, \"#fb9f3a\"], [0.8888888888888888, \"#fdca26\"], [1.0, \"#f0f921\"]], \"sequentialminus\": [[0.0, \"#0d0887\"], [0.1111111111111111, \"#46039f\"], [0.2222222222222222, \"#7201a8\"], [0.3333333333333333, \"#9c179e\"], [0.4444444444444444, \"#bd3786\"], [0.5555555555555556, \"#d8576b\"], [0.6666666666666666, \"#ed7953\"], [0.7777777777777778, \"#fb9f3a\"], [0.8888888888888888, \"#fdca26\"], [1.0, \"#f0f921\"]]}, \"colorway\": [\"#636efa\", \"#EF553B\", \"#00cc96\", \"#ab63fa\", \"#FFA15A\", \"#19d3f3\", \"#FF6692\", \"#B6E880\", \"#FF97FF\", \"#FECB52\"], \"font\": {\"color\": \"#f2f5fa\"}, \"geo\": {\"bgcolor\": \"rgb(17,17,17)\", \"lakecolor\": \"rgb(17,17,17)\", \"landcolor\": \"rgb(17,17,17)\", \"showlakes\": true, \"showland\": true, \"subunitcolor\": \"#506784\"}, \"hoverlabel\": {\"align\": \"left\"}, \"hovermode\": \"closest\", \"mapbox\": {\"style\": \"dark\"}, \"paper_bgcolor\": \"rgb(17,17,17)\", \"plot_bgcolor\": \"rgb(17,17,17)\", \"polar\": {\"angularaxis\": {\"gridcolor\": \"#506784\", \"linecolor\": \"#506784\", \"ticks\": \"\"}, \"bgcolor\": \"rgb(17,17,17)\", \"radialaxis\": {\"gridcolor\": \"#506784\", \"linecolor\": \"#506784\", \"ticks\": \"\"}}, \"scene\": {\"xaxis\": {\"backgroundcolor\": \"rgb(17,17,17)\", \"gridcolor\": \"#506784\", \"gridwidth\": 2, \"linecolor\": \"#506784\", \"showbackground\": true, \"ticks\": \"\", \"zerolinecolor\": \"#C8D4E3\"}, \"yaxis\": {\"backgroundcolor\": \"rgb(17,17,17)\", \"gridcolor\": \"#506784\", \"gridwidth\": 2, \"linecolor\": \"#506784\", \"showbackground\": true, \"ticks\": \"\", \"zerolinecolor\": \"#C8D4E3\"}, \"zaxis\": {\"backgroundcolor\": \"rgb(17,17,17)\", \"gridcolor\": \"#506784\", \"gridwidth\": 2, \"linecolor\": \"#506784\", \"showbackground\": true, \"ticks\": \"\", \"zerolinecolor\": \"#C8D4E3\"}}, \"shapedefaults\": {\"line\": {\"color\": \"#f2f5fa\"}}, \"sliderdefaults\": {\"bgcolor\": \"#C8D4E3\", \"bordercolor\": \"rgb(17,17,17)\", \"borderwidth\": 1, \"tickwidth\": 0}, \"ternary\": {\"aaxis\": {\"gridcolor\": \"#506784\", \"linecolor\": \"#506784\", \"ticks\": \"\"}, \"baxis\": {\"gridcolor\": \"#506784\", \"linecolor\": \"#506784\", \"ticks\": \"\"}, \"bgcolor\": \"rgb(17,17,17)\", \"caxis\": {\"gridcolor\": \"#506784\", \"linecolor\": \"#506784\", \"ticks\": \"\"}}, \"title\": {\"x\": 0.05}, \"updatemenudefaults\": {\"bgcolor\": \"#506784\", \"borderwidth\": 0}, \"xaxis\": {\"automargin\": true, \"gridcolor\": \"#283442\", \"linecolor\": \"#506784\", \"ticks\": \"\", \"title\": {\"standoff\": 15}, \"zerolinecolor\": \"#283442\", \"zerolinewidth\": 2}, \"yaxis\": {\"automargin\": true, \"gridcolor\": \"#283442\", \"linecolor\": \"#506784\", \"ticks\": \"\", \"title\": {\"standoff\": 15}, \"zerolinecolor\": \"#283442\", \"zerolinewidth\": 2}}}, \"title\": {\"text\": \"China vs Rest of the World Relative Stats\"}, \"xaxis\": {\"tickfont\": {\"size\": 15}}, \"yaxis\": {\"tickfont\": {\"size\": 15}, \"title\": {\"font\": {\"size\": 12}, \"text\": \"count\"}}},\n",
       "                        {\"responsive\": true}\n",
       "                    ).then(function(){\n",
       "                            \n",
       "var gd = document.getElementById('a9e9f124-bb37-4bc0-8fb0-2540a32214f1');\n",
       "var x = new MutationObserver(function (mutations, observer) {{\n",
       "        var display = window.getComputedStyle(gd).display;\n",
       "        if (!display || display === 'none') {{\n",
       "            console.log([gd, 'removed!']);\n",
       "            Plotly.purge(gd);\n",
       "            observer.disconnect();\n",
       "        }}\n",
       "}});\n",
       "\n",
       "// Listen for the removal of the full notebook cells\n",
       "var notebookContainer = gd.closest('#notebook-container');\n",
       "if (notebookContainer) {{\n",
       "    x.observe(notebookContainer, {childList: true});\n",
       "}}\n",
       "\n",
       "// Listen for the clearing of the current output cell\n",
       "var outputEl = gd.closest('.output');\n",
       "if (outputEl) {{\n",
       "    x.observe(outputEl, {childList: true});\n",
       "}}\n",
       "\n",
       "                        })\n",
       "                };\n",
       "                });\n",
       "            </script>\n",
       "        </div>"
      ]
     },
     "metadata": {},
     "output_type": "display_data"
    }
   ],
   "source": [
    "fig.update_layout(barmode='relative', title_text='China vs Rest of the World Relative Stats',bargap=0.2)\n",
    "fig.show()"
   ]
  },
  {
   "cell_type": "markdown",
   "metadata": {},
   "source": [
    "#### Q3. How the confirmed cases are distributed globally over various regions?"
   ]
  },
  {
   "cell_type": "code",
   "execution_count": 32,
   "metadata": {},
   "outputs": [
    {
     "data": {
      "application/vnd.plotly.v1+json": {
       "config": {
        "plotlyServerURL": "https://plot.ly"
       },
       "data": [
        {
         "domain": {
          "x": [
           0,
           1
          ],
          "y": [
           0,
           1
          ]
         },
         "hoverlabel": {
          "namelength": 0
         },
         "hovertemplate": "country=%{label}<br>confirmed=%{value}",
         "labels": [
          "Mainland China",
          "South Korea",
          "Italy",
          "Iran",
          "France",
          "Germany",
          "Others",
          "Spain",
          "US",
          "Japan"
         ],
         "legendgroup": "",
         "name": "",
         "showlegend": true,
         "type": "pie",
         "values": [
          80652,
          7041,
          5883,
          5823,
          949,
          804,
          757,
          500,
          488,
          461
         ]
        }
       ],
       "layout": {
        "legend": {
         "tracegroupgap": 0
        },
        "template": {
         "data": {
          "bar": [
           {
            "error_x": {
             "color": "#2a3f5f"
            },
            "error_y": {
             "color": "#2a3f5f"
            },
            "marker": {
             "line": {
              "color": "#E5ECF6",
              "width": 0.5
             }
            },
            "type": "bar"
           }
          ],
          "barpolar": [
           {
            "marker": {
             "line": {
              "color": "#E5ECF6",
              "width": 0.5
             }
            },
            "type": "barpolar"
           }
          ],
          "carpet": [
           {
            "aaxis": {
             "endlinecolor": "#2a3f5f",
             "gridcolor": "white",
             "linecolor": "white",
             "minorgridcolor": "white",
             "startlinecolor": "#2a3f5f"
            },
            "baxis": {
             "endlinecolor": "#2a3f5f",
             "gridcolor": "white",
             "linecolor": "white",
             "minorgridcolor": "white",
             "startlinecolor": "#2a3f5f"
            },
            "type": "carpet"
           }
          ],
          "choropleth": [
           {
            "colorbar": {
             "outlinewidth": 0,
             "ticks": ""
            },
            "type": "choropleth"
           }
          ],
          "contour": [
           {
            "colorbar": {
             "outlinewidth": 0,
             "ticks": ""
            },
            "colorscale": [
             [
              0,
              "#0d0887"
             ],
             [
              0.1111111111111111,
              "#46039f"
             ],
             [
              0.2222222222222222,
              "#7201a8"
             ],
             [
              0.3333333333333333,
              "#9c179e"
             ],
             [
              0.4444444444444444,
              "#bd3786"
             ],
             [
              0.5555555555555556,
              "#d8576b"
             ],
             [
              0.6666666666666666,
              "#ed7953"
             ],
             [
              0.7777777777777778,
              "#fb9f3a"
             ],
             [
              0.8888888888888888,
              "#fdca26"
             ],
             [
              1,
              "#f0f921"
             ]
            ],
            "type": "contour"
           }
          ],
          "contourcarpet": [
           {
            "colorbar": {
             "outlinewidth": 0,
             "ticks": ""
            },
            "type": "contourcarpet"
           }
          ],
          "heatmap": [
           {
            "colorbar": {
             "outlinewidth": 0,
             "ticks": ""
            },
            "colorscale": [
             [
              0,
              "#0d0887"
             ],
             [
              0.1111111111111111,
              "#46039f"
             ],
             [
              0.2222222222222222,
              "#7201a8"
             ],
             [
              0.3333333333333333,
              "#9c179e"
             ],
             [
              0.4444444444444444,
              "#bd3786"
             ],
             [
              0.5555555555555556,
              "#d8576b"
             ],
             [
              0.6666666666666666,
              "#ed7953"
             ],
             [
              0.7777777777777778,
              "#fb9f3a"
             ],
             [
              0.8888888888888888,
              "#fdca26"
             ],
             [
              1,
              "#f0f921"
             ]
            ],
            "type": "heatmap"
           }
          ],
          "heatmapgl": [
           {
            "colorbar": {
             "outlinewidth": 0,
             "ticks": ""
            },
            "colorscale": [
             [
              0,
              "#0d0887"
             ],
             [
              0.1111111111111111,
              "#46039f"
             ],
             [
              0.2222222222222222,
              "#7201a8"
             ],
             [
              0.3333333333333333,
              "#9c179e"
             ],
             [
              0.4444444444444444,
              "#bd3786"
             ],
             [
              0.5555555555555556,
              "#d8576b"
             ],
             [
              0.6666666666666666,
              "#ed7953"
             ],
             [
              0.7777777777777778,
              "#fb9f3a"
             ],
             [
              0.8888888888888888,
              "#fdca26"
             ],
             [
              1,
              "#f0f921"
             ]
            ],
            "type": "heatmapgl"
           }
          ],
          "histogram": [
           {
            "marker": {
             "colorbar": {
              "outlinewidth": 0,
              "ticks": ""
             }
            },
            "type": "histogram"
           }
          ],
          "histogram2d": [
           {
            "colorbar": {
             "outlinewidth": 0,
             "ticks": ""
            },
            "colorscale": [
             [
              0,
              "#0d0887"
             ],
             [
              0.1111111111111111,
              "#46039f"
             ],
             [
              0.2222222222222222,
              "#7201a8"
             ],
             [
              0.3333333333333333,
              "#9c179e"
             ],
             [
              0.4444444444444444,
              "#bd3786"
             ],
             [
              0.5555555555555556,
              "#d8576b"
             ],
             [
              0.6666666666666666,
              "#ed7953"
             ],
             [
              0.7777777777777778,
              "#fb9f3a"
             ],
             [
              0.8888888888888888,
              "#fdca26"
             ],
             [
              1,
              "#f0f921"
             ]
            ],
            "type": "histogram2d"
           }
          ],
          "histogram2dcontour": [
           {
            "colorbar": {
             "outlinewidth": 0,
             "ticks": ""
            },
            "colorscale": [
             [
              0,
              "#0d0887"
             ],
             [
              0.1111111111111111,
              "#46039f"
             ],
             [
              0.2222222222222222,
              "#7201a8"
             ],
             [
              0.3333333333333333,
              "#9c179e"
             ],
             [
              0.4444444444444444,
              "#bd3786"
             ],
             [
              0.5555555555555556,
              "#d8576b"
             ],
             [
              0.6666666666666666,
              "#ed7953"
             ],
             [
              0.7777777777777778,
              "#fb9f3a"
             ],
             [
              0.8888888888888888,
              "#fdca26"
             ],
             [
              1,
              "#f0f921"
             ]
            ],
            "type": "histogram2dcontour"
           }
          ],
          "mesh3d": [
           {
            "colorbar": {
             "outlinewidth": 0,
             "ticks": ""
            },
            "type": "mesh3d"
           }
          ],
          "parcoords": [
           {
            "line": {
             "colorbar": {
              "outlinewidth": 0,
              "ticks": ""
             }
            },
            "type": "parcoords"
           }
          ],
          "pie": [
           {
            "automargin": true,
            "type": "pie"
           }
          ],
          "scatter": [
           {
            "marker": {
             "colorbar": {
              "outlinewidth": 0,
              "ticks": ""
             }
            },
            "type": "scatter"
           }
          ],
          "scatter3d": [
           {
            "line": {
             "colorbar": {
              "outlinewidth": 0,
              "ticks": ""
             }
            },
            "marker": {
             "colorbar": {
              "outlinewidth": 0,
              "ticks": ""
             }
            },
            "type": "scatter3d"
           }
          ],
          "scattercarpet": [
           {
            "marker": {
             "colorbar": {
              "outlinewidth": 0,
              "ticks": ""
             }
            },
            "type": "scattercarpet"
           }
          ],
          "scattergeo": [
           {
            "marker": {
             "colorbar": {
              "outlinewidth": 0,
              "ticks": ""
             }
            },
            "type": "scattergeo"
           }
          ],
          "scattergl": [
           {
            "marker": {
             "colorbar": {
              "outlinewidth": 0,
              "ticks": ""
             }
            },
            "type": "scattergl"
           }
          ],
          "scattermapbox": [
           {
            "marker": {
             "colorbar": {
              "outlinewidth": 0,
              "ticks": ""
             }
            },
            "type": "scattermapbox"
           }
          ],
          "scatterpolar": [
           {
            "marker": {
             "colorbar": {
              "outlinewidth": 0,
              "ticks": ""
             }
            },
            "type": "scatterpolar"
           }
          ],
          "scatterpolargl": [
           {
            "marker": {
             "colorbar": {
              "outlinewidth": 0,
              "ticks": ""
             }
            },
            "type": "scatterpolargl"
           }
          ],
          "scatterternary": [
           {
            "marker": {
             "colorbar": {
              "outlinewidth": 0,
              "ticks": ""
             }
            },
            "type": "scatterternary"
           }
          ],
          "surface": [
           {
            "colorbar": {
             "outlinewidth": 0,
             "ticks": ""
            },
            "colorscale": [
             [
              0,
              "#0d0887"
             ],
             [
              0.1111111111111111,
              "#46039f"
             ],
             [
              0.2222222222222222,
              "#7201a8"
             ],
             [
              0.3333333333333333,
              "#9c179e"
             ],
             [
              0.4444444444444444,
              "#bd3786"
             ],
             [
              0.5555555555555556,
              "#d8576b"
             ],
             [
              0.6666666666666666,
              "#ed7953"
             ],
             [
              0.7777777777777778,
              "#fb9f3a"
             ],
             [
              0.8888888888888888,
              "#fdca26"
             ],
             [
              1,
              "#f0f921"
             ]
            ],
            "type": "surface"
           }
          ],
          "table": [
           {
            "cells": {
             "fill": {
              "color": "#EBF0F8"
             },
             "line": {
              "color": "white"
             }
            },
            "header": {
             "fill": {
              "color": "#C8D4E3"
             },
             "line": {
              "color": "white"
             }
            },
            "type": "table"
           }
          ]
         },
         "layout": {
          "annotationdefaults": {
           "arrowcolor": "#2a3f5f",
           "arrowhead": 0,
           "arrowwidth": 1
          },
          "coloraxis": {
           "colorbar": {
            "outlinewidth": 0,
            "ticks": ""
           }
          },
          "colorscale": {
           "diverging": [
            [
             0,
             "#8e0152"
            ],
            [
             0.1,
             "#c51b7d"
            ],
            [
             0.2,
             "#de77ae"
            ],
            [
             0.3,
             "#f1b6da"
            ],
            [
             0.4,
             "#fde0ef"
            ],
            [
             0.5,
             "#f7f7f7"
            ],
            [
             0.6,
             "#e6f5d0"
            ],
            [
             0.7,
             "#b8e186"
            ],
            [
             0.8,
             "#7fbc41"
            ],
            [
             0.9,
             "#4d9221"
            ],
            [
             1,
             "#276419"
            ]
           ],
           "sequential": [
            [
             0,
             "#0d0887"
            ],
            [
             0.1111111111111111,
             "#46039f"
            ],
            [
             0.2222222222222222,
             "#7201a8"
            ],
            [
             0.3333333333333333,
             "#9c179e"
            ],
            [
             0.4444444444444444,
             "#bd3786"
            ],
            [
             0.5555555555555556,
             "#d8576b"
            ],
            [
             0.6666666666666666,
             "#ed7953"
            ],
            [
             0.7777777777777778,
             "#fb9f3a"
            ],
            [
             0.8888888888888888,
             "#fdca26"
            ],
            [
             1,
             "#f0f921"
            ]
           ],
           "sequentialminus": [
            [
             0,
             "#0d0887"
            ],
            [
             0.1111111111111111,
             "#46039f"
            ],
            [
             0.2222222222222222,
             "#7201a8"
            ],
            [
             0.3333333333333333,
             "#9c179e"
            ],
            [
             0.4444444444444444,
             "#bd3786"
            ],
            [
             0.5555555555555556,
             "#d8576b"
            ],
            [
             0.6666666666666666,
             "#ed7953"
            ],
            [
             0.7777777777777778,
             "#fb9f3a"
            ],
            [
             0.8888888888888888,
             "#fdca26"
            ],
            [
             1,
             "#f0f921"
            ]
           ]
          },
          "colorway": [
           "#636efa",
           "#EF553B",
           "#00cc96",
           "#ab63fa",
           "#FFA15A",
           "#19d3f3",
           "#FF6692",
           "#B6E880",
           "#FF97FF",
           "#FECB52"
          ],
          "font": {
           "color": "#2a3f5f"
          },
          "geo": {
           "bgcolor": "white",
           "lakecolor": "white",
           "landcolor": "#E5ECF6",
           "showlakes": true,
           "showland": true,
           "subunitcolor": "white"
          },
          "hoverlabel": {
           "align": "left"
          },
          "hovermode": "closest",
          "mapbox": {
           "style": "light"
          },
          "paper_bgcolor": "white",
          "plot_bgcolor": "#E5ECF6",
          "polar": {
           "angularaxis": {
            "gridcolor": "white",
            "linecolor": "white",
            "ticks": ""
           },
           "bgcolor": "#E5ECF6",
           "radialaxis": {
            "gridcolor": "white",
            "linecolor": "white",
            "ticks": ""
           }
          },
          "scene": {
           "xaxis": {
            "backgroundcolor": "#E5ECF6",
            "gridcolor": "white",
            "gridwidth": 2,
            "linecolor": "white",
            "showbackground": true,
            "ticks": "",
            "zerolinecolor": "white"
           },
           "yaxis": {
            "backgroundcolor": "#E5ECF6",
            "gridcolor": "white",
            "gridwidth": 2,
            "linecolor": "white",
            "showbackground": true,
            "ticks": "",
            "zerolinecolor": "white"
           },
           "zaxis": {
            "backgroundcolor": "#E5ECF6",
            "gridcolor": "white",
            "gridwidth": 2,
            "linecolor": "white",
            "showbackground": true,
            "ticks": "",
            "zerolinecolor": "white"
           }
          },
          "shapedefaults": {
           "line": {
            "color": "#2a3f5f"
           }
          },
          "ternary": {
           "aaxis": {
            "gridcolor": "white",
            "linecolor": "white",
            "ticks": ""
           },
           "baxis": {
            "gridcolor": "white",
            "linecolor": "white",
            "ticks": ""
           },
           "bgcolor": "#E5ECF6",
           "caxis": {
            "gridcolor": "white",
            "linecolor": "white",
            "ticks": ""
           }
          },
          "title": {
           "x": 0.05
          },
          "xaxis": {
           "automargin": true,
           "gridcolor": "white",
           "linecolor": "white",
           "ticks": "",
           "title": {
            "standoff": 15
           },
           "zerolinecolor": "white",
           "zerolinewidth": 2
          },
          "yaxis": {
           "automargin": true,
           "gridcolor": "white",
           "linecolor": "white",
           "ticks": "",
           "title": {
            "standoff": 15
           },
           "zerolinecolor": "white",
           "zerolinewidth": 2
          }
         }
        },
        "title": {
         "text": "Distribution of confirmed cases globally"
        }
       }
      },
      "text/html": [
       "<div>\n",
       "        \n",
       "        \n",
       "            <div id=\"372c7807-5384-45bc-bc4d-be1df58ee6f2\" class=\"plotly-graph-div\" style=\"height:525px; width:100%;\"></div>\n",
       "            <script type=\"text/javascript\">\n",
       "                require([\"plotly\"], function(Plotly) {\n",
       "                    window.PLOTLYENV=window.PLOTLYENV || {};\n",
       "                    \n",
       "                if (document.getElementById(\"372c7807-5384-45bc-bc4d-be1df58ee6f2\")) {\n",
       "                    Plotly.newPlot(\n",
       "                        '372c7807-5384-45bc-bc4d-be1df58ee6f2',\n",
       "                        [{\"domain\": {\"x\": [0.0, 1.0], \"y\": [0.0, 1.0]}, \"hoverlabel\": {\"namelength\": 0}, \"hovertemplate\": \"country=%{label}<br>confirmed=%{value}\", \"labels\": [\"Mainland China\", \"South Korea\", \"Italy\", \"Iran\", \"France\", \"Germany\", \"Others\", \"Spain\", \"US\", \"Japan\"], \"legendgroup\": \"\", \"name\": \"\", \"showlegend\": true, \"type\": \"pie\", \"values\": [80652, 7041, 5883, 5823, 949, 804, 757, 500, 488, 461]}],\n",
       "                        {\"legend\": {\"tracegroupgap\": 0}, \"template\": {\"data\": {\"bar\": [{\"error_x\": {\"color\": \"#2a3f5f\"}, \"error_y\": {\"color\": \"#2a3f5f\"}, \"marker\": {\"line\": {\"color\": \"#E5ECF6\", \"width\": 0.5}}, \"type\": \"bar\"}], \"barpolar\": [{\"marker\": {\"line\": {\"color\": \"#E5ECF6\", \"width\": 0.5}}, \"type\": \"barpolar\"}], \"carpet\": [{\"aaxis\": {\"endlinecolor\": \"#2a3f5f\", \"gridcolor\": \"white\", \"linecolor\": \"white\", \"minorgridcolor\": \"white\", \"startlinecolor\": \"#2a3f5f\"}, \"baxis\": {\"endlinecolor\": \"#2a3f5f\", \"gridcolor\": \"white\", \"linecolor\": \"white\", \"minorgridcolor\": \"white\", \"startlinecolor\": \"#2a3f5f\"}, \"type\": \"carpet\"}], \"choropleth\": [{\"colorbar\": {\"outlinewidth\": 0, \"ticks\": \"\"}, \"type\": \"choropleth\"}], \"contour\": [{\"colorbar\": {\"outlinewidth\": 0, \"ticks\": \"\"}, \"colorscale\": [[0.0, \"#0d0887\"], [0.1111111111111111, \"#46039f\"], [0.2222222222222222, \"#7201a8\"], [0.3333333333333333, \"#9c179e\"], [0.4444444444444444, \"#bd3786\"], [0.5555555555555556, \"#d8576b\"], [0.6666666666666666, \"#ed7953\"], [0.7777777777777778, \"#fb9f3a\"], [0.8888888888888888, \"#fdca26\"], [1.0, \"#f0f921\"]], \"type\": \"contour\"}], \"contourcarpet\": [{\"colorbar\": {\"outlinewidth\": 0, \"ticks\": \"\"}, \"type\": \"contourcarpet\"}], \"heatmap\": [{\"colorbar\": {\"outlinewidth\": 0, \"ticks\": \"\"}, \"colorscale\": [[0.0, \"#0d0887\"], [0.1111111111111111, \"#46039f\"], [0.2222222222222222, \"#7201a8\"], [0.3333333333333333, \"#9c179e\"], [0.4444444444444444, \"#bd3786\"], [0.5555555555555556, \"#d8576b\"], [0.6666666666666666, \"#ed7953\"], [0.7777777777777778, \"#fb9f3a\"], [0.8888888888888888, \"#fdca26\"], [1.0, \"#f0f921\"]], \"type\": \"heatmap\"}], \"heatmapgl\": [{\"colorbar\": {\"outlinewidth\": 0, \"ticks\": \"\"}, \"colorscale\": [[0.0, \"#0d0887\"], [0.1111111111111111, \"#46039f\"], [0.2222222222222222, \"#7201a8\"], [0.3333333333333333, \"#9c179e\"], [0.4444444444444444, \"#bd3786\"], [0.5555555555555556, \"#d8576b\"], [0.6666666666666666, \"#ed7953\"], [0.7777777777777778, \"#fb9f3a\"], [0.8888888888888888, \"#fdca26\"], [1.0, \"#f0f921\"]], \"type\": \"heatmapgl\"}], \"histogram\": [{\"marker\": {\"colorbar\": {\"outlinewidth\": 0, \"ticks\": \"\"}}, \"type\": \"histogram\"}], \"histogram2d\": [{\"colorbar\": {\"outlinewidth\": 0, \"ticks\": \"\"}, \"colorscale\": [[0.0, \"#0d0887\"], [0.1111111111111111, \"#46039f\"], [0.2222222222222222, \"#7201a8\"], [0.3333333333333333, \"#9c179e\"], [0.4444444444444444, \"#bd3786\"], [0.5555555555555556, \"#d8576b\"], [0.6666666666666666, \"#ed7953\"], [0.7777777777777778, \"#fb9f3a\"], [0.8888888888888888, \"#fdca26\"], [1.0, \"#f0f921\"]], \"type\": \"histogram2d\"}], \"histogram2dcontour\": [{\"colorbar\": {\"outlinewidth\": 0, \"ticks\": \"\"}, \"colorscale\": [[0.0, \"#0d0887\"], [0.1111111111111111, \"#46039f\"], [0.2222222222222222, \"#7201a8\"], [0.3333333333333333, \"#9c179e\"], [0.4444444444444444, \"#bd3786\"], [0.5555555555555556, \"#d8576b\"], [0.6666666666666666, \"#ed7953\"], [0.7777777777777778, \"#fb9f3a\"], [0.8888888888888888, \"#fdca26\"], [1.0, \"#f0f921\"]], \"type\": \"histogram2dcontour\"}], \"mesh3d\": [{\"colorbar\": {\"outlinewidth\": 0, \"ticks\": \"\"}, \"type\": \"mesh3d\"}], \"parcoords\": [{\"line\": {\"colorbar\": {\"outlinewidth\": 0, \"ticks\": \"\"}}, \"type\": \"parcoords\"}], \"pie\": [{\"automargin\": true, \"type\": \"pie\"}], \"scatter\": [{\"marker\": {\"colorbar\": {\"outlinewidth\": 0, \"ticks\": \"\"}}, \"type\": \"scatter\"}], \"scatter3d\": [{\"line\": {\"colorbar\": {\"outlinewidth\": 0, \"ticks\": \"\"}}, \"marker\": {\"colorbar\": {\"outlinewidth\": 0, \"ticks\": \"\"}}, \"type\": \"scatter3d\"}], \"scattercarpet\": [{\"marker\": {\"colorbar\": {\"outlinewidth\": 0, \"ticks\": \"\"}}, \"type\": \"scattercarpet\"}], \"scattergeo\": [{\"marker\": {\"colorbar\": {\"outlinewidth\": 0, \"ticks\": \"\"}}, \"type\": \"scattergeo\"}], \"scattergl\": [{\"marker\": {\"colorbar\": {\"outlinewidth\": 0, \"ticks\": \"\"}}, \"type\": \"scattergl\"}], \"scattermapbox\": [{\"marker\": {\"colorbar\": {\"outlinewidth\": 0, \"ticks\": \"\"}}, \"type\": \"scattermapbox\"}], \"scatterpolar\": [{\"marker\": {\"colorbar\": {\"outlinewidth\": 0, \"ticks\": \"\"}}, \"type\": \"scatterpolar\"}], \"scatterpolargl\": [{\"marker\": {\"colorbar\": {\"outlinewidth\": 0, \"ticks\": \"\"}}, \"type\": \"scatterpolargl\"}], \"scatterternary\": [{\"marker\": {\"colorbar\": {\"outlinewidth\": 0, \"ticks\": \"\"}}, \"type\": \"scatterternary\"}], \"surface\": [{\"colorbar\": {\"outlinewidth\": 0, \"ticks\": \"\"}, \"colorscale\": [[0.0, \"#0d0887\"], [0.1111111111111111, \"#46039f\"], [0.2222222222222222, \"#7201a8\"], [0.3333333333333333, \"#9c179e\"], [0.4444444444444444, \"#bd3786\"], [0.5555555555555556, \"#d8576b\"], [0.6666666666666666, \"#ed7953\"], [0.7777777777777778, \"#fb9f3a\"], [0.8888888888888888, \"#fdca26\"], [1.0, \"#f0f921\"]], \"type\": \"surface\"}], \"table\": [{\"cells\": {\"fill\": {\"color\": \"#EBF0F8\"}, \"line\": {\"color\": \"white\"}}, \"header\": {\"fill\": {\"color\": \"#C8D4E3\"}, \"line\": {\"color\": \"white\"}}, \"type\": \"table\"}]}, \"layout\": {\"annotationdefaults\": {\"arrowcolor\": \"#2a3f5f\", \"arrowhead\": 0, \"arrowwidth\": 1}, \"coloraxis\": {\"colorbar\": {\"outlinewidth\": 0, \"ticks\": \"\"}}, \"colorscale\": {\"diverging\": [[0, \"#8e0152\"], [0.1, \"#c51b7d\"], [0.2, \"#de77ae\"], [0.3, \"#f1b6da\"], [0.4, \"#fde0ef\"], [0.5, \"#f7f7f7\"], [0.6, \"#e6f5d0\"], [0.7, \"#b8e186\"], [0.8, \"#7fbc41\"], [0.9, \"#4d9221\"], [1, \"#276419\"]], \"sequential\": [[0.0, \"#0d0887\"], [0.1111111111111111, \"#46039f\"], [0.2222222222222222, \"#7201a8\"], [0.3333333333333333, \"#9c179e\"], [0.4444444444444444, \"#bd3786\"], [0.5555555555555556, \"#d8576b\"], [0.6666666666666666, \"#ed7953\"], [0.7777777777777778, \"#fb9f3a\"], [0.8888888888888888, \"#fdca26\"], [1.0, \"#f0f921\"]], \"sequentialminus\": [[0.0, \"#0d0887\"], [0.1111111111111111, \"#46039f\"], [0.2222222222222222, \"#7201a8\"], [0.3333333333333333, \"#9c179e\"], [0.4444444444444444, \"#bd3786\"], [0.5555555555555556, \"#d8576b\"], [0.6666666666666666, \"#ed7953\"], [0.7777777777777778, \"#fb9f3a\"], [0.8888888888888888, \"#fdca26\"], [1.0, \"#f0f921\"]]}, \"colorway\": [\"#636efa\", \"#EF553B\", \"#00cc96\", \"#ab63fa\", \"#FFA15A\", \"#19d3f3\", \"#FF6692\", \"#B6E880\", \"#FF97FF\", \"#FECB52\"], \"font\": {\"color\": \"#2a3f5f\"}, \"geo\": {\"bgcolor\": \"white\", \"lakecolor\": \"white\", \"landcolor\": \"#E5ECF6\", \"showlakes\": true, \"showland\": true, \"subunitcolor\": \"white\"}, \"hoverlabel\": {\"align\": \"left\"}, \"hovermode\": \"closest\", \"mapbox\": {\"style\": \"light\"}, \"paper_bgcolor\": \"white\", \"plot_bgcolor\": \"#E5ECF6\", \"polar\": {\"angularaxis\": {\"gridcolor\": \"white\", \"linecolor\": \"white\", \"ticks\": \"\"}, \"bgcolor\": \"#E5ECF6\", \"radialaxis\": {\"gridcolor\": \"white\", \"linecolor\": \"white\", \"ticks\": \"\"}}, \"scene\": {\"xaxis\": {\"backgroundcolor\": \"#E5ECF6\", \"gridcolor\": \"white\", \"gridwidth\": 2, \"linecolor\": \"white\", \"showbackground\": true, \"ticks\": \"\", \"zerolinecolor\": \"white\"}, \"yaxis\": {\"backgroundcolor\": \"#E5ECF6\", \"gridcolor\": \"white\", \"gridwidth\": 2, \"linecolor\": \"white\", \"showbackground\": true, \"ticks\": \"\", \"zerolinecolor\": \"white\"}, \"zaxis\": {\"backgroundcolor\": \"#E5ECF6\", \"gridcolor\": \"white\", \"gridwidth\": 2, \"linecolor\": \"white\", \"showbackground\": true, \"ticks\": \"\", \"zerolinecolor\": \"white\"}}, \"shapedefaults\": {\"line\": {\"color\": \"#2a3f5f\"}}, \"ternary\": {\"aaxis\": {\"gridcolor\": \"white\", \"linecolor\": \"white\", \"ticks\": \"\"}, \"baxis\": {\"gridcolor\": \"white\", \"linecolor\": \"white\", \"ticks\": \"\"}, \"bgcolor\": \"#E5ECF6\", \"caxis\": {\"gridcolor\": \"white\", \"linecolor\": \"white\", \"ticks\": \"\"}}, \"title\": {\"x\": 0.05}, \"xaxis\": {\"automargin\": true, \"gridcolor\": \"white\", \"linecolor\": \"white\", \"ticks\": \"\", \"title\": {\"standoff\": 15}, \"zerolinecolor\": \"white\", \"zerolinewidth\": 2}, \"yaxis\": {\"automargin\": true, \"gridcolor\": \"white\", \"linecolor\": \"white\", \"ticks\": \"\", \"title\": {\"standoff\": 15}, \"zerolinecolor\": \"white\", \"zerolinewidth\": 2}}}, \"title\": {\"text\": \"Distribution of confirmed cases globally\"}},\n",
       "                        {\"responsive\": true}\n",
       "                    ).then(function(){\n",
       "                            \n",
       "var gd = document.getElementById('372c7807-5384-45bc-bc4d-be1df58ee6f2');\n",
       "var x = new MutationObserver(function (mutations, observer) {{\n",
       "        var display = window.getComputedStyle(gd).display;\n",
       "        if (!display || display === 'none') {{\n",
       "            console.log([gd, 'removed!']);\n",
       "            Plotly.purge(gd);\n",
       "            observer.disconnect();\n",
       "        }}\n",
       "}});\n",
       "\n",
       "// Listen for the removal of the full notebook cells\n",
       "var notebookContainer = gd.closest('#notebook-container');\n",
       "if (notebookContainer) {{\n",
       "    x.observe(notebookContainer, {childList: true});\n",
       "}}\n",
       "\n",
       "// Listen for the clearing of the current output cell\n",
       "var outputEl = gd.closest('.output');\n",
       "if (outputEl) {{\n",
       "    x.observe(outputEl, {childList: true});\n",
       "}}\n",
       "\n",
       "                        })\n",
       "                };\n",
       "                });\n",
       "            </script>\n",
       "        </div>"
      ]
     },
     "metadata": {},
     "output_type": "display_data"
    }
   ],
   "source": [
    "fig = px.pie(data, values='confirmed', names='country', title='Distribution of confirmed cases globally')\n",
    "fig.show()"
   ]
  },
  {
   "cell_type": "markdown",
   "metadata": {},
   "source": [
    "#### Q4. How confirmed and death cases are distributed over worstly effected countries?"
   ]
  },
  {
   "cell_type": "code",
   "execution_count": 33,
   "metadata": {},
   "outputs": [
    {
     "data": {
      "application/vnd.plotly.v1+json": {
       "config": {
        "plotlyServerURL": "https://plot.ly"
       },
       "data": [
        {
         "domain": {
          "x": [
           0,
           0.45
          ],
          "y": [
           0,
           1
          ]
         },
         "hole": 0.4,
         "hoverinfo": "label+percent+name",
         "labels": [
          "Mainland China",
          "South Korea",
          "Italy",
          "Iran",
          "France"
         ],
         "name": "country",
         "type": "pie",
         "values": [
          80652,
          7041,
          5883,
          5823,
          949
         ]
        },
        {
         "domain": {
          "x": [
           0.55,
           1
          ],
          "y": [
           0,
           1
          ]
         },
         "hole": 0.4,
         "hoverinfo": "label+percent+name",
         "labels": [
          "Mainland China",
          "South Korea",
          "Italy",
          "Iran",
          "France"
         ],
         "name": "country",
         "type": "pie",
         "values": [
          3070,
          44,
          233,
          145,
          11
         ]
        }
       ],
       "layout": {
        "annotations": [
         {
          "font": {
           "size": 20
          },
          "showarrow": false,
          "text": "confirm",
          "x": 0.18,
          "y": 0.5
         },
         {
          "font": {
           "size": 20
          },
          "showarrow": false,
          "text": "Deaths",
          "x": 0.82,
          "y": 0.5
         }
        ],
        "template": {
         "data": {
          "bar": [
           {
            "error_x": {
             "color": "#2a3f5f"
            },
            "error_y": {
             "color": "#2a3f5f"
            },
            "marker": {
             "line": {
              "color": "#E5ECF6",
              "width": 0.5
             }
            },
            "type": "bar"
           }
          ],
          "barpolar": [
           {
            "marker": {
             "line": {
              "color": "#E5ECF6",
              "width": 0.5
             }
            },
            "type": "barpolar"
           }
          ],
          "carpet": [
           {
            "aaxis": {
             "endlinecolor": "#2a3f5f",
             "gridcolor": "white",
             "linecolor": "white",
             "minorgridcolor": "white",
             "startlinecolor": "#2a3f5f"
            },
            "baxis": {
             "endlinecolor": "#2a3f5f",
             "gridcolor": "white",
             "linecolor": "white",
             "minorgridcolor": "white",
             "startlinecolor": "#2a3f5f"
            },
            "type": "carpet"
           }
          ],
          "choropleth": [
           {
            "colorbar": {
             "outlinewidth": 0,
             "ticks": ""
            },
            "type": "choropleth"
           }
          ],
          "contour": [
           {
            "colorbar": {
             "outlinewidth": 0,
             "ticks": ""
            },
            "colorscale": [
             [
              0,
              "#0d0887"
             ],
             [
              0.1111111111111111,
              "#46039f"
             ],
             [
              0.2222222222222222,
              "#7201a8"
             ],
             [
              0.3333333333333333,
              "#9c179e"
             ],
             [
              0.4444444444444444,
              "#bd3786"
             ],
             [
              0.5555555555555556,
              "#d8576b"
             ],
             [
              0.6666666666666666,
              "#ed7953"
             ],
             [
              0.7777777777777778,
              "#fb9f3a"
             ],
             [
              0.8888888888888888,
              "#fdca26"
             ],
             [
              1,
              "#f0f921"
             ]
            ],
            "type": "contour"
           }
          ],
          "contourcarpet": [
           {
            "colorbar": {
             "outlinewidth": 0,
             "ticks": ""
            },
            "type": "contourcarpet"
           }
          ],
          "heatmap": [
           {
            "colorbar": {
             "outlinewidth": 0,
             "ticks": ""
            },
            "colorscale": [
             [
              0,
              "#0d0887"
             ],
             [
              0.1111111111111111,
              "#46039f"
             ],
             [
              0.2222222222222222,
              "#7201a8"
             ],
             [
              0.3333333333333333,
              "#9c179e"
             ],
             [
              0.4444444444444444,
              "#bd3786"
             ],
             [
              0.5555555555555556,
              "#d8576b"
             ],
             [
              0.6666666666666666,
              "#ed7953"
             ],
             [
              0.7777777777777778,
              "#fb9f3a"
             ],
             [
              0.8888888888888888,
              "#fdca26"
             ],
             [
              1,
              "#f0f921"
             ]
            ],
            "type": "heatmap"
           }
          ],
          "heatmapgl": [
           {
            "colorbar": {
             "outlinewidth": 0,
             "ticks": ""
            },
            "colorscale": [
             [
              0,
              "#0d0887"
             ],
             [
              0.1111111111111111,
              "#46039f"
             ],
             [
              0.2222222222222222,
              "#7201a8"
             ],
             [
              0.3333333333333333,
              "#9c179e"
             ],
             [
              0.4444444444444444,
              "#bd3786"
             ],
             [
              0.5555555555555556,
              "#d8576b"
             ],
             [
              0.6666666666666666,
              "#ed7953"
             ],
             [
              0.7777777777777778,
              "#fb9f3a"
             ],
             [
              0.8888888888888888,
              "#fdca26"
             ],
             [
              1,
              "#f0f921"
             ]
            ],
            "type": "heatmapgl"
           }
          ],
          "histogram": [
           {
            "marker": {
             "colorbar": {
              "outlinewidth": 0,
              "ticks": ""
             }
            },
            "type": "histogram"
           }
          ],
          "histogram2d": [
           {
            "colorbar": {
             "outlinewidth": 0,
             "ticks": ""
            },
            "colorscale": [
             [
              0,
              "#0d0887"
             ],
             [
              0.1111111111111111,
              "#46039f"
             ],
             [
              0.2222222222222222,
              "#7201a8"
             ],
             [
              0.3333333333333333,
              "#9c179e"
             ],
             [
              0.4444444444444444,
              "#bd3786"
             ],
             [
              0.5555555555555556,
              "#d8576b"
             ],
             [
              0.6666666666666666,
              "#ed7953"
             ],
             [
              0.7777777777777778,
              "#fb9f3a"
             ],
             [
              0.8888888888888888,
              "#fdca26"
             ],
             [
              1,
              "#f0f921"
             ]
            ],
            "type": "histogram2d"
           }
          ],
          "histogram2dcontour": [
           {
            "colorbar": {
             "outlinewidth": 0,
             "ticks": ""
            },
            "colorscale": [
             [
              0,
              "#0d0887"
             ],
             [
              0.1111111111111111,
              "#46039f"
             ],
             [
              0.2222222222222222,
              "#7201a8"
             ],
             [
              0.3333333333333333,
              "#9c179e"
             ],
             [
              0.4444444444444444,
              "#bd3786"
             ],
             [
              0.5555555555555556,
              "#d8576b"
             ],
             [
              0.6666666666666666,
              "#ed7953"
             ],
             [
              0.7777777777777778,
              "#fb9f3a"
             ],
             [
              0.8888888888888888,
              "#fdca26"
             ],
             [
              1,
              "#f0f921"
             ]
            ],
            "type": "histogram2dcontour"
           }
          ],
          "mesh3d": [
           {
            "colorbar": {
             "outlinewidth": 0,
             "ticks": ""
            },
            "type": "mesh3d"
           }
          ],
          "parcoords": [
           {
            "line": {
             "colorbar": {
              "outlinewidth": 0,
              "ticks": ""
             }
            },
            "type": "parcoords"
           }
          ],
          "pie": [
           {
            "automargin": true,
            "type": "pie"
           }
          ],
          "scatter": [
           {
            "marker": {
             "colorbar": {
              "outlinewidth": 0,
              "ticks": ""
             }
            },
            "type": "scatter"
           }
          ],
          "scatter3d": [
           {
            "line": {
             "colorbar": {
              "outlinewidth": 0,
              "ticks": ""
             }
            },
            "marker": {
             "colorbar": {
              "outlinewidth": 0,
              "ticks": ""
             }
            },
            "type": "scatter3d"
           }
          ],
          "scattercarpet": [
           {
            "marker": {
             "colorbar": {
              "outlinewidth": 0,
              "ticks": ""
             }
            },
            "type": "scattercarpet"
           }
          ],
          "scattergeo": [
           {
            "marker": {
             "colorbar": {
              "outlinewidth": 0,
              "ticks": ""
             }
            },
            "type": "scattergeo"
           }
          ],
          "scattergl": [
           {
            "marker": {
             "colorbar": {
              "outlinewidth": 0,
              "ticks": ""
             }
            },
            "type": "scattergl"
           }
          ],
          "scattermapbox": [
           {
            "marker": {
             "colorbar": {
              "outlinewidth": 0,
              "ticks": ""
             }
            },
            "type": "scattermapbox"
           }
          ],
          "scatterpolar": [
           {
            "marker": {
             "colorbar": {
              "outlinewidth": 0,
              "ticks": ""
             }
            },
            "type": "scatterpolar"
           }
          ],
          "scatterpolargl": [
           {
            "marker": {
             "colorbar": {
              "outlinewidth": 0,
              "ticks": ""
             }
            },
            "type": "scatterpolargl"
           }
          ],
          "scatterternary": [
           {
            "marker": {
             "colorbar": {
              "outlinewidth": 0,
              "ticks": ""
             }
            },
            "type": "scatterternary"
           }
          ],
          "surface": [
           {
            "colorbar": {
             "outlinewidth": 0,
             "ticks": ""
            },
            "colorscale": [
             [
              0,
              "#0d0887"
             ],
             [
              0.1111111111111111,
              "#46039f"
             ],
             [
              0.2222222222222222,
              "#7201a8"
             ],
             [
              0.3333333333333333,
              "#9c179e"
             ],
             [
              0.4444444444444444,
              "#bd3786"
             ],
             [
              0.5555555555555556,
              "#d8576b"
             ],
             [
              0.6666666666666666,
              "#ed7953"
             ],
             [
              0.7777777777777778,
              "#fb9f3a"
             ],
             [
              0.8888888888888888,
              "#fdca26"
             ],
             [
              1,
              "#f0f921"
             ]
            ],
            "type": "surface"
           }
          ],
          "table": [
           {
            "cells": {
             "fill": {
              "color": "#EBF0F8"
             },
             "line": {
              "color": "white"
             }
            },
            "header": {
             "fill": {
              "color": "#C8D4E3"
             },
             "line": {
              "color": "white"
             }
            },
            "type": "table"
           }
          ]
         },
         "layout": {
          "annotationdefaults": {
           "arrowcolor": "#2a3f5f",
           "arrowhead": 0,
           "arrowwidth": 1
          },
          "coloraxis": {
           "colorbar": {
            "outlinewidth": 0,
            "ticks": ""
           }
          },
          "colorscale": {
           "diverging": [
            [
             0,
             "#8e0152"
            ],
            [
             0.1,
             "#c51b7d"
            ],
            [
             0.2,
             "#de77ae"
            ],
            [
             0.3,
             "#f1b6da"
            ],
            [
             0.4,
             "#fde0ef"
            ],
            [
             0.5,
             "#f7f7f7"
            ],
            [
             0.6,
             "#e6f5d0"
            ],
            [
             0.7,
             "#b8e186"
            ],
            [
             0.8,
             "#7fbc41"
            ],
            [
             0.9,
             "#4d9221"
            ],
            [
             1,
             "#276419"
            ]
           ],
           "sequential": [
            [
             0,
             "#0d0887"
            ],
            [
             0.1111111111111111,
             "#46039f"
            ],
            [
             0.2222222222222222,
             "#7201a8"
            ],
            [
             0.3333333333333333,
             "#9c179e"
            ],
            [
             0.4444444444444444,
             "#bd3786"
            ],
            [
             0.5555555555555556,
             "#d8576b"
            ],
            [
             0.6666666666666666,
             "#ed7953"
            ],
            [
             0.7777777777777778,
             "#fb9f3a"
            ],
            [
             0.8888888888888888,
             "#fdca26"
            ],
            [
             1,
             "#f0f921"
            ]
           ],
           "sequentialminus": [
            [
             0,
             "#0d0887"
            ],
            [
             0.1111111111111111,
             "#46039f"
            ],
            [
             0.2222222222222222,
             "#7201a8"
            ],
            [
             0.3333333333333333,
             "#9c179e"
            ],
            [
             0.4444444444444444,
             "#bd3786"
            ],
            [
             0.5555555555555556,
             "#d8576b"
            ],
            [
             0.6666666666666666,
             "#ed7953"
            ],
            [
             0.7777777777777778,
             "#fb9f3a"
            ],
            [
             0.8888888888888888,
             "#fdca26"
            ],
            [
             1,
             "#f0f921"
            ]
           ]
          },
          "colorway": [
           "#636efa",
           "#EF553B",
           "#00cc96",
           "#ab63fa",
           "#FFA15A",
           "#19d3f3",
           "#FF6692",
           "#B6E880",
           "#FF97FF",
           "#FECB52"
          ],
          "font": {
           "color": "#2a3f5f"
          },
          "geo": {
           "bgcolor": "white",
           "lakecolor": "white",
           "landcolor": "#E5ECF6",
           "showlakes": true,
           "showland": true,
           "subunitcolor": "white"
          },
          "hoverlabel": {
           "align": "left"
          },
          "hovermode": "closest",
          "mapbox": {
           "style": "light"
          },
          "paper_bgcolor": "white",
          "plot_bgcolor": "#E5ECF6",
          "polar": {
           "angularaxis": {
            "gridcolor": "white",
            "linecolor": "white",
            "ticks": ""
           },
           "bgcolor": "#E5ECF6",
           "radialaxis": {
            "gridcolor": "white",
            "linecolor": "white",
            "ticks": ""
           }
          },
          "scene": {
           "xaxis": {
            "backgroundcolor": "#E5ECF6",
            "gridcolor": "white",
            "gridwidth": 2,
            "linecolor": "white",
            "showbackground": true,
            "ticks": "",
            "zerolinecolor": "white"
           },
           "yaxis": {
            "backgroundcolor": "#E5ECF6",
            "gridcolor": "white",
            "gridwidth": 2,
            "linecolor": "white",
            "showbackground": true,
            "ticks": "",
            "zerolinecolor": "white"
           },
           "zaxis": {
            "backgroundcolor": "#E5ECF6",
            "gridcolor": "white",
            "gridwidth": 2,
            "linecolor": "white",
            "showbackground": true,
            "ticks": "",
            "zerolinecolor": "white"
           }
          },
          "shapedefaults": {
           "line": {
            "color": "#2a3f5f"
           }
          },
          "ternary": {
           "aaxis": {
            "gridcolor": "white",
            "linecolor": "white",
            "ticks": ""
           },
           "baxis": {
            "gridcolor": "white",
            "linecolor": "white",
            "ticks": ""
           },
           "bgcolor": "#E5ECF6",
           "caxis": {
            "gridcolor": "white",
            "linecolor": "white",
            "ticks": ""
           }
          },
          "title": {
           "x": 0.05
          },
          "xaxis": {
           "automargin": true,
           "gridcolor": "white",
           "linecolor": "white",
           "ticks": "",
           "title": {
            "standoff": 15
           },
           "zerolinecolor": "white",
           "zerolinewidth": 2
          },
          "yaxis": {
           "automargin": true,
           "gridcolor": "white",
           "linecolor": "white",
           "ticks": "",
           "title": {
            "standoff": 15
           },
           "zerolinecolor": "white",
           "zerolinewidth": 2
          }
         }
        },
        "title": {
         "text": "Distribution of confirmed and death cases across worstly hit countries"
        }
       }
      },
      "text/html": [
       "<div>\n",
       "        \n",
       "        \n",
       "            <div id=\"984a2d8a-02cf-44bc-bc05-aac206116ef7\" class=\"plotly-graph-div\" style=\"height:525px; width:100%;\"></div>\n",
       "            <script type=\"text/javascript\">\n",
       "                require([\"plotly\"], function(Plotly) {\n",
       "                    window.PLOTLYENV=window.PLOTLYENV || {};\n",
       "                    \n",
       "                if (document.getElementById(\"984a2d8a-02cf-44bc-bc05-aac206116ef7\")) {\n",
       "                    Plotly.newPlot(\n",
       "                        '984a2d8a-02cf-44bc-bc05-aac206116ef7',\n",
       "                        [{\"domain\": {\"x\": [0.0, 0.45], \"y\": [0.0, 1.0]}, \"hole\": 0.4, \"hoverinfo\": \"label+percent+name\", \"labels\": [\"Mainland China\", \"South Korea\", \"Italy\", \"Iran\", \"France\"], \"name\": \"country\", \"type\": \"pie\", \"values\": [80652, 7041, 5883, 5823, 949]}, {\"domain\": {\"x\": [0.55, 1.0], \"y\": [0.0, 1.0]}, \"hole\": 0.4, \"hoverinfo\": \"label+percent+name\", \"labels\": [\"Mainland China\", \"South Korea\", \"Italy\", \"Iran\", \"France\"], \"name\": \"country\", \"type\": \"pie\", \"values\": [3070, 44, 233, 145, 11]}],\n",
       "                        {\"annotations\": [{\"font\": {\"size\": 20}, \"showarrow\": false, \"text\": \"confirm\", \"x\": 0.18, \"y\": 0.5}, {\"font\": {\"size\": 20}, \"showarrow\": false, \"text\": \"Deaths\", \"x\": 0.82, \"y\": 0.5}], \"template\": {\"data\": {\"bar\": [{\"error_x\": {\"color\": \"#2a3f5f\"}, \"error_y\": {\"color\": \"#2a3f5f\"}, \"marker\": {\"line\": {\"color\": \"#E5ECF6\", \"width\": 0.5}}, \"type\": \"bar\"}], \"barpolar\": [{\"marker\": {\"line\": {\"color\": \"#E5ECF6\", \"width\": 0.5}}, \"type\": \"barpolar\"}], \"carpet\": [{\"aaxis\": {\"endlinecolor\": \"#2a3f5f\", \"gridcolor\": \"white\", \"linecolor\": \"white\", \"minorgridcolor\": \"white\", \"startlinecolor\": \"#2a3f5f\"}, \"baxis\": {\"endlinecolor\": \"#2a3f5f\", \"gridcolor\": \"white\", \"linecolor\": \"white\", \"minorgridcolor\": \"white\", \"startlinecolor\": \"#2a3f5f\"}, \"type\": \"carpet\"}], \"choropleth\": [{\"colorbar\": {\"outlinewidth\": 0, \"ticks\": \"\"}, \"type\": \"choropleth\"}], \"contour\": [{\"colorbar\": {\"outlinewidth\": 0, \"ticks\": \"\"}, \"colorscale\": [[0.0, \"#0d0887\"], [0.1111111111111111, \"#46039f\"], [0.2222222222222222, \"#7201a8\"], [0.3333333333333333, \"#9c179e\"], [0.4444444444444444, \"#bd3786\"], [0.5555555555555556, \"#d8576b\"], [0.6666666666666666, \"#ed7953\"], [0.7777777777777778, \"#fb9f3a\"], [0.8888888888888888, \"#fdca26\"], [1.0, \"#f0f921\"]], \"type\": \"contour\"}], \"contourcarpet\": [{\"colorbar\": {\"outlinewidth\": 0, \"ticks\": \"\"}, \"type\": \"contourcarpet\"}], \"heatmap\": [{\"colorbar\": {\"outlinewidth\": 0, \"ticks\": \"\"}, \"colorscale\": [[0.0, \"#0d0887\"], [0.1111111111111111, \"#46039f\"], [0.2222222222222222, \"#7201a8\"], [0.3333333333333333, \"#9c179e\"], [0.4444444444444444, \"#bd3786\"], [0.5555555555555556, \"#d8576b\"], [0.6666666666666666, \"#ed7953\"], [0.7777777777777778, \"#fb9f3a\"], [0.8888888888888888, \"#fdca26\"], [1.0, \"#f0f921\"]], \"type\": \"heatmap\"}], \"heatmapgl\": [{\"colorbar\": {\"outlinewidth\": 0, \"ticks\": \"\"}, \"colorscale\": [[0.0, \"#0d0887\"], [0.1111111111111111, \"#46039f\"], [0.2222222222222222, \"#7201a8\"], [0.3333333333333333, \"#9c179e\"], [0.4444444444444444, \"#bd3786\"], [0.5555555555555556, \"#d8576b\"], [0.6666666666666666, \"#ed7953\"], [0.7777777777777778, \"#fb9f3a\"], [0.8888888888888888, \"#fdca26\"], [1.0, \"#f0f921\"]], \"type\": \"heatmapgl\"}], \"histogram\": [{\"marker\": {\"colorbar\": {\"outlinewidth\": 0, \"ticks\": \"\"}}, \"type\": \"histogram\"}], \"histogram2d\": [{\"colorbar\": {\"outlinewidth\": 0, \"ticks\": \"\"}, \"colorscale\": [[0.0, \"#0d0887\"], [0.1111111111111111, \"#46039f\"], [0.2222222222222222, \"#7201a8\"], [0.3333333333333333, \"#9c179e\"], [0.4444444444444444, \"#bd3786\"], [0.5555555555555556, \"#d8576b\"], [0.6666666666666666, \"#ed7953\"], [0.7777777777777778, \"#fb9f3a\"], [0.8888888888888888, \"#fdca26\"], [1.0, \"#f0f921\"]], \"type\": \"histogram2d\"}], \"histogram2dcontour\": [{\"colorbar\": {\"outlinewidth\": 0, \"ticks\": \"\"}, \"colorscale\": [[0.0, \"#0d0887\"], [0.1111111111111111, \"#46039f\"], [0.2222222222222222, \"#7201a8\"], [0.3333333333333333, \"#9c179e\"], [0.4444444444444444, \"#bd3786\"], [0.5555555555555556, \"#d8576b\"], [0.6666666666666666, \"#ed7953\"], [0.7777777777777778, \"#fb9f3a\"], [0.8888888888888888, \"#fdca26\"], [1.0, \"#f0f921\"]], \"type\": \"histogram2dcontour\"}], \"mesh3d\": [{\"colorbar\": {\"outlinewidth\": 0, \"ticks\": \"\"}, \"type\": \"mesh3d\"}], \"parcoords\": [{\"line\": {\"colorbar\": {\"outlinewidth\": 0, \"ticks\": \"\"}}, \"type\": \"parcoords\"}], \"pie\": [{\"automargin\": true, \"type\": \"pie\"}], \"scatter\": [{\"marker\": {\"colorbar\": {\"outlinewidth\": 0, \"ticks\": \"\"}}, \"type\": \"scatter\"}], \"scatter3d\": [{\"line\": {\"colorbar\": {\"outlinewidth\": 0, \"ticks\": \"\"}}, \"marker\": {\"colorbar\": {\"outlinewidth\": 0, \"ticks\": \"\"}}, \"type\": \"scatter3d\"}], \"scattercarpet\": [{\"marker\": {\"colorbar\": {\"outlinewidth\": 0, \"ticks\": \"\"}}, \"type\": \"scattercarpet\"}], \"scattergeo\": [{\"marker\": {\"colorbar\": {\"outlinewidth\": 0, \"ticks\": \"\"}}, \"type\": \"scattergeo\"}], \"scattergl\": [{\"marker\": {\"colorbar\": {\"outlinewidth\": 0, \"ticks\": \"\"}}, \"type\": \"scattergl\"}], \"scattermapbox\": [{\"marker\": {\"colorbar\": {\"outlinewidth\": 0, \"ticks\": \"\"}}, \"type\": \"scattermapbox\"}], \"scatterpolar\": [{\"marker\": {\"colorbar\": {\"outlinewidth\": 0, \"ticks\": \"\"}}, \"type\": \"scatterpolar\"}], \"scatterpolargl\": [{\"marker\": {\"colorbar\": {\"outlinewidth\": 0, \"ticks\": \"\"}}, \"type\": \"scatterpolargl\"}], \"scatterternary\": [{\"marker\": {\"colorbar\": {\"outlinewidth\": 0, \"ticks\": \"\"}}, \"type\": \"scatterternary\"}], \"surface\": [{\"colorbar\": {\"outlinewidth\": 0, \"ticks\": \"\"}, \"colorscale\": [[0.0, \"#0d0887\"], [0.1111111111111111, \"#46039f\"], [0.2222222222222222, \"#7201a8\"], [0.3333333333333333, \"#9c179e\"], [0.4444444444444444, \"#bd3786\"], [0.5555555555555556, \"#d8576b\"], [0.6666666666666666, \"#ed7953\"], [0.7777777777777778, \"#fb9f3a\"], [0.8888888888888888, \"#fdca26\"], [1.0, \"#f0f921\"]], \"type\": \"surface\"}], \"table\": [{\"cells\": {\"fill\": {\"color\": \"#EBF0F8\"}, \"line\": {\"color\": \"white\"}}, \"header\": {\"fill\": {\"color\": \"#C8D4E3\"}, \"line\": {\"color\": \"white\"}}, \"type\": \"table\"}]}, \"layout\": {\"annotationdefaults\": {\"arrowcolor\": \"#2a3f5f\", \"arrowhead\": 0, \"arrowwidth\": 1}, \"coloraxis\": {\"colorbar\": {\"outlinewidth\": 0, \"ticks\": \"\"}}, \"colorscale\": {\"diverging\": [[0, \"#8e0152\"], [0.1, \"#c51b7d\"], [0.2, \"#de77ae\"], [0.3, \"#f1b6da\"], [0.4, \"#fde0ef\"], [0.5, \"#f7f7f7\"], [0.6, \"#e6f5d0\"], [0.7, \"#b8e186\"], [0.8, \"#7fbc41\"], [0.9, \"#4d9221\"], [1, \"#276419\"]], \"sequential\": [[0.0, \"#0d0887\"], [0.1111111111111111, \"#46039f\"], [0.2222222222222222, \"#7201a8\"], [0.3333333333333333, \"#9c179e\"], [0.4444444444444444, \"#bd3786\"], [0.5555555555555556, \"#d8576b\"], [0.6666666666666666, \"#ed7953\"], [0.7777777777777778, \"#fb9f3a\"], [0.8888888888888888, \"#fdca26\"], [1.0, \"#f0f921\"]], \"sequentialminus\": [[0.0, \"#0d0887\"], [0.1111111111111111, \"#46039f\"], [0.2222222222222222, \"#7201a8\"], [0.3333333333333333, \"#9c179e\"], [0.4444444444444444, \"#bd3786\"], [0.5555555555555556, \"#d8576b\"], [0.6666666666666666, \"#ed7953\"], [0.7777777777777778, \"#fb9f3a\"], [0.8888888888888888, \"#fdca26\"], [1.0, \"#f0f921\"]]}, \"colorway\": [\"#636efa\", \"#EF553B\", \"#00cc96\", \"#ab63fa\", \"#FFA15A\", \"#19d3f3\", \"#FF6692\", \"#B6E880\", \"#FF97FF\", \"#FECB52\"], \"font\": {\"color\": \"#2a3f5f\"}, \"geo\": {\"bgcolor\": \"white\", \"lakecolor\": \"white\", \"landcolor\": \"#E5ECF6\", \"showlakes\": true, \"showland\": true, \"subunitcolor\": \"white\"}, \"hoverlabel\": {\"align\": \"left\"}, \"hovermode\": \"closest\", \"mapbox\": {\"style\": \"light\"}, \"paper_bgcolor\": \"white\", \"plot_bgcolor\": \"#E5ECF6\", \"polar\": {\"angularaxis\": {\"gridcolor\": \"white\", \"linecolor\": \"white\", \"ticks\": \"\"}, \"bgcolor\": \"#E5ECF6\", \"radialaxis\": {\"gridcolor\": \"white\", \"linecolor\": \"white\", \"ticks\": \"\"}}, \"scene\": {\"xaxis\": {\"backgroundcolor\": \"#E5ECF6\", \"gridcolor\": \"white\", \"gridwidth\": 2, \"linecolor\": \"white\", \"showbackground\": true, \"ticks\": \"\", \"zerolinecolor\": \"white\"}, \"yaxis\": {\"backgroundcolor\": \"#E5ECF6\", \"gridcolor\": \"white\", \"gridwidth\": 2, \"linecolor\": \"white\", \"showbackground\": true, \"ticks\": \"\", \"zerolinecolor\": \"white\"}, \"zaxis\": {\"backgroundcolor\": \"#E5ECF6\", \"gridcolor\": \"white\", \"gridwidth\": 2, \"linecolor\": \"white\", \"showbackground\": true, \"ticks\": \"\", \"zerolinecolor\": \"white\"}}, \"shapedefaults\": {\"line\": {\"color\": \"#2a3f5f\"}}, \"ternary\": {\"aaxis\": {\"gridcolor\": \"white\", \"linecolor\": \"white\", \"ticks\": \"\"}, \"baxis\": {\"gridcolor\": \"white\", \"linecolor\": \"white\", \"ticks\": \"\"}, \"bgcolor\": \"#E5ECF6\", \"caxis\": {\"gridcolor\": \"white\", \"linecolor\": \"white\", \"ticks\": \"\"}}, \"title\": {\"x\": 0.05}, \"xaxis\": {\"automargin\": true, \"gridcolor\": \"white\", \"linecolor\": \"white\", \"ticks\": \"\", \"title\": {\"standoff\": 15}, \"zerolinecolor\": \"white\", \"zerolinewidth\": 2}, \"yaxis\": {\"automargin\": true, \"gridcolor\": \"white\", \"linecolor\": \"white\", \"ticks\": \"\", \"title\": {\"standoff\": 15}, \"zerolinecolor\": \"white\", \"zerolinewidth\": 2}}}, \"title\": {\"text\": \"Distribution of confirmed and death cases across worstly hit countries\"}},\n",
       "                        {\"responsive\": true}\n",
       "                    ).then(function(){\n",
       "                            \n",
       "var gd = document.getElementById('984a2d8a-02cf-44bc-bc05-aac206116ef7');\n",
       "var x = new MutationObserver(function (mutations, observer) {{\n",
       "        var display = window.getComputedStyle(gd).display;\n",
       "        if (!display || display === 'none') {{\n",
       "            console.log([gd, 'removed!']);\n",
       "            Plotly.purge(gd);\n",
       "            observer.disconnect();\n",
       "        }}\n",
       "}});\n",
       "\n",
       "// Listen for the removal of the full notebook cells\n",
       "var notebookContainer = gd.closest('#notebook-container');\n",
       "if (notebookContainer) {{\n",
       "    x.observe(notebookContainer, {childList: true});\n",
       "}}\n",
       "\n",
       "// Listen for the clearing of the current output cell\n",
       "var outputEl = gd.closest('.output');\n",
       "if (outputEl) {{\n",
       "    x.observe(outputEl, {childList: true});\n",
       "}}\n",
       "\n",
       "                        })\n",
       "                };\n",
       "                });\n",
       "            </script>\n",
       "        </div>"
      ]
     },
     "metadata": {},
     "output_type": "display_data"
    }
   ],
   "source": [
    "#https://plot.ly/python/pie-charts/\n",
    "from plotly.subplots import make_subplots\n",
    "data=covid_countrywise.sort_values('confirmed',ascending=False)[0:5]\n",
    "labels=list(data['country'])\n",
    "# Create subplots: use 'domain' type for Pie subplot\n",
    "fig = make_subplots(rows=1, cols=2, specs=[[{'type':'domain'}, {'type':'domain'}]])\n",
    "fig.add_trace(go.Pie(labels=labels, values=list(data['confirmed']), name='country'),\n",
    "              1, 1)\n",
    "fig.add_trace(go.Pie(labels=labels, values=list(data['deaths']), name='country'),\n",
    "              1, 2)\n",
    "\n",
    "# Use `hole` to create a donut-like pie chart\n",
    "fig.update_traces(hole=.4, hoverinfo=\"label+percent+name\")\n",
    "\n",
    "fig.update_layout(\n",
    "    title_text=\"Distribution of confirmed and death cases across worstly hit countries\",\n",
    "    # Add annotations in the center of the donut pies.\n",
    "    annotations=[dict(text='confirm', x=0.18, y=0.5, font_size=20, showarrow=False),\n",
    "                 dict(text='Deaths', x=0.82, y=0.5, font_size=20, showarrow=False)])\n",
    "fig.show()"
   ]
  },
  {
   "cell_type": "markdown",
   "metadata": {},
   "source": [
    "#### Q5.  Which countries have the worst death rates?"
   ]
  },
  {
   "cell_type": "code",
   "execution_count": 34,
   "metadata": {},
   "outputs": [
    {
     "data": {
      "text/html": [
       "<div>\n",
       "<style scoped>\n",
       "    .dataframe tbody tr th:only-of-type {\n",
       "        vertical-align: middle;\n",
       "    }\n",
       "\n",
       "    .dataframe tbody tr th {\n",
       "        vertical-align: top;\n",
       "    }\n",
       "\n",
       "    .dataframe thead th {\n",
       "        text-align: right;\n",
       "    }\n",
       "</style>\n",
       "<table border=\"1\" class=\"dataframe\">\n",
       "  <thead>\n",
       "    <tr style=\"text-align: right;\">\n",
       "      <th></th>\n",
       "      <th>country</th>\n",
       "      <th>confirmed</th>\n",
       "      <th>deaths</th>\n",
       "      <th>recovered</th>\n",
       "      <th>death_rates</th>\n",
       "    </tr>\n",
       "  </thead>\n",
       "  <tbody>\n",
       "    <tr>\n",
       "      <th>53</th>\n",
       "      <td>unconfirmed/Diamond princes Cruise</td>\n",
       "      <td>1</td>\n",
       "      <td>2</td>\n",
       "      <td>21</td>\n",
       "      <td>200.000000</td>\n",
       "    </tr>\n",
       "    <tr>\n",
       "      <th>96</th>\n",
       "      <td>Philippines</td>\n",
       "      <td>6</td>\n",
       "      <td>1</td>\n",
       "      <td>1</td>\n",
       "      <td>16.666667</td>\n",
       "    </tr>\n",
       "    <tr>\n",
       "      <th>37</th>\n",
       "      <td>Iraq</td>\n",
       "      <td>54</td>\n",
       "      <td>4</td>\n",
       "      <td>0</td>\n",
       "      <td>7.407407</td>\n",
       "    </tr>\n",
       "    <tr>\n",
       "      <th>15</th>\n",
       "      <td>San Marino</td>\n",
       "      <td>23</td>\n",
       "      <td>1</td>\n",
       "      <td>0</td>\n",
       "      <td>4.347826</td>\n",
       "    </tr>\n",
       "    <tr>\n",
       "      <th>32</th>\n",
       "      <td>Italy</td>\n",
       "      <td>5883</td>\n",
       "      <td>233</td>\n",
       "      <td>589</td>\n",
       "      <td>3.960564</td>\n",
       "    </tr>\n",
       "  </tbody>\n",
       "</table>\n",
       "</div>"
      ],
      "text/plain": [
       "                               country  confirmed  deaths  recovered  \\\n",
       "53  unconfirmed/Diamond princes Cruise          1       2         21   \n",
       "96                         Philippines          6       1          1   \n",
       "37                                Iraq         54       4          0   \n",
       "15                          San Marino         23       1          0   \n",
       "32                               Italy       5883     233        589   \n",
       "\n",
       "    death_rates  \n",
       "53   200.000000  \n",
       "96    16.666667  \n",
       "37     7.407407  \n",
       "15     4.347826  \n",
       "32     3.960564  "
      ]
     },
     "execution_count": 34,
     "metadata": {},
     "output_type": "execute_result"
    }
   ],
   "source": [
    "data=covid_countrywise.sort_values('confirmed',ascending=False)\n",
    "death_confirm_ratio=((data.deaths)/(data.confirmed))*100\n",
    "data['death_rates']=death_confirm_ratio\n",
    "data.sort_values('death_rates',ascending=False).head(5)"
   ]
  },
  {
   "cell_type": "code",
   "execution_count": 75,
   "metadata": {},
   "outputs": [
    {
     "data": {
      "application/vnd.plotly.v1+json": {
       "config": {
        "plotlyServerURL": "https://plot.ly"
       },
       "data": [
        {
         "alignmentgroup": "True",
         "customdata": [
          [
           "Philippines",
           16.666666666666664
          ]
         ],
         "hoverlabel": {
          "namelength": 0
         },
         "hovertemplate": "country=%{customdata[0]}<br>death_rates=%{customdata[1]}",
         "legendgroup": "country=Philippines",
         "marker": {
          "color": "#636efa"
         },
         "name": "country=Philippines",
         "offsetgroup": "country=Philippines",
         "orientation": "v",
         "showlegend": true,
         "textposition": "auto",
         "type": "bar",
         "x": [
          "Philippines"
         ],
         "xaxis": "x",
         "y": [
          16.666666666666664
         ],
         "yaxis": "y"
        },
        {
         "alignmentgroup": "True",
         "customdata": [
          [
           "Iraq",
           7.4074074074074066
          ]
         ],
         "hoverlabel": {
          "namelength": 0
         },
         "hovertemplate": "country=%{customdata[0]}<br>death_rates=%{customdata[1]}",
         "legendgroup": "country=Iraq",
         "marker": {
          "color": "#EF553B"
         },
         "name": "country=Iraq",
         "offsetgroup": "country=Iraq",
         "orientation": "v",
         "showlegend": true,
         "textposition": "auto",
         "type": "bar",
         "x": [
          "Iraq"
         ],
         "xaxis": "x",
         "y": [
          7.4074074074074066
         ],
         "yaxis": "y"
        },
        {
         "alignmentgroup": "True",
         "customdata": [
          [
           "San Marino",
           4.3478260869565215
          ]
         ],
         "hoverlabel": {
          "namelength": 0
         },
         "hovertemplate": "country=%{customdata[0]}<br>death_rates=%{customdata[1]}",
         "legendgroup": "country=San Marino",
         "marker": {
          "color": "#00cc96"
         },
         "name": "country=San Marino",
         "offsetgroup": "country=San Marino",
         "orientation": "v",
         "showlegend": true,
         "textposition": "auto",
         "type": "bar",
         "x": [
          "San Marino"
         ],
         "xaxis": "x",
         "y": [
          4.3478260869565215
         ],
         "yaxis": "y"
        },
        {
         "alignmentgroup": "True",
         "customdata": [
          [
           "Italy",
           3.960564337922828
          ]
         ],
         "hoverlabel": {
          "namelength": 0
         },
         "hovertemplate": "country=%{customdata[0]}<br>death_rates=%{customdata[1]}",
         "legendgroup": "country=Italy",
         "marker": {
          "color": "#ab63fa"
         },
         "name": "country=Italy",
         "offsetgroup": "country=Italy",
         "orientation": "v",
         "showlegend": true,
         "textposition": "auto",
         "type": "bar",
         "x": [
          "Italy"
         ],
         "xaxis": "x",
         "y": [
          3.960564337922828
         ],
         "yaxis": "y"
        },
        {
         "alignmentgroup": "True",
         "customdata": [
          [
           "Mainland China",
           3.8064772107325298
          ]
         ],
         "hoverlabel": {
          "namelength": 0
         },
         "hovertemplate": "country=%{customdata[0]}<br>death_rates=%{customdata[1]}",
         "legendgroup": "country=Mainland China",
         "marker": {
          "color": "#FFA15A"
         },
         "name": "country=Mainland China",
         "offsetgroup": "country=Mainland China",
         "orientation": "v",
         "showlegend": true,
         "textposition": "auto",
         "type": "bar",
         "x": [
          "Mainland China"
         ],
         "xaxis": "x",
         "y": [
          3.8064772107325298
         ],
         "yaxis": "y"
        },
        {
         "alignmentgroup": "True",
         "customdata": [
          [
           "US",
           3.6885245901639343
          ]
         ],
         "hoverlabel": {
          "namelength": 0
         },
         "hovertemplate": "country=%{customdata[0]}<br>death_rates=%{customdata[1]}",
         "legendgroup": "country=US",
         "marker": {
          "color": "#19d3f3"
         },
         "name": "country=US",
         "offsetgroup": "country=US",
         "orientation": "v",
         "showlegend": true,
         "textposition": "auto",
         "type": "bar",
         "x": [
          "US"
         ],
         "xaxis": "x",
         "y": [
          3.6885245901639343
         ],
         "yaxis": "y"
        },
        {
         "alignmentgroup": "True",
         "customdata": [
          [
           "Australia",
           2.9850746268656714
          ]
         ],
         "hoverlabel": {
          "namelength": 0
         },
         "hovertemplate": "country=%{customdata[0]}<br>death_rates=%{customdata[1]}",
         "legendgroup": "country=Australia",
         "marker": {
          "color": "#FF6692"
         },
         "name": "country=Australia",
         "offsetgroup": "country=Australia",
         "orientation": "v",
         "showlegend": true,
         "textposition": "auto",
         "type": "bar",
         "x": [
          "Australia"
         ],
         "xaxis": "x",
         "y": [
          2.9850746268656714
         ],
         "yaxis": "y"
        },
        {
         "alignmentgroup": "True",
         "customdata": [
          [
           "Iran",
           2.4901253649321657
          ]
         ],
         "hoverlabel": {
          "namelength": 0
         },
         "hovertemplate": "country=%{customdata[0]}<br>death_rates=%{customdata[1]}",
         "legendgroup": "country=Iran",
         "marker": {
          "color": "#B6E880"
         },
         "name": "country=Iran",
         "offsetgroup": "country=Iran",
         "orientation": "v",
         "showlegend": true,
         "textposition": "auto",
         "type": "bar",
         "x": [
          "Iran"
         ],
         "xaxis": "x",
         "y": [
          2.4901253649321657
         ],
         "yaxis": "y"
        },
        {
         "alignmentgroup": "True",
         "customdata": [
          [
           "Taiwan",
           2.2222222222222223
          ]
         ],
         "hoverlabel": {
          "namelength": 0
         },
         "hovertemplate": "country=%{customdata[0]}<br>death_rates=%{customdata[1]}",
         "legendgroup": "country=Taiwan",
         "marker": {
          "color": "#FF97FF"
         },
         "name": "country=Taiwan",
         "offsetgroup": "country=Taiwan",
         "orientation": "v",
         "showlegend": true,
         "textposition": "auto",
         "type": "bar",
         "x": [
          "Taiwan"
         ],
         "xaxis": "x",
         "y": [
          2.2222222222222223
         ],
         "yaxis": "y"
        },
        {
         "alignmentgroup": "True",
         "customdata": [
          [
           "Spain",
           2
          ]
         ],
         "hoverlabel": {
          "namelength": 0
         },
         "hovertemplate": "country=%{customdata[0]}<br>death_rates=%{customdata[1]}",
         "legendgroup": "country=Spain",
         "marker": {
          "color": "#FECB52"
         },
         "name": "country=Spain",
         "offsetgroup": "country=Spain",
         "orientation": "v",
         "showlegend": true,
         "textposition": "auto",
         "type": "bar",
         "x": [
          "Spain"
         ],
         "xaxis": "x",
         "y": [
          2
         ],
         "yaxis": "y"
        }
       ],
       "layout": {
        "barmode": "relative",
        "height": 400,
        "legend": {
         "tracegroupgap": 0
        },
        "template": {
         "data": {
          "bar": [
           {
            "error_x": {
             "color": "#f2f5fa"
            },
            "error_y": {
             "color": "#f2f5fa"
            },
            "marker": {
             "line": {
              "color": "rgb(17,17,17)",
              "width": 0.5
             }
            },
            "type": "bar"
           }
          ],
          "barpolar": [
           {
            "marker": {
             "line": {
              "color": "rgb(17,17,17)",
              "width": 0.5
             }
            },
            "type": "barpolar"
           }
          ],
          "carpet": [
           {
            "aaxis": {
             "endlinecolor": "#A2B1C6",
             "gridcolor": "#506784",
             "linecolor": "#506784",
             "minorgridcolor": "#506784",
             "startlinecolor": "#A2B1C6"
            },
            "baxis": {
             "endlinecolor": "#A2B1C6",
             "gridcolor": "#506784",
             "linecolor": "#506784",
             "minorgridcolor": "#506784",
             "startlinecolor": "#A2B1C6"
            },
            "type": "carpet"
           }
          ],
          "choropleth": [
           {
            "colorbar": {
             "outlinewidth": 0,
             "ticks": ""
            },
            "type": "choropleth"
           }
          ],
          "contour": [
           {
            "colorbar": {
             "outlinewidth": 0,
             "ticks": ""
            },
            "colorscale": [
             [
              0,
              "#0d0887"
             ],
             [
              0.1111111111111111,
              "#46039f"
             ],
             [
              0.2222222222222222,
              "#7201a8"
             ],
             [
              0.3333333333333333,
              "#9c179e"
             ],
             [
              0.4444444444444444,
              "#bd3786"
             ],
             [
              0.5555555555555556,
              "#d8576b"
             ],
             [
              0.6666666666666666,
              "#ed7953"
             ],
             [
              0.7777777777777778,
              "#fb9f3a"
             ],
             [
              0.8888888888888888,
              "#fdca26"
             ],
             [
              1,
              "#f0f921"
             ]
            ],
            "type": "contour"
           }
          ],
          "contourcarpet": [
           {
            "colorbar": {
             "outlinewidth": 0,
             "ticks": ""
            },
            "type": "contourcarpet"
           }
          ],
          "heatmap": [
           {
            "colorbar": {
             "outlinewidth": 0,
             "ticks": ""
            },
            "colorscale": [
             [
              0,
              "#0d0887"
             ],
             [
              0.1111111111111111,
              "#46039f"
             ],
             [
              0.2222222222222222,
              "#7201a8"
             ],
             [
              0.3333333333333333,
              "#9c179e"
             ],
             [
              0.4444444444444444,
              "#bd3786"
             ],
             [
              0.5555555555555556,
              "#d8576b"
             ],
             [
              0.6666666666666666,
              "#ed7953"
             ],
             [
              0.7777777777777778,
              "#fb9f3a"
             ],
             [
              0.8888888888888888,
              "#fdca26"
             ],
             [
              1,
              "#f0f921"
             ]
            ],
            "type": "heatmap"
           }
          ],
          "heatmapgl": [
           {
            "colorbar": {
             "outlinewidth": 0,
             "ticks": ""
            },
            "colorscale": [
             [
              0,
              "#0d0887"
             ],
             [
              0.1111111111111111,
              "#46039f"
             ],
             [
              0.2222222222222222,
              "#7201a8"
             ],
             [
              0.3333333333333333,
              "#9c179e"
             ],
             [
              0.4444444444444444,
              "#bd3786"
             ],
             [
              0.5555555555555556,
              "#d8576b"
             ],
             [
              0.6666666666666666,
              "#ed7953"
             ],
             [
              0.7777777777777778,
              "#fb9f3a"
             ],
             [
              0.8888888888888888,
              "#fdca26"
             ],
             [
              1,
              "#f0f921"
             ]
            ],
            "type": "heatmapgl"
           }
          ],
          "histogram": [
           {
            "marker": {
             "colorbar": {
              "outlinewidth": 0,
              "ticks": ""
             }
            },
            "type": "histogram"
           }
          ],
          "histogram2d": [
           {
            "colorbar": {
             "outlinewidth": 0,
             "ticks": ""
            },
            "colorscale": [
             [
              0,
              "#0d0887"
             ],
             [
              0.1111111111111111,
              "#46039f"
             ],
             [
              0.2222222222222222,
              "#7201a8"
             ],
             [
              0.3333333333333333,
              "#9c179e"
             ],
             [
              0.4444444444444444,
              "#bd3786"
             ],
             [
              0.5555555555555556,
              "#d8576b"
             ],
             [
              0.6666666666666666,
              "#ed7953"
             ],
             [
              0.7777777777777778,
              "#fb9f3a"
             ],
             [
              0.8888888888888888,
              "#fdca26"
             ],
             [
              1,
              "#f0f921"
             ]
            ],
            "type": "histogram2d"
           }
          ],
          "histogram2dcontour": [
           {
            "colorbar": {
             "outlinewidth": 0,
             "ticks": ""
            },
            "colorscale": [
             [
              0,
              "#0d0887"
             ],
             [
              0.1111111111111111,
              "#46039f"
             ],
             [
              0.2222222222222222,
              "#7201a8"
             ],
             [
              0.3333333333333333,
              "#9c179e"
             ],
             [
              0.4444444444444444,
              "#bd3786"
             ],
             [
              0.5555555555555556,
              "#d8576b"
             ],
             [
              0.6666666666666666,
              "#ed7953"
             ],
             [
              0.7777777777777778,
              "#fb9f3a"
             ],
             [
              0.8888888888888888,
              "#fdca26"
             ],
             [
              1,
              "#f0f921"
             ]
            ],
            "type": "histogram2dcontour"
           }
          ],
          "mesh3d": [
           {
            "colorbar": {
             "outlinewidth": 0,
             "ticks": ""
            },
            "type": "mesh3d"
           }
          ],
          "parcoords": [
           {
            "line": {
             "colorbar": {
              "outlinewidth": 0,
              "ticks": ""
             }
            },
            "type": "parcoords"
           }
          ],
          "pie": [
           {
            "automargin": true,
            "type": "pie"
           }
          ],
          "scatter": [
           {
            "marker": {
             "line": {
              "color": "#283442"
             }
            },
            "type": "scatter"
           }
          ],
          "scatter3d": [
           {
            "line": {
             "colorbar": {
              "outlinewidth": 0,
              "ticks": ""
             }
            },
            "marker": {
             "colorbar": {
              "outlinewidth": 0,
              "ticks": ""
             }
            },
            "type": "scatter3d"
           }
          ],
          "scattercarpet": [
           {
            "marker": {
             "colorbar": {
              "outlinewidth": 0,
              "ticks": ""
             }
            },
            "type": "scattercarpet"
           }
          ],
          "scattergeo": [
           {
            "marker": {
             "colorbar": {
              "outlinewidth": 0,
              "ticks": ""
             }
            },
            "type": "scattergeo"
           }
          ],
          "scattergl": [
           {
            "marker": {
             "line": {
              "color": "#283442"
             }
            },
            "type": "scattergl"
           }
          ],
          "scattermapbox": [
           {
            "marker": {
             "colorbar": {
              "outlinewidth": 0,
              "ticks": ""
             }
            },
            "type": "scattermapbox"
           }
          ],
          "scatterpolar": [
           {
            "marker": {
             "colorbar": {
              "outlinewidth": 0,
              "ticks": ""
             }
            },
            "type": "scatterpolar"
           }
          ],
          "scatterpolargl": [
           {
            "marker": {
             "colorbar": {
              "outlinewidth": 0,
              "ticks": ""
             }
            },
            "type": "scatterpolargl"
           }
          ],
          "scatterternary": [
           {
            "marker": {
             "colorbar": {
              "outlinewidth": 0,
              "ticks": ""
             }
            },
            "type": "scatterternary"
           }
          ],
          "surface": [
           {
            "colorbar": {
             "outlinewidth": 0,
             "ticks": ""
            },
            "colorscale": [
             [
              0,
              "#0d0887"
             ],
             [
              0.1111111111111111,
              "#46039f"
             ],
             [
              0.2222222222222222,
              "#7201a8"
             ],
             [
              0.3333333333333333,
              "#9c179e"
             ],
             [
              0.4444444444444444,
              "#bd3786"
             ],
             [
              0.5555555555555556,
              "#d8576b"
             ],
             [
              0.6666666666666666,
              "#ed7953"
             ],
             [
              0.7777777777777778,
              "#fb9f3a"
             ],
             [
              0.8888888888888888,
              "#fdca26"
             ],
             [
              1,
              "#f0f921"
             ]
            ],
            "type": "surface"
           }
          ],
          "table": [
           {
            "cells": {
             "fill": {
              "color": "#506784"
             },
             "line": {
              "color": "rgb(17,17,17)"
             }
            },
            "header": {
             "fill": {
              "color": "#2a3f5f"
             },
             "line": {
              "color": "rgb(17,17,17)"
             }
            },
            "type": "table"
           }
          ]
         },
         "layout": {
          "annotationdefaults": {
           "arrowcolor": "#f2f5fa",
           "arrowhead": 0,
           "arrowwidth": 1
          },
          "coloraxis": {
           "colorbar": {
            "outlinewidth": 0,
            "ticks": ""
           }
          },
          "colorscale": {
           "diverging": [
            [
             0,
             "#8e0152"
            ],
            [
             0.1,
             "#c51b7d"
            ],
            [
             0.2,
             "#de77ae"
            ],
            [
             0.3,
             "#f1b6da"
            ],
            [
             0.4,
             "#fde0ef"
            ],
            [
             0.5,
             "#f7f7f7"
            ],
            [
             0.6,
             "#e6f5d0"
            ],
            [
             0.7,
             "#b8e186"
            ],
            [
             0.8,
             "#7fbc41"
            ],
            [
             0.9,
             "#4d9221"
            ],
            [
             1,
             "#276419"
            ]
           ],
           "sequential": [
            [
             0,
             "#0d0887"
            ],
            [
             0.1111111111111111,
             "#46039f"
            ],
            [
             0.2222222222222222,
             "#7201a8"
            ],
            [
             0.3333333333333333,
             "#9c179e"
            ],
            [
             0.4444444444444444,
             "#bd3786"
            ],
            [
             0.5555555555555556,
             "#d8576b"
            ],
            [
             0.6666666666666666,
             "#ed7953"
            ],
            [
             0.7777777777777778,
             "#fb9f3a"
            ],
            [
             0.8888888888888888,
             "#fdca26"
            ],
            [
             1,
             "#f0f921"
            ]
           ],
           "sequentialminus": [
            [
             0,
             "#0d0887"
            ],
            [
             0.1111111111111111,
             "#46039f"
            ],
            [
             0.2222222222222222,
             "#7201a8"
            ],
            [
             0.3333333333333333,
             "#9c179e"
            ],
            [
             0.4444444444444444,
             "#bd3786"
            ],
            [
             0.5555555555555556,
             "#d8576b"
            ],
            [
             0.6666666666666666,
             "#ed7953"
            ],
            [
             0.7777777777777778,
             "#fb9f3a"
            ],
            [
             0.8888888888888888,
             "#fdca26"
            ],
            [
             1,
             "#f0f921"
            ]
           ]
          },
          "colorway": [
           "#636efa",
           "#EF553B",
           "#00cc96",
           "#ab63fa",
           "#FFA15A",
           "#19d3f3",
           "#FF6692",
           "#B6E880",
           "#FF97FF",
           "#FECB52"
          ],
          "font": {
           "color": "#f2f5fa"
          },
          "geo": {
           "bgcolor": "rgb(17,17,17)",
           "lakecolor": "rgb(17,17,17)",
           "landcolor": "rgb(17,17,17)",
           "showlakes": true,
           "showland": true,
           "subunitcolor": "#506784"
          },
          "hoverlabel": {
           "align": "left"
          },
          "hovermode": "closest",
          "mapbox": {
           "style": "dark"
          },
          "paper_bgcolor": "rgb(17,17,17)",
          "plot_bgcolor": "rgb(17,17,17)",
          "polar": {
           "angularaxis": {
            "gridcolor": "#506784",
            "linecolor": "#506784",
            "ticks": ""
           },
           "bgcolor": "rgb(17,17,17)",
           "radialaxis": {
            "gridcolor": "#506784",
            "linecolor": "#506784",
            "ticks": ""
           }
          },
          "scene": {
           "xaxis": {
            "backgroundcolor": "rgb(17,17,17)",
            "gridcolor": "#506784",
            "gridwidth": 2,
            "linecolor": "#506784",
            "showbackground": true,
            "ticks": "",
            "zerolinecolor": "#C8D4E3"
           },
           "yaxis": {
            "backgroundcolor": "rgb(17,17,17)",
            "gridcolor": "#506784",
            "gridwidth": 2,
            "linecolor": "#506784",
            "showbackground": true,
            "ticks": "",
            "zerolinecolor": "#C8D4E3"
           },
           "zaxis": {
            "backgroundcolor": "rgb(17,17,17)",
            "gridcolor": "#506784",
            "gridwidth": 2,
            "linecolor": "#506784",
            "showbackground": true,
            "ticks": "",
            "zerolinecolor": "#C8D4E3"
           }
          },
          "shapedefaults": {
           "line": {
            "color": "#f2f5fa"
           }
          },
          "sliderdefaults": {
           "bgcolor": "#C8D4E3",
           "bordercolor": "rgb(17,17,17)",
           "borderwidth": 1,
           "tickwidth": 0
          },
          "ternary": {
           "aaxis": {
            "gridcolor": "#506784",
            "linecolor": "#506784",
            "ticks": ""
           },
           "baxis": {
            "gridcolor": "#506784",
            "linecolor": "#506784",
            "ticks": ""
           },
           "bgcolor": "rgb(17,17,17)",
           "caxis": {
            "gridcolor": "#506784",
            "linecolor": "#506784",
            "ticks": ""
           }
          },
          "title": {
           "x": 0.05
          },
          "updatemenudefaults": {
           "bgcolor": "#506784",
           "borderwidth": 0
          },
          "xaxis": {
           "automargin": true,
           "gridcolor": "#283442",
           "linecolor": "#506784",
           "ticks": "",
           "title": {
            "standoff": 15
           },
           "zerolinecolor": "#283442",
           "zerolinewidth": 2
          },
          "yaxis": {
           "automargin": true,
           "gridcolor": "#283442",
           "linecolor": "#506784",
           "ticks": "",
           "title": {
            "standoff": 15
           },
           "zerolinecolor": "#283442",
           "zerolinewidth": 2
          }
         }
        },
        "title": {
         "text": "Countries with worst death rates"
        },
        "xaxis": {
         "anchor": "y",
         "categoryarray": [
          "Philippines",
          "Iraq",
          "San Marino",
          "Italy",
          "Mainland China",
          "US",
          "Australia",
          "Iran",
          "Taiwan",
          "Spain"
         ],
         "categoryorder": "array",
         "domain": [
          0,
          1
         ],
         "title": {
          "text": "country"
         }
        },
        "yaxis": {
         "anchor": "x",
         "domain": [
          0,
          1
         ],
         "title": {
          "text": "death_rates"
         }
        }
       }
      },
      "text/html": [
       "<div>\n",
       "        \n",
       "        \n",
       "            <div id=\"6d43c015-9059-466b-924e-5b50429d0665\" class=\"plotly-graph-div\" style=\"height:400px; width:100%;\"></div>\n",
       "            <script type=\"text/javascript\">\n",
       "                require([\"plotly\"], function(Plotly) {\n",
       "                    window.PLOTLYENV=window.PLOTLYENV || {};\n",
       "                    \n",
       "                if (document.getElementById(\"6d43c015-9059-466b-924e-5b50429d0665\")) {\n",
       "                    Plotly.newPlot(\n",
       "                        '6d43c015-9059-466b-924e-5b50429d0665',\n",
       "                        [{\"alignmentgroup\": \"True\", \"customdata\": [[\"Philippines\", 16.666666666666664]], \"hoverlabel\": {\"namelength\": 0}, \"hovertemplate\": \"country=%{customdata[0]}<br>death_rates=%{customdata[1]}\", \"legendgroup\": \"country=Philippines\", \"marker\": {\"color\": \"#636efa\"}, \"name\": \"country=Philippines\", \"offsetgroup\": \"country=Philippines\", \"orientation\": \"v\", \"showlegend\": true, \"textposition\": \"auto\", \"type\": \"bar\", \"x\": [\"Philippines\"], \"xaxis\": \"x\", \"y\": [16.666666666666664], \"yaxis\": \"y\"}, {\"alignmentgroup\": \"True\", \"customdata\": [[\"Iraq\", 7.4074074074074066]], \"hoverlabel\": {\"namelength\": 0}, \"hovertemplate\": \"country=%{customdata[0]}<br>death_rates=%{customdata[1]}\", \"legendgroup\": \"country=Iraq\", \"marker\": {\"color\": \"#EF553B\"}, \"name\": \"country=Iraq\", \"offsetgroup\": \"country=Iraq\", \"orientation\": \"v\", \"showlegend\": true, \"textposition\": \"auto\", \"type\": \"bar\", \"x\": [\"Iraq\"], \"xaxis\": \"x\", \"y\": [7.4074074074074066], \"yaxis\": \"y\"}, {\"alignmentgroup\": \"True\", \"customdata\": [[\"San Marino\", 4.3478260869565215]], \"hoverlabel\": {\"namelength\": 0}, \"hovertemplate\": \"country=%{customdata[0]}<br>death_rates=%{customdata[1]}\", \"legendgroup\": \"country=San Marino\", \"marker\": {\"color\": \"#00cc96\"}, \"name\": \"country=San Marino\", \"offsetgroup\": \"country=San Marino\", \"orientation\": \"v\", \"showlegend\": true, \"textposition\": \"auto\", \"type\": \"bar\", \"x\": [\"San Marino\"], \"xaxis\": \"x\", \"y\": [4.3478260869565215], \"yaxis\": \"y\"}, {\"alignmentgroup\": \"True\", \"customdata\": [[\"Italy\", 3.960564337922828]], \"hoverlabel\": {\"namelength\": 0}, \"hovertemplate\": \"country=%{customdata[0]}<br>death_rates=%{customdata[1]}\", \"legendgroup\": \"country=Italy\", \"marker\": {\"color\": \"#ab63fa\"}, \"name\": \"country=Italy\", \"offsetgroup\": \"country=Italy\", \"orientation\": \"v\", \"showlegend\": true, \"textposition\": \"auto\", \"type\": \"bar\", \"x\": [\"Italy\"], \"xaxis\": \"x\", \"y\": [3.960564337922828], \"yaxis\": \"y\"}, {\"alignmentgroup\": \"True\", \"customdata\": [[\"Mainland China\", 3.8064772107325298]], \"hoverlabel\": {\"namelength\": 0}, \"hovertemplate\": \"country=%{customdata[0]}<br>death_rates=%{customdata[1]}\", \"legendgroup\": \"country=Mainland China\", \"marker\": {\"color\": \"#FFA15A\"}, \"name\": \"country=Mainland China\", \"offsetgroup\": \"country=Mainland China\", \"orientation\": \"v\", \"showlegend\": true, \"textposition\": \"auto\", \"type\": \"bar\", \"x\": [\"Mainland China\"], \"xaxis\": \"x\", \"y\": [3.8064772107325298], \"yaxis\": \"y\"}, {\"alignmentgroup\": \"True\", \"customdata\": [[\"US\", 3.6885245901639343]], \"hoverlabel\": {\"namelength\": 0}, \"hovertemplate\": \"country=%{customdata[0]}<br>death_rates=%{customdata[1]}\", \"legendgroup\": \"country=US\", \"marker\": {\"color\": \"#19d3f3\"}, \"name\": \"country=US\", \"offsetgroup\": \"country=US\", \"orientation\": \"v\", \"showlegend\": true, \"textposition\": \"auto\", \"type\": \"bar\", \"x\": [\"US\"], \"xaxis\": \"x\", \"y\": [3.6885245901639343], \"yaxis\": \"y\"}, {\"alignmentgroup\": \"True\", \"customdata\": [[\"Australia\", 2.9850746268656714]], \"hoverlabel\": {\"namelength\": 0}, \"hovertemplate\": \"country=%{customdata[0]}<br>death_rates=%{customdata[1]}\", \"legendgroup\": \"country=Australia\", \"marker\": {\"color\": \"#FF6692\"}, \"name\": \"country=Australia\", \"offsetgroup\": \"country=Australia\", \"orientation\": \"v\", \"showlegend\": true, \"textposition\": \"auto\", \"type\": \"bar\", \"x\": [\"Australia\"], \"xaxis\": \"x\", \"y\": [2.9850746268656714], \"yaxis\": \"y\"}, {\"alignmentgroup\": \"True\", \"customdata\": [[\"Iran\", 2.4901253649321657]], \"hoverlabel\": {\"namelength\": 0}, \"hovertemplate\": \"country=%{customdata[0]}<br>death_rates=%{customdata[1]}\", \"legendgroup\": \"country=Iran\", \"marker\": {\"color\": \"#B6E880\"}, \"name\": \"country=Iran\", \"offsetgroup\": \"country=Iran\", \"orientation\": \"v\", \"showlegend\": true, \"textposition\": \"auto\", \"type\": \"bar\", \"x\": [\"Iran\"], \"xaxis\": \"x\", \"y\": [2.4901253649321657], \"yaxis\": \"y\"}, {\"alignmentgroup\": \"True\", \"customdata\": [[\"Taiwan\", 2.2222222222222223]], \"hoverlabel\": {\"namelength\": 0}, \"hovertemplate\": \"country=%{customdata[0]}<br>death_rates=%{customdata[1]}\", \"legendgroup\": \"country=Taiwan\", \"marker\": {\"color\": \"#FF97FF\"}, \"name\": \"country=Taiwan\", \"offsetgroup\": \"country=Taiwan\", \"orientation\": \"v\", \"showlegend\": true, \"textposition\": \"auto\", \"type\": \"bar\", \"x\": [\"Taiwan\"], \"xaxis\": \"x\", \"y\": [2.2222222222222223], \"yaxis\": \"y\"}, {\"alignmentgroup\": \"True\", \"customdata\": [[\"Spain\", 2.0]], \"hoverlabel\": {\"namelength\": 0}, \"hovertemplate\": \"country=%{customdata[0]}<br>death_rates=%{customdata[1]}\", \"legendgroup\": \"country=Spain\", \"marker\": {\"color\": \"#FECB52\"}, \"name\": \"country=Spain\", \"offsetgroup\": \"country=Spain\", \"orientation\": \"v\", \"showlegend\": true, \"textposition\": \"auto\", \"type\": \"bar\", \"x\": [\"Spain\"], \"xaxis\": \"x\", \"y\": [2.0], \"yaxis\": \"y\"}],\n",
       "                        {\"barmode\": \"relative\", \"height\": 400, \"legend\": {\"tracegroupgap\": 0}, \"template\": {\"data\": {\"bar\": [{\"error_x\": {\"color\": \"#f2f5fa\"}, \"error_y\": {\"color\": \"#f2f5fa\"}, \"marker\": {\"line\": {\"color\": \"rgb(17,17,17)\", \"width\": 0.5}}, \"type\": \"bar\"}], \"barpolar\": [{\"marker\": {\"line\": {\"color\": \"rgb(17,17,17)\", \"width\": 0.5}}, \"type\": \"barpolar\"}], \"carpet\": [{\"aaxis\": {\"endlinecolor\": \"#A2B1C6\", \"gridcolor\": \"#506784\", \"linecolor\": \"#506784\", \"minorgridcolor\": \"#506784\", \"startlinecolor\": \"#A2B1C6\"}, \"baxis\": {\"endlinecolor\": \"#A2B1C6\", \"gridcolor\": \"#506784\", \"linecolor\": \"#506784\", \"minorgridcolor\": \"#506784\", \"startlinecolor\": \"#A2B1C6\"}, \"type\": \"carpet\"}], \"choropleth\": [{\"colorbar\": {\"outlinewidth\": 0, \"ticks\": \"\"}, \"type\": \"choropleth\"}], \"contour\": [{\"colorbar\": {\"outlinewidth\": 0, \"ticks\": \"\"}, \"colorscale\": [[0.0, \"#0d0887\"], [0.1111111111111111, \"#46039f\"], [0.2222222222222222, \"#7201a8\"], [0.3333333333333333, \"#9c179e\"], [0.4444444444444444, \"#bd3786\"], [0.5555555555555556, \"#d8576b\"], [0.6666666666666666, \"#ed7953\"], [0.7777777777777778, \"#fb9f3a\"], [0.8888888888888888, \"#fdca26\"], [1.0, \"#f0f921\"]], \"type\": \"contour\"}], \"contourcarpet\": [{\"colorbar\": {\"outlinewidth\": 0, \"ticks\": \"\"}, \"type\": \"contourcarpet\"}], \"heatmap\": [{\"colorbar\": {\"outlinewidth\": 0, \"ticks\": \"\"}, \"colorscale\": [[0.0, \"#0d0887\"], [0.1111111111111111, \"#46039f\"], [0.2222222222222222, \"#7201a8\"], [0.3333333333333333, \"#9c179e\"], [0.4444444444444444, \"#bd3786\"], [0.5555555555555556, \"#d8576b\"], [0.6666666666666666, \"#ed7953\"], [0.7777777777777778, \"#fb9f3a\"], [0.8888888888888888, \"#fdca26\"], [1.0, \"#f0f921\"]], \"type\": \"heatmap\"}], \"heatmapgl\": [{\"colorbar\": {\"outlinewidth\": 0, \"ticks\": \"\"}, \"colorscale\": [[0.0, \"#0d0887\"], [0.1111111111111111, \"#46039f\"], [0.2222222222222222, \"#7201a8\"], [0.3333333333333333, \"#9c179e\"], [0.4444444444444444, \"#bd3786\"], [0.5555555555555556, \"#d8576b\"], [0.6666666666666666, \"#ed7953\"], [0.7777777777777778, \"#fb9f3a\"], [0.8888888888888888, \"#fdca26\"], [1.0, \"#f0f921\"]], \"type\": \"heatmapgl\"}], \"histogram\": [{\"marker\": {\"colorbar\": {\"outlinewidth\": 0, \"ticks\": \"\"}}, \"type\": \"histogram\"}], \"histogram2d\": [{\"colorbar\": {\"outlinewidth\": 0, \"ticks\": \"\"}, \"colorscale\": [[0.0, \"#0d0887\"], [0.1111111111111111, \"#46039f\"], [0.2222222222222222, \"#7201a8\"], [0.3333333333333333, \"#9c179e\"], [0.4444444444444444, \"#bd3786\"], [0.5555555555555556, \"#d8576b\"], [0.6666666666666666, \"#ed7953\"], [0.7777777777777778, \"#fb9f3a\"], [0.8888888888888888, \"#fdca26\"], [1.0, \"#f0f921\"]], \"type\": \"histogram2d\"}], \"histogram2dcontour\": [{\"colorbar\": {\"outlinewidth\": 0, \"ticks\": \"\"}, \"colorscale\": [[0.0, \"#0d0887\"], [0.1111111111111111, \"#46039f\"], [0.2222222222222222, \"#7201a8\"], [0.3333333333333333, \"#9c179e\"], [0.4444444444444444, \"#bd3786\"], [0.5555555555555556, \"#d8576b\"], [0.6666666666666666, \"#ed7953\"], [0.7777777777777778, \"#fb9f3a\"], [0.8888888888888888, \"#fdca26\"], [1.0, \"#f0f921\"]], \"type\": \"histogram2dcontour\"}], \"mesh3d\": [{\"colorbar\": {\"outlinewidth\": 0, \"ticks\": \"\"}, \"type\": \"mesh3d\"}], \"parcoords\": [{\"line\": {\"colorbar\": {\"outlinewidth\": 0, \"ticks\": \"\"}}, \"type\": \"parcoords\"}], \"pie\": [{\"automargin\": true, \"type\": \"pie\"}], \"scatter\": [{\"marker\": {\"line\": {\"color\": \"#283442\"}}, \"type\": \"scatter\"}], \"scatter3d\": [{\"line\": {\"colorbar\": {\"outlinewidth\": 0, \"ticks\": \"\"}}, \"marker\": {\"colorbar\": {\"outlinewidth\": 0, \"ticks\": \"\"}}, \"type\": \"scatter3d\"}], \"scattercarpet\": [{\"marker\": {\"colorbar\": {\"outlinewidth\": 0, \"ticks\": \"\"}}, \"type\": \"scattercarpet\"}], \"scattergeo\": [{\"marker\": {\"colorbar\": {\"outlinewidth\": 0, \"ticks\": \"\"}}, \"type\": \"scattergeo\"}], \"scattergl\": [{\"marker\": {\"line\": {\"color\": \"#283442\"}}, \"type\": \"scattergl\"}], \"scattermapbox\": [{\"marker\": {\"colorbar\": {\"outlinewidth\": 0, \"ticks\": \"\"}}, \"type\": \"scattermapbox\"}], \"scatterpolar\": [{\"marker\": {\"colorbar\": {\"outlinewidth\": 0, \"ticks\": \"\"}}, \"type\": \"scatterpolar\"}], \"scatterpolargl\": [{\"marker\": {\"colorbar\": {\"outlinewidth\": 0, \"ticks\": \"\"}}, \"type\": \"scatterpolargl\"}], \"scatterternary\": [{\"marker\": {\"colorbar\": {\"outlinewidth\": 0, \"ticks\": \"\"}}, \"type\": \"scatterternary\"}], \"surface\": [{\"colorbar\": {\"outlinewidth\": 0, \"ticks\": \"\"}, \"colorscale\": [[0.0, \"#0d0887\"], [0.1111111111111111, \"#46039f\"], [0.2222222222222222, \"#7201a8\"], [0.3333333333333333, \"#9c179e\"], [0.4444444444444444, \"#bd3786\"], [0.5555555555555556, \"#d8576b\"], [0.6666666666666666, \"#ed7953\"], [0.7777777777777778, \"#fb9f3a\"], [0.8888888888888888, \"#fdca26\"], [1.0, \"#f0f921\"]], \"type\": \"surface\"}], \"table\": [{\"cells\": {\"fill\": {\"color\": \"#506784\"}, \"line\": {\"color\": \"rgb(17,17,17)\"}}, \"header\": {\"fill\": {\"color\": \"#2a3f5f\"}, \"line\": {\"color\": \"rgb(17,17,17)\"}}, \"type\": \"table\"}]}, \"layout\": {\"annotationdefaults\": {\"arrowcolor\": \"#f2f5fa\", \"arrowhead\": 0, \"arrowwidth\": 1}, \"coloraxis\": {\"colorbar\": {\"outlinewidth\": 0, \"ticks\": \"\"}}, \"colorscale\": {\"diverging\": [[0, \"#8e0152\"], [0.1, \"#c51b7d\"], [0.2, \"#de77ae\"], [0.3, \"#f1b6da\"], [0.4, \"#fde0ef\"], [0.5, \"#f7f7f7\"], [0.6, \"#e6f5d0\"], [0.7, \"#b8e186\"], [0.8, \"#7fbc41\"], [0.9, \"#4d9221\"], [1, \"#276419\"]], \"sequential\": [[0.0, \"#0d0887\"], [0.1111111111111111, \"#46039f\"], [0.2222222222222222, \"#7201a8\"], [0.3333333333333333, \"#9c179e\"], [0.4444444444444444, \"#bd3786\"], [0.5555555555555556, \"#d8576b\"], [0.6666666666666666, \"#ed7953\"], [0.7777777777777778, \"#fb9f3a\"], [0.8888888888888888, \"#fdca26\"], [1.0, \"#f0f921\"]], \"sequentialminus\": [[0.0, \"#0d0887\"], [0.1111111111111111, \"#46039f\"], [0.2222222222222222, \"#7201a8\"], [0.3333333333333333, \"#9c179e\"], [0.4444444444444444, \"#bd3786\"], [0.5555555555555556, \"#d8576b\"], [0.6666666666666666, \"#ed7953\"], [0.7777777777777778, \"#fb9f3a\"], [0.8888888888888888, \"#fdca26\"], [1.0, \"#f0f921\"]]}, \"colorway\": [\"#636efa\", \"#EF553B\", \"#00cc96\", \"#ab63fa\", \"#FFA15A\", \"#19d3f3\", \"#FF6692\", \"#B6E880\", \"#FF97FF\", \"#FECB52\"], \"font\": {\"color\": \"#f2f5fa\"}, \"geo\": {\"bgcolor\": \"rgb(17,17,17)\", \"lakecolor\": \"rgb(17,17,17)\", \"landcolor\": \"rgb(17,17,17)\", \"showlakes\": true, \"showland\": true, \"subunitcolor\": \"#506784\"}, \"hoverlabel\": {\"align\": \"left\"}, \"hovermode\": \"closest\", \"mapbox\": {\"style\": \"dark\"}, \"paper_bgcolor\": \"rgb(17,17,17)\", \"plot_bgcolor\": \"rgb(17,17,17)\", \"polar\": {\"angularaxis\": {\"gridcolor\": \"#506784\", \"linecolor\": \"#506784\", \"ticks\": \"\"}, \"bgcolor\": \"rgb(17,17,17)\", \"radialaxis\": {\"gridcolor\": \"#506784\", \"linecolor\": \"#506784\", \"ticks\": \"\"}}, \"scene\": {\"xaxis\": {\"backgroundcolor\": \"rgb(17,17,17)\", \"gridcolor\": \"#506784\", \"gridwidth\": 2, \"linecolor\": \"#506784\", \"showbackground\": true, \"ticks\": \"\", \"zerolinecolor\": \"#C8D4E3\"}, \"yaxis\": {\"backgroundcolor\": \"rgb(17,17,17)\", \"gridcolor\": \"#506784\", \"gridwidth\": 2, \"linecolor\": \"#506784\", \"showbackground\": true, \"ticks\": \"\", \"zerolinecolor\": \"#C8D4E3\"}, \"zaxis\": {\"backgroundcolor\": \"rgb(17,17,17)\", \"gridcolor\": \"#506784\", \"gridwidth\": 2, \"linecolor\": \"#506784\", \"showbackground\": true, \"ticks\": \"\", \"zerolinecolor\": \"#C8D4E3\"}}, \"shapedefaults\": {\"line\": {\"color\": \"#f2f5fa\"}}, \"sliderdefaults\": {\"bgcolor\": \"#C8D4E3\", \"bordercolor\": \"rgb(17,17,17)\", \"borderwidth\": 1, \"tickwidth\": 0}, \"ternary\": {\"aaxis\": {\"gridcolor\": \"#506784\", \"linecolor\": \"#506784\", \"ticks\": \"\"}, \"baxis\": {\"gridcolor\": \"#506784\", \"linecolor\": \"#506784\", \"ticks\": \"\"}, \"bgcolor\": \"rgb(17,17,17)\", \"caxis\": {\"gridcolor\": \"#506784\", \"linecolor\": \"#506784\", \"ticks\": \"\"}}, \"title\": {\"x\": 0.05}, \"updatemenudefaults\": {\"bgcolor\": \"#506784\", \"borderwidth\": 0}, \"xaxis\": {\"automargin\": true, \"gridcolor\": \"#283442\", \"linecolor\": \"#506784\", \"ticks\": \"\", \"title\": {\"standoff\": 15}, \"zerolinecolor\": \"#283442\", \"zerolinewidth\": 2}, \"yaxis\": {\"automargin\": true, \"gridcolor\": \"#283442\", \"linecolor\": \"#506784\", \"ticks\": \"\", \"title\": {\"standoff\": 15}, \"zerolinecolor\": \"#283442\", \"zerolinewidth\": 2}}}, \"title\": {\"text\": \"Countries with worst death rates\"}, \"xaxis\": {\"anchor\": \"y\", \"categoryarray\": [\"Philippines\", \"Iraq\", \"San Marino\", \"Italy\", \"Mainland China\", \"US\", \"Australia\", \"Iran\", \"Taiwan\", \"Spain\"], \"categoryorder\": \"array\", \"domain\": [0.0, 1.0], \"title\": {\"text\": \"country\"}}, \"yaxis\": {\"anchor\": \"x\", \"domain\": [0.0, 1.0], \"title\": {\"text\": \"death_rates\"}}},\n",
       "                        {\"responsive\": true}\n",
       "                    ).then(function(){\n",
       "                            \n",
       "var gd = document.getElementById('6d43c015-9059-466b-924e-5b50429d0665');\n",
       "var x = new MutationObserver(function (mutations, observer) {{\n",
       "        var display = window.getComputedStyle(gd).display;\n",
       "        if (!display || display === 'none') {{\n",
       "            console.log([gd, 'removed!']);\n",
       "            Plotly.purge(gd);\n",
       "            observer.disconnect();\n",
       "        }}\n",
       "}});\n",
       "\n",
       "// Listen for the removal of the full notebook cells\n",
       "var notebookContainer = gd.closest('#notebook-container');\n",
       "if (notebookContainer) {{\n",
       "    x.observe(notebookContainer, {childList: true});\n",
       "}}\n",
       "\n",
       "// Listen for the clearing of the current output cell\n",
       "var outputEl = gd.closest('.output');\n",
       "if (outputEl) {{\n",
       "    x.observe(outputEl, {childList: true});\n",
       "}}\n",
       "\n",
       "                        })\n",
       "                };\n",
       "                });\n",
       "            </script>\n",
       "        </div>"
      ]
     },
     "metadata": {},
     "output_type": "display_data"
    }
   ],
   "source": [
    "fig = px.bar(data.sort_values('death_rates',ascending=False).head(10), x='country', y='death_rates',\n",
    "             hover_data=['country','death_rates'], color='country',\n",
    "             labels={'pop':'Confirmed Cases'}, height=400,title='Countries with worst death rates')\n",
    "fig.update_layout(template='plotly_dark')\n",
    "fig.show()"
   ]
  },
  {
   "cell_type": "markdown",
   "metadata": {},
   "source": [
    "#### Q6. Which countries have the best recovery rates?"
   ]
  },
  {
   "cell_type": "code",
   "execution_count": 76,
   "metadata": {},
   "outputs": [
    {
     "data": {
      "text/html": [
       "<div>\n",
       "<style scoped>\n",
       "    .dataframe tbody tr th:only-of-type {\n",
       "        vertical-align: middle;\n",
       "    }\n",
       "\n",
       "    .dataframe tbody tr th {\n",
       "        vertical-align: top;\n",
       "    }\n",
       "\n",
       "    .dataframe thead th {\n",
       "        text-align: right;\n",
       "    }\n",
       "</style>\n",
       "<table border=\"1\" class=\"dataframe\">\n",
       "  <thead>\n",
       "    <tr style=\"text-align: right;\">\n",
       "      <th></th>\n",
       "      <th>country</th>\n",
       "      <th>confirmed</th>\n",
       "      <th>deaths</th>\n",
       "      <th>recovered</th>\n",
       "      <th>recovery_rates</th>\n",
       "    </tr>\n",
       "  </thead>\n",
       "  <tbody>\n",
       "    <tr>\n",
       "      <th>50</th>\n",
       "      <td>Cambodia</td>\n",
       "      <td>1</td>\n",
       "      <td>0</td>\n",
       "      <td>1</td>\n",
       "      <td>100.000000</td>\n",
       "    </tr>\n",
       "    <tr>\n",
       "      <th>35</th>\n",
       "      <td>Macau</td>\n",
       "      <td>10</td>\n",
       "      <td>0</td>\n",
       "      <td>10</td>\n",
       "      <td>100.000000</td>\n",
       "    </tr>\n",
       "    <tr>\n",
       "      <th>19</th>\n",
       "      <td>Nepal</td>\n",
       "      <td>1</td>\n",
       "      <td>0</td>\n",
       "      <td>1</td>\n",
       "      <td>100.000000</td>\n",
       "    </tr>\n",
       "    <tr>\n",
       "      <th>59</th>\n",
       "      <td>Sri Lanka</td>\n",
       "      <td>1</td>\n",
       "      <td>0</td>\n",
       "      <td>1</td>\n",
       "      <td>100.000000</td>\n",
       "    </tr>\n",
       "    <tr>\n",
       "      <th>85</th>\n",
       "      <td>Vietnam</td>\n",
       "      <td>18</td>\n",
       "      <td>0</td>\n",
       "      <td>16</td>\n",
       "      <td>88.888889</td>\n",
       "    </tr>\n",
       "  </tbody>\n",
       "</table>\n",
       "</div>"
      ],
      "text/plain": [
       "      country  confirmed  deaths  recovered  recovery_rates\n",
       "50   Cambodia          1       0          1      100.000000\n",
       "35      Macau         10       0         10      100.000000\n",
       "19      Nepal          1       0          1      100.000000\n",
       "59  Sri Lanka          1       0          1      100.000000\n",
       "85    Vietnam         18       0         16       88.888889"
      ]
     },
     "execution_count": 76,
     "metadata": {},
     "output_type": "execute_result"
    }
   ],
   "source": [
    "data=covid_countrywise.sort_values('confirmed',ascending=False)\n",
    "recovered_confirm_ratio=((data.recovered)/(data.confirmed))*100\n",
    "data['recovery_rates']=recovered_confirm_ratio\n",
    "data.sort_values('recovery_rates',ascending=False).head(5)"
   ]
  },
  {
   "cell_type": "code",
   "execution_count": 80,
   "metadata": {},
   "outputs": [
    {
     "data": {
      "application/vnd.plotly.v1+json": {
       "config": {
        "plotlyServerURL": "https://plot.ly"
       },
       "data": [
        {
         "alignmentgroup": "True",
         "customdata": [
          [
           "Cambodia",
           100
          ]
         ],
         "hoverlabel": {
          "namelength": 0
         },
         "hovertemplate": "country=%{customdata[0]}<br>recovery_rates=%{customdata[1]}",
         "legendgroup": "country=Cambodia",
         "marker": {
          "color": "#636efa"
         },
         "name": "country=Cambodia",
         "offsetgroup": "country=Cambodia",
         "orientation": "v",
         "showlegend": true,
         "textposition": "auto",
         "type": "bar",
         "x": [
          "Cambodia"
         ],
         "xaxis": "x",
         "y": [
          100
         ],
         "yaxis": "y"
        },
        {
         "alignmentgroup": "True",
         "customdata": [
          [
           "Macau",
           100
          ]
         ],
         "hoverlabel": {
          "namelength": 0
         },
         "hovertemplate": "country=%{customdata[0]}<br>recovery_rates=%{customdata[1]}",
         "legendgroup": "country=Macau",
         "marker": {
          "color": "#EF553B"
         },
         "name": "country=Macau",
         "offsetgroup": "country=Macau",
         "orientation": "v",
         "showlegend": true,
         "textposition": "auto",
         "type": "bar",
         "x": [
          "Macau"
         ],
         "xaxis": "x",
         "y": [
          100
         ],
         "yaxis": "y"
        },
        {
         "alignmentgroup": "True",
         "customdata": [
          [
           "Nepal",
           100
          ]
         ],
         "hoverlabel": {
          "namelength": 0
         },
         "hovertemplate": "country=%{customdata[0]}<br>recovery_rates=%{customdata[1]}",
         "legendgroup": "country=Nepal",
         "marker": {
          "color": "#00cc96"
         },
         "name": "country=Nepal",
         "offsetgroup": "country=Nepal",
         "orientation": "v",
         "showlegend": true,
         "textposition": "auto",
         "type": "bar",
         "x": [
          "Nepal"
         ],
         "xaxis": "x",
         "y": [
          100
         ],
         "yaxis": "y"
        },
        {
         "alignmentgroup": "True",
         "customdata": [
          [
           "Sri Lanka",
           100
          ]
         ],
         "hoverlabel": {
          "namelength": 0
         },
         "hovertemplate": "country=%{customdata[0]}<br>recovery_rates=%{customdata[1]}",
         "legendgroup": "country=Sri Lanka",
         "marker": {
          "color": "#ab63fa"
         },
         "name": "country=Sri Lanka",
         "offsetgroup": "country=Sri Lanka",
         "orientation": "v",
         "showlegend": true,
         "textposition": "auto",
         "type": "bar",
         "x": [
          "Sri Lanka"
         ],
         "xaxis": "x",
         "y": [
          100
         ],
         "yaxis": "y"
        },
        {
         "alignmentgroup": "True",
         "customdata": [
          [
           "Vietnam",
           88.88888888888889
          ]
         ],
         "hoverlabel": {
          "namelength": 0
         },
         "hovertemplate": "country=%{customdata[0]}<br>recovery_rates=%{customdata[1]}",
         "legendgroup": "country=Vietnam",
         "marker": {
          "color": "#FFA15A"
         },
         "name": "country=Vietnam",
         "offsetgroup": "country=Vietnam",
         "orientation": "v",
         "showlegend": true,
         "textposition": "auto",
         "type": "bar",
         "x": [
          "Vietnam"
         ],
         "xaxis": "x",
         "y": [
          88.88888888888889
         ],
         "yaxis": "y"
        },
        {
         "alignmentgroup": "True",
         "customdata": [
          [
           "Mainland China",
           68.78688687199326
          ]
         ],
         "hoverlabel": {
          "namelength": 0
         },
         "hovertemplate": "country=%{customdata[0]}<br>recovery_rates=%{customdata[1]}",
         "legendgroup": "country=Mainland China",
         "marker": {
          "color": "#19d3f3"
         },
         "name": "country=Mainland China",
         "offsetgroup": "country=Mainland China",
         "orientation": "v",
         "showlegend": true,
         "textposition": "auto",
         "type": "bar",
         "x": [
          "Mainland China"
         ],
         "xaxis": "x",
         "y": [
          68.78688687199326
         ],
         "yaxis": "y"
        },
        {
         "alignmentgroup": "True",
         "customdata": [
          [
           "Thailand",
           62
          ]
         ],
         "hoverlabel": {
          "namelength": 0
         },
         "hovertemplate": "country=%{customdata[0]}<br>recovery_rates=%{customdata[1]}",
         "legendgroup": "country=Thailand",
         "marker": {
          "color": "#FF6692"
         },
         "name": "country=Thailand",
         "offsetgroup": "country=Thailand",
         "orientation": "v",
         "showlegend": true,
         "textposition": "auto",
         "type": "bar",
         "x": [
          "Thailand"
         ],
         "xaxis": "x",
         "y": [
          62
         ],
         "yaxis": "y"
        },
        {
         "alignmentgroup": "True",
         "customdata": [
          [
           "Singapore",
           56.52173913043478
          ]
         ],
         "hoverlabel": {
          "namelength": 0
         },
         "hovertemplate": "country=%{customdata[0]}<br>recovery_rates=%{customdata[1]}",
         "legendgroup": "country=Singapore",
         "marker": {
          "color": "#B6E880"
         },
         "name": "country=Singapore",
         "offsetgroup": "country=Singapore",
         "orientation": "v",
         "showlegend": true,
         "textposition": "auto",
         "type": "bar",
         "x": [
          "Singapore"
         ],
         "xaxis": "x",
         "y": [
          56.52173913043478
         ],
         "yaxis": "y"
        },
        {
         "alignmentgroup": "True",
         "customdata": [
          [
           "Hong Kong",
           47.22222222222222
          ]
         ],
         "hoverlabel": {
          "namelength": 0
         },
         "hovertemplate": "country=%{customdata[0]}<br>recovery_rates=%{customdata[1]}",
         "legendgroup": "country=Hong Kong",
         "marker": {
          "color": "#FF97FF"
         },
         "name": "country=Hong Kong",
         "offsetgroup": "country=Hong Kong",
         "orientation": "v",
         "showlegend": true,
         "textposition": "auto",
         "type": "bar",
         "x": [
          "Hong Kong"
         ],
         "xaxis": "x",
         "y": [
          47.22222222222222
         ],
         "yaxis": "y"
        },
        {
         "alignmentgroup": "True",
         "customdata": [
          [
           "Romania",
           33.33333333333333
          ]
         ],
         "hoverlabel": {
          "namelength": 0
         },
         "hovertemplate": "country=%{customdata[0]}<br>recovery_rates=%{customdata[1]}",
         "legendgroup": "country=Romania",
         "marker": {
          "color": "#FECB52"
         },
         "name": "country=Romania",
         "offsetgroup": "country=Romania",
         "orientation": "v",
         "showlegend": true,
         "textposition": "auto",
         "type": "bar",
         "x": [
          "Romania"
         ],
         "xaxis": "x",
         "y": [
          33.33333333333333
         ],
         "yaxis": "y"
        },
        {
         "alignmentgroup": "True",
         "customdata": [
          [
           "Australia",
           31.343283582089555
          ]
         ],
         "hoverlabel": {
          "namelength": 0
         },
         "hovertemplate": "country=%{customdata[0]}<br>recovery_rates=%{customdata[1]}",
         "legendgroup": "country=Australia",
         "marker": {
          "color": "#636efa"
         },
         "name": "country=Australia",
         "offsetgroup": "country=Australia",
         "orientation": "v",
         "showlegend": true,
         "textposition": "auto",
         "type": "bar",
         "x": [
          "Australia"
         ],
         "xaxis": "x",
         "y": [
          31.343283582089555
         ],
         "yaxis": "y"
        },
        {
         "alignmentgroup": "True",
         "customdata": [
          [
           "Iran",
           28.66220161428817
          ]
         ],
         "hoverlabel": {
          "namelength": 0
         },
         "hovertemplate": "country=%{customdata[0]}<br>recovery_rates=%{customdata[1]}",
         "legendgroup": "country=Iran",
         "marker": {
          "color": "#EF553B"
         },
         "name": "country=Iran",
         "offsetgroup": "country=Iran",
         "orientation": "v",
         "showlegend": true,
         "textposition": "auto",
         "type": "bar",
         "x": [
          "Iran"
         ],
         "xaxis": "x",
         "y": [
          28.66220161428817
         ],
         "yaxis": "y"
        },
        {
         "alignmentgroup": "True",
         "customdata": [
          [
           "Taiwan",
           26.666666666666668
          ]
         ],
         "hoverlabel": {
          "namelength": 0
         },
         "hovertemplate": "country=%{customdata[0]}<br>recovery_rates=%{customdata[1]}",
         "legendgroup": "country=Taiwan",
         "marker": {
          "color": "#00cc96"
         },
         "name": "country=Taiwan",
         "offsetgroup": "country=Taiwan",
         "orientation": "v",
         "showlegend": true,
         "textposition": "auto",
         "type": "bar",
         "x": [
          "Taiwan"
         ],
         "xaxis": "x",
         "y": [
          26.666666666666668
         ],
         "yaxis": "y"
        },
        {
         "alignmentgroup": "True",
         "customdata": [
          [
           "Malaysia",
           24.731182795698924
          ]
         ],
         "hoverlabel": {
          "namelength": 0
         },
         "hovertemplate": "country=%{customdata[0]}<br>recovery_rates=%{customdata[1]}",
         "legendgroup": "country=Malaysia",
         "marker": {
          "color": "#ab63fa"
         },
         "name": "country=Malaysia",
         "offsetgroup": "country=Malaysia",
         "orientation": "v",
         "showlegend": true,
         "textposition": "auto",
         "type": "bar",
         "x": [
          "Malaysia"
         ],
         "xaxis": "x",
         "y": [
          24.731182795698924
         ],
         "yaxis": "y"
        },
        {
         "alignmentgroup": "True",
         "customdata": [
          [
           "Mexico",
           16.666666666666664
          ]
         ],
         "hoverlabel": {
          "namelength": 0
         },
         "hovertemplate": "country=%{customdata[0]}<br>recovery_rates=%{customdata[1]}",
         "legendgroup": "country=Mexico",
         "marker": {
          "color": "#FFA15A"
         },
         "name": "country=Mexico",
         "offsetgroup": "country=Mexico",
         "orientation": "v",
         "showlegend": true,
         "textposition": "auto",
         "type": "bar",
         "x": [
          "Mexico"
         ],
         "xaxis": "x",
         "y": [
          16.666666666666664
         ],
         "yaxis": "y"
        },
        {
         "alignmentgroup": "True",
         "customdata": [
          [
           "Philippines",
           16.666666666666664
          ]
         ],
         "hoverlabel": {
          "namelength": 0
         },
         "hovertemplate": "country=%{customdata[0]}<br>recovery_rates=%{customdata[1]}",
         "legendgroup": "country=Philippines",
         "marker": {
          "color": "#19d3f3"
         },
         "name": "country=Philippines",
         "offsetgroup": "country=Philippines",
         "orientation": "v",
         "showlegend": true,
         "textposition": "auto",
         "type": "bar",
         "x": [
          "Philippines"
         ],
         "xaxis": "x",
         "y": [
          16.666666666666664
         ],
         "yaxis": "y"
        },
        {
         "alignmentgroup": "True",
         "customdata": [
          [
           "Japan",
           16.48590021691974
          ]
         ],
         "hoverlabel": {
          "namelength": 0
         },
         "hovertemplate": "country=%{customdata[0]}<br>recovery_rates=%{customdata[1]}",
         "legendgroup": "country=Japan",
         "marker": {
          "color": "#FF6692"
         },
         "name": "country=Japan",
         "offsetgroup": "country=Japan",
         "orientation": "v",
         "showlegend": true,
         "textposition": "auto",
         "type": "bar",
         "x": [
          "Japan"
         ],
         "xaxis": "x",
         "y": [
          16.48590021691974
         ],
         "yaxis": "y"
        },
        {
         "alignmentgroup": "True",
         "customdata": [
          [
           "United Arab Emirates",
           15.555555555555555
          ]
         ],
         "hoverlabel": {
          "namelength": 0
         },
         "hovertemplate": "country=%{customdata[0]}<br>recovery_rates=%{customdata[1]}",
         "legendgroup": "country=United Arab Emirates",
         "marker": {
          "color": "#B6E880"
         },
         "name": "country=United Arab Emirates",
         "offsetgroup": "country=United Arab Emirates",
         "orientation": "v",
         "showlegend": true,
         "textposition": "auto",
         "type": "bar",
         "x": [
          "United Arab Emirates"
         ],
         "xaxis": "x",
         "y": [
          15.555555555555555
         ],
         "yaxis": "y"
        },
        {
         "alignmentgroup": "True",
         "customdata": [
          [
           "Russia",
           15.384615384615385
          ]
         ],
         "hoverlabel": {
          "namelength": 0
         },
         "hovertemplate": "country=%{customdata[0]}<br>recovery_rates=%{customdata[1]}",
         "legendgroup": "country=Russia",
         "marker": {
          "color": "#FF97FF"
         },
         "name": "country=Russia",
         "offsetgroup": "country=Russia",
         "orientation": "v",
         "showlegend": true,
         "textposition": "auto",
         "type": "bar",
         "x": [
          "Russia"
         ],
         "xaxis": "x",
         "y": [
          15.384615384615385
         ],
         "yaxis": "y"
        },
        {
         "alignmentgroup": "True",
         "customdata": [
          [
           "Canada",
           14.035087719298245
          ]
         ],
         "hoverlabel": {
          "namelength": 0
         },
         "hovertemplate": "country=%{customdata[0]}<br>recovery_rates=%{customdata[1]}",
         "legendgroup": "country=Canada",
         "marker": {
          "color": "#FECB52"
         },
         "name": "country=Canada",
         "offsetgroup": "country=Canada",
         "orientation": "v",
         "showlegend": true,
         "textposition": "auto",
         "type": "bar",
         "x": [
          "Canada"
         ],
         "xaxis": "x",
         "y": [
          14.035087719298245
         ],
         "yaxis": "y"
        }
       ],
       "layout": {
        "barmode": "relative",
        "height": 400,
        "legend": {
         "tracegroupgap": 0
        },
        "template": {
         "data": {
          "bar": [
           {
            "error_x": {
             "color": "#f2f5fa"
            },
            "error_y": {
             "color": "#f2f5fa"
            },
            "marker": {
             "line": {
              "color": "rgb(17,17,17)",
              "width": 0.5
             }
            },
            "type": "bar"
           }
          ],
          "barpolar": [
           {
            "marker": {
             "line": {
              "color": "rgb(17,17,17)",
              "width": 0.5
             }
            },
            "type": "barpolar"
           }
          ],
          "carpet": [
           {
            "aaxis": {
             "endlinecolor": "#A2B1C6",
             "gridcolor": "#506784",
             "linecolor": "#506784",
             "minorgridcolor": "#506784",
             "startlinecolor": "#A2B1C6"
            },
            "baxis": {
             "endlinecolor": "#A2B1C6",
             "gridcolor": "#506784",
             "linecolor": "#506784",
             "minorgridcolor": "#506784",
             "startlinecolor": "#A2B1C6"
            },
            "type": "carpet"
           }
          ],
          "choropleth": [
           {
            "colorbar": {
             "outlinewidth": 0,
             "ticks": ""
            },
            "type": "choropleth"
           }
          ],
          "contour": [
           {
            "colorbar": {
             "outlinewidth": 0,
             "ticks": ""
            },
            "colorscale": [
             [
              0,
              "#0d0887"
             ],
             [
              0.1111111111111111,
              "#46039f"
             ],
             [
              0.2222222222222222,
              "#7201a8"
             ],
             [
              0.3333333333333333,
              "#9c179e"
             ],
             [
              0.4444444444444444,
              "#bd3786"
             ],
             [
              0.5555555555555556,
              "#d8576b"
             ],
             [
              0.6666666666666666,
              "#ed7953"
             ],
             [
              0.7777777777777778,
              "#fb9f3a"
             ],
             [
              0.8888888888888888,
              "#fdca26"
             ],
             [
              1,
              "#f0f921"
             ]
            ],
            "type": "contour"
           }
          ],
          "contourcarpet": [
           {
            "colorbar": {
             "outlinewidth": 0,
             "ticks": ""
            },
            "type": "contourcarpet"
           }
          ],
          "heatmap": [
           {
            "colorbar": {
             "outlinewidth": 0,
             "ticks": ""
            },
            "colorscale": [
             [
              0,
              "#0d0887"
             ],
             [
              0.1111111111111111,
              "#46039f"
             ],
             [
              0.2222222222222222,
              "#7201a8"
             ],
             [
              0.3333333333333333,
              "#9c179e"
             ],
             [
              0.4444444444444444,
              "#bd3786"
             ],
             [
              0.5555555555555556,
              "#d8576b"
             ],
             [
              0.6666666666666666,
              "#ed7953"
             ],
             [
              0.7777777777777778,
              "#fb9f3a"
             ],
             [
              0.8888888888888888,
              "#fdca26"
             ],
             [
              1,
              "#f0f921"
             ]
            ],
            "type": "heatmap"
           }
          ],
          "heatmapgl": [
           {
            "colorbar": {
             "outlinewidth": 0,
             "ticks": ""
            },
            "colorscale": [
             [
              0,
              "#0d0887"
             ],
             [
              0.1111111111111111,
              "#46039f"
             ],
             [
              0.2222222222222222,
              "#7201a8"
             ],
             [
              0.3333333333333333,
              "#9c179e"
             ],
             [
              0.4444444444444444,
              "#bd3786"
             ],
             [
              0.5555555555555556,
              "#d8576b"
             ],
             [
              0.6666666666666666,
              "#ed7953"
             ],
             [
              0.7777777777777778,
              "#fb9f3a"
             ],
             [
              0.8888888888888888,
              "#fdca26"
             ],
             [
              1,
              "#f0f921"
             ]
            ],
            "type": "heatmapgl"
           }
          ],
          "histogram": [
           {
            "marker": {
             "colorbar": {
              "outlinewidth": 0,
              "ticks": ""
             }
            },
            "type": "histogram"
           }
          ],
          "histogram2d": [
           {
            "colorbar": {
             "outlinewidth": 0,
             "ticks": ""
            },
            "colorscale": [
             [
              0,
              "#0d0887"
             ],
             [
              0.1111111111111111,
              "#46039f"
             ],
             [
              0.2222222222222222,
              "#7201a8"
             ],
             [
              0.3333333333333333,
              "#9c179e"
             ],
             [
              0.4444444444444444,
              "#bd3786"
             ],
             [
              0.5555555555555556,
              "#d8576b"
             ],
             [
              0.6666666666666666,
              "#ed7953"
             ],
             [
              0.7777777777777778,
              "#fb9f3a"
             ],
             [
              0.8888888888888888,
              "#fdca26"
             ],
             [
              1,
              "#f0f921"
             ]
            ],
            "type": "histogram2d"
           }
          ],
          "histogram2dcontour": [
           {
            "colorbar": {
             "outlinewidth": 0,
             "ticks": ""
            },
            "colorscale": [
             [
              0,
              "#0d0887"
             ],
             [
              0.1111111111111111,
              "#46039f"
             ],
             [
              0.2222222222222222,
              "#7201a8"
             ],
             [
              0.3333333333333333,
              "#9c179e"
             ],
             [
              0.4444444444444444,
              "#bd3786"
             ],
             [
              0.5555555555555556,
              "#d8576b"
             ],
             [
              0.6666666666666666,
              "#ed7953"
             ],
             [
              0.7777777777777778,
              "#fb9f3a"
             ],
             [
              0.8888888888888888,
              "#fdca26"
             ],
             [
              1,
              "#f0f921"
             ]
            ],
            "type": "histogram2dcontour"
           }
          ],
          "mesh3d": [
           {
            "colorbar": {
             "outlinewidth": 0,
             "ticks": ""
            },
            "type": "mesh3d"
           }
          ],
          "parcoords": [
           {
            "line": {
             "colorbar": {
              "outlinewidth": 0,
              "ticks": ""
             }
            },
            "type": "parcoords"
           }
          ],
          "pie": [
           {
            "automargin": true,
            "type": "pie"
           }
          ],
          "scatter": [
           {
            "marker": {
             "line": {
              "color": "#283442"
             }
            },
            "type": "scatter"
           }
          ],
          "scatter3d": [
           {
            "line": {
             "colorbar": {
              "outlinewidth": 0,
              "ticks": ""
             }
            },
            "marker": {
             "colorbar": {
              "outlinewidth": 0,
              "ticks": ""
             }
            },
            "type": "scatter3d"
           }
          ],
          "scattercarpet": [
           {
            "marker": {
             "colorbar": {
              "outlinewidth": 0,
              "ticks": ""
             }
            },
            "type": "scattercarpet"
           }
          ],
          "scattergeo": [
           {
            "marker": {
             "colorbar": {
              "outlinewidth": 0,
              "ticks": ""
             }
            },
            "type": "scattergeo"
           }
          ],
          "scattergl": [
           {
            "marker": {
             "line": {
              "color": "#283442"
             }
            },
            "type": "scattergl"
           }
          ],
          "scattermapbox": [
           {
            "marker": {
             "colorbar": {
              "outlinewidth": 0,
              "ticks": ""
             }
            },
            "type": "scattermapbox"
           }
          ],
          "scatterpolar": [
           {
            "marker": {
             "colorbar": {
              "outlinewidth": 0,
              "ticks": ""
             }
            },
            "type": "scatterpolar"
           }
          ],
          "scatterpolargl": [
           {
            "marker": {
             "colorbar": {
              "outlinewidth": 0,
              "ticks": ""
             }
            },
            "type": "scatterpolargl"
           }
          ],
          "scatterternary": [
           {
            "marker": {
             "colorbar": {
              "outlinewidth": 0,
              "ticks": ""
             }
            },
            "type": "scatterternary"
           }
          ],
          "surface": [
           {
            "colorbar": {
             "outlinewidth": 0,
             "ticks": ""
            },
            "colorscale": [
             [
              0,
              "#0d0887"
             ],
             [
              0.1111111111111111,
              "#46039f"
             ],
             [
              0.2222222222222222,
              "#7201a8"
             ],
             [
              0.3333333333333333,
              "#9c179e"
             ],
             [
              0.4444444444444444,
              "#bd3786"
             ],
             [
              0.5555555555555556,
              "#d8576b"
             ],
             [
              0.6666666666666666,
              "#ed7953"
             ],
             [
              0.7777777777777778,
              "#fb9f3a"
             ],
             [
              0.8888888888888888,
              "#fdca26"
             ],
             [
              1,
              "#f0f921"
             ]
            ],
            "type": "surface"
           }
          ],
          "table": [
           {
            "cells": {
             "fill": {
              "color": "#506784"
             },
             "line": {
              "color": "rgb(17,17,17)"
             }
            },
            "header": {
             "fill": {
              "color": "#2a3f5f"
             },
             "line": {
              "color": "rgb(17,17,17)"
             }
            },
            "type": "table"
           }
          ]
         },
         "layout": {
          "annotationdefaults": {
           "arrowcolor": "#f2f5fa",
           "arrowhead": 0,
           "arrowwidth": 1
          },
          "coloraxis": {
           "colorbar": {
            "outlinewidth": 0,
            "ticks": ""
           }
          },
          "colorscale": {
           "diverging": [
            [
             0,
             "#8e0152"
            ],
            [
             0.1,
             "#c51b7d"
            ],
            [
             0.2,
             "#de77ae"
            ],
            [
             0.3,
             "#f1b6da"
            ],
            [
             0.4,
             "#fde0ef"
            ],
            [
             0.5,
             "#f7f7f7"
            ],
            [
             0.6,
             "#e6f5d0"
            ],
            [
             0.7,
             "#b8e186"
            ],
            [
             0.8,
             "#7fbc41"
            ],
            [
             0.9,
             "#4d9221"
            ],
            [
             1,
             "#276419"
            ]
           ],
           "sequential": [
            [
             0,
             "#0d0887"
            ],
            [
             0.1111111111111111,
             "#46039f"
            ],
            [
             0.2222222222222222,
             "#7201a8"
            ],
            [
             0.3333333333333333,
             "#9c179e"
            ],
            [
             0.4444444444444444,
             "#bd3786"
            ],
            [
             0.5555555555555556,
             "#d8576b"
            ],
            [
             0.6666666666666666,
             "#ed7953"
            ],
            [
             0.7777777777777778,
             "#fb9f3a"
            ],
            [
             0.8888888888888888,
             "#fdca26"
            ],
            [
             1,
             "#f0f921"
            ]
           ],
           "sequentialminus": [
            [
             0,
             "#0d0887"
            ],
            [
             0.1111111111111111,
             "#46039f"
            ],
            [
             0.2222222222222222,
             "#7201a8"
            ],
            [
             0.3333333333333333,
             "#9c179e"
            ],
            [
             0.4444444444444444,
             "#bd3786"
            ],
            [
             0.5555555555555556,
             "#d8576b"
            ],
            [
             0.6666666666666666,
             "#ed7953"
            ],
            [
             0.7777777777777778,
             "#fb9f3a"
            ],
            [
             0.8888888888888888,
             "#fdca26"
            ],
            [
             1,
             "#f0f921"
            ]
           ]
          },
          "colorway": [
           "#636efa",
           "#EF553B",
           "#00cc96",
           "#ab63fa",
           "#FFA15A",
           "#19d3f3",
           "#FF6692",
           "#B6E880",
           "#FF97FF",
           "#FECB52"
          ],
          "font": {
           "color": "#f2f5fa"
          },
          "geo": {
           "bgcolor": "rgb(17,17,17)",
           "lakecolor": "rgb(17,17,17)",
           "landcolor": "rgb(17,17,17)",
           "showlakes": true,
           "showland": true,
           "subunitcolor": "#506784"
          },
          "hoverlabel": {
           "align": "left"
          },
          "hovermode": "closest",
          "mapbox": {
           "style": "dark"
          },
          "paper_bgcolor": "rgb(17,17,17)",
          "plot_bgcolor": "rgb(17,17,17)",
          "polar": {
           "angularaxis": {
            "gridcolor": "#506784",
            "linecolor": "#506784",
            "ticks": ""
           },
           "bgcolor": "rgb(17,17,17)",
           "radialaxis": {
            "gridcolor": "#506784",
            "linecolor": "#506784",
            "ticks": ""
           }
          },
          "scene": {
           "xaxis": {
            "backgroundcolor": "rgb(17,17,17)",
            "gridcolor": "#506784",
            "gridwidth": 2,
            "linecolor": "#506784",
            "showbackground": true,
            "ticks": "",
            "zerolinecolor": "#C8D4E3"
           },
           "yaxis": {
            "backgroundcolor": "rgb(17,17,17)",
            "gridcolor": "#506784",
            "gridwidth": 2,
            "linecolor": "#506784",
            "showbackground": true,
            "ticks": "",
            "zerolinecolor": "#C8D4E3"
           },
           "zaxis": {
            "backgroundcolor": "rgb(17,17,17)",
            "gridcolor": "#506784",
            "gridwidth": 2,
            "linecolor": "#506784",
            "showbackground": true,
            "ticks": "",
            "zerolinecolor": "#C8D4E3"
           }
          },
          "shapedefaults": {
           "line": {
            "color": "#f2f5fa"
           }
          },
          "sliderdefaults": {
           "bgcolor": "#C8D4E3",
           "bordercolor": "rgb(17,17,17)",
           "borderwidth": 1,
           "tickwidth": 0
          },
          "ternary": {
           "aaxis": {
            "gridcolor": "#506784",
            "linecolor": "#506784",
            "ticks": ""
           },
           "baxis": {
            "gridcolor": "#506784",
            "linecolor": "#506784",
            "ticks": ""
           },
           "bgcolor": "rgb(17,17,17)",
           "caxis": {
            "gridcolor": "#506784",
            "linecolor": "#506784",
            "ticks": ""
           }
          },
          "title": {
           "x": 0.05
          },
          "updatemenudefaults": {
           "bgcolor": "#506784",
           "borderwidth": 0
          },
          "xaxis": {
           "automargin": true,
           "gridcolor": "#283442",
           "linecolor": "#506784",
           "ticks": "",
           "title": {
            "standoff": 15
           },
           "zerolinecolor": "#283442",
           "zerolinewidth": 2
          },
          "yaxis": {
           "automargin": true,
           "gridcolor": "#283442",
           "linecolor": "#506784",
           "ticks": "",
           "title": {
            "standoff": 15
           },
           "zerolinecolor": "#283442",
           "zerolinewidth": 2
          }
         }
        },
        "title": {
         "text": "Countries with best recovery rates"
        },
        "xaxis": {
         "anchor": "y",
         "categoryarray": [
          "Cambodia",
          "Macau",
          "Nepal",
          "Sri Lanka",
          "Vietnam",
          "Mainland China",
          "Thailand",
          "Singapore",
          "Hong Kong",
          "Romania",
          "Australia",
          "Iran",
          "Taiwan",
          "Malaysia",
          "Mexico",
          "Philippines",
          "Japan",
          "United Arab Emirates",
          "Russia",
          "Canada"
         ],
         "categoryorder": "array",
         "domain": [
          0,
          1
         ],
         "title": {
          "text": "country"
         }
        },
        "yaxis": {
         "anchor": "x",
         "domain": [
          0,
          1
         ],
         "title": {
          "text": "recovery_rates"
         }
        }
       }
      },
      "text/html": [
       "<div>\n",
       "        \n",
       "        \n",
       "            <div id=\"4dbc254f-aa95-4d61-bea0-c44fa2f30730\" class=\"plotly-graph-div\" style=\"height:400px; width:100%;\"></div>\n",
       "            <script type=\"text/javascript\">\n",
       "                require([\"plotly\"], function(Plotly) {\n",
       "                    window.PLOTLYENV=window.PLOTLYENV || {};\n",
       "                    \n",
       "                if (document.getElementById(\"4dbc254f-aa95-4d61-bea0-c44fa2f30730\")) {\n",
       "                    Plotly.newPlot(\n",
       "                        '4dbc254f-aa95-4d61-bea0-c44fa2f30730',\n",
       "                        [{\"alignmentgroup\": \"True\", \"customdata\": [[\"Cambodia\", 100.0]], \"hoverlabel\": {\"namelength\": 0}, \"hovertemplate\": \"country=%{customdata[0]}<br>recovery_rates=%{customdata[1]}\", \"legendgroup\": \"country=Cambodia\", \"marker\": {\"color\": \"#636efa\"}, \"name\": \"country=Cambodia\", \"offsetgroup\": \"country=Cambodia\", \"orientation\": \"v\", \"showlegend\": true, \"textposition\": \"auto\", \"type\": \"bar\", \"x\": [\"Cambodia\"], \"xaxis\": \"x\", \"y\": [100.0], \"yaxis\": \"y\"}, {\"alignmentgroup\": \"True\", \"customdata\": [[\"Macau\", 100.0]], \"hoverlabel\": {\"namelength\": 0}, \"hovertemplate\": \"country=%{customdata[0]}<br>recovery_rates=%{customdata[1]}\", \"legendgroup\": \"country=Macau\", \"marker\": {\"color\": \"#EF553B\"}, \"name\": \"country=Macau\", \"offsetgroup\": \"country=Macau\", \"orientation\": \"v\", \"showlegend\": true, \"textposition\": \"auto\", \"type\": \"bar\", \"x\": [\"Macau\"], \"xaxis\": \"x\", \"y\": [100.0], \"yaxis\": \"y\"}, {\"alignmentgroup\": \"True\", \"customdata\": [[\"Nepal\", 100.0]], \"hoverlabel\": {\"namelength\": 0}, \"hovertemplate\": \"country=%{customdata[0]}<br>recovery_rates=%{customdata[1]}\", \"legendgroup\": \"country=Nepal\", \"marker\": {\"color\": \"#00cc96\"}, \"name\": \"country=Nepal\", \"offsetgroup\": \"country=Nepal\", \"orientation\": \"v\", \"showlegend\": true, \"textposition\": \"auto\", \"type\": \"bar\", \"x\": [\"Nepal\"], \"xaxis\": \"x\", \"y\": [100.0], \"yaxis\": \"y\"}, {\"alignmentgroup\": \"True\", \"customdata\": [[\"Sri Lanka\", 100.0]], \"hoverlabel\": {\"namelength\": 0}, \"hovertemplate\": \"country=%{customdata[0]}<br>recovery_rates=%{customdata[1]}\", \"legendgroup\": \"country=Sri Lanka\", \"marker\": {\"color\": \"#ab63fa\"}, \"name\": \"country=Sri Lanka\", \"offsetgroup\": \"country=Sri Lanka\", \"orientation\": \"v\", \"showlegend\": true, \"textposition\": \"auto\", \"type\": \"bar\", \"x\": [\"Sri Lanka\"], \"xaxis\": \"x\", \"y\": [100.0], \"yaxis\": \"y\"}, {\"alignmentgroup\": \"True\", \"customdata\": [[\"Vietnam\", 88.88888888888889]], \"hoverlabel\": {\"namelength\": 0}, \"hovertemplate\": \"country=%{customdata[0]}<br>recovery_rates=%{customdata[1]}\", \"legendgroup\": \"country=Vietnam\", \"marker\": {\"color\": \"#FFA15A\"}, \"name\": \"country=Vietnam\", \"offsetgroup\": \"country=Vietnam\", \"orientation\": \"v\", \"showlegend\": true, \"textposition\": \"auto\", \"type\": \"bar\", \"x\": [\"Vietnam\"], \"xaxis\": \"x\", \"y\": [88.88888888888889], \"yaxis\": \"y\"}, {\"alignmentgroup\": \"True\", \"customdata\": [[\"Mainland China\", 68.78688687199326]], \"hoverlabel\": {\"namelength\": 0}, \"hovertemplate\": \"country=%{customdata[0]}<br>recovery_rates=%{customdata[1]}\", \"legendgroup\": \"country=Mainland China\", \"marker\": {\"color\": \"#19d3f3\"}, \"name\": \"country=Mainland China\", \"offsetgroup\": \"country=Mainland China\", \"orientation\": \"v\", \"showlegend\": true, \"textposition\": \"auto\", \"type\": \"bar\", \"x\": [\"Mainland China\"], \"xaxis\": \"x\", \"y\": [68.78688687199326], \"yaxis\": \"y\"}, {\"alignmentgroup\": \"True\", \"customdata\": [[\"Thailand\", 62.0]], \"hoverlabel\": {\"namelength\": 0}, \"hovertemplate\": \"country=%{customdata[0]}<br>recovery_rates=%{customdata[1]}\", \"legendgroup\": \"country=Thailand\", \"marker\": {\"color\": \"#FF6692\"}, \"name\": \"country=Thailand\", \"offsetgroup\": \"country=Thailand\", \"orientation\": \"v\", \"showlegend\": true, \"textposition\": \"auto\", \"type\": \"bar\", \"x\": [\"Thailand\"], \"xaxis\": \"x\", \"y\": [62.0], \"yaxis\": \"y\"}, {\"alignmentgroup\": \"True\", \"customdata\": [[\"Singapore\", 56.52173913043478]], \"hoverlabel\": {\"namelength\": 0}, \"hovertemplate\": \"country=%{customdata[0]}<br>recovery_rates=%{customdata[1]}\", \"legendgroup\": \"country=Singapore\", \"marker\": {\"color\": \"#B6E880\"}, \"name\": \"country=Singapore\", \"offsetgroup\": \"country=Singapore\", \"orientation\": \"v\", \"showlegend\": true, \"textposition\": \"auto\", \"type\": \"bar\", \"x\": [\"Singapore\"], \"xaxis\": \"x\", \"y\": [56.52173913043478], \"yaxis\": \"y\"}, {\"alignmentgroup\": \"True\", \"customdata\": [[\"Hong Kong\", 47.22222222222222]], \"hoverlabel\": {\"namelength\": 0}, \"hovertemplate\": \"country=%{customdata[0]}<br>recovery_rates=%{customdata[1]}\", \"legendgroup\": \"country=Hong Kong\", \"marker\": {\"color\": \"#FF97FF\"}, \"name\": \"country=Hong Kong\", \"offsetgroup\": \"country=Hong Kong\", \"orientation\": \"v\", \"showlegend\": true, \"textposition\": \"auto\", \"type\": \"bar\", \"x\": [\"Hong Kong\"], \"xaxis\": \"x\", \"y\": [47.22222222222222], \"yaxis\": \"y\"}, {\"alignmentgroup\": \"True\", \"customdata\": [[\"Romania\", 33.33333333333333]], \"hoverlabel\": {\"namelength\": 0}, \"hovertemplate\": \"country=%{customdata[0]}<br>recovery_rates=%{customdata[1]}\", \"legendgroup\": \"country=Romania\", \"marker\": {\"color\": \"#FECB52\"}, \"name\": \"country=Romania\", \"offsetgroup\": \"country=Romania\", \"orientation\": \"v\", \"showlegend\": true, \"textposition\": \"auto\", \"type\": \"bar\", \"x\": [\"Romania\"], \"xaxis\": \"x\", \"y\": [33.33333333333333], \"yaxis\": \"y\"}, {\"alignmentgroup\": \"True\", \"customdata\": [[\"Australia\", 31.343283582089555]], \"hoverlabel\": {\"namelength\": 0}, \"hovertemplate\": \"country=%{customdata[0]}<br>recovery_rates=%{customdata[1]}\", \"legendgroup\": \"country=Australia\", \"marker\": {\"color\": \"#636efa\"}, \"name\": \"country=Australia\", \"offsetgroup\": \"country=Australia\", \"orientation\": \"v\", \"showlegend\": true, \"textposition\": \"auto\", \"type\": \"bar\", \"x\": [\"Australia\"], \"xaxis\": \"x\", \"y\": [31.343283582089555], \"yaxis\": \"y\"}, {\"alignmentgroup\": \"True\", \"customdata\": [[\"Iran\", 28.66220161428817]], \"hoverlabel\": {\"namelength\": 0}, \"hovertemplate\": \"country=%{customdata[0]}<br>recovery_rates=%{customdata[1]}\", \"legendgroup\": \"country=Iran\", \"marker\": {\"color\": \"#EF553B\"}, \"name\": \"country=Iran\", \"offsetgroup\": \"country=Iran\", \"orientation\": \"v\", \"showlegend\": true, \"textposition\": \"auto\", \"type\": \"bar\", \"x\": [\"Iran\"], \"xaxis\": \"x\", \"y\": [28.66220161428817], \"yaxis\": \"y\"}, {\"alignmentgroup\": \"True\", \"customdata\": [[\"Taiwan\", 26.666666666666668]], \"hoverlabel\": {\"namelength\": 0}, \"hovertemplate\": \"country=%{customdata[0]}<br>recovery_rates=%{customdata[1]}\", \"legendgroup\": \"country=Taiwan\", \"marker\": {\"color\": \"#00cc96\"}, \"name\": \"country=Taiwan\", \"offsetgroup\": \"country=Taiwan\", \"orientation\": \"v\", \"showlegend\": true, \"textposition\": \"auto\", \"type\": \"bar\", \"x\": [\"Taiwan\"], \"xaxis\": \"x\", \"y\": [26.666666666666668], \"yaxis\": \"y\"}, {\"alignmentgroup\": \"True\", \"customdata\": [[\"Malaysia\", 24.731182795698924]], \"hoverlabel\": {\"namelength\": 0}, \"hovertemplate\": \"country=%{customdata[0]}<br>recovery_rates=%{customdata[1]}\", \"legendgroup\": \"country=Malaysia\", \"marker\": {\"color\": \"#ab63fa\"}, \"name\": \"country=Malaysia\", \"offsetgroup\": \"country=Malaysia\", \"orientation\": \"v\", \"showlegend\": true, \"textposition\": \"auto\", \"type\": \"bar\", \"x\": [\"Malaysia\"], \"xaxis\": \"x\", \"y\": [24.731182795698924], \"yaxis\": \"y\"}, {\"alignmentgroup\": \"True\", \"customdata\": [[\"Mexico\", 16.666666666666664]], \"hoverlabel\": {\"namelength\": 0}, \"hovertemplate\": \"country=%{customdata[0]}<br>recovery_rates=%{customdata[1]}\", \"legendgroup\": \"country=Mexico\", \"marker\": {\"color\": \"#FFA15A\"}, \"name\": \"country=Mexico\", \"offsetgroup\": \"country=Mexico\", \"orientation\": \"v\", \"showlegend\": true, \"textposition\": \"auto\", \"type\": \"bar\", \"x\": [\"Mexico\"], \"xaxis\": \"x\", \"y\": [16.666666666666664], \"yaxis\": \"y\"}, {\"alignmentgroup\": \"True\", \"customdata\": [[\"Philippines\", 16.666666666666664]], \"hoverlabel\": {\"namelength\": 0}, \"hovertemplate\": \"country=%{customdata[0]}<br>recovery_rates=%{customdata[1]}\", \"legendgroup\": \"country=Philippines\", \"marker\": {\"color\": \"#19d3f3\"}, \"name\": \"country=Philippines\", \"offsetgroup\": \"country=Philippines\", \"orientation\": \"v\", \"showlegend\": true, \"textposition\": \"auto\", \"type\": \"bar\", \"x\": [\"Philippines\"], \"xaxis\": \"x\", \"y\": [16.666666666666664], \"yaxis\": \"y\"}, {\"alignmentgroup\": \"True\", \"customdata\": [[\"Japan\", 16.48590021691974]], \"hoverlabel\": {\"namelength\": 0}, \"hovertemplate\": \"country=%{customdata[0]}<br>recovery_rates=%{customdata[1]}\", \"legendgroup\": \"country=Japan\", \"marker\": {\"color\": \"#FF6692\"}, \"name\": \"country=Japan\", \"offsetgroup\": \"country=Japan\", \"orientation\": \"v\", \"showlegend\": true, \"textposition\": \"auto\", \"type\": \"bar\", \"x\": [\"Japan\"], \"xaxis\": \"x\", \"y\": [16.48590021691974], \"yaxis\": \"y\"}, {\"alignmentgroup\": \"True\", \"customdata\": [[\"United Arab Emirates\", 15.555555555555555]], \"hoverlabel\": {\"namelength\": 0}, \"hovertemplate\": \"country=%{customdata[0]}<br>recovery_rates=%{customdata[1]}\", \"legendgroup\": \"country=United Arab Emirates\", \"marker\": {\"color\": \"#B6E880\"}, \"name\": \"country=United Arab Emirates\", \"offsetgroup\": \"country=United Arab Emirates\", \"orientation\": \"v\", \"showlegend\": true, \"textposition\": \"auto\", \"type\": \"bar\", \"x\": [\"United Arab Emirates\"], \"xaxis\": \"x\", \"y\": [15.555555555555555], \"yaxis\": \"y\"}, {\"alignmentgroup\": \"True\", \"customdata\": [[\"Russia\", 15.384615384615385]], \"hoverlabel\": {\"namelength\": 0}, \"hovertemplate\": \"country=%{customdata[0]}<br>recovery_rates=%{customdata[1]}\", \"legendgroup\": \"country=Russia\", \"marker\": {\"color\": \"#FF97FF\"}, \"name\": \"country=Russia\", \"offsetgroup\": \"country=Russia\", \"orientation\": \"v\", \"showlegend\": true, \"textposition\": \"auto\", \"type\": \"bar\", \"x\": [\"Russia\"], \"xaxis\": \"x\", \"y\": [15.384615384615385], \"yaxis\": \"y\"}, {\"alignmentgroup\": \"True\", \"customdata\": [[\"Canada\", 14.035087719298245]], \"hoverlabel\": {\"namelength\": 0}, \"hovertemplate\": \"country=%{customdata[0]}<br>recovery_rates=%{customdata[1]}\", \"legendgroup\": \"country=Canada\", \"marker\": {\"color\": \"#FECB52\"}, \"name\": \"country=Canada\", \"offsetgroup\": \"country=Canada\", \"orientation\": \"v\", \"showlegend\": true, \"textposition\": \"auto\", \"type\": \"bar\", \"x\": [\"Canada\"], \"xaxis\": \"x\", \"y\": [14.035087719298245], \"yaxis\": \"y\"}],\n",
       "                        {\"barmode\": \"relative\", \"height\": 400, \"legend\": {\"tracegroupgap\": 0}, \"template\": {\"data\": {\"bar\": [{\"error_x\": {\"color\": \"#f2f5fa\"}, \"error_y\": {\"color\": \"#f2f5fa\"}, \"marker\": {\"line\": {\"color\": \"rgb(17,17,17)\", \"width\": 0.5}}, \"type\": \"bar\"}], \"barpolar\": [{\"marker\": {\"line\": {\"color\": \"rgb(17,17,17)\", \"width\": 0.5}}, \"type\": \"barpolar\"}], \"carpet\": [{\"aaxis\": {\"endlinecolor\": \"#A2B1C6\", \"gridcolor\": \"#506784\", \"linecolor\": \"#506784\", \"minorgridcolor\": \"#506784\", \"startlinecolor\": \"#A2B1C6\"}, \"baxis\": {\"endlinecolor\": \"#A2B1C6\", \"gridcolor\": \"#506784\", \"linecolor\": \"#506784\", \"minorgridcolor\": \"#506784\", \"startlinecolor\": \"#A2B1C6\"}, \"type\": \"carpet\"}], \"choropleth\": [{\"colorbar\": {\"outlinewidth\": 0, \"ticks\": \"\"}, \"type\": \"choropleth\"}], \"contour\": [{\"colorbar\": {\"outlinewidth\": 0, \"ticks\": \"\"}, \"colorscale\": [[0.0, \"#0d0887\"], [0.1111111111111111, \"#46039f\"], [0.2222222222222222, \"#7201a8\"], [0.3333333333333333, \"#9c179e\"], [0.4444444444444444, \"#bd3786\"], [0.5555555555555556, \"#d8576b\"], [0.6666666666666666, \"#ed7953\"], [0.7777777777777778, \"#fb9f3a\"], [0.8888888888888888, \"#fdca26\"], [1.0, \"#f0f921\"]], \"type\": \"contour\"}], \"contourcarpet\": [{\"colorbar\": {\"outlinewidth\": 0, \"ticks\": \"\"}, \"type\": \"contourcarpet\"}], \"heatmap\": [{\"colorbar\": {\"outlinewidth\": 0, \"ticks\": \"\"}, \"colorscale\": [[0.0, \"#0d0887\"], [0.1111111111111111, \"#46039f\"], [0.2222222222222222, \"#7201a8\"], [0.3333333333333333, \"#9c179e\"], [0.4444444444444444, \"#bd3786\"], [0.5555555555555556, \"#d8576b\"], [0.6666666666666666, \"#ed7953\"], [0.7777777777777778, \"#fb9f3a\"], [0.8888888888888888, \"#fdca26\"], [1.0, \"#f0f921\"]], \"type\": \"heatmap\"}], \"heatmapgl\": [{\"colorbar\": {\"outlinewidth\": 0, \"ticks\": \"\"}, \"colorscale\": [[0.0, \"#0d0887\"], [0.1111111111111111, \"#46039f\"], [0.2222222222222222, \"#7201a8\"], [0.3333333333333333, \"#9c179e\"], [0.4444444444444444, \"#bd3786\"], [0.5555555555555556, \"#d8576b\"], [0.6666666666666666, \"#ed7953\"], [0.7777777777777778, \"#fb9f3a\"], [0.8888888888888888, \"#fdca26\"], [1.0, \"#f0f921\"]], \"type\": \"heatmapgl\"}], \"histogram\": [{\"marker\": {\"colorbar\": {\"outlinewidth\": 0, \"ticks\": \"\"}}, \"type\": \"histogram\"}], \"histogram2d\": [{\"colorbar\": {\"outlinewidth\": 0, \"ticks\": \"\"}, \"colorscale\": [[0.0, \"#0d0887\"], [0.1111111111111111, \"#46039f\"], [0.2222222222222222, \"#7201a8\"], [0.3333333333333333, \"#9c179e\"], [0.4444444444444444, \"#bd3786\"], [0.5555555555555556, \"#d8576b\"], [0.6666666666666666, \"#ed7953\"], [0.7777777777777778, \"#fb9f3a\"], [0.8888888888888888, \"#fdca26\"], [1.0, \"#f0f921\"]], \"type\": \"histogram2d\"}], \"histogram2dcontour\": [{\"colorbar\": {\"outlinewidth\": 0, \"ticks\": \"\"}, \"colorscale\": [[0.0, \"#0d0887\"], [0.1111111111111111, \"#46039f\"], [0.2222222222222222, \"#7201a8\"], [0.3333333333333333, \"#9c179e\"], [0.4444444444444444, \"#bd3786\"], [0.5555555555555556, \"#d8576b\"], [0.6666666666666666, \"#ed7953\"], [0.7777777777777778, \"#fb9f3a\"], [0.8888888888888888, \"#fdca26\"], [1.0, \"#f0f921\"]], \"type\": \"histogram2dcontour\"}], \"mesh3d\": [{\"colorbar\": {\"outlinewidth\": 0, \"ticks\": \"\"}, \"type\": \"mesh3d\"}], \"parcoords\": [{\"line\": {\"colorbar\": {\"outlinewidth\": 0, \"ticks\": \"\"}}, \"type\": \"parcoords\"}], \"pie\": [{\"automargin\": true, \"type\": \"pie\"}], \"scatter\": [{\"marker\": {\"line\": {\"color\": \"#283442\"}}, \"type\": \"scatter\"}], \"scatter3d\": [{\"line\": {\"colorbar\": {\"outlinewidth\": 0, \"ticks\": \"\"}}, \"marker\": {\"colorbar\": {\"outlinewidth\": 0, \"ticks\": \"\"}}, \"type\": \"scatter3d\"}], \"scattercarpet\": [{\"marker\": {\"colorbar\": {\"outlinewidth\": 0, \"ticks\": \"\"}}, \"type\": \"scattercarpet\"}], \"scattergeo\": [{\"marker\": {\"colorbar\": {\"outlinewidth\": 0, \"ticks\": \"\"}}, \"type\": \"scattergeo\"}], \"scattergl\": [{\"marker\": {\"line\": {\"color\": \"#283442\"}}, \"type\": \"scattergl\"}], \"scattermapbox\": [{\"marker\": {\"colorbar\": {\"outlinewidth\": 0, \"ticks\": \"\"}}, \"type\": \"scattermapbox\"}], \"scatterpolar\": [{\"marker\": {\"colorbar\": {\"outlinewidth\": 0, \"ticks\": \"\"}}, \"type\": \"scatterpolar\"}], \"scatterpolargl\": [{\"marker\": {\"colorbar\": {\"outlinewidth\": 0, \"ticks\": \"\"}}, \"type\": \"scatterpolargl\"}], \"scatterternary\": [{\"marker\": {\"colorbar\": {\"outlinewidth\": 0, \"ticks\": \"\"}}, \"type\": \"scatterternary\"}], \"surface\": [{\"colorbar\": {\"outlinewidth\": 0, \"ticks\": \"\"}, \"colorscale\": [[0.0, \"#0d0887\"], [0.1111111111111111, \"#46039f\"], [0.2222222222222222, \"#7201a8\"], [0.3333333333333333, \"#9c179e\"], [0.4444444444444444, \"#bd3786\"], [0.5555555555555556, \"#d8576b\"], [0.6666666666666666, \"#ed7953\"], [0.7777777777777778, \"#fb9f3a\"], [0.8888888888888888, \"#fdca26\"], [1.0, \"#f0f921\"]], \"type\": \"surface\"}], \"table\": [{\"cells\": {\"fill\": {\"color\": \"#506784\"}, \"line\": {\"color\": \"rgb(17,17,17)\"}}, \"header\": {\"fill\": {\"color\": \"#2a3f5f\"}, \"line\": {\"color\": \"rgb(17,17,17)\"}}, \"type\": \"table\"}]}, \"layout\": {\"annotationdefaults\": {\"arrowcolor\": \"#f2f5fa\", \"arrowhead\": 0, \"arrowwidth\": 1}, \"coloraxis\": {\"colorbar\": {\"outlinewidth\": 0, \"ticks\": \"\"}}, \"colorscale\": {\"diverging\": [[0, \"#8e0152\"], [0.1, \"#c51b7d\"], [0.2, \"#de77ae\"], [0.3, \"#f1b6da\"], [0.4, \"#fde0ef\"], [0.5, \"#f7f7f7\"], [0.6, \"#e6f5d0\"], [0.7, \"#b8e186\"], [0.8, \"#7fbc41\"], [0.9, \"#4d9221\"], [1, \"#276419\"]], \"sequential\": [[0.0, \"#0d0887\"], [0.1111111111111111, \"#46039f\"], [0.2222222222222222, \"#7201a8\"], [0.3333333333333333, \"#9c179e\"], [0.4444444444444444, \"#bd3786\"], [0.5555555555555556, \"#d8576b\"], [0.6666666666666666, \"#ed7953\"], [0.7777777777777778, \"#fb9f3a\"], [0.8888888888888888, \"#fdca26\"], [1.0, \"#f0f921\"]], \"sequentialminus\": [[0.0, \"#0d0887\"], [0.1111111111111111, \"#46039f\"], [0.2222222222222222, \"#7201a8\"], [0.3333333333333333, \"#9c179e\"], [0.4444444444444444, \"#bd3786\"], [0.5555555555555556, \"#d8576b\"], [0.6666666666666666, \"#ed7953\"], [0.7777777777777778, \"#fb9f3a\"], [0.8888888888888888, \"#fdca26\"], [1.0, \"#f0f921\"]]}, \"colorway\": [\"#636efa\", \"#EF553B\", \"#00cc96\", \"#ab63fa\", \"#FFA15A\", \"#19d3f3\", \"#FF6692\", \"#B6E880\", \"#FF97FF\", \"#FECB52\"], \"font\": {\"color\": \"#f2f5fa\"}, \"geo\": {\"bgcolor\": \"rgb(17,17,17)\", \"lakecolor\": \"rgb(17,17,17)\", \"landcolor\": \"rgb(17,17,17)\", \"showlakes\": true, \"showland\": true, \"subunitcolor\": \"#506784\"}, \"hoverlabel\": {\"align\": \"left\"}, \"hovermode\": \"closest\", \"mapbox\": {\"style\": \"dark\"}, \"paper_bgcolor\": \"rgb(17,17,17)\", \"plot_bgcolor\": \"rgb(17,17,17)\", \"polar\": {\"angularaxis\": {\"gridcolor\": \"#506784\", \"linecolor\": \"#506784\", \"ticks\": \"\"}, \"bgcolor\": \"rgb(17,17,17)\", \"radialaxis\": {\"gridcolor\": \"#506784\", \"linecolor\": \"#506784\", \"ticks\": \"\"}}, \"scene\": {\"xaxis\": {\"backgroundcolor\": \"rgb(17,17,17)\", \"gridcolor\": \"#506784\", \"gridwidth\": 2, \"linecolor\": \"#506784\", \"showbackground\": true, \"ticks\": \"\", \"zerolinecolor\": \"#C8D4E3\"}, \"yaxis\": {\"backgroundcolor\": \"rgb(17,17,17)\", \"gridcolor\": \"#506784\", \"gridwidth\": 2, \"linecolor\": \"#506784\", \"showbackground\": true, \"ticks\": \"\", \"zerolinecolor\": \"#C8D4E3\"}, \"zaxis\": {\"backgroundcolor\": \"rgb(17,17,17)\", \"gridcolor\": \"#506784\", \"gridwidth\": 2, \"linecolor\": \"#506784\", \"showbackground\": true, \"ticks\": \"\", \"zerolinecolor\": \"#C8D4E3\"}}, \"shapedefaults\": {\"line\": {\"color\": \"#f2f5fa\"}}, \"sliderdefaults\": {\"bgcolor\": \"#C8D4E3\", \"bordercolor\": \"rgb(17,17,17)\", \"borderwidth\": 1, \"tickwidth\": 0}, \"ternary\": {\"aaxis\": {\"gridcolor\": \"#506784\", \"linecolor\": \"#506784\", \"ticks\": \"\"}, \"baxis\": {\"gridcolor\": \"#506784\", \"linecolor\": \"#506784\", \"ticks\": \"\"}, \"bgcolor\": \"rgb(17,17,17)\", \"caxis\": {\"gridcolor\": \"#506784\", \"linecolor\": \"#506784\", \"ticks\": \"\"}}, \"title\": {\"x\": 0.05}, \"updatemenudefaults\": {\"bgcolor\": \"#506784\", \"borderwidth\": 0}, \"xaxis\": {\"automargin\": true, \"gridcolor\": \"#283442\", \"linecolor\": \"#506784\", \"ticks\": \"\", \"title\": {\"standoff\": 15}, \"zerolinecolor\": \"#283442\", \"zerolinewidth\": 2}, \"yaxis\": {\"automargin\": true, \"gridcolor\": \"#283442\", \"linecolor\": \"#506784\", \"ticks\": \"\", \"title\": {\"standoff\": 15}, \"zerolinecolor\": \"#283442\", \"zerolinewidth\": 2}}}, \"title\": {\"text\": \"Countries with best recovery rates\"}, \"xaxis\": {\"anchor\": \"y\", \"categoryarray\": [\"Cambodia\", \"Macau\", \"Nepal\", \"Sri Lanka\", \"Vietnam\", \"Mainland China\", \"Thailand\", \"Singapore\", \"Hong Kong\", \"Romania\", \"Australia\", \"Iran\", \"Taiwan\", \"Malaysia\", \"Mexico\", \"Philippines\", \"Japan\", \"United Arab Emirates\", \"Russia\", \"Canada\"], \"categoryorder\": \"array\", \"domain\": [0.0, 1.0], \"title\": {\"text\": \"country\"}}, \"yaxis\": {\"anchor\": \"x\", \"domain\": [0.0, 1.0], \"title\": {\"text\": \"recovery_rates\"}}},\n",
       "                        {\"responsive\": true}\n",
       "                    ).then(function(){\n",
       "                            \n",
       "var gd = document.getElementById('4dbc254f-aa95-4d61-bea0-c44fa2f30730');\n",
       "var x = new MutationObserver(function (mutations, observer) {{\n",
       "        var display = window.getComputedStyle(gd).display;\n",
       "        if (!display || display === 'none') {{\n",
       "            console.log([gd, 'removed!']);\n",
       "            Plotly.purge(gd);\n",
       "            observer.disconnect();\n",
       "        }}\n",
       "}});\n",
       "\n",
       "// Listen for the removal of the full notebook cells\n",
       "var notebookContainer = gd.closest('#notebook-container');\n",
       "if (notebookContainer) {{\n",
       "    x.observe(notebookContainer, {childList: true});\n",
       "}}\n",
       "\n",
       "// Listen for the clearing of the current output cell\n",
       "var outputEl = gd.closest('.output');\n",
       "if (outputEl) {{\n",
       "    x.observe(outputEl, {childList: true});\n",
       "}}\n",
       "\n",
       "                        })\n",
       "                };\n",
       "                });\n",
       "            </script>\n",
       "        </div>"
      ]
     },
     "metadata": {},
     "output_type": "display_data"
    }
   ],
   "source": [
    "fig = px.bar(data.sort_values('recovery_rates',ascending=False).head(20), x='country', y='recovery_rates',\n",
    "             hover_data=['country','recovery_rates'], color='country',\n",
    "             labels={'pop':'Confirmed Cases'}, height=400,title='Countries with best recovery rates')\n",
    "fig.update_layout(template='plotly_dark')\n",
    "fig.show()"
   ]
  },
  {
   "cell_type": "markdown",
   "metadata": {},
   "source": [
    "## Analysis of the outbreak over time"
   ]
  },
  {
   "cell_type": "markdown",
   "metadata": {},
   "source": [
    "#### Q6. How the virus is spreading over time?"
   ]
  },
  {
   "cell_type": "code",
   "execution_count": 260,
   "metadata": {},
   "outputs": [
    {
     "name": "stderr",
     "output_type": "stream",
     "text": [
      "C:\\ProgramData\\Anaconda3\\lib\\site-packages\\ipykernel_launcher.py:1: FutureWarning:\n",
      "\n",
      "Indexing with multiple keys (implicitly converted to a tuple of keys) will be deprecated, use a list instead.\n",
      "\n"
     ]
    },
    {
     "data": {
      "text/html": [
       "<div>\n",
       "<style scoped>\n",
       "    .dataframe tbody tr th:only-of-type {\n",
       "        vertical-align: middle;\n",
       "    }\n",
       "\n",
       "    .dataframe tbody tr th {\n",
       "        vertical-align: top;\n",
       "    }\n",
       "\n",
       "    .dataframe thead th {\n",
       "        text-align: right;\n",
       "    }\n",
       "</style>\n",
       "<table border=\"1\" class=\"dataframe\">\n",
       "  <thead>\n",
       "    <tr style=\"text-align: right;\">\n",
       "      <th></th>\n",
       "      <th>ObservationDate</th>\n",
       "      <th>Confirmed</th>\n",
       "      <th>Deaths</th>\n",
       "      <th>Recovered</th>\n",
       "    </tr>\n",
       "  </thead>\n",
       "  <tbody>\n",
       "    <tr>\n",
       "      <th>0</th>\n",
       "      <td>01/22/2020</td>\n",
       "      <td>555</td>\n",
       "      <td>17</td>\n",
       "      <td>28</td>\n",
       "    </tr>\n",
       "    <tr>\n",
       "      <th>1</th>\n",
       "      <td>01/23/2020</td>\n",
       "      <td>653</td>\n",
       "      <td>18</td>\n",
       "      <td>30</td>\n",
       "    </tr>\n",
       "    <tr>\n",
       "      <th>2</th>\n",
       "      <td>01/24/2020</td>\n",
       "      <td>941</td>\n",
       "      <td>26</td>\n",
       "      <td>36</td>\n",
       "    </tr>\n",
       "    <tr>\n",
       "      <th>3</th>\n",
       "      <td>01/25/2020</td>\n",
       "      <td>1438</td>\n",
       "      <td>42</td>\n",
       "      <td>39</td>\n",
       "    </tr>\n",
       "    <tr>\n",
       "      <th>4</th>\n",
       "      <td>01/26/2020</td>\n",
       "      <td>2118</td>\n",
       "      <td>56</td>\n",
       "      <td>52</td>\n",
       "    </tr>\n",
       "  </tbody>\n",
       "</table>\n",
       "</div>"
      ],
      "text/plain": [
       "  ObservationDate  Confirmed  Deaths  Recovered\n",
       "0      01/22/2020        555      17         28\n",
       "1      01/23/2020        653      18         30\n",
       "2      01/24/2020        941      26         36\n",
       "3      01/25/2020       1438      42         39\n",
       "4      01/26/2020       2118      56         52"
      ]
     },
     "execution_count": 260,
     "metadata": {},
     "output_type": "execute_result"
    }
   ],
   "source": [
    "covid_timeseries = covid_master.groupby('ObservationDate')['Confirmed', 'Deaths', 'Recovered'].sum()\n",
    "covid_timeseries=covid_timeseries.reset_index().sort_values('ObservationDate')\n",
    "covid_timeseries.head()"
   ]
  },
  {
   "cell_type": "code",
   "execution_count": 44,
   "metadata": {},
   "outputs": [
    {
     "data": {
      "application/vnd.plotly.v1+json": {
       "config": {
        "plotlyServerURL": "https://plot.ly"
       },
       "data": [
        {
         "line": {
          "color": "rgb(102, 102, 255)",
          "width": 2
         },
         "mode": "lines+markers",
         "name": "Confirmed",
         "type": "scatter",
         "x": [
          "01/22",
          "01/23",
          "01/24",
          "01/25",
          "01/26",
          "01/27",
          "01/28",
          "01/29",
          "01/30",
          "01/31",
          "02/01",
          "02/02",
          "02/03",
          "02/04",
          "02/05",
          "02/06",
          "02/07",
          "02/08",
          "02/09",
          "02/10",
          "02/11",
          "02/12",
          "02/13",
          "02/14",
          "02/15",
          "02/16",
          "02/17",
          "02/18",
          "02/19",
          "02/20",
          "02/21",
          "02/22",
          "02/23",
          "02/24",
          "02/25",
          "02/26",
          "02/27",
          "02/28",
          "02/29",
          "03/01",
          "03/02",
          "03/03",
          "03/04",
          "03/05",
          "03/06",
          "03/07"
         ],
         "y": [
          555,
          653,
          941,
          1438,
          2118,
          2927,
          5578,
          6165,
          8235,
          9925,
          12038,
          16787,
          19881,
          23892,
          27636,
          30818,
          34392,
          37121,
          40151,
          42763,
          44803,
          45222,
          60370,
          66887,
          69032,
          71226,
          73260,
          75138,
          75641,
          76199,
          76843,
          78599,
          78985,
          79570,
          80415,
          81397,
          82756,
          84124,
          86013,
          88371,
          90309,
          92844,
          95124,
          97886,
          101800,
          105836
         ]
        },
        {
         "line": {
          "color": "rgb(255, 102, 102)",
          "width": 2
         },
         "mode": "lines+markers",
         "name": "Deaths",
         "type": "scatter",
         "x": [
          "01/22",
          "01/23",
          "01/24",
          "01/25",
          "01/26",
          "01/27",
          "01/28",
          "01/29",
          "01/30",
          "01/31",
          "02/01",
          "02/02",
          "02/03",
          "02/04",
          "02/05",
          "02/06",
          "02/07",
          "02/08",
          "02/09",
          "02/10",
          "02/11",
          "02/12",
          "02/13",
          "02/14",
          "02/15",
          "02/16",
          "02/17",
          "02/18",
          "02/19",
          "02/20",
          "02/21",
          "02/22",
          "02/23",
          "02/24",
          "02/25",
          "02/26",
          "02/27",
          "02/28",
          "02/29",
          "03/01",
          "03/02",
          "03/03",
          "03/04",
          "03/05",
          "03/06",
          "03/07"
         ],
         "y": [
          17,
          18,
          26,
          42,
          56,
          82,
          131,
          133,
          171,
          213,
          259,
          362,
          426,
          492,
          564,
          634,
          719,
          806,
          906,
          1013,
          1113,
          1118,
          1371,
          1523,
          1666,
          1770,
          1868,
          2007,
          2122,
          2247,
          2251,
          2458,
          2469,
          2629,
          2708,
          2770,
          2814,
          2872,
          2941,
          2996,
          3085,
          3160,
          3254,
          3348,
          3460,
          3558
         ]
        },
        {
         "line": {
          "color": "rgb(0,255,153)",
          "width": 2
         },
         "mode": "lines+markers",
         "name": "Recovered",
         "type": "scatter",
         "x": [
          "01/22",
          "01/23",
          "01/24",
          "01/25",
          "01/26",
          "01/27",
          "01/28",
          "01/29",
          "01/30",
          "01/31",
          "02/01",
          "02/02",
          "02/03",
          "02/04",
          "02/05",
          "02/06",
          "02/07",
          "02/08",
          "02/09",
          "02/10",
          "02/11",
          "02/12",
          "02/13",
          "02/14",
          "02/15",
          "02/16",
          "02/17",
          "02/18",
          "02/19",
          "02/20",
          "02/21",
          "02/22",
          "02/23",
          "02/24",
          "02/25",
          "02/26",
          "02/27",
          "02/28",
          "02/29",
          "03/01",
          "03/02",
          "03/03",
          "03/04",
          "03/05",
          "03/06",
          "03/07"
         ],
         "y": [
          28,
          30,
          36,
          39,
          52,
          61,
          107,
          126,
          143,
          222,
          284,
          472,
          623,
          852,
          1124,
          1487,
          2011,
          2616,
          3244,
          3946,
          4683,
          5150,
          6295,
          8058,
          9395,
          10865,
          12583,
          14352,
          16121,
          18177,
          18890,
          22886,
          23394,
          25227,
          27905,
          30384,
          33277,
          36711,
          39782,
          42716,
          45602,
          48229,
          51171,
          53797,
          55866,
          58359
         ]
        }
       ],
       "layout": {
        "template": {
         "data": {
          "bar": [
           {
            "error_x": {
             "color": "#f2f5fa"
            },
            "error_y": {
             "color": "#f2f5fa"
            },
            "marker": {
             "line": {
              "color": "rgb(17,17,17)",
              "width": 0.5
             }
            },
            "type": "bar"
           }
          ],
          "barpolar": [
           {
            "marker": {
             "line": {
              "color": "rgb(17,17,17)",
              "width": 0.5
             }
            },
            "type": "barpolar"
           }
          ],
          "carpet": [
           {
            "aaxis": {
             "endlinecolor": "#A2B1C6",
             "gridcolor": "#506784",
             "linecolor": "#506784",
             "minorgridcolor": "#506784",
             "startlinecolor": "#A2B1C6"
            },
            "baxis": {
             "endlinecolor": "#A2B1C6",
             "gridcolor": "#506784",
             "linecolor": "#506784",
             "minorgridcolor": "#506784",
             "startlinecolor": "#A2B1C6"
            },
            "type": "carpet"
           }
          ],
          "choropleth": [
           {
            "colorbar": {
             "outlinewidth": 0,
             "ticks": ""
            },
            "type": "choropleth"
           }
          ],
          "contour": [
           {
            "colorbar": {
             "outlinewidth": 0,
             "ticks": ""
            },
            "colorscale": [
             [
              0,
              "#0d0887"
             ],
             [
              0.1111111111111111,
              "#46039f"
             ],
             [
              0.2222222222222222,
              "#7201a8"
             ],
             [
              0.3333333333333333,
              "#9c179e"
             ],
             [
              0.4444444444444444,
              "#bd3786"
             ],
             [
              0.5555555555555556,
              "#d8576b"
             ],
             [
              0.6666666666666666,
              "#ed7953"
             ],
             [
              0.7777777777777778,
              "#fb9f3a"
             ],
             [
              0.8888888888888888,
              "#fdca26"
             ],
             [
              1,
              "#f0f921"
             ]
            ],
            "type": "contour"
           }
          ],
          "contourcarpet": [
           {
            "colorbar": {
             "outlinewidth": 0,
             "ticks": ""
            },
            "type": "contourcarpet"
           }
          ],
          "heatmap": [
           {
            "colorbar": {
             "outlinewidth": 0,
             "ticks": ""
            },
            "colorscale": [
             [
              0,
              "#0d0887"
             ],
             [
              0.1111111111111111,
              "#46039f"
             ],
             [
              0.2222222222222222,
              "#7201a8"
             ],
             [
              0.3333333333333333,
              "#9c179e"
             ],
             [
              0.4444444444444444,
              "#bd3786"
             ],
             [
              0.5555555555555556,
              "#d8576b"
             ],
             [
              0.6666666666666666,
              "#ed7953"
             ],
             [
              0.7777777777777778,
              "#fb9f3a"
             ],
             [
              0.8888888888888888,
              "#fdca26"
             ],
             [
              1,
              "#f0f921"
             ]
            ],
            "type": "heatmap"
           }
          ],
          "heatmapgl": [
           {
            "colorbar": {
             "outlinewidth": 0,
             "ticks": ""
            },
            "colorscale": [
             [
              0,
              "#0d0887"
             ],
             [
              0.1111111111111111,
              "#46039f"
             ],
             [
              0.2222222222222222,
              "#7201a8"
             ],
             [
              0.3333333333333333,
              "#9c179e"
             ],
             [
              0.4444444444444444,
              "#bd3786"
             ],
             [
              0.5555555555555556,
              "#d8576b"
             ],
             [
              0.6666666666666666,
              "#ed7953"
             ],
             [
              0.7777777777777778,
              "#fb9f3a"
             ],
             [
              0.8888888888888888,
              "#fdca26"
             ],
             [
              1,
              "#f0f921"
             ]
            ],
            "type": "heatmapgl"
           }
          ],
          "histogram": [
           {
            "marker": {
             "colorbar": {
              "outlinewidth": 0,
              "ticks": ""
             }
            },
            "type": "histogram"
           }
          ],
          "histogram2d": [
           {
            "colorbar": {
             "outlinewidth": 0,
             "ticks": ""
            },
            "colorscale": [
             [
              0,
              "#0d0887"
             ],
             [
              0.1111111111111111,
              "#46039f"
             ],
             [
              0.2222222222222222,
              "#7201a8"
             ],
             [
              0.3333333333333333,
              "#9c179e"
             ],
             [
              0.4444444444444444,
              "#bd3786"
             ],
             [
              0.5555555555555556,
              "#d8576b"
             ],
             [
              0.6666666666666666,
              "#ed7953"
             ],
             [
              0.7777777777777778,
              "#fb9f3a"
             ],
             [
              0.8888888888888888,
              "#fdca26"
             ],
             [
              1,
              "#f0f921"
             ]
            ],
            "type": "histogram2d"
           }
          ],
          "histogram2dcontour": [
           {
            "colorbar": {
             "outlinewidth": 0,
             "ticks": ""
            },
            "colorscale": [
             [
              0,
              "#0d0887"
             ],
             [
              0.1111111111111111,
              "#46039f"
             ],
             [
              0.2222222222222222,
              "#7201a8"
             ],
             [
              0.3333333333333333,
              "#9c179e"
             ],
             [
              0.4444444444444444,
              "#bd3786"
             ],
             [
              0.5555555555555556,
              "#d8576b"
             ],
             [
              0.6666666666666666,
              "#ed7953"
             ],
             [
              0.7777777777777778,
              "#fb9f3a"
             ],
             [
              0.8888888888888888,
              "#fdca26"
             ],
             [
              1,
              "#f0f921"
             ]
            ],
            "type": "histogram2dcontour"
           }
          ],
          "mesh3d": [
           {
            "colorbar": {
             "outlinewidth": 0,
             "ticks": ""
            },
            "type": "mesh3d"
           }
          ],
          "parcoords": [
           {
            "line": {
             "colorbar": {
              "outlinewidth": 0,
              "ticks": ""
             }
            },
            "type": "parcoords"
           }
          ],
          "pie": [
           {
            "automargin": true,
            "type": "pie"
           }
          ],
          "scatter": [
           {
            "marker": {
             "line": {
              "color": "#283442"
             }
            },
            "type": "scatter"
           }
          ],
          "scatter3d": [
           {
            "line": {
             "colorbar": {
              "outlinewidth": 0,
              "ticks": ""
             }
            },
            "marker": {
             "colorbar": {
              "outlinewidth": 0,
              "ticks": ""
             }
            },
            "type": "scatter3d"
           }
          ],
          "scattercarpet": [
           {
            "marker": {
             "colorbar": {
              "outlinewidth": 0,
              "ticks": ""
             }
            },
            "type": "scattercarpet"
           }
          ],
          "scattergeo": [
           {
            "marker": {
             "colorbar": {
              "outlinewidth": 0,
              "ticks": ""
             }
            },
            "type": "scattergeo"
           }
          ],
          "scattergl": [
           {
            "marker": {
             "line": {
              "color": "#283442"
             }
            },
            "type": "scattergl"
           }
          ],
          "scattermapbox": [
           {
            "marker": {
             "colorbar": {
              "outlinewidth": 0,
              "ticks": ""
             }
            },
            "type": "scattermapbox"
           }
          ],
          "scatterpolar": [
           {
            "marker": {
             "colorbar": {
              "outlinewidth": 0,
              "ticks": ""
             }
            },
            "type": "scatterpolar"
           }
          ],
          "scatterpolargl": [
           {
            "marker": {
             "colorbar": {
              "outlinewidth": 0,
              "ticks": ""
             }
            },
            "type": "scatterpolargl"
           }
          ],
          "scatterternary": [
           {
            "marker": {
             "colorbar": {
              "outlinewidth": 0,
              "ticks": ""
             }
            },
            "type": "scatterternary"
           }
          ],
          "surface": [
           {
            "colorbar": {
             "outlinewidth": 0,
             "ticks": ""
            },
            "colorscale": [
             [
              0,
              "#0d0887"
             ],
             [
              0.1111111111111111,
              "#46039f"
             ],
             [
              0.2222222222222222,
              "#7201a8"
             ],
             [
              0.3333333333333333,
              "#9c179e"
             ],
             [
              0.4444444444444444,
              "#bd3786"
             ],
             [
              0.5555555555555556,
              "#d8576b"
             ],
             [
              0.6666666666666666,
              "#ed7953"
             ],
             [
              0.7777777777777778,
              "#fb9f3a"
             ],
             [
              0.8888888888888888,
              "#fdca26"
             ],
             [
              1,
              "#f0f921"
             ]
            ],
            "type": "surface"
           }
          ],
          "table": [
           {
            "cells": {
             "fill": {
              "color": "#506784"
             },
             "line": {
              "color": "rgb(17,17,17)"
             }
            },
            "header": {
             "fill": {
              "color": "#2a3f5f"
             },
             "line": {
              "color": "rgb(17,17,17)"
             }
            },
            "type": "table"
           }
          ]
         },
         "layout": {
          "annotationdefaults": {
           "arrowcolor": "#f2f5fa",
           "arrowhead": 0,
           "arrowwidth": 1
          },
          "coloraxis": {
           "colorbar": {
            "outlinewidth": 0,
            "ticks": ""
           }
          },
          "colorscale": {
           "diverging": [
            [
             0,
             "#8e0152"
            ],
            [
             0.1,
             "#c51b7d"
            ],
            [
             0.2,
             "#de77ae"
            ],
            [
             0.3,
             "#f1b6da"
            ],
            [
             0.4,
             "#fde0ef"
            ],
            [
             0.5,
             "#f7f7f7"
            ],
            [
             0.6,
             "#e6f5d0"
            ],
            [
             0.7,
             "#b8e186"
            ],
            [
             0.8,
             "#7fbc41"
            ],
            [
             0.9,
             "#4d9221"
            ],
            [
             1,
             "#276419"
            ]
           ],
           "sequential": [
            [
             0,
             "#0d0887"
            ],
            [
             0.1111111111111111,
             "#46039f"
            ],
            [
             0.2222222222222222,
             "#7201a8"
            ],
            [
             0.3333333333333333,
             "#9c179e"
            ],
            [
             0.4444444444444444,
             "#bd3786"
            ],
            [
             0.5555555555555556,
             "#d8576b"
            ],
            [
             0.6666666666666666,
             "#ed7953"
            ],
            [
             0.7777777777777778,
             "#fb9f3a"
            ],
            [
             0.8888888888888888,
             "#fdca26"
            ],
            [
             1,
             "#f0f921"
            ]
           ],
           "sequentialminus": [
            [
             0,
             "#0d0887"
            ],
            [
             0.1111111111111111,
             "#46039f"
            ],
            [
             0.2222222222222222,
             "#7201a8"
            ],
            [
             0.3333333333333333,
             "#9c179e"
            ],
            [
             0.4444444444444444,
             "#bd3786"
            ],
            [
             0.5555555555555556,
             "#d8576b"
            ],
            [
             0.6666666666666666,
             "#ed7953"
            ],
            [
             0.7777777777777778,
             "#fb9f3a"
            ],
            [
             0.8888888888888888,
             "#fdca26"
            ],
            [
             1,
             "#f0f921"
            ]
           ]
          },
          "colorway": [
           "#636efa",
           "#EF553B",
           "#00cc96",
           "#ab63fa",
           "#FFA15A",
           "#19d3f3",
           "#FF6692",
           "#B6E880",
           "#FF97FF",
           "#FECB52"
          ],
          "font": {
           "color": "#f2f5fa"
          },
          "geo": {
           "bgcolor": "rgb(17,17,17)",
           "lakecolor": "rgb(17,17,17)",
           "landcolor": "rgb(17,17,17)",
           "showlakes": true,
           "showland": true,
           "subunitcolor": "#506784"
          },
          "hoverlabel": {
           "align": "left"
          },
          "hovermode": "closest",
          "mapbox": {
           "style": "dark"
          },
          "paper_bgcolor": "rgb(17,17,17)",
          "plot_bgcolor": "rgb(17,17,17)",
          "polar": {
           "angularaxis": {
            "gridcolor": "#506784",
            "linecolor": "#506784",
            "ticks": ""
           },
           "bgcolor": "rgb(17,17,17)",
           "radialaxis": {
            "gridcolor": "#506784",
            "linecolor": "#506784",
            "ticks": ""
           }
          },
          "scene": {
           "xaxis": {
            "backgroundcolor": "rgb(17,17,17)",
            "gridcolor": "#506784",
            "gridwidth": 2,
            "linecolor": "#506784",
            "showbackground": true,
            "ticks": "",
            "zerolinecolor": "#C8D4E3"
           },
           "yaxis": {
            "backgroundcolor": "rgb(17,17,17)",
            "gridcolor": "#506784",
            "gridwidth": 2,
            "linecolor": "#506784",
            "showbackground": true,
            "ticks": "",
            "zerolinecolor": "#C8D4E3"
           },
           "zaxis": {
            "backgroundcolor": "rgb(17,17,17)",
            "gridcolor": "#506784",
            "gridwidth": 2,
            "linecolor": "#506784",
            "showbackground": true,
            "ticks": "",
            "zerolinecolor": "#C8D4E3"
           }
          },
          "shapedefaults": {
           "line": {
            "color": "#f2f5fa"
           }
          },
          "sliderdefaults": {
           "bgcolor": "#C8D4E3",
           "bordercolor": "rgb(17,17,17)",
           "borderwidth": 1,
           "tickwidth": 0
          },
          "ternary": {
           "aaxis": {
            "gridcolor": "#506784",
            "linecolor": "#506784",
            "ticks": ""
           },
           "baxis": {
            "gridcolor": "#506784",
            "linecolor": "#506784",
            "ticks": ""
           },
           "bgcolor": "rgb(17,17,17)",
           "caxis": {
            "gridcolor": "#506784",
            "linecolor": "#506784",
            "ticks": ""
           }
          },
          "title": {
           "x": 0.05
          },
          "updatemenudefaults": {
           "bgcolor": "#506784",
           "borderwidth": 0
          },
          "xaxis": {
           "automargin": true,
           "gridcolor": "#283442",
           "linecolor": "#506784",
           "ticks": "",
           "title": {
            "standoff": 15
           },
           "zerolinecolor": "#283442",
           "zerolinewidth": 2
          },
          "yaxis": {
           "automargin": true,
           "gridcolor": "#283442",
           "linecolor": "#506784",
           "ticks": "",
           "title": {
            "standoff": 15
           },
           "zerolinecolor": "#283442",
           "zerolinewidth": 2
          }
         }
        },
        "title": {
         "text": "Spread of COVID-19 over time"
        },
        "xaxis": {
         "tickformat": "%d %B (%a)<br>%Y"
        }
       }
      },
      "text/html": [
       "<div>\n",
       "        \n",
       "        \n",
       "            <div id=\"e9055e12-e896-454a-8fbf-c0e6be86c092\" class=\"plotly-graph-div\" style=\"height:525px; width:100%;\"></div>\n",
       "            <script type=\"text/javascript\">\n",
       "                require([\"plotly\"], function(Plotly) {\n",
       "                    window.PLOTLYENV=window.PLOTLYENV || {};\n",
       "                    \n",
       "                if (document.getElementById(\"e9055e12-e896-454a-8fbf-c0e6be86c092\")) {\n",
       "                    Plotly.newPlot(\n",
       "                        'e9055e12-e896-454a-8fbf-c0e6be86c092',\n",
       "                        [{\"line\": {\"color\": \"rgb(102, 102, 255)\", \"width\": 2}, \"mode\": \"lines+markers\", \"name\": \"Confirmed\", \"type\": \"scatter\", \"x\": [\"01/22\", \"01/23\", \"01/24\", \"01/25\", \"01/26\", \"01/27\", \"01/28\", \"01/29\", \"01/30\", \"01/31\", \"02/01\", \"02/02\", \"02/03\", \"02/04\", \"02/05\", \"02/06\", \"02/07\", \"02/08\", \"02/09\", \"02/10\", \"02/11\", \"02/12\", \"02/13\", \"02/14\", \"02/15\", \"02/16\", \"02/17\", \"02/18\", \"02/19\", \"02/20\", \"02/21\", \"02/22\", \"02/23\", \"02/24\", \"02/25\", \"02/26\", \"02/27\", \"02/28\", \"02/29\", \"03/01\", \"03/02\", \"03/03\", \"03/04\", \"03/05\", \"03/06\", \"03/07\"], \"y\": [555, 653, 941, 1438, 2118, 2927, 5578, 6165, 8235, 9925, 12038, 16787, 19881, 23892, 27636, 30818, 34392, 37121, 40151, 42763, 44803, 45222, 60370, 66887, 69032, 71226, 73260, 75138, 75641, 76199, 76843, 78599, 78985, 79570, 80415, 81397, 82756, 84124, 86013, 88371, 90309, 92844, 95124, 97886, 101800, 105836]}, {\"line\": {\"color\": \"rgb(255, 102, 102)\", \"width\": 2}, \"mode\": \"lines+markers\", \"name\": \"Deaths\", \"type\": \"scatter\", \"x\": [\"01/22\", \"01/23\", \"01/24\", \"01/25\", \"01/26\", \"01/27\", \"01/28\", \"01/29\", \"01/30\", \"01/31\", \"02/01\", \"02/02\", \"02/03\", \"02/04\", \"02/05\", \"02/06\", \"02/07\", \"02/08\", \"02/09\", \"02/10\", \"02/11\", \"02/12\", \"02/13\", \"02/14\", \"02/15\", \"02/16\", \"02/17\", \"02/18\", \"02/19\", \"02/20\", \"02/21\", \"02/22\", \"02/23\", \"02/24\", \"02/25\", \"02/26\", \"02/27\", \"02/28\", \"02/29\", \"03/01\", \"03/02\", \"03/03\", \"03/04\", \"03/05\", \"03/06\", \"03/07\"], \"y\": [17, 18, 26, 42, 56, 82, 131, 133, 171, 213, 259, 362, 426, 492, 564, 634, 719, 806, 906, 1013, 1113, 1118, 1371, 1523, 1666, 1770, 1868, 2007, 2122, 2247, 2251, 2458, 2469, 2629, 2708, 2770, 2814, 2872, 2941, 2996, 3085, 3160, 3254, 3348, 3460, 3558]}, {\"line\": {\"color\": \"rgb(0,255,153)\", \"width\": 2}, \"mode\": \"lines+markers\", \"name\": \"Recovered\", \"type\": \"scatter\", \"x\": [\"01/22\", \"01/23\", \"01/24\", \"01/25\", \"01/26\", \"01/27\", \"01/28\", \"01/29\", \"01/30\", \"01/31\", \"02/01\", \"02/02\", \"02/03\", \"02/04\", \"02/05\", \"02/06\", \"02/07\", \"02/08\", \"02/09\", \"02/10\", \"02/11\", \"02/12\", \"02/13\", \"02/14\", \"02/15\", \"02/16\", \"02/17\", \"02/18\", \"02/19\", \"02/20\", \"02/21\", \"02/22\", \"02/23\", \"02/24\", \"02/25\", \"02/26\", \"02/27\", \"02/28\", \"02/29\", \"03/01\", \"03/02\", \"03/03\", \"03/04\", \"03/05\", \"03/06\", \"03/07\"], \"y\": [28, 30, 36, 39, 52, 61, 107, 126, 143, 222, 284, 472, 623, 852, 1124, 1487, 2011, 2616, 3244, 3946, 4683, 5150, 6295, 8058, 9395, 10865, 12583, 14352, 16121, 18177, 18890, 22886, 23394, 25227, 27905, 30384, 33277, 36711, 39782, 42716, 45602, 48229, 51171, 53797, 55866, 58359]}],\n",
       "                        {\"template\": {\"data\": {\"bar\": [{\"error_x\": {\"color\": \"#f2f5fa\"}, \"error_y\": {\"color\": \"#f2f5fa\"}, \"marker\": {\"line\": {\"color\": \"rgb(17,17,17)\", \"width\": 0.5}}, \"type\": \"bar\"}], \"barpolar\": [{\"marker\": {\"line\": {\"color\": \"rgb(17,17,17)\", \"width\": 0.5}}, \"type\": \"barpolar\"}], \"carpet\": [{\"aaxis\": {\"endlinecolor\": \"#A2B1C6\", \"gridcolor\": \"#506784\", \"linecolor\": \"#506784\", \"minorgridcolor\": \"#506784\", \"startlinecolor\": \"#A2B1C6\"}, \"baxis\": {\"endlinecolor\": \"#A2B1C6\", \"gridcolor\": \"#506784\", \"linecolor\": \"#506784\", \"minorgridcolor\": \"#506784\", \"startlinecolor\": \"#A2B1C6\"}, \"type\": \"carpet\"}], \"choropleth\": [{\"colorbar\": {\"outlinewidth\": 0, \"ticks\": \"\"}, \"type\": \"choropleth\"}], \"contour\": [{\"colorbar\": {\"outlinewidth\": 0, \"ticks\": \"\"}, \"colorscale\": [[0.0, \"#0d0887\"], [0.1111111111111111, \"#46039f\"], [0.2222222222222222, \"#7201a8\"], [0.3333333333333333, \"#9c179e\"], [0.4444444444444444, \"#bd3786\"], [0.5555555555555556, \"#d8576b\"], [0.6666666666666666, \"#ed7953\"], [0.7777777777777778, \"#fb9f3a\"], [0.8888888888888888, \"#fdca26\"], [1.0, \"#f0f921\"]], \"type\": \"contour\"}], \"contourcarpet\": [{\"colorbar\": {\"outlinewidth\": 0, \"ticks\": \"\"}, \"type\": \"contourcarpet\"}], \"heatmap\": [{\"colorbar\": {\"outlinewidth\": 0, \"ticks\": \"\"}, \"colorscale\": [[0.0, \"#0d0887\"], [0.1111111111111111, \"#46039f\"], [0.2222222222222222, \"#7201a8\"], [0.3333333333333333, \"#9c179e\"], [0.4444444444444444, \"#bd3786\"], [0.5555555555555556, \"#d8576b\"], [0.6666666666666666, \"#ed7953\"], [0.7777777777777778, \"#fb9f3a\"], [0.8888888888888888, \"#fdca26\"], [1.0, \"#f0f921\"]], \"type\": \"heatmap\"}], \"heatmapgl\": [{\"colorbar\": {\"outlinewidth\": 0, \"ticks\": \"\"}, \"colorscale\": [[0.0, \"#0d0887\"], [0.1111111111111111, \"#46039f\"], [0.2222222222222222, \"#7201a8\"], [0.3333333333333333, \"#9c179e\"], [0.4444444444444444, \"#bd3786\"], [0.5555555555555556, \"#d8576b\"], [0.6666666666666666, \"#ed7953\"], [0.7777777777777778, \"#fb9f3a\"], [0.8888888888888888, \"#fdca26\"], [1.0, \"#f0f921\"]], \"type\": \"heatmapgl\"}], \"histogram\": [{\"marker\": {\"colorbar\": {\"outlinewidth\": 0, \"ticks\": \"\"}}, \"type\": \"histogram\"}], \"histogram2d\": [{\"colorbar\": {\"outlinewidth\": 0, \"ticks\": \"\"}, \"colorscale\": [[0.0, \"#0d0887\"], [0.1111111111111111, \"#46039f\"], [0.2222222222222222, \"#7201a8\"], [0.3333333333333333, \"#9c179e\"], [0.4444444444444444, \"#bd3786\"], [0.5555555555555556, \"#d8576b\"], [0.6666666666666666, \"#ed7953\"], [0.7777777777777778, \"#fb9f3a\"], [0.8888888888888888, \"#fdca26\"], [1.0, \"#f0f921\"]], \"type\": \"histogram2d\"}], \"histogram2dcontour\": [{\"colorbar\": {\"outlinewidth\": 0, \"ticks\": \"\"}, \"colorscale\": [[0.0, \"#0d0887\"], [0.1111111111111111, \"#46039f\"], [0.2222222222222222, \"#7201a8\"], [0.3333333333333333, \"#9c179e\"], [0.4444444444444444, \"#bd3786\"], [0.5555555555555556, \"#d8576b\"], [0.6666666666666666, \"#ed7953\"], [0.7777777777777778, \"#fb9f3a\"], [0.8888888888888888, \"#fdca26\"], [1.0, \"#f0f921\"]], \"type\": \"histogram2dcontour\"}], \"mesh3d\": [{\"colorbar\": {\"outlinewidth\": 0, \"ticks\": \"\"}, \"type\": \"mesh3d\"}], \"parcoords\": [{\"line\": {\"colorbar\": {\"outlinewidth\": 0, \"ticks\": \"\"}}, \"type\": \"parcoords\"}], \"pie\": [{\"automargin\": true, \"type\": \"pie\"}], \"scatter\": [{\"marker\": {\"line\": {\"color\": \"#283442\"}}, \"type\": \"scatter\"}], \"scatter3d\": [{\"line\": {\"colorbar\": {\"outlinewidth\": 0, \"ticks\": \"\"}}, \"marker\": {\"colorbar\": {\"outlinewidth\": 0, \"ticks\": \"\"}}, \"type\": \"scatter3d\"}], \"scattercarpet\": [{\"marker\": {\"colorbar\": {\"outlinewidth\": 0, \"ticks\": \"\"}}, \"type\": \"scattercarpet\"}], \"scattergeo\": [{\"marker\": {\"colorbar\": {\"outlinewidth\": 0, \"ticks\": \"\"}}, \"type\": \"scattergeo\"}], \"scattergl\": [{\"marker\": {\"line\": {\"color\": \"#283442\"}}, \"type\": \"scattergl\"}], \"scattermapbox\": [{\"marker\": {\"colorbar\": {\"outlinewidth\": 0, \"ticks\": \"\"}}, \"type\": \"scattermapbox\"}], \"scatterpolar\": [{\"marker\": {\"colorbar\": {\"outlinewidth\": 0, \"ticks\": \"\"}}, \"type\": \"scatterpolar\"}], \"scatterpolargl\": [{\"marker\": {\"colorbar\": {\"outlinewidth\": 0, \"ticks\": \"\"}}, \"type\": \"scatterpolargl\"}], \"scatterternary\": [{\"marker\": {\"colorbar\": {\"outlinewidth\": 0, \"ticks\": \"\"}}, \"type\": \"scatterternary\"}], \"surface\": [{\"colorbar\": {\"outlinewidth\": 0, \"ticks\": \"\"}, \"colorscale\": [[0.0, \"#0d0887\"], [0.1111111111111111, \"#46039f\"], [0.2222222222222222, \"#7201a8\"], [0.3333333333333333, \"#9c179e\"], [0.4444444444444444, \"#bd3786\"], [0.5555555555555556, \"#d8576b\"], [0.6666666666666666, \"#ed7953\"], [0.7777777777777778, \"#fb9f3a\"], [0.8888888888888888, \"#fdca26\"], [1.0, \"#f0f921\"]], \"type\": \"surface\"}], \"table\": [{\"cells\": {\"fill\": {\"color\": \"#506784\"}, \"line\": {\"color\": \"rgb(17,17,17)\"}}, \"header\": {\"fill\": {\"color\": \"#2a3f5f\"}, \"line\": {\"color\": \"rgb(17,17,17)\"}}, \"type\": \"table\"}]}, \"layout\": {\"annotationdefaults\": {\"arrowcolor\": \"#f2f5fa\", \"arrowhead\": 0, \"arrowwidth\": 1}, \"coloraxis\": {\"colorbar\": {\"outlinewidth\": 0, \"ticks\": \"\"}}, \"colorscale\": {\"diverging\": [[0, \"#8e0152\"], [0.1, \"#c51b7d\"], [0.2, \"#de77ae\"], [0.3, \"#f1b6da\"], [0.4, \"#fde0ef\"], [0.5, \"#f7f7f7\"], [0.6, \"#e6f5d0\"], [0.7, \"#b8e186\"], [0.8, \"#7fbc41\"], [0.9, \"#4d9221\"], [1, \"#276419\"]], \"sequential\": [[0.0, \"#0d0887\"], [0.1111111111111111, \"#46039f\"], [0.2222222222222222, \"#7201a8\"], [0.3333333333333333, \"#9c179e\"], [0.4444444444444444, \"#bd3786\"], [0.5555555555555556, \"#d8576b\"], [0.6666666666666666, \"#ed7953\"], [0.7777777777777778, \"#fb9f3a\"], [0.8888888888888888, \"#fdca26\"], [1.0, \"#f0f921\"]], \"sequentialminus\": [[0.0, \"#0d0887\"], [0.1111111111111111, \"#46039f\"], [0.2222222222222222, \"#7201a8\"], [0.3333333333333333, \"#9c179e\"], [0.4444444444444444, \"#bd3786\"], [0.5555555555555556, \"#d8576b\"], [0.6666666666666666, \"#ed7953\"], [0.7777777777777778, \"#fb9f3a\"], [0.8888888888888888, \"#fdca26\"], [1.0, \"#f0f921\"]]}, \"colorway\": [\"#636efa\", \"#EF553B\", \"#00cc96\", \"#ab63fa\", \"#FFA15A\", \"#19d3f3\", \"#FF6692\", \"#B6E880\", \"#FF97FF\", \"#FECB52\"], \"font\": {\"color\": \"#f2f5fa\"}, \"geo\": {\"bgcolor\": \"rgb(17,17,17)\", \"lakecolor\": \"rgb(17,17,17)\", \"landcolor\": \"rgb(17,17,17)\", \"showlakes\": true, \"showland\": true, \"subunitcolor\": \"#506784\"}, \"hoverlabel\": {\"align\": \"left\"}, \"hovermode\": \"closest\", \"mapbox\": {\"style\": \"dark\"}, \"paper_bgcolor\": \"rgb(17,17,17)\", \"plot_bgcolor\": \"rgb(17,17,17)\", \"polar\": {\"angularaxis\": {\"gridcolor\": \"#506784\", \"linecolor\": \"#506784\", \"ticks\": \"\"}, \"bgcolor\": \"rgb(17,17,17)\", \"radialaxis\": {\"gridcolor\": \"#506784\", \"linecolor\": \"#506784\", \"ticks\": \"\"}}, \"scene\": {\"xaxis\": {\"backgroundcolor\": \"rgb(17,17,17)\", \"gridcolor\": \"#506784\", \"gridwidth\": 2, \"linecolor\": \"#506784\", \"showbackground\": true, \"ticks\": \"\", \"zerolinecolor\": \"#C8D4E3\"}, \"yaxis\": {\"backgroundcolor\": \"rgb(17,17,17)\", \"gridcolor\": \"#506784\", \"gridwidth\": 2, \"linecolor\": \"#506784\", \"showbackground\": true, \"ticks\": \"\", \"zerolinecolor\": \"#C8D4E3\"}, \"zaxis\": {\"backgroundcolor\": \"rgb(17,17,17)\", \"gridcolor\": \"#506784\", \"gridwidth\": 2, \"linecolor\": \"#506784\", \"showbackground\": true, \"ticks\": \"\", \"zerolinecolor\": \"#C8D4E3\"}}, \"shapedefaults\": {\"line\": {\"color\": \"#f2f5fa\"}}, \"sliderdefaults\": {\"bgcolor\": \"#C8D4E3\", \"bordercolor\": \"rgb(17,17,17)\", \"borderwidth\": 1, \"tickwidth\": 0}, \"ternary\": {\"aaxis\": {\"gridcolor\": \"#506784\", \"linecolor\": \"#506784\", \"ticks\": \"\"}, \"baxis\": {\"gridcolor\": \"#506784\", \"linecolor\": \"#506784\", \"ticks\": \"\"}, \"bgcolor\": \"rgb(17,17,17)\", \"caxis\": {\"gridcolor\": \"#506784\", \"linecolor\": \"#506784\", \"ticks\": \"\"}}, \"title\": {\"x\": 0.05}, \"updatemenudefaults\": {\"bgcolor\": \"#506784\", \"borderwidth\": 0}, \"xaxis\": {\"automargin\": true, \"gridcolor\": \"#283442\", \"linecolor\": \"#506784\", \"ticks\": \"\", \"title\": {\"standoff\": 15}, \"zerolinecolor\": \"#283442\", \"zerolinewidth\": 2}, \"yaxis\": {\"automargin\": true, \"gridcolor\": \"#283442\", \"linecolor\": \"#506784\", \"ticks\": \"\", \"title\": {\"standoff\": 15}, \"zerolinecolor\": \"#283442\", \"zerolinewidth\": 2}}}, \"title\": {\"text\": \"Spread of COVID-19 over time\"}, \"xaxis\": {\"tickformat\": \"%d %B (%a)<br>%Y\"}},\n",
       "                        {\"responsive\": true}\n",
       "                    ).then(function(){\n",
       "                            \n",
       "var gd = document.getElementById('e9055e12-e896-454a-8fbf-c0e6be86c092');\n",
       "var x = new MutationObserver(function (mutations, observer) {{\n",
       "        var display = window.getComputedStyle(gd).display;\n",
       "        if (!display || display === 'none') {{\n",
       "            console.log([gd, 'removed!']);\n",
       "            Plotly.purge(gd);\n",
       "            observer.disconnect();\n",
       "        }}\n",
       "}});\n",
       "\n",
       "// Listen for the removal of the full notebook cells\n",
       "var notebookContainer = gd.closest('#notebook-container');\n",
       "if (notebookContainer) {{\n",
       "    x.observe(notebookContainer, {childList: true});\n",
       "}}\n",
       "\n",
       "// Listen for the clearing of the current output cell\n",
       "var outputEl = gd.closest('.output');\n",
       "if (outputEl) {{\n",
       "    x.observe(outputEl, {childList: true});\n",
       "}}\n",
       "\n",
       "                        })\n",
       "                };\n",
       "                });\n",
       "            </script>\n",
       "        </div>"
      ]
     },
     "metadata": {},
     "output_type": "display_data"
    }
   ],
   "source": [
    "#https://plot.ly/python\n",
    "x=[i.split('/')[0]+'/'+i.split('/')[1] for i in covid_timeseries.ObservationDate ]\n",
    "fig = go.Figure()\n",
    "fig.update_layout(template='plotly_dark')\n",
    "fig.add_trace(go.Scatter(x=x, \n",
    "                         y=covid_timeseries['Confirmed'],\n",
    "                         mode='lines+markers',\n",
    "                         name='Confirmed',\n",
    "                         line=dict(color='rgb(102, 102, 255)', width=2)))\n",
    "fig.add_trace(go.Scatter(x=x, \n",
    "                         y=covid_timeseries['Deaths'],\n",
    "                         mode='lines+markers',\n",
    "                         name='Deaths',\n",
    "                         line=dict(color='rgb(255, 102, 102)', width=2)))\n",
    "fig.add_trace(go.Scatter(x=x, \n",
    "                         y=covid_timeseries['Recovered'],\n",
    "                         mode='lines+markers',\n",
    "                         name='Recovered',\n",
    "                         line=dict(color='rgb(0,255,153)', width=2)))\n",
    "fig.update_layout(\n",
    "    title = 'Spread of COVID-19 over time',\n",
    "    xaxis_tickformat = '%d %B (%a)<br>%Y'\n",
    ")\n",
    "fig.show()"
   ]
  },
  {
   "cell_type": "markdown",
   "metadata": {},
   "source": [
    "#### Q7. How the virus is spreading outside ot china?"
   ]
  },
  {
   "cell_type": "code",
   "execution_count": 177,
   "metadata": {},
   "outputs": [
    {
     "name": "stderr",
     "output_type": "stream",
     "text": [
      "C:\\ProgramData\\Anaconda3\\lib\\site-packages\\ipykernel_launcher.py:1: FutureWarning:\n",
      "\n",
      "Indexing with multiple keys (implicitly converted to a tuple of keys) will be deprecated, use a list instead.\n",
      "\n"
     ]
    },
    {
     "data": {
      "text/html": [
       "<div>\n",
       "<style scoped>\n",
       "    .dataframe tbody tr th:only-of-type {\n",
       "        vertical-align: middle;\n",
       "    }\n",
       "\n",
       "    .dataframe tbody tr th {\n",
       "        vertical-align: top;\n",
       "    }\n",
       "\n",
       "    .dataframe thead th {\n",
       "        text-align: right;\n",
       "    }\n",
       "</style>\n",
       "<table border=\"1\" class=\"dataframe\">\n",
       "  <thead>\n",
       "    <tr style=\"text-align: right;\">\n",
       "      <th></th>\n",
       "      <th>ObservationDate</th>\n",
       "      <th>Country/Region</th>\n",
       "      <th>Confirmed</th>\n",
       "      <th>Deaths</th>\n",
       "      <th>Recovered</th>\n",
       "    </tr>\n",
       "  </thead>\n",
       "  <tbody>\n",
       "    <tr>\n",
       "      <th>0</th>\n",
       "      <td>01/22/2020</td>\n",
       "      <td>Hong Kong</td>\n",
       "      <td>0</td>\n",
       "      <td>0</td>\n",
       "      <td>0</td>\n",
       "    </tr>\n",
       "    <tr>\n",
       "      <th>1</th>\n",
       "      <td>01/22/2020</td>\n",
       "      <td>Japan</td>\n",
       "      <td>2</td>\n",
       "      <td>0</td>\n",
       "      <td>0</td>\n",
       "    </tr>\n",
       "    <tr>\n",
       "      <th>2</th>\n",
       "      <td>01/22/2020</td>\n",
       "      <td>Macau</td>\n",
       "      <td>1</td>\n",
       "      <td>0</td>\n",
       "      <td>0</td>\n",
       "    </tr>\n",
       "    <tr>\n",
       "      <th>4</th>\n",
       "      <td>01/22/2020</td>\n",
       "      <td>South Korea</td>\n",
       "      <td>1</td>\n",
       "      <td>0</td>\n",
       "      <td>0</td>\n",
       "    </tr>\n",
       "    <tr>\n",
       "      <th>5</th>\n",
       "      <td>01/22/2020</td>\n",
       "      <td>Taiwan</td>\n",
       "      <td>1</td>\n",
       "      <td>0</td>\n",
       "      <td>0</td>\n",
       "    </tr>\n",
       "  </tbody>\n",
       "</table>\n",
       "</div>"
      ],
      "text/plain": [
       "  ObservationDate Country/Region  Confirmed  Deaths  Recovered\n",
       "0      01/22/2020      Hong Kong          0       0          0\n",
       "1      01/22/2020          Japan          2       0          0\n",
       "2      01/22/2020          Macau          1       0          0\n",
       "4      01/22/2020    South Korea          1       0          0\n",
       "5      01/22/2020         Taiwan          1       0          0"
      ]
     },
     "execution_count": 177,
     "metadata": {},
     "output_type": "execute_result"
    }
   ],
   "source": [
    "covid_timeseries = covid_master.groupby(['ObservationDate','Country/Region'])['Confirmed', 'Deaths', 'Recovered'].sum()\n",
    "covid_timeseries=covid_timeseries.reset_index().sort_values('ObservationDate')\n",
    "data= covid_timeseries[covid_timeseries['Country/Region']!='Mainland China']\n",
    "data.head()"
   ]
  },
  {
   "cell_type": "code",
   "execution_count": 178,
   "metadata": {},
   "outputs": [
    {
     "data": {
      "application/vnd.plotly.v1+json": {
       "config": {
        "plotlyServerURL": "https://plot.ly"
       },
       "data": [
        {
         "hoverlabel": {
          "namelength": 0
         },
         "hovertemplate": "<b>%{hovertext}</b><br><br>Country/Region=Hong Kong<br>ObservationDate=%{x}<br>Confirmed=%{y}",
         "hovertext": [
          "Hong Kong",
          "Hong Kong",
          "Hong Kong",
          "Hong Kong",
          "Hong Kong",
          "Hong Kong",
          "Hong Kong",
          "Hong Kong",
          "Hong Kong",
          "Hong Kong",
          "Hong Kong",
          "Hong Kong",
          "Hong Kong",
          "Hong Kong",
          "Hong Kong",
          "Hong Kong",
          "Hong Kong",
          "Hong Kong",
          "Hong Kong",
          "Hong Kong",
          "Hong Kong",
          "Hong Kong",
          "Hong Kong",
          "Hong Kong",
          "Hong Kong",
          "Hong Kong",
          "Hong Kong",
          "Hong Kong",
          "Hong Kong",
          "Hong Kong",
          "Hong Kong",
          "Hong Kong",
          "Hong Kong",
          "Hong Kong",
          "Hong Kong",
          "Hong Kong",
          "Hong Kong",
          "Hong Kong",
          "Hong Kong",
          "Hong Kong",
          "Hong Kong",
          "Hong Kong",
          "Hong Kong",
          "Hong Kong",
          "Hong Kong",
          "Hong Kong"
         ],
         "legendgroup": "Country/Region=Hong Kong",
         "line": {
          "color": "#636efa",
          "dash": "solid"
         },
         "mode": "lines",
         "name": "Country/Region=Hong Kong",
         "showlegend": true,
         "type": "scattergl",
         "x": [
          "22/01",
          "23/01",
          "24/01",
          "25/01",
          "26/01",
          "27/01",
          "28/01",
          "29/01",
          "30/01",
          "31/01",
          "01/02",
          "02/02",
          "03/02",
          "04/02",
          "05/02",
          "06/02",
          "07/02",
          "08/02",
          "09/02",
          "10/02",
          "11/02",
          "12/02",
          "13/02",
          "14/02",
          "15/02",
          "16/02",
          "17/02",
          "18/02",
          "19/02",
          "20/02",
          "21/02",
          "22/02",
          "23/02",
          "24/02",
          "25/02",
          "26/02",
          "27/02",
          "28/02",
          "29/02",
          "01/03",
          "02/03",
          "03/03",
          "04/03",
          "05/03",
          "06/03",
          "07/03"
         ],
         "xaxis": "x",
         "y": [
          0,
          2,
          2,
          5,
          8,
          8,
          8,
          10,
          10,
          12,
          13,
          15,
          15,
          17,
          21,
          24,
          25,
          26,
          29,
          38,
          49,
          50,
          53,
          56,
          56,
          57,
          60,
          62,
          63,
          68,
          68,
          69,
          74,
          79,
          84,
          91,
          92,
          94,
          95,
          96,
          100,
          100,
          105,
          105,
          107,
          108
         ],
         "yaxis": "y"
        },
        {
         "hoverlabel": {
          "namelength": 0
         },
         "hovertemplate": "<b>%{hovertext}</b><br><br>Country/Region=Japan<br>ObservationDate=%{x}<br>Confirmed=%{y}",
         "hovertext": [
          "Japan",
          "Japan",
          "Japan",
          "Japan",
          "Japan",
          "Japan",
          "Japan",
          "Japan",
          "Japan",
          "Japan",
          "Japan",
          "Japan",
          "Japan",
          "Japan",
          "Japan",
          "Japan",
          "Japan",
          "Japan",
          "Japan",
          "Japan",
          "Japan",
          "Japan",
          "Japan",
          "Japan",
          "Japan",
          "Japan",
          "Japan",
          "Japan",
          "Japan",
          "Japan",
          "Japan",
          "Japan",
          "Japan",
          "Japan",
          "Japan",
          "Japan",
          "Japan",
          "Japan",
          "Japan",
          "Japan",
          "Japan",
          "Japan",
          "Japan",
          "Japan",
          "Japan",
          "Japan"
         ],
         "legendgroup": "Country/Region=Japan",
         "line": {
          "color": "#EF553B",
          "dash": "solid"
         },
         "mode": "lines",
         "name": "Country/Region=Japan",
         "showlegend": true,
         "type": "scattergl",
         "x": [
          "22/01",
          "23/01",
          "24/01",
          "25/01",
          "26/01",
          "27/01",
          "28/01",
          "29/01",
          "30/01",
          "31/01",
          "01/02",
          "02/02",
          "03/02",
          "04/02",
          "05/02",
          "06/02",
          "07/02",
          "08/02",
          "09/02",
          "10/02",
          "11/02",
          "12/02",
          "13/02",
          "14/02",
          "15/02",
          "16/02",
          "17/02",
          "18/02",
          "19/02",
          "20/02",
          "21/02",
          "22/02",
          "23/02",
          "24/02",
          "25/02",
          "26/02",
          "27/02",
          "28/02",
          "29/02",
          "01/03",
          "02/03",
          "03/03",
          "04/03",
          "05/03",
          "06/03",
          "07/03"
         ],
         "xaxis": "x",
         "y": [
          2,
          1,
          2,
          2,
          4,
          4,
          7,
          7,
          11,
          15,
          20,
          20,
          20,
          22,
          22,
          45,
          25,
          25,
          26,
          26,
          26,
          28,
          28,
          29,
          43,
          59,
          66,
          74,
          84,
          94,
          105,
          122,
          147,
          159,
          170,
          189,
          214,
          228,
          241,
          256,
          274,
          293,
          331,
          360,
          420,
          461
         ],
         "yaxis": "y"
        },
        {
         "hoverlabel": {
          "namelength": 0
         },
         "hovertemplate": "<b>%{hovertext}</b><br><br>Country/Region=Macau<br>ObservationDate=%{x}<br>Confirmed=%{y}",
         "hovertext": [
          "Macau",
          "Macau",
          "Macau",
          "Macau",
          "Macau",
          "Macau",
          "Macau",
          "Macau",
          "Macau",
          "Macau",
          "Macau",
          "Macau",
          "Macau",
          "Macau",
          "Macau",
          "Macau",
          "Macau",
          "Macau",
          "Macau",
          "Macau",
          "Macau",
          "Macau",
          "Macau",
          "Macau",
          "Macau",
          "Macau",
          "Macau",
          "Macau",
          "Macau",
          "Macau",
          "Macau",
          "Macau",
          "Macau",
          "Macau",
          "Macau",
          "Macau",
          "Macau",
          "Macau",
          "Macau",
          "Macau",
          "Macau",
          "Macau",
          "Macau",
          "Macau",
          "Macau",
          "Macau"
         ],
         "legendgroup": "Country/Region=Macau",
         "line": {
          "color": "#00cc96",
          "dash": "solid"
         },
         "mode": "lines",
         "name": "Country/Region=Macau",
         "showlegend": true,
         "type": "scattergl",
         "x": [
          "22/01",
          "23/01",
          "24/01",
          "25/01",
          "26/01",
          "27/01",
          "28/01",
          "29/01",
          "30/01",
          "31/01",
          "01/02",
          "02/02",
          "03/02",
          "04/02",
          "05/02",
          "06/02",
          "07/02",
          "08/02",
          "09/02",
          "10/02",
          "11/02",
          "12/02",
          "13/02",
          "14/02",
          "15/02",
          "16/02",
          "17/02",
          "18/02",
          "19/02",
          "20/02",
          "21/02",
          "22/02",
          "23/02",
          "24/02",
          "25/02",
          "26/02",
          "27/02",
          "28/02",
          "29/02",
          "01/03",
          "02/03",
          "03/03",
          "04/03",
          "05/03",
          "06/03",
          "07/03"
         ],
         "xaxis": "x",
         "y": [
          1,
          2,
          2,
          2,
          5,
          6,
          7,
          7,
          7,
          7,
          7,
          8,
          8,
          10,
          10,
          10,
          10,
          10,
          10,
          10,
          10,
          10,
          10,
          10,
          10,
          10,
          10,
          10,
          10,
          10,
          10,
          10,
          10,
          10,
          10,
          10,
          10,
          10,
          10,
          10,
          10,
          10,
          10,
          10,
          10,
          10
         ],
         "yaxis": "y"
        },
        {
         "hoverlabel": {
          "namelength": 0
         },
         "hovertemplate": "<b>%{hovertext}</b><br><br>Country/Region=South Korea<br>ObservationDate=%{x}<br>Confirmed=%{y}",
         "hovertext": [
          "South Korea",
          "South Korea",
          "South Korea",
          "South Korea",
          "South Korea",
          "South Korea",
          "South Korea",
          "South Korea",
          "South Korea",
          "South Korea",
          "South Korea",
          "South Korea",
          "South Korea",
          "South Korea",
          "South Korea",
          "South Korea",
          "South Korea",
          "South Korea",
          "South Korea",
          "South Korea",
          "South Korea",
          "South Korea",
          "South Korea",
          "South Korea",
          "South Korea",
          "South Korea",
          "South Korea",
          "South Korea",
          "South Korea",
          "South Korea",
          "South Korea",
          "South Korea",
          "South Korea",
          "South Korea",
          "South Korea",
          "South Korea",
          "South Korea",
          "South Korea",
          "South Korea",
          "South Korea",
          "South Korea",
          "South Korea",
          "South Korea",
          "South Korea",
          "South Korea",
          "South Korea"
         ],
         "legendgroup": "Country/Region=South Korea",
         "line": {
          "color": "#ab63fa",
          "dash": "solid"
         },
         "mode": "lines",
         "name": "Country/Region=South Korea",
         "showlegend": true,
         "type": "scattergl",
         "x": [
          "22/01",
          "23/01",
          "24/01",
          "25/01",
          "26/01",
          "27/01",
          "28/01",
          "29/01",
          "30/01",
          "31/01",
          "01/02",
          "02/02",
          "03/02",
          "04/02",
          "05/02",
          "06/02",
          "07/02",
          "08/02",
          "09/02",
          "10/02",
          "11/02",
          "12/02",
          "13/02",
          "14/02",
          "15/02",
          "16/02",
          "17/02",
          "18/02",
          "19/02",
          "20/02",
          "21/02",
          "22/02",
          "23/02",
          "24/02",
          "25/02",
          "26/02",
          "27/02",
          "28/02",
          "29/02",
          "01/03",
          "02/03",
          "03/03",
          "04/03",
          "05/03",
          "06/03",
          "07/03"
         ],
         "xaxis": "x",
         "y": [
          1,
          1,
          2,
          2,
          3,
          4,
          4,
          4,
          4,
          11,
          12,
          15,
          15,
          16,
          19,
          23,
          24,
          24,
          25,
          27,
          28,
          28,
          28,
          28,
          28,
          29,
          30,
          31,
          31,
          104,
          204,
          433,
          602,
          833,
          977,
          1261,
          1766,
          2337,
          3150,
          3736,
          4335,
          5186,
          5621,
          6088,
          6593,
          7041
         ],
         "yaxis": "y"
        },
        {
         "hoverlabel": {
          "namelength": 0
         },
         "hovertemplate": "<b>%{hovertext}</b><br><br>Country/Region=Taiwan<br>ObservationDate=%{x}<br>Confirmed=%{y}",
         "hovertext": [
          "Taiwan",
          "Taiwan",
          "Taiwan",
          "Taiwan",
          "Taiwan",
          "Taiwan",
          "Taiwan",
          "Taiwan",
          "Taiwan",
          "Taiwan",
          "Taiwan",
          "Taiwan",
          "Taiwan",
          "Taiwan",
          "Taiwan",
          "Taiwan",
          "Taiwan",
          "Taiwan",
          "Taiwan",
          "Taiwan",
          "Taiwan",
          "Taiwan",
          "Taiwan",
          "Taiwan",
          "Taiwan",
          "Taiwan",
          "Taiwan",
          "Taiwan",
          "Taiwan",
          "Taiwan",
          "Taiwan",
          "Taiwan",
          "Taiwan",
          "Taiwan",
          "Taiwan",
          "Taiwan",
          "Taiwan",
          "Taiwan",
          "Taiwan",
          "Taiwan",
          "Taiwan",
          "Taiwan",
          "Taiwan",
          "Taiwan",
          "Taiwan",
          "Taiwan"
         ],
         "legendgroup": "Country/Region=Taiwan",
         "line": {
          "color": "#FFA15A",
          "dash": "solid"
         },
         "mode": "lines",
         "name": "Country/Region=Taiwan",
         "showlegend": true,
         "type": "scattergl",
         "x": [
          "22/01",
          "23/01",
          "24/01",
          "25/01",
          "26/01",
          "27/01",
          "28/01",
          "29/01",
          "30/01",
          "31/01",
          "01/02",
          "02/02",
          "03/02",
          "04/02",
          "05/02",
          "06/02",
          "07/02",
          "08/02",
          "09/02",
          "10/02",
          "11/02",
          "12/02",
          "13/02",
          "14/02",
          "15/02",
          "16/02",
          "17/02",
          "18/02",
          "19/02",
          "20/02",
          "21/02",
          "22/02",
          "23/02",
          "24/02",
          "25/02",
          "26/02",
          "27/02",
          "28/02",
          "29/02",
          "01/03",
          "02/03",
          "03/03",
          "04/03",
          "05/03",
          "06/03",
          "07/03"
         ],
         "xaxis": "x",
         "y": [
          1,
          1,
          3,
          3,
          4,
          5,
          8,
          8,
          9,
          10,
          10,
          10,
          10,
          11,
          11,
          16,
          16,
          17,
          18,
          18,
          18,
          18,
          18,
          18,
          18,
          20,
          22,
          22,
          23,
          24,
          26,
          26,
          28,
          30,
          31,
          32,
          32,
          34,
          39,
          40,
          41,
          42,
          42,
          44,
          45,
          45
         ],
         "yaxis": "y"
        },
        {
         "hoverlabel": {
          "namelength": 0
         },
         "hovertemplate": "<b>%{hovertext}</b><br><br>Country/Region=Thailand<br>ObservationDate=%{x}<br>Confirmed=%{y}",
         "hovertext": [
          "Thailand",
          "Thailand",
          "Thailand",
          "Thailand",
          "Thailand",
          "Thailand",
          "Thailand",
          "Thailand",
          "Thailand",
          "Thailand",
          "Thailand",
          "Thailand",
          "Thailand",
          "Thailand",
          "Thailand",
          "Thailand",
          "Thailand",
          "Thailand",
          "Thailand",
          "Thailand",
          "Thailand",
          "Thailand",
          "Thailand",
          "Thailand",
          "Thailand",
          "Thailand",
          "Thailand",
          "Thailand",
          "Thailand",
          "Thailand",
          "Thailand",
          "Thailand",
          "Thailand",
          "Thailand",
          "Thailand",
          "Thailand",
          "Thailand",
          "Thailand",
          "Thailand",
          "Thailand",
          "Thailand",
          "Thailand",
          "Thailand",
          "Thailand",
          "Thailand",
          "Thailand"
         ],
         "legendgroup": "Country/Region=Thailand",
         "line": {
          "color": "#19d3f3",
          "dash": "solid"
         },
         "mode": "lines",
         "name": "Country/Region=Thailand",
         "showlegend": true,
         "type": "scattergl",
         "x": [
          "22/01",
          "23/01",
          "24/01",
          "25/01",
          "26/01",
          "27/01",
          "28/01",
          "29/01",
          "30/01",
          "31/01",
          "01/02",
          "02/02",
          "03/02",
          "04/02",
          "05/02",
          "06/02",
          "07/02",
          "08/02",
          "09/02",
          "10/02",
          "11/02",
          "12/02",
          "13/02",
          "14/02",
          "15/02",
          "16/02",
          "17/02",
          "18/02",
          "19/02",
          "20/02",
          "21/02",
          "22/02",
          "23/02",
          "24/02",
          "25/02",
          "26/02",
          "27/02",
          "28/02",
          "29/02",
          "01/03",
          "02/03",
          "03/03",
          "04/03",
          "05/03",
          "06/03",
          "07/03"
         ],
         "xaxis": "x",
         "y": [
          2,
          3,
          5,
          7,
          8,
          8,
          14,
          14,
          14,
          19,
          19,
          19,
          19,
          25,
          25,
          25,
          25,
          32,
          32,
          32,
          33,
          33,
          33,
          33,
          33,
          34,
          35,
          35,
          35,
          35,
          35,
          35,
          35,
          35,
          37,
          40,
          40,
          41,
          42,
          42,
          43,
          43,
          43,
          47,
          48,
          50
         ],
         "yaxis": "y"
        },
        {
         "hoverlabel": {
          "namelength": 0
         },
         "hovertemplate": "<b>%{hovertext}</b><br><br>Country/Region=US<br>ObservationDate=%{x}<br>Confirmed=%{y}",
         "hovertext": [
          "US",
          "US",
          "US",
          "US",
          "US",
          "US",
          "US",
          "US",
          "US",
          "US",
          "US",
          "US",
          "US",
          "US",
          "US",
          "US",
          "US",
          "US",
          "US",
          "US",
          "US",
          "US",
          "US",
          "US",
          "US",
          "US",
          "US",
          "US",
          "US",
          "US",
          "US",
          "US",
          "US",
          "US",
          "US",
          "US",
          "US",
          "US",
          "US",
          "US",
          "US",
          "US",
          "US",
          "US",
          "US",
          "US"
         ],
         "legendgroup": "Country/Region=US",
         "line": {
          "color": "#FF6692",
          "dash": "solid"
         },
         "mode": "lines",
         "name": "Country/Region=US",
         "showlegend": true,
         "type": "scattergl",
         "x": [
          "22/01",
          "23/01",
          "24/01",
          "25/01",
          "26/01",
          "27/01",
          "28/01",
          "29/01",
          "30/01",
          "31/01",
          "01/02",
          "02/02",
          "03/02",
          "04/02",
          "05/02",
          "06/02",
          "07/02",
          "08/02",
          "09/02",
          "10/02",
          "11/02",
          "12/02",
          "13/02",
          "14/02",
          "15/02",
          "16/02",
          "17/02",
          "18/02",
          "19/02",
          "20/02",
          "21/02",
          "22/02",
          "23/02",
          "24/02",
          "25/02",
          "26/02",
          "27/02",
          "28/02",
          "29/02",
          "01/03",
          "02/03",
          "03/03",
          "04/03",
          "05/03",
          "06/03",
          "07/03"
         ],
         "xaxis": "x",
         "y": [
          1,
          1,
          2,
          2,
          5,
          5,
          5,
          5,
          5,
          6,
          8,
          8,
          11,
          11,
          12,
          12,
          12,
          12,
          12,
          12,
          13,
          13,
          15,
          15,
          15,
          15,
          15,
          15,
          15,
          15,
          35,
          35,
          35,
          53,
          53,
          59,
          60,
          62,
          70,
          76,
          101,
          122,
          153,
          221,
          278,
          417
         ],
         "yaxis": "y"
        },
        {
         "hoverlabel": {
          "namelength": 0
         },
         "hovertemplate": "<b>%{hovertext}</b><br><br>Country/Region=Vietnam<br>ObservationDate=%{x}<br>Confirmed=%{y}",
         "hovertext": [
          "Vietnam",
          "Vietnam",
          "Vietnam",
          "Vietnam",
          "Vietnam",
          "Vietnam",
          "Vietnam",
          "Vietnam",
          "Vietnam",
          "Vietnam",
          "Vietnam",
          "Vietnam",
          "Vietnam",
          "Vietnam",
          "Vietnam",
          "Vietnam",
          "Vietnam",
          "Vietnam",
          "Vietnam",
          "Vietnam",
          "Vietnam",
          "Vietnam",
          "Vietnam",
          "Vietnam",
          "Vietnam",
          "Vietnam",
          "Vietnam",
          "Vietnam",
          "Vietnam",
          "Vietnam",
          "Vietnam",
          "Vietnam",
          "Vietnam",
          "Vietnam",
          "Vietnam",
          "Vietnam",
          "Vietnam",
          "Vietnam",
          "Vietnam",
          "Vietnam",
          "Vietnam",
          "Vietnam",
          "Vietnam",
          "Vietnam",
          "Vietnam"
         ],
         "legendgroup": "Country/Region=Vietnam",
         "line": {
          "color": "#B6E880",
          "dash": "solid"
         },
         "mode": "lines",
         "name": "Country/Region=Vietnam",
         "showlegend": true,
         "type": "scattergl",
         "x": [
          "23/01",
          "24/01",
          "25/01",
          "26/01",
          "27/01",
          "28/01",
          "29/01",
          "30/01",
          "31/01",
          "01/02",
          "02/02",
          "03/02",
          "04/02",
          "05/02",
          "06/02",
          "07/02",
          "08/02",
          "09/02",
          "10/02",
          "11/02",
          "12/02",
          "13/02",
          "14/02",
          "15/02",
          "16/02",
          "17/02",
          "18/02",
          "19/02",
          "20/02",
          "21/02",
          "22/02",
          "23/02",
          "24/02",
          "25/02",
          "26/02",
          "27/02",
          "28/02",
          "29/02",
          "01/03",
          "02/03",
          "03/03",
          "04/03",
          "05/03",
          "06/03",
          "07/03"
         ],
         "xaxis": "x",
         "y": [
          2,
          2,
          2,
          2,
          2,
          2,
          2,
          2,
          2,
          6,
          6,
          8,
          8,
          8,
          10,
          10,
          13,
          13,
          14,
          15,
          15,
          16,
          16,
          16,
          16,
          16,
          16,
          16,
          16,
          16,
          16,
          16,
          16,
          16,
          16,
          16,
          16,
          16,
          16,
          16,
          16,
          16,
          16,
          16,
          18
         ],
         "yaxis": "y"
        },
        {
         "hoverlabel": {
          "namelength": 0
         },
         "hovertemplate": "<b>%{hovertext}</b><br><br>Country/Region=Singapore<br>ObservationDate=%{x}<br>Confirmed=%{y}",
         "hovertext": [
          "Singapore",
          "Singapore",
          "Singapore",
          "Singapore",
          "Singapore",
          "Singapore",
          "Singapore",
          "Singapore",
          "Singapore",
          "Singapore",
          "Singapore",
          "Singapore",
          "Singapore",
          "Singapore",
          "Singapore",
          "Singapore",
          "Singapore",
          "Singapore",
          "Singapore",
          "Singapore",
          "Singapore",
          "Singapore",
          "Singapore",
          "Singapore",
          "Singapore",
          "Singapore",
          "Singapore",
          "Singapore",
          "Singapore",
          "Singapore",
          "Singapore",
          "Singapore",
          "Singapore",
          "Singapore",
          "Singapore",
          "Singapore",
          "Singapore",
          "Singapore",
          "Singapore",
          "Singapore",
          "Singapore",
          "Singapore",
          "Singapore",
          "Singapore",
          "Singapore"
         ],
         "legendgroup": "Country/Region=Singapore",
         "line": {
          "color": "#FF97FF",
          "dash": "solid"
         },
         "mode": "lines",
         "name": "Country/Region=Singapore",
         "showlegend": true,
         "type": "scattergl",
         "x": [
          "23/01",
          "24/01",
          "25/01",
          "26/01",
          "27/01",
          "28/01",
          "29/01",
          "30/01",
          "31/01",
          "01/02",
          "02/02",
          "03/02",
          "04/02",
          "05/02",
          "06/02",
          "07/02",
          "08/02",
          "09/02",
          "10/02",
          "11/02",
          "12/02",
          "13/02",
          "14/02",
          "15/02",
          "16/02",
          "17/02",
          "18/02",
          "19/02",
          "20/02",
          "21/02",
          "22/02",
          "23/02",
          "24/02",
          "25/02",
          "26/02",
          "27/02",
          "28/02",
          "29/02",
          "01/03",
          "02/03",
          "03/03",
          "04/03",
          "05/03",
          "06/03",
          "07/03"
         ],
         "xaxis": "x",
         "y": [
          1,
          3,
          3,
          4,
          5,
          7,
          7,
          10,
          13,
          16,
          18,
          18,
          24,
          28,
          28,
          30,
          33,
          40,
          45,
          47,
          50,
          58,
          67,
          72,
          75,
          77,
          81,
          84,
          84,
          85,
          85,
          89,
          89,
          91,
          93,
          93,
          93,
          102,
          106,
          108,
          110,
          110,
          117,
          130,
          138
         ],
         "yaxis": "y"
        },
        {
         "hoverlabel": {
          "namelength": 0
         },
         "hovertemplate": "<b>%{hovertext}</b><br><br>Country/Region=Philippines<br>ObservationDate=%{x}<br>Confirmed=%{y}",
         "hovertext": [
          "Philippines",
          "Philippines",
          "Philippines",
          "Philippines",
          "Philippines",
          "Philippines",
          "Philippines",
          "Philippines",
          "Philippines",
          "Philippines",
          "Philippines",
          "Philippines",
          "Philippines",
          "Philippines",
          "Philippines",
          "Philippines",
          "Philippines",
          "Philippines",
          "Philippines",
          "Philippines",
          "Philippines",
          "Philippines",
          "Philippines",
          "Philippines",
          "Philippines",
          "Philippines",
          "Philippines",
          "Philippines",
          "Philippines",
          "Philippines",
          "Philippines",
          "Philippines",
          "Philippines",
          "Philippines",
          "Philippines",
          "Philippines",
          "Philippines",
          "Philippines",
          "Philippines"
         ],
         "legendgroup": "Country/Region=Philippines",
         "line": {
          "color": "#FECB52",
          "dash": "solid"
         },
         "mode": "lines",
         "name": "Country/Region=Philippines",
         "showlegend": true,
         "type": "scattergl",
         "x": [
          "23/01",
          "30/01",
          "31/01",
          "01/02",
          "02/02",
          "03/02",
          "04/02",
          "05/02",
          "06/02",
          "07/02",
          "08/02",
          "09/02",
          "10/02",
          "11/02",
          "12/02",
          "13/02",
          "14/02",
          "15/02",
          "16/02",
          "17/02",
          "18/02",
          "19/02",
          "20/02",
          "21/02",
          "22/02",
          "23/02",
          "24/02",
          "25/02",
          "26/02",
          "27/02",
          "28/02",
          "29/02",
          "01/03",
          "02/03",
          "03/03",
          "04/03",
          "05/03",
          "06/03",
          "07/03"
         ],
         "xaxis": "x",
         "y": [
          0,
          1,
          1,
          1,
          2,
          2,
          2,
          2,
          2,
          3,
          3,
          3,
          3,
          3,
          3,
          3,
          3,
          3,
          3,
          3,
          3,
          3,
          3,
          3,
          3,
          3,
          3,
          3,
          3,
          3,
          3,
          3,
          3,
          3,
          3,
          3,
          3,
          5,
          6
         ],
         "yaxis": "y"
        },
        {
         "hoverlabel": {
          "namelength": 0
         },
         "hovertemplate": "<b>%{hovertext}</b><br><br>Country/Region=Mexico<br>ObservationDate=%{x}<br>Confirmed=%{y}",
         "hovertext": [
          "Mexico",
          "Mexico",
          "Mexico",
          "Mexico",
          "Mexico",
          "Mexico",
          "Mexico",
          "Mexico",
          "Mexico",
          "Mexico"
         ],
         "legendgroup": "Country/Region=Mexico",
         "line": {
          "color": "#636efa",
          "dash": "solid"
         },
         "mode": "lines",
         "name": "Country/Region=Mexico",
         "showlegend": true,
         "type": "scattergl",
         "x": [
          "23/01",
          "28/02",
          "29/02",
          "01/03",
          "02/03",
          "03/03",
          "04/03",
          "05/03",
          "06/03",
          "07/03"
         ],
         "xaxis": "x",
         "y": [
          0,
          1,
          4,
          5,
          5,
          5,
          5,
          5,
          6,
          6
         ],
         "yaxis": "y"
        },
        {
         "hoverlabel": {
          "namelength": 0
         },
         "hovertemplate": "<b>%{hovertext}</b><br><br>Country/Region=Colombia<br>ObservationDate=%{x}<br>Confirmed=%{y}",
         "hovertext": [
          "Colombia",
          "Colombia",
          "Colombia"
         ],
         "legendgroup": "Country/Region=Colombia",
         "line": {
          "color": "#EF553B",
          "dash": "solid"
         },
         "mode": "lines",
         "name": "Country/Region=Colombia",
         "showlegend": true,
         "type": "scattergl",
         "x": [
          "23/01",
          "06/03",
          "07/03"
         ],
         "xaxis": "x",
         "y": [
          0,
          1,
          1
         ],
         "yaxis": "y"
        },
        {
         "hoverlabel": {
          "namelength": 0
         },
         "hovertemplate": "<b>%{hovertext}</b><br><br>Country/Region=Brazil<br>ObservationDate=%{x}<br>Confirmed=%{y}",
         "hovertext": [
          "Brazil",
          "Brazil",
          "Brazil",
          "Brazil",
          "Brazil",
          "Brazil",
          "Brazil",
          "Brazil",
          "Brazil",
          "Brazil",
          "Brazil",
          "Brazil"
         ],
         "legendgroup": "Country/Region=Brazil",
         "line": {
          "color": "#00cc96",
          "dash": "solid"
         },
         "mode": "lines",
         "name": "Country/Region=Brazil",
         "showlegend": true,
         "type": "scattergl",
         "x": [
          "23/01",
          "26/02",
          "27/02",
          "28/02",
          "29/02",
          "01/03",
          "02/03",
          "03/03",
          "04/03",
          "05/03",
          "06/03",
          "07/03"
         ],
         "xaxis": "x",
         "y": [
          0,
          1,
          1,
          1,
          2,
          2,
          2,
          2,
          4,
          4,
          13,
          13
         ],
         "yaxis": "y"
        },
        {
         "hoverlabel": {
          "namelength": 0
         },
         "hovertemplate": "<b>%{hovertext}</b><br><br>Country/Region=Australia<br>ObservationDate=%{x}<br>Confirmed=%{y}",
         "hovertext": [
          "Australia",
          "Australia",
          "Australia",
          "Australia",
          "Australia",
          "Australia",
          "Australia",
          "Australia",
          "Australia",
          "Australia",
          "Australia",
          "Australia",
          "Australia",
          "Australia",
          "Australia",
          "Australia",
          "Australia",
          "Australia",
          "Australia",
          "Australia",
          "Australia",
          "Australia",
          "Australia",
          "Australia",
          "Australia",
          "Australia",
          "Australia",
          "Australia",
          "Australia",
          "Australia",
          "Australia",
          "Australia",
          "Australia",
          "Australia",
          "Australia",
          "Australia",
          "Australia",
          "Australia",
          "Australia",
          "Australia",
          "Australia",
          "Australia",
          "Australia",
          "Australia"
         ],
         "legendgroup": "Country/Region=Australia",
         "line": {
          "color": "#ab63fa",
          "dash": "solid"
         },
         "mode": "lines",
         "name": "Country/Region=Australia",
         "showlegend": true,
         "type": "scattergl",
         "x": [
          "23/01",
          "25/01",
          "26/01",
          "27/01",
          "28/01",
          "29/01",
          "30/01",
          "31/01",
          "01/02",
          "02/02",
          "03/02",
          "04/02",
          "05/02",
          "06/02",
          "07/02",
          "08/02",
          "09/02",
          "10/02",
          "11/02",
          "12/02",
          "13/02",
          "14/02",
          "15/02",
          "16/02",
          "17/02",
          "18/02",
          "19/02",
          "20/02",
          "21/02",
          "22/02",
          "23/02",
          "24/02",
          "25/02",
          "26/02",
          "27/02",
          "28/02",
          "29/02",
          "01/03",
          "02/03",
          "03/03",
          "04/03",
          "05/03",
          "06/03",
          "07/03"
         ],
         "xaxis": "x",
         "y": [
          0,
          4,
          4,
          5,
          5,
          5,
          9,
          9,
          12,
          12,
          12,
          13,
          13,
          14,
          15,
          15,
          15,
          15,
          15,
          15,
          15,
          15,
          15,
          15,
          15,
          15,
          15,
          15,
          19,
          22,
          22,
          22,
          22,
          22,
          23,
          23,
          25,
          27,
          30,
          39,
          52,
          55,
          60,
          63
         ],
         "yaxis": "y"
        },
        {
         "hoverlabel": {
          "namelength": 0
         },
         "hovertemplate": "<b>%{hovertext}</b><br><br>Country/Region=Malaysia<br>ObservationDate=%{x}<br>Confirmed=%{y}",
         "hovertext": [
          "Malaysia",
          "Malaysia",
          "Malaysia",
          "Malaysia",
          "Malaysia",
          "Malaysia",
          "Malaysia",
          "Malaysia",
          "Malaysia",
          "Malaysia",
          "Malaysia",
          "Malaysia",
          "Malaysia",
          "Malaysia",
          "Malaysia",
          "Malaysia",
          "Malaysia",
          "Malaysia",
          "Malaysia",
          "Malaysia",
          "Malaysia",
          "Malaysia",
          "Malaysia",
          "Malaysia",
          "Malaysia",
          "Malaysia",
          "Malaysia",
          "Malaysia",
          "Malaysia",
          "Malaysia",
          "Malaysia",
          "Malaysia",
          "Malaysia",
          "Malaysia",
          "Malaysia",
          "Malaysia",
          "Malaysia",
          "Malaysia",
          "Malaysia",
          "Malaysia",
          "Malaysia",
          "Malaysia",
          "Malaysia",
          "Malaysia"
         ],
         "legendgroup": "Country/Region=Malaysia",
         "line": {
          "color": "#FFA15A",
          "dash": "solid"
         },
         "mode": "lines",
         "name": "Country/Region=Malaysia",
         "showlegend": true,
         "type": "scattergl",
         "x": [
          "23/01",
          "25/01",
          "26/01",
          "27/01",
          "28/01",
          "29/01",
          "30/01",
          "31/01",
          "01/02",
          "02/02",
          "03/02",
          "04/02",
          "05/02",
          "06/02",
          "07/02",
          "08/02",
          "09/02",
          "10/02",
          "11/02",
          "12/02",
          "13/02",
          "14/02",
          "15/02",
          "16/02",
          "17/02",
          "18/02",
          "19/02",
          "20/02",
          "21/02",
          "22/02",
          "23/02",
          "24/02",
          "25/02",
          "26/02",
          "27/02",
          "28/02",
          "29/02",
          "01/03",
          "02/03",
          "03/03",
          "04/03",
          "05/03",
          "06/03",
          "07/03"
         ],
         "xaxis": "x",
         "y": [
          0,
          3,
          4,
          4,
          4,
          7,
          8,
          8,
          8,
          8,
          8,
          10,
          12,
          12,
          12,
          16,
          16,
          18,
          18,
          18,
          19,
          19,
          22,
          22,
          22,
          22,
          22,
          22,
          22,
          22,
          22,
          22,
          22,
          22,
          23,
          23,
          25,
          29,
          29,
          36,
          50,
          50,
          83,
          93
         ],
         "yaxis": "y"
        },
        {
         "hoverlabel": {
          "namelength": 0
         },
         "hovertemplate": "<b>%{hovertext}</b><br><br>Country/Region=France<br>ObservationDate=%{x}<br>Confirmed=%{y}",
         "hovertext": [
          "France",
          "France",
          "France",
          "France",
          "France",
          "France",
          "France",
          "France",
          "France",
          "France",
          "France",
          "France",
          "France",
          "France",
          "France",
          "France",
          "France",
          "France",
          "France",
          "France",
          "France",
          "France",
          "France",
          "France",
          "France",
          "France",
          "France",
          "France",
          "France",
          "France",
          "France",
          "France",
          "France",
          "France",
          "France",
          "France",
          "France",
          "France",
          "France",
          "France",
          "France",
          "France",
          "France",
          "France"
         ],
         "legendgroup": "Country/Region=France",
         "line": {
          "color": "#19d3f3",
          "dash": "solid"
         },
         "mode": "lines",
         "name": "Country/Region=France",
         "showlegend": true,
         "type": "scattergl",
         "x": [
          "24/01",
          "25/01",
          "26/01",
          "27/01",
          "28/01",
          "29/01",
          "30/01",
          "31/01",
          "01/02",
          "02/02",
          "03/02",
          "04/02",
          "05/02",
          "06/02",
          "07/02",
          "08/02",
          "09/02",
          "10/02",
          "11/02",
          "12/02",
          "13/02",
          "14/02",
          "15/02",
          "16/02",
          "17/02",
          "18/02",
          "19/02",
          "20/02",
          "21/02",
          "22/02",
          "23/02",
          "24/02",
          "25/02",
          "26/02",
          "27/02",
          "28/02",
          "29/02",
          "01/03",
          "02/03",
          "03/03",
          "04/03",
          "05/03",
          "06/03",
          "07/03"
         ],
         "xaxis": "x",
         "y": [
          2,
          3,
          3,
          3,
          4,
          5,
          5,
          5,
          6,
          6,
          6,
          6,
          6,
          6,
          6,
          11,
          11,
          11,
          11,
          11,
          11,
          11,
          12,
          12,
          12,
          12,
          12,
          12,
          12,
          12,
          12,
          12,
          14,
          18,
          38,
          57,
          100,
          130,
          191,
          204,
          285,
          377,
          653,
          949
         ],
         "yaxis": "y"
        },
        {
         "hoverlabel": {
          "namelength": 0
         },
         "hovertemplate": "<b>%{hovertext}</b><br><br>Country/Region=Nepal<br>ObservationDate=%{x}<br>Confirmed=%{y}",
         "hovertext": [
          "Nepal",
          "Nepal",
          "Nepal",
          "Nepal",
          "Nepal",
          "Nepal",
          "Nepal",
          "Nepal",
          "Nepal",
          "Nepal",
          "Nepal",
          "Nepal",
          "Nepal",
          "Nepal",
          "Nepal",
          "Nepal",
          "Nepal",
          "Nepal",
          "Nepal",
          "Nepal",
          "Nepal",
          "Nepal",
          "Nepal",
          "Nepal",
          "Nepal",
          "Nepal",
          "Nepal",
          "Nepal",
          "Nepal",
          "Nepal",
          "Nepal",
          "Nepal",
          "Nepal",
          "Nepal",
          "Nepal",
          "Nepal",
          "Nepal",
          "Nepal",
          "Nepal",
          "Nepal",
          "Nepal",
          "Nepal",
          "Nepal"
         ],
         "legendgroup": "Country/Region=Nepal",
         "line": {
          "color": "#FF6692",
          "dash": "solid"
         },
         "mode": "lines",
         "name": "Country/Region=Nepal",
         "showlegend": true,
         "type": "scattergl",
         "x": [
          "25/01",
          "26/01",
          "27/01",
          "28/01",
          "29/01",
          "30/01",
          "31/01",
          "01/02",
          "02/02",
          "03/02",
          "04/02",
          "05/02",
          "06/02",
          "07/02",
          "08/02",
          "09/02",
          "10/02",
          "11/02",
          "12/02",
          "13/02",
          "14/02",
          "15/02",
          "16/02",
          "17/02",
          "18/02",
          "19/02",
          "20/02",
          "21/02",
          "22/02",
          "23/02",
          "24/02",
          "25/02",
          "26/02",
          "27/02",
          "28/02",
          "29/02",
          "01/03",
          "02/03",
          "03/03",
          "04/03",
          "05/03",
          "06/03",
          "07/03"
         ],
         "xaxis": "x",
         "y": [
          1,
          1,
          1,
          1,
          1,
          1,
          1,
          1,
          1,
          1,
          1,
          1,
          1,
          1,
          1,
          1,
          1,
          1,
          1,
          1,
          1,
          1,
          1,
          1,
          1,
          1,
          1,
          1,
          1,
          1,
          1,
          1,
          1,
          1,
          1,
          1,
          1,
          1,
          1,
          1,
          1,
          1,
          1
         ],
         "yaxis": "y"
        },
        {
         "hoverlabel": {
          "namelength": 0
         },
         "hovertemplate": "<b>%{hovertext}</b><br><br>Country/Region=Canada<br>ObservationDate=%{x}<br>Confirmed=%{y}",
         "hovertext": [
          "Canada",
          "Canada",
          "Canada",
          "Canada",
          "Canada",
          "Canada",
          "Canada",
          "Canada",
          "Canada",
          "Canada",
          "Canada",
          "Canada",
          "Canada",
          "Canada",
          "Canada",
          "Canada",
          "Canada",
          "Canada",
          "Canada",
          "Canada",
          "Canada",
          "Canada",
          "Canada",
          "Canada",
          "Canada",
          "Canada",
          "Canada",
          "Canada",
          "Canada",
          "Canada",
          "Canada",
          "Canada",
          "Canada",
          "Canada",
          "Canada",
          "Canada",
          "Canada",
          "Canada",
          "Canada",
          "Canada",
          "Canada",
          "Canada"
         ],
         "legendgroup": "Country/Region=Canada",
         "line": {
          "color": "#B6E880",
          "dash": "solid"
         },
         "mode": "lines",
         "name": "Country/Region=Canada",
         "showlegend": true,
         "type": "scattergl",
         "x": [
          "26/01",
          "27/01",
          "28/01",
          "29/01",
          "30/01",
          "31/01",
          "01/02",
          "02/02",
          "03/02",
          "04/02",
          "05/02",
          "06/02",
          "07/02",
          "08/02",
          "09/02",
          "10/02",
          "11/02",
          "12/02",
          "13/02",
          "14/02",
          "15/02",
          "16/02",
          "17/02",
          "18/02",
          "19/02",
          "20/02",
          "21/02",
          "22/02",
          "23/02",
          "24/02",
          "25/02",
          "26/02",
          "27/02",
          "28/02",
          "29/02",
          "01/03",
          "02/03",
          "03/03",
          "04/03",
          "05/03",
          "06/03",
          "07/03"
         ],
         "xaxis": "x",
         "y": [
          1,
          1,
          2,
          2,
          3,
          3,
          4,
          4,
          4,
          4,
          5,
          5,
          7,
          7,
          7,
          7,
          7,
          7,
          7,
          7,
          7,
          7,
          8,
          8,
          8,
          8,
          9,
          9,
          9,
          10,
          11,
          11,
          13,
          14,
          20,
          24,
          27,
          30,
          33,
          37,
          49,
          54
         ],
         "yaxis": "y"
        },
        {
         "hoverlabel": {
          "namelength": 0
         },
         "hovertemplate": "<b>%{hovertext}</b><br><br>Country/Region=Sri Lanka<br>ObservationDate=%{x}<br>Confirmed=%{y}",
         "hovertext": [
          "Sri Lanka",
          "Sri Lanka",
          "Sri Lanka",
          "Sri Lanka",
          "Sri Lanka",
          "Sri Lanka",
          "Sri Lanka",
          "Sri Lanka",
          "Sri Lanka",
          "Sri Lanka",
          "Sri Lanka",
          "Sri Lanka",
          "Sri Lanka",
          "Sri Lanka",
          "Sri Lanka",
          "Sri Lanka",
          "Sri Lanka",
          "Sri Lanka",
          "Sri Lanka",
          "Sri Lanka",
          "Sri Lanka",
          "Sri Lanka",
          "Sri Lanka",
          "Sri Lanka",
          "Sri Lanka",
          "Sri Lanka",
          "Sri Lanka",
          "Sri Lanka",
          "Sri Lanka",
          "Sri Lanka",
          "Sri Lanka",
          "Sri Lanka",
          "Sri Lanka",
          "Sri Lanka",
          "Sri Lanka",
          "Sri Lanka",
          "Sri Lanka",
          "Sri Lanka",
          "Sri Lanka",
          "Sri Lanka",
          "Sri Lanka"
         ],
         "legendgroup": "Country/Region=Sri Lanka",
         "line": {
          "color": "#FF97FF",
          "dash": "solid"
         },
         "mode": "lines",
         "name": "Country/Region=Sri Lanka",
         "showlegend": true,
         "type": "scattergl",
         "x": [
          "27/01",
          "28/01",
          "29/01",
          "30/01",
          "31/01",
          "01/02",
          "02/02",
          "03/02",
          "04/02",
          "05/02",
          "06/02",
          "07/02",
          "08/02",
          "09/02",
          "10/02",
          "11/02",
          "12/02",
          "13/02",
          "14/02",
          "15/02",
          "16/02",
          "17/02",
          "18/02",
          "19/02",
          "20/02",
          "21/02",
          "22/02",
          "23/02",
          "24/02",
          "25/02",
          "26/02",
          "27/02",
          "28/02",
          "29/02",
          "01/03",
          "02/03",
          "03/03",
          "04/03",
          "05/03",
          "06/03",
          "07/03"
         ],
         "xaxis": "x",
         "y": [
          1,
          1,
          1,
          1,
          1,
          1,
          1,
          1,
          1,
          1,
          1,
          1,
          1,
          1,
          1,
          1,
          1,
          1,
          1,
          1,
          1,
          1,
          1,
          1,
          1,
          1,
          1,
          1,
          1,
          1,
          1,
          1,
          1,
          1,
          1,
          1,
          1,
          1,
          1,
          1,
          1
         ],
         "yaxis": "y"
        },
        {
         "hoverlabel": {
          "namelength": 0
         },
         "hovertemplate": "<b>%{hovertext}</b><br><br>Country/Region=Ivory Coast<br>ObservationDate=%{x}<br>Confirmed=%{y}",
         "hovertext": [
          "Ivory Coast"
         ],
         "legendgroup": "Country/Region=Ivory Coast",
         "line": {
          "color": "#FECB52",
          "dash": "solid"
         },
         "mode": "lines",
         "name": "Country/Region=Ivory Coast",
         "showlegend": true,
         "type": "scattergl",
         "x": [
          "27/01"
         ],
         "xaxis": "x",
         "y": [
          1
         ],
         "yaxis": "y"
        },
        {
         "hoverlabel": {
          "namelength": 0
         },
         "hovertemplate": "<b>%{hovertext}</b><br><br>Country/Region=Cambodia<br>ObservationDate=%{x}<br>Confirmed=%{y}",
         "hovertext": [
          "Cambodia",
          "Cambodia",
          "Cambodia",
          "Cambodia",
          "Cambodia",
          "Cambodia",
          "Cambodia",
          "Cambodia",
          "Cambodia",
          "Cambodia",
          "Cambodia",
          "Cambodia",
          "Cambodia",
          "Cambodia",
          "Cambodia",
          "Cambodia",
          "Cambodia",
          "Cambodia",
          "Cambodia",
          "Cambodia",
          "Cambodia",
          "Cambodia",
          "Cambodia",
          "Cambodia",
          "Cambodia",
          "Cambodia",
          "Cambodia",
          "Cambodia",
          "Cambodia",
          "Cambodia",
          "Cambodia",
          "Cambodia",
          "Cambodia",
          "Cambodia",
          "Cambodia",
          "Cambodia",
          "Cambodia",
          "Cambodia",
          "Cambodia",
          "Cambodia",
          "Cambodia"
         ],
         "legendgroup": "Country/Region=Cambodia",
         "line": {
          "color": "#636efa",
          "dash": "solid"
         },
         "mode": "lines",
         "name": "Country/Region=Cambodia",
         "showlegend": true,
         "type": "scattergl",
         "x": [
          "27/01",
          "28/01",
          "29/01",
          "30/01",
          "31/01",
          "01/02",
          "02/02",
          "03/02",
          "04/02",
          "05/02",
          "06/02",
          "07/02",
          "08/02",
          "09/02",
          "10/02",
          "11/02",
          "12/02",
          "13/02",
          "14/02",
          "15/02",
          "16/02",
          "17/02",
          "18/02",
          "19/02",
          "20/02",
          "21/02",
          "22/02",
          "23/02",
          "24/02",
          "25/02",
          "26/02",
          "27/02",
          "28/02",
          "29/02",
          "01/03",
          "02/03",
          "03/03",
          "04/03",
          "05/03",
          "06/03",
          "07/03"
         ],
         "xaxis": "x",
         "y": [
          1,
          1,
          1,
          1,
          1,
          1,
          1,
          1,
          1,
          1,
          1,
          1,
          1,
          1,
          1,
          1,
          1,
          1,
          1,
          1,
          1,
          1,
          1,
          1,
          1,
          1,
          1,
          1,
          1,
          1,
          1,
          1,
          1,
          1,
          1,
          1,
          1,
          1,
          1,
          1,
          1
         ],
         "yaxis": "y"
        },
        {
         "hoverlabel": {
          "namelength": 0
         },
         "hovertemplate": "<b>%{hovertext}</b><br><br>Country/Region=Germany<br>ObservationDate=%{x}<br>Confirmed=%{y}",
         "hovertext": [
          "Germany",
          "Germany",
          "Germany",
          "Germany",
          "Germany",
          "Germany",
          "Germany",
          "Germany",
          "Germany",
          "Germany",
          "Germany",
          "Germany",
          "Germany",
          "Germany",
          "Germany",
          "Germany",
          "Germany",
          "Germany",
          "Germany",
          "Germany",
          "Germany",
          "Germany",
          "Germany",
          "Germany",
          "Germany",
          "Germany",
          "Germany",
          "Germany",
          "Germany",
          "Germany",
          "Germany",
          "Germany",
          "Germany",
          "Germany",
          "Germany",
          "Germany",
          "Germany",
          "Germany",
          "Germany",
          "Germany"
         ],
         "legendgroup": "Country/Region=Germany",
         "line": {
          "color": "#EF553B",
          "dash": "solid"
         },
         "mode": "lines",
         "name": "Country/Region=Germany",
         "showlegend": true,
         "type": "scattergl",
         "x": [
          "28/01",
          "29/01",
          "30/01",
          "31/01",
          "01/02",
          "02/02",
          "03/02",
          "04/02",
          "05/02",
          "06/02",
          "07/02",
          "08/02",
          "09/02",
          "10/02",
          "11/02",
          "12/02",
          "13/02",
          "14/02",
          "15/02",
          "16/02",
          "17/02",
          "18/02",
          "19/02",
          "20/02",
          "21/02",
          "22/02",
          "23/02",
          "24/02",
          "25/02",
          "26/02",
          "27/02",
          "28/02",
          "29/02",
          "01/03",
          "02/03",
          "03/03",
          "04/03",
          "05/03",
          "06/03",
          "07/03"
         ],
         "xaxis": "x",
         "y": [
          4,
          4,
          4,
          5,
          8,
          10,
          12,
          12,
          12,
          12,
          13,
          13,
          14,
          14,
          16,
          16,
          16,
          16,
          16,
          16,
          16,
          16,
          16,
          16,
          16,
          16,
          16,
          16,
          17,
          27,
          46,
          48,
          79,
          130,
          159,
          196,
          262,
          482,
          670,
          799
         ],
         "yaxis": "y"
        },
        {
         "hoverlabel": {
          "namelength": 0
         },
         "hovertemplate": "<b>%{hovertext}</b><br><br>Country/Region=United Arab Emirates<br>ObservationDate=%{x}<br>Confirmed=%{y}",
         "hovertext": [
          "United Arab Emirates",
          "United Arab Emirates",
          "United Arab Emirates",
          "United Arab Emirates",
          "United Arab Emirates",
          "United Arab Emirates",
          "United Arab Emirates",
          "United Arab Emirates",
          "United Arab Emirates",
          "United Arab Emirates",
          "United Arab Emirates",
          "United Arab Emirates",
          "United Arab Emirates",
          "United Arab Emirates",
          "United Arab Emirates",
          "United Arab Emirates",
          "United Arab Emirates",
          "United Arab Emirates",
          "United Arab Emirates",
          "United Arab Emirates",
          "United Arab Emirates",
          "United Arab Emirates",
          "United Arab Emirates",
          "United Arab Emirates",
          "United Arab Emirates",
          "United Arab Emirates",
          "United Arab Emirates",
          "United Arab Emirates",
          "United Arab Emirates",
          "United Arab Emirates",
          "United Arab Emirates",
          "United Arab Emirates",
          "United Arab Emirates",
          "United Arab Emirates",
          "United Arab Emirates",
          "United Arab Emirates",
          "United Arab Emirates",
          "United Arab Emirates",
          "United Arab Emirates"
         ],
         "legendgroup": "Country/Region=United Arab Emirates",
         "line": {
          "color": "#00cc96",
          "dash": "solid"
         },
         "mode": "lines",
         "name": "Country/Region=United Arab Emirates",
         "showlegend": true,
         "type": "scattergl",
         "x": [
          "29/01",
          "30/01",
          "31/01",
          "01/02",
          "02/02",
          "03/02",
          "04/02",
          "05/02",
          "06/02",
          "07/02",
          "08/02",
          "09/02",
          "10/02",
          "11/02",
          "12/02",
          "13/02",
          "14/02",
          "15/02",
          "16/02",
          "17/02",
          "18/02",
          "19/02",
          "20/02",
          "21/02",
          "22/02",
          "23/02",
          "24/02",
          "25/02",
          "26/02",
          "27/02",
          "28/02",
          "29/02",
          "01/03",
          "02/03",
          "03/03",
          "04/03",
          "05/03",
          "06/03",
          "07/03"
         ],
         "xaxis": "x",
         "y": [
          4,
          4,
          4,
          4,
          5,
          5,
          5,
          5,
          5,
          5,
          7,
          7,
          8,
          8,
          8,
          8,
          8,
          8,
          9,
          9,
          9,
          9,
          9,
          9,
          13,
          13,
          13,
          13,
          13,
          13,
          19,
          21,
          21,
          21,
          27,
          27,
          29,
          29,
          45
         ],
         "yaxis": "y"
        },
        {
         "hoverlabel": {
          "namelength": 0
         },
         "hovertemplate": "<b>%{hovertext}</b><br><br>Country/Region=Finland<br>ObservationDate=%{x}<br>Confirmed=%{y}",
         "hovertext": [
          "Finland",
          "Finland",
          "Finland",
          "Finland",
          "Finland",
          "Finland",
          "Finland",
          "Finland",
          "Finland",
          "Finland",
          "Finland",
          "Finland",
          "Finland",
          "Finland",
          "Finland",
          "Finland",
          "Finland",
          "Finland",
          "Finland",
          "Finland",
          "Finland",
          "Finland",
          "Finland",
          "Finland",
          "Finland",
          "Finland",
          "Finland",
          "Finland",
          "Finland",
          "Finland",
          "Finland",
          "Finland",
          "Finland",
          "Finland",
          "Finland",
          "Finland",
          "Finland",
          "Finland",
          "Finland"
         ],
         "legendgroup": "Country/Region=Finland",
         "line": {
          "color": "#ab63fa",
          "dash": "solid"
         },
         "mode": "lines",
         "name": "Country/Region=Finland",
         "showlegend": true,
         "type": "scattergl",
         "x": [
          "29/01",
          "30/01",
          "31/01",
          "01/02",
          "02/02",
          "03/02",
          "04/02",
          "05/02",
          "06/02",
          "07/02",
          "08/02",
          "09/02",
          "10/02",
          "11/02",
          "12/02",
          "13/02",
          "14/02",
          "15/02",
          "16/02",
          "17/02",
          "18/02",
          "19/02",
          "20/02",
          "21/02",
          "22/02",
          "23/02",
          "24/02",
          "25/02",
          "26/02",
          "27/02",
          "28/02",
          "29/02",
          "01/03",
          "02/03",
          "03/03",
          "04/03",
          "05/03",
          "06/03",
          "07/03"
         ],
         "xaxis": "x",
         "y": [
          1,
          1,
          1,
          1,
          1,
          1,
          1,
          1,
          1,
          1,
          1,
          1,
          1,
          1,
          1,
          1,
          1,
          1,
          1,
          1,
          1,
          1,
          1,
          1,
          1,
          1,
          1,
          1,
          2,
          2,
          2,
          3,
          6,
          6,
          6,
          6,
          12,
          15,
          15
         ],
         "yaxis": "y"
        },
        {
         "hoverlabel": {
          "namelength": 0
         },
         "hovertemplate": "<b>%{hovertext}</b><br><br>Country/Region=India<br>ObservationDate=%{x}<br>Confirmed=%{y}",
         "hovertext": [
          "India",
          "India",
          "India",
          "India",
          "India",
          "India",
          "India",
          "India",
          "India",
          "India",
          "India",
          "India",
          "India",
          "India",
          "India",
          "India",
          "India",
          "India",
          "India",
          "India",
          "India",
          "India",
          "India",
          "India",
          "India",
          "India",
          "India",
          "India",
          "India",
          "India",
          "India",
          "India",
          "India",
          "India",
          "India",
          "India",
          "India",
          "India"
         ],
         "legendgroup": "Country/Region=India",
         "line": {
          "color": "#FFA15A",
          "dash": "solid"
         },
         "mode": "lines",
         "name": "Country/Region=India",
         "showlegend": true,
         "type": "scattergl",
         "x": [
          "30/01",
          "31/01",
          "01/02",
          "02/02",
          "03/02",
          "04/02",
          "05/02",
          "06/02",
          "07/02",
          "08/02",
          "09/02",
          "10/02",
          "11/02",
          "12/02",
          "13/02",
          "14/02",
          "15/02",
          "16/02",
          "17/02",
          "18/02",
          "19/02",
          "20/02",
          "21/02",
          "22/02",
          "23/02",
          "24/02",
          "25/02",
          "26/02",
          "27/02",
          "28/02",
          "29/02",
          "01/03",
          "02/03",
          "03/03",
          "04/03",
          "05/03",
          "06/03",
          "07/03"
         ],
         "xaxis": "x",
         "y": [
          1,
          1,
          1,
          2,
          3,
          3,
          3,
          3,
          3,
          3,
          3,
          3,
          3,
          3,
          3,
          3,
          3,
          3,
          3,
          3,
          3,
          3,
          3,
          3,
          3,
          3,
          3,
          3,
          3,
          3,
          3,
          3,
          5,
          5,
          28,
          30,
          31,
          34
         ],
         "yaxis": "y"
        },
        {
         "hoverlabel": {
          "namelength": 0
         },
         "hovertemplate": "<b>%{hovertext}</b><br><br>Country/Region=Russia<br>ObservationDate=%{x}<br>Confirmed=%{y}",
         "hovertext": [
          "Russia",
          "Russia",
          "Russia",
          "Russia",
          "Russia",
          "Russia",
          "Russia",
          "Russia",
          "Russia",
          "Russia",
          "Russia",
          "Russia",
          "Russia",
          "Russia",
          "Russia",
          "Russia",
          "Russia",
          "Russia",
          "Russia",
          "Russia",
          "Russia",
          "Russia",
          "Russia",
          "Russia",
          "Russia",
          "Russia",
          "Russia",
          "Russia",
          "Russia",
          "Russia",
          "Russia",
          "Russia",
          "Russia",
          "Russia",
          "Russia",
          "Russia",
          "Russia"
         ],
         "legendgroup": "Country/Region=Russia",
         "line": {
          "color": "#19d3f3",
          "dash": "solid"
         },
         "mode": "lines",
         "name": "Country/Region=Russia",
         "showlegend": true,
         "type": "scattergl",
         "x": [
          "31/01",
          "01/02",
          "02/02",
          "03/02",
          "04/02",
          "05/02",
          "06/02",
          "07/02",
          "08/02",
          "09/02",
          "10/02",
          "11/02",
          "12/02",
          "13/02",
          "14/02",
          "15/02",
          "16/02",
          "17/02",
          "18/02",
          "19/02",
          "20/02",
          "21/02",
          "22/02",
          "23/02",
          "24/02",
          "25/02",
          "26/02",
          "27/02",
          "28/02",
          "29/02",
          "01/03",
          "02/03",
          "03/03",
          "04/03",
          "05/03",
          "06/03",
          "07/03"
         ],
         "xaxis": "x",
         "y": [
          2,
          2,
          2,
          2,
          2,
          2,
          2,
          2,
          2,
          2,
          2,
          2,
          2,
          2,
          2,
          2,
          2,
          2,
          2,
          2,
          2,
          2,
          2,
          2,
          2,
          2,
          2,
          2,
          2,
          2,
          2,
          3,
          3,
          3,
          4,
          13,
          13
         ],
         "yaxis": "y"
        },
        {
         "hoverlabel": {
          "namelength": 0
         },
         "hovertemplate": "<b>%{hovertext}</b><br><br>Country/Region=Sweden<br>ObservationDate=%{x}<br>Confirmed=%{y}",
         "hovertext": [
          "Sweden",
          "Sweden",
          "Sweden",
          "Sweden",
          "Sweden",
          "Sweden",
          "Sweden",
          "Sweden",
          "Sweden",
          "Sweden",
          "Sweden",
          "Sweden",
          "Sweden",
          "Sweden",
          "Sweden",
          "Sweden",
          "Sweden",
          "Sweden",
          "Sweden",
          "Sweden",
          "Sweden",
          "Sweden",
          "Sweden",
          "Sweden",
          "Sweden",
          "Sweden",
          "Sweden",
          "Sweden",
          "Sweden",
          "Sweden",
          "Sweden",
          "Sweden",
          "Sweden",
          "Sweden",
          "Sweden",
          "Sweden",
          "Sweden"
         ],
         "legendgroup": "Country/Region=Sweden",
         "line": {
          "color": "#FF6692",
          "dash": "solid"
         },
         "mode": "lines",
         "name": "Country/Region=Sweden",
         "showlegend": true,
         "type": "scattergl",
         "x": [
          "31/01",
          "01/02",
          "02/02",
          "03/02",
          "04/02",
          "05/02",
          "06/02",
          "07/02",
          "08/02",
          "09/02",
          "10/02",
          "11/02",
          "12/02",
          "13/02",
          "14/02",
          "15/02",
          "16/02",
          "17/02",
          "18/02",
          "19/02",
          "20/02",
          "21/02",
          "22/02",
          "23/02",
          "24/02",
          "25/02",
          "26/02",
          "27/02",
          "28/02",
          "29/02",
          "01/03",
          "02/03",
          "03/03",
          "04/03",
          "05/03",
          "06/03",
          "07/03"
         ],
         "xaxis": "x",
         "y": [
          1,
          1,
          1,
          1,
          1,
          1,
          1,
          1,
          1,
          1,
          1,
          1,
          1,
          1,
          1,
          1,
          1,
          1,
          1,
          1,
          1,
          1,
          1,
          1,
          1,
          1,
          2,
          7,
          7,
          12,
          14,
          15,
          21,
          35,
          94,
          101,
          161
         ],
         "yaxis": "y"
        },
        {
         "hoverlabel": {
          "namelength": 0
         },
         "hovertemplate": "<b>%{hovertext}</b><br><br>Country/Region=UK<br>ObservationDate=%{x}<br>Confirmed=%{y}",
         "hovertext": [
          "UK",
          "UK",
          "UK",
          "UK",
          "UK",
          "UK",
          "UK",
          "UK",
          "UK",
          "UK",
          "UK",
          "UK",
          "UK",
          "UK",
          "UK",
          "UK",
          "UK",
          "UK",
          "UK",
          "UK",
          "UK",
          "UK",
          "UK",
          "UK",
          "UK",
          "UK",
          "UK",
          "UK",
          "UK",
          "UK",
          "UK",
          "UK",
          "UK",
          "UK",
          "UK",
          "UK",
          "UK"
         ],
         "legendgroup": "Country/Region=UK",
         "line": {
          "color": "#B6E880",
          "dash": "solid"
         },
         "mode": "lines",
         "name": "Country/Region=UK",
         "showlegend": true,
         "type": "scattergl",
         "x": [
          "31/01",
          "01/02",
          "02/02",
          "03/02",
          "04/02",
          "05/02",
          "06/02",
          "07/02",
          "08/02",
          "09/02",
          "10/02",
          "11/02",
          "12/02",
          "13/02",
          "14/02",
          "15/02",
          "16/02",
          "17/02",
          "18/02",
          "19/02",
          "20/02",
          "21/02",
          "22/02",
          "23/02",
          "24/02",
          "25/02",
          "26/02",
          "27/02",
          "28/02",
          "29/02",
          "01/03",
          "02/03",
          "03/03",
          "04/03",
          "05/03",
          "06/03",
          "07/03"
         ],
         "xaxis": "x",
         "y": [
          2,
          2,
          2,
          2,
          2,
          2,
          2,
          3,
          3,
          3,
          8,
          8,
          9,
          9,
          9,
          9,
          9,
          9,
          9,
          9,
          9,
          9,
          9,
          9,
          13,
          13,
          13,
          15,
          20,
          23,
          36,
          40,
          51,
          85,
          115,
          163,
          206
         ],
         "yaxis": "y"
        },
        {
         "hoverlabel": {
          "namelength": 0
         },
         "hovertemplate": "<b>%{hovertext}</b><br><br>Country/Region=Italy<br>ObservationDate=%{x}<br>Confirmed=%{y}",
         "hovertext": [
          "Italy",
          "Italy",
          "Italy",
          "Italy",
          "Italy",
          "Italy",
          "Italy",
          "Italy",
          "Italy",
          "Italy",
          "Italy",
          "Italy",
          "Italy",
          "Italy",
          "Italy",
          "Italy",
          "Italy",
          "Italy",
          "Italy",
          "Italy",
          "Italy",
          "Italy",
          "Italy",
          "Italy",
          "Italy",
          "Italy",
          "Italy",
          "Italy",
          "Italy",
          "Italy",
          "Italy",
          "Italy",
          "Italy",
          "Italy",
          "Italy",
          "Italy",
          "Italy"
         ],
         "legendgroup": "Country/Region=Italy",
         "line": {
          "color": "#FF97FF",
          "dash": "solid"
         },
         "mode": "lines",
         "name": "Country/Region=Italy",
         "showlegend": true,
         "type": "scattergl",
         "x": [
          "31/01",
          "01/02",
          "02/02",
          "03/02",
          "04/02",
          "05/02",
          "06/02",
          "07/02",
          "08/02",
          "09/02",
          "10/02",
          "11/02",
          "12/02",
          "13/02",
          "14/02",
          "15/02",
          "16/02",
          "17/02",
          "18/02",
          "19/02",
          "20/02",
          "21/02",
          "22/02",
          "23/02",
          "24/02",
          "25/02",
          "26/02",
          "27/02",
          "28/02",
          "29/02",
          "01/03",
          "02/03",
          "03/03",
          "04/03",
          "05/03",
          "06/03",
          "07/03"
         ],
         "xaxis": "x",
         "y": [
          2,
          2,
          2,
          2,
          2,
          2,
          2,
          3,
          3,
          3,
          3,
          3,
          3,
          3,
          3,
          3,
          3,
          3,
          3,
          3,
          3,
          20,
          62,
          155,
          229,
          322,
          453,
          655,
          888,
          1128,
          1694,
          2036,
          2502,
          3089,
          3858,
          4636,
          5883
         ],
         "yaxis": "y"
        },
        {
         "hoverlabel": {
          "namelength": 0
         },
         "hovertemplate": "<b>%{hovertext}</b><br><br>Country/Region=Spain<br>ObservationDate=%{x}<br>Confirmed=%{y}",
         "hovertext": [
          "Spain",
          "Spain",
          "Spain",
          "Spain",
          "Spain",
          "Spain",
          "Spain",
          "Spain",
          "Spain",
          "Spain",
          "Spain",
          "Spain",
          "Spain",
          "Spain",
          "Spain",
          "Spain",
          "Spain",
          "Spain",
          "Spain",
          "Spain",
          "Spain",
          "Spain",
          "Spain",
          "Spain",
          "Spain",
          "Spain",
          "Spain",
          "Spain",
          "Spain",
          "Spain",
          "Spain",
          "Spain",
          "Spain",
          "Spain",
          "Spain",
          "Spain"
         ],
         "legendgroup": "Country/Region=Spain",
         "line": {
          "color": "#FECB52",
          "dash": "solid"
         },
         "mode": "lines",
         "name": "Country/Region=Spain",
         "showlegend": true,
         "type": "scattergl",
         "x": [
          "01/02",
          "02/02",
          "03/02",
          "04/02",
          "05/02",
          "06/02",
          "07/02",
          "08/02",
          "09/02",
          "10/02",
          "11/02",
          "12/02",
          "13/02",
          "14/02",
          "15/02",
          "16/02",
          "17/02",
          "18/02",
          "19/02",
          "20/02",
          "21/02",
          "22/02",
          "23/02",
          "24/02",
          "25/02",
          "26/02",
          "27/02",
          "28/02",
          "29/02",
          "01/03",
          "02/03",
          "03/03",
          "04/03",
          "05/03",
          "06/03",
          "07/03"
         ],
         "xaxis": "x",
         "y": [
          1,
          1,
          1,
          1,
          1,
          1,
          1,
          1,
          2,
          2,
          2,
          2,
          2,
          2,
          2,
          2,
          2,
          2,
          2,
          2,
          2,
          2,
          2,
          2,
          6,
          13,
          15,
          32,
          45,
          84,
          120,
          165,
          222,
          259,
          400,
          500
         ],
         "yaxis": "y"
        },
        {
         "hoverlabel": {
          "namelength": 0
         },
         "hovertemplate": "<b>%{hovertext}</b><br><br>Country/Region=Belgium<br>ObservationDate=%{x}<br>Confirmed=%{y}",
         "hovertext": [
          "Belgium",
          "Belgium",
          "Belgium",
          "Belgium",
          "Belgium",
          "Belgium",
          "Belgium",
          "Belgium",
          "Belgium",
          "Belgium",
          "Belgium",
          "Belgium",
          "Belgium",
          "Belgium",
          "Belgium",
          "Belgium",
          "Belgium",
          "Belgium",
          "Belgium",
          "Belgium",
          "Belgium",
          "Belgium",
          "Belgium",
          "Belgium",
          "Belgium",
          "Belgium",
          "Belgium",
          "Belgium",
          "Belgium",
          "Belgium",
          "Belgium",
          "Belgium",
          "Belgium"
         ],
         "legendgroup": "Country/Region=Belgium",
         "line": {
          "color": "#636efa",
          "dash": "solid"
         },
         "mode": "lines",
         "name": "Country/Region=Belgium",
         "showlegend": true,
         "type": "scattergl",
         "x": [
          "04/02",
          "05/02",
          "06/02",
          "07/02",
          "08/02",
          "09/02",
          "10/02",
          "11/02",
          "12/02",
          "13/02",
          "14/02",
          "15/02",
          "16/02",
          "17/02",
          "18/02",
          "19/02",
          "20/02",
          "21/02",
          "22/02",
          "23/02",
          "24/02",
          "25/02",
          "26/02",
          "27/02",
          "28/02",
          "29/02",
          "01/03",
          "02/03",
          "03/03",
          "04/03",
          "05/03",
          "06/03",
          "07/03"
         ],
         "xaxis": "x",
         "y": [
          1,
          1,
          1,
          1,
          1,
          1,
          1,
          1,
          1,
          1,
          1,
          1,
          1,
          1,
          1,
          1,
          1,
          1,
          1,
          1,
          1,
          1,
          1,
          1,
          1,
          1,
          2,
          8,
          13,
          23,
          50,
          109,
          169
         ],
         "yaxis": "y"
        },
        {
         "hoverlabel": {
          "namelength": 0
         },
         "hovertemplate": "<b>%{hovertext}</b><br><br>Country/Region=Others<br>ObservationDate=%{x}<br>Confirmed=%{y}",
         "hovertext": [
          "Others",
          "Others",
          "Others",
          "Others",
          "Others",
          "Others",
          "Others",
          "Others",
          "Others",
          "Others",
          "Others",
          "Others",
          "Others",
          "Others",
          "Others",
          "Others",
          "Others",
          "Others",
          "Others",
          "Others",
          "Others",
          "Others",
          "Others",
          "Others",
          "Others",
          "Others",
          "Others",
          "Others",
          "Others",
          "Others"
         ],
         "legendgroup": "Country/Region=Others",
         "line": {
          "color": "#EF553B",
          "dash": "solid"
         },
         "mode": "lines",
         "name": "Country/Region=Others",
         "showlegend": true,
         "type": "scattergl",
         "x": [
          "07/02",
          "08/02",
          "09/02",
          "10/02",
          "11/02",
          "12/02",
          "13/02",
          "14/02",
          "15/02",
          "16/02",
          "17/02",
          "18/02",
          "19/02",
          "20/02",
          "21/02",
          "22/02",
          "23/02",
          "24/02",
          "25/02",
          "26/02",
          "27/02",
          "28/02",
          "29/02",
          "01/03",
          "02/03",
          "03/03",
          "04/03",
          "05/03",
          "06/03",
          "07/03"
         ],
         "xaxis": "x",
         "y": [
          61,
          61,
          64,
          135,
          135,
          175,
          175,
          218,
          285,
          355,
          454,
          542,
          621,
          634,
          634,
          634,
          691,
          691,
          691,
          705,
          705,
          705,
          705,
          705,
          705,
          706,
          706,
          706,
          696,
          696
         ],
         "yaxis": "y"
        },
        {
         "hoverlabel": {
          "namelength": 0
         },
         "hovertemplate": "<b>%{hovertext}</b><br><br>Country/Region=Egypt<br>ObservationDate=%{x}<br>Confirmed=%{y}",
         "hovertext": [
          "Egypt",
          "Egypt",
          "Egypt",
          "Egypt",
          "Egypt",
          "Egypt",
          "Egypt",
          "Egypt",
          "Egypt",
          "Egypt",
          "Egypt",
          "Egypt",
          "Egypt",
          "Egypt",
          "Egypt",
          "Egypt",
          "Egypt",
          "Egypt",
          "Egypt",
          "Egypt",
          "Egypt",
          "Egypt",
          "Egypt"
         ],
         "legendgroup": "Country/Region=Egypt",
         "line": {
          "color": "#00cc96",
          "dash": "solid"
         },
         "mode": "lines",
         "name": "Country/Region=Egypt",
         "showlegend": true,
         "type": "scattergl",
         "x": [
          "14/02",
          "15/02",
          "16/02",
          "17/02",
          "18/02",
          "19/02",
          "20/02",
          "21/02",
          "22/02",
          "23/02",
          "24/02",
          "25/02",
          "26/02",
          "27/02",
          "28/02",
          "29/02",
          "01/03",
          "02/03",
          "03/03",
          "04/03",
          "05/03",
          "06/03",
          "07/03"
         ],
         "xaxis": "x",
         "y": [
          1,
          1,
          1,
          1,
          1,
          1,
          1,
          1,
          1,
          1,
          1,
          1,
          1,
          1,
          1,
          1,
          2,
          2,
          2,
          2,
          3,
          15,
          15
         ],
         "yaxis": "y"
        },
        {
         "hoverlabel": {
          "namelength": 0
         },
         "hovertemplate": "<b>%{hovertext}</b><br><br>Country/Region=Iran<br>ObservationDate=%{x}<br>Confirmed=%{y}",
         "hovertext": [
          "Iran",
          "Iran",
          "Iran",
          "Iran",
          "Iran",
          "Iran",
          "Iran",
          "Iran",
          "Iran",
          "Iran",
          "Iran",
          "Iran",
          "Iran",
          "Iran",
          "Iran",
          "Iran",
          "Iran",
          "Iran"
         ],
         "legendgroup": "Country/Region=Iran",
         "line": {
          "color": "#ab63fa",
          "dash": "solid"
         },
         "mode": "lines",
         "name": "Country/Region=Iran",
         "showlegend": true,
         "type": "scattergl",
         "x": [
          "19/02",
          "20/02",
          "21/02",
          "22/02",
          "23/02",
          "24/02",
          "25/02",
          "26/02",
          "27/02",
          "28/02",
          "29/02",
          "01/03",
          "02/03",
          "03/03",
          "04/03",
          "05/03",
          "06/03",
          "07/03"
         ],
         "xaxis": "x",
         "y": [
          2,
          5,
          18,
          28,
          43,
          61,
          95,
          139,
          245,
          388,
          593,
          978,
          1501,
          2336,
          2922,
          3513,
          4747,
          5823
         ],
         "yaxis": "y"
        },
        {
         "hoverlabel": {
          "namelength": 0
         },
         "hovertemplate": "<b>%{hovertext}</b><br><br>Country/Region=Israel<br>ObservationDate=%{x}<br>Confirmed=%{y}",
         "hovertext": [
          "Israel",
          "Israel",
          "Israel",
          "Israel",
          "Israel",
          "Israel",
          "Israel",
          "Israel",
          "Israel",
          "Israel",
          "Israel",
          "Israel",
          "Israel",
          "Israel",
          "Israel",
          "Israel"
         ],
         "legendgroup": "Country/Region=Israel",
         "line": {
          "color": "#FFA15A",
          "dash": "solid"
         },
         "mode": "lines",
         "name": "Country/Region=Israel",
         "showlegend": true,
         "type": "scattergl",
         "x": [
          "21/02",
          "22/02",
          "23/02",
          "24/02",
          "25/02",
          "26/02",
          "27/02",
          "28/02",
          "29/02",
          "01/03",
          "02/03",
          "03/03",
          "04/03",
          "05/03",
          "06/03",
          "07/03"
         ],
         "xaxis": "x",
         "y": [
          1,
          1,
          1,
          1,
          1,
          2,
          3,
          4,
          7,
          10,
          10,
          12,
          15,
          16,
          21,
          21
         ],
         "yaxis": "y"
        },
        {
         "hoverlabel": {
          "namelength": 0
         },
         "hovertemplate": "<b>%{hovertext}</b><br><br>Country/Region=Lebanon<br>ObservationDate=%{x}<br>Confirmed=%{y}",
         "hovertext": [
          "Lebanon",
          "Lebanon",
          "Lebanon",
          "Lebanon",
          "Lebanon",
          "Lebanon",
          "Lebanon",
          "Lebanon",
          "Lebanon",
          "Lebanon",
          "Lebanon",
          "Lebanon",
          "Lebanon",
          "Lebanon",
          "Lebanon",
          "Lebanon"
         ],
         "legendgroup": "Country/Region=Lebanon",
         "line": {
          "color": "#19d3f3",
          "dash": "solid"
         },
         "mode": "lines",
         "name": "Country/Region=Lebanon",
         "showlegend": true,
         "type": "scattergl",
         "x": [
          "21/02",
          "22/02",
          "23/02",
          "24/02",
          "25/02",
          "26/02",
          "27/02",
          "28/02",
          "29/02",
          "01/03",
          "02/03",
          "03/03",
          "04/03",
          "05/03",
          "06/03",
          "07/03"
         ],
         "xaxis": "x",
         "y": [
          1,
          1,
          1,
          1,
          1,
          2,
          2,
          2,
          4,
          10,
          13,
          13,
          13,
          16,
          22,
          22
         ],
         "yaxis": "y"
        },
        {
         "hoverlabel": {
          "namelength": 0
         },
         "hovertemplate": "<b>%{hovertext}</b><br><br>Country/Region=Iraq<br>ObservationDate=%{x}<br>Confirmed=%{y}",
         "hovertext": [
          "Iraq",
          "Iraq",
          "Iraq",
          "Iraq",
          "Iraq",
          "Iraq",
          "Iraq",
          "Iraq",
          "Iraq",
          "Iraq",
          "Iraq",
          "Iraq",
          "Iraq",
          "Iraq"
         ],
         "legendgroup": "Country/Region=Iraq",
         "line": {
          "color": "#FF6692",
          "dash": "solid"
         },
         "mode": "lines",
         "name": "Country/Region=Iraq",
         "showlegend": true,
         "type": "scattergl",
         "x": [
          "23/02",
          "24/02",
          "25/02",
          "26/02",
          "27/02",
          "28/02",
          "29/02",
          "01/03",
          "02/03",
          "03/03",
          "04/03",
          "05/03",
          "06/03",
          "07/03"
         ],
         "xaxis": "x",
         "y": [
          0,
          1,
          1,
          5,
          7,
          7,
          13,
          19,
          26,
          32,
          35,
          35,
          40,
          54
         ],
         "yaxis": "y"
        },
        {
         "hoverlabel": {
          "namelength": 0
         },
         "hovertemplate": "<b>%{hovertext}</b><br><br>Country/Region=Oman<br>ObservationDate=%{x}<br>Confirmed=%{y}",
         "hovertext": [
          "Oman",
          "Oman",
          "Oman",
          "Oman",
          "Oman",
          "Oman",
          "Oman",
          "Oman",
          "Oman",
          "Oman",
          "Oman",
          "Oman",
          "Oman"
         ],
         "legendgroup": "Country/Region=Oman",
         "line": {
          "color": "#B6E880",
          "dash": "solid"
         },
         "mode": "lines",
         "name": "Country/Region=Oman",
         "showlegend": true,
         "type": "scattergl",
         "x": [
          "24/02",
          "25/02",
          "26/02",
          "27/02",
          "28/02",
          "29/02",
          "01/03",
          "02/03",
          "03/03",
          "04/03",
          "05/03",
          "06/03",
          "07/03"
         ],
         "xaxis": "x",
         "y": [
          2,
          2,
          4,
          4,
          4,
          6,
          6,
          6,
          12,
          15,
          16,
          16,
          16
         ],
         "yaxis": "y"
        },
        {
         "hoverlabel": {
          "namelength": 0
         },
         "hovertemplate": "<b>%{hovertext}</b><br><br>Country/Region=Kuwait<br>ObservationDate=%{x}<br>Confirmed=%{y}",
         "hovertext": [
          "Kuwait",
          "Kuwait",
          "Kuwait",
          "Kuwait",
          "Kuwait",
          "Kuwait",
          "Kuwait",
          "Kuwait",
          "Kuwait",
          "Kuwait",
          "Kuwait",
          "Kuwait",
          "Kuwait"
         ],
         "legendgroup": "Country/Region=Kuwait",
         "line": {
          "color": "#FF97FF",
          "dash": "solid"
         },
         "mode": "lines",
         "name": "Country/Region=Kuwait",
         "showlegend": true,
         "type": "scattergl",
         "x": [
          "24/02",
          "25/02",
          "26/02",
          "27/02",
          "28/02",
          "29/02",
          "01/03",
          "02/03",
          "03/03",
          "04/03",
          "05/03",
          "06/03",
          "07/03"
         ],
         "xaxis": "x",
         "y": [
          1,
          11,
          26,
          43,
          45,
          45,
          45,
          56,
          56,
          56,
          58,
          58,
          61
         ],
         "yaxis": "y"
        },
        {
         "hoverlabel": {
          "namelength": 0
         },
         "hovertemplate": "<b>%{hovertext}</b><br><br>Country/Region=Afghanistan<br>ObservationDate=%{x}<br>Confirmed=%{y}",
         "hovertext": [
          "Afghanistan",
          "Afghanistan",
          "Afghanistan",
          "Afghanistan",
          "Afghanistan",
          "Afghanistan",
          "Afghanistan",
          "Afghanistan",
          "Afghanistan",
          "Afghanistan",
          "Afghanistan",
          "Afghanistan",
          "Afghanistan"
         ],
         "legendgroup": "Country/Region=Afghanistan",
         "line": {
          "color": "#FECB52",
          "dash": "solid"
         },
         "mode": "lines",
         "name": "Country/Region=Afghanistan",
         "showlegend": true,
         "type": "scattergl",
         "x": [
          "24/02",
          "25/02",
          "26/02",
          "27/02",
          "28/02",
          "29/02",
          "01/03",
          "02/03",
          "03/03",
          "04/03",
          "05/03",
          "06/03",
          "07/03"
         ],
         "xaxis": "x",
         "y": [
          1,
          1,
          1,
          1,
          1,
          1,
          1,
          1,
          1,
          1,
          1,
          1,
          1
         ],
         "yaxis": "y"
        },
        {
         "hoverlabel": {
          "namelength": 0
         },
         "hovertemplate": "<b>%{hovertext}</b><br><br>Country/Region=Bahrain<br>ObservationDate=%{x}<br>Confirmed=%{y}",
         "hovertext": [
          "Bahrain",
          "Bahrain",
          "Bahrain",
          "Bahrain",
          "Bahrain",
          "Bahrain",
          "Bahrain",
          "Bahrain",
          "Bahrain",
          "Bahrain",
          "Bahrain",
          "Bahrain",
          "Bahrain"
         ],
         "legendgroup": "Country/Region=Bahrain",
         "line": {
          "color": "#636efa",
          "dash": "solid"
         },
         "mode": "lines",
         "name": "Country/Region=Bahrain",
         "showlegend": true,
         "type": "scattergl",
         "x": [
          "24/02",
          "25/02",
          "26/02",
          "27/02",
          "28/02",
          "29/02",
          "01/03",
          "02/03",
          "03/03",
          "04/03",
          "05/03",
          "06/03",
          "07/03"
         ],
         "xaxis": "x",
         "y": [
          1,
          23,
          33,
          33,
          36,
          41,
          47,
          49,
          49,
          52,
          55,
          60,
          85
         ],
         "yaxis": "y"
        },
        {
         "hoverlabel": {
          "namelength": 0
         },
         "hovertemplate": "<b>%{hovertext}</b><br><br>Country/Region=Switzerland<br>ObservationDate=%{x}<br>Confirmed=%{y}",
         "hovertext": [
          "Switzerland",
          "Switzerland",
          "Switzerland",
          "Switzerland",
          "Switzerland",
          "Switzerland",
          "Switzerland",
          "Switzerland",
          "Switzerland",
          "Switzerland",
          "Switzerland",
          "Switzerland"
         ],
         "legendgroup": "Country/Region=Switzerland",
         "line": {
          "color": "#EF553B",
          "dash": "solid"
         },
         "mode": "lines",
         "name": "Country/Region=Switzerland",
         "showlegend": true,
         "type": "scattergl",
         "x": [
          "25/02",
          "26/02",
          "27/02",
          "28/02",
          "29/02",
          "01/03",
          "02/03",
          "03/03",
          "04/03",
          "05/03",
          "06/03",
          "07/03"
         ],
         "xaxis": "x",
         "y": [
          1,
          1,
          8,
          8,
          18,
          27,
          42,
          56,
          90,
          114,
          214,
          268
         ],
         "yaxis": "y"
        },
        {
         "hoverlabel": {
          "namelength": 0
         },
         "hovertemplate": "<b>%{hovertext}</b><br><br>Country/Region=Algeria<br>ObservationDate=%{x}<br>Confirmed=%{y}",
         "hovertext": [
          "Algeria",
          "Algeria",
          "Algeria",
          "Algeria",
          "Algeria",
          "Algeria",
          "Algeria",
          "Algeria",
          "Algeria",
          "Algeria",
          "Algeria",
          "Algeria"
         ],
         "legendgroup": "Country/Region=Algeria",
         "line": {
          "color": "#00cc96",
          "dash": "solid"
         },
         "mode": "lines",
         "name": "Country/Region=Algeria",
         "showlegend": true,
         "type": "scattergl",
         "x": [
          "25/02",
          "26/02",
          "27/02",
          "28/02",
          "29/02",
          "01/03",
          "02/03",
          "03/03",
          "04/03",
          "05/03",
          "06/03",
          "07/03"
         ],
         "xaxis": "x",
         "y": [
          1,
          1,
          1,
          1,
          1,
          1,
          3,
          5,
          12,
          12,
          17,
          17
         ],
         "yaxis": "y"
        },
        {
         "hoverlabel": {
          "namelength": 0
         },
         "hovertemplate": "<b>%{hovertext}</b><br><br>Country/Region=Austria<br>ObservationDate=%{x}<br>Confirmed=%{y}",
         "hovertext": [
          "Austria",
          "Austria",
          "Austria",
          "Austria",
          "Austria",
          "Austria",
          "Austria",
          "Austria",
          "Austria",
          "Austria",
          "Austria",
          "Austria"
         ],
         "legendgroup": "Country/Region=Austria",
         "line": {
          "color": "#ab63fa",
          "dash": "solid"
         },
         "mode": "lines",
         "name": "Country/Region=Austria",
         "showlegend": true,
         "type": "scattergl",
         "x": [
          "25/02",
          "26/02",
          "27/02",
          "28/02",
          "29/02",
          "01/03",
          "02/03",
          "03/03",
          "04/03",
          "05/03",
          "06/03",
          "07/03"
         ],
         "xaxis": "x",
         "y": [
          2,
          2,
          3,
          3,
          9,
          14,
          18,
          21,
          29,
          41,
          55,
          79
         ],
         "yaxis": "y"
        },
        {
         "hoverlabel": {
          "namelength": 0
         },
         "hovertemplate": "<b>%{hovertext}</b><br><br>Country/Region=Croatia<br>ObservationDate=%{x}<br>Confirmed=%{y}",
         "hovertext": [
          "Croatia",
          "Croatia",
          "Croatia",
          "Croatia",
          "Croatia",
          "Croatia",
          "Croatia",
          "Croatia",
          "Croatia",
          "Croatia",
          "Croatia",
          "Croatia"
         ],
         "legendgroup": "Country/Region=Croatia",
         "line": {
          "color": "#FFA15A",
          "dash": "solid"
         },
         "mode": "lines",
         "name": "Country/Region=Croatia",
         "showlegend": true,
         "type": "scattergl",
         "x": [
          "25/02",
          "26/02",
          "27/02",
          "28/02",
          "29/02",
          "01/03",
          "02/03",
          "03/03",
          "04/03",
          "05/03",
          "06/03",
          "07/03"
         ],
         "xaxis": "x",
         "y": [
          1,
          3,
          3,
          5,
          6,
          7,
          7,
          9,
          10,
          10,
          11,
          12
         ],
         "yaxis": "y"
        },
        {
         "hoverlabel": {
          "namelength": 0
         },
         "hovertemplate": "<b>%{hovertext}</b><br><br>Country/Region=Romania<br>ObservationDate=%{x}<br>Confirmed=%{y}",
         "hovertext": [
          "Romania",
          "Romania",
          "Romania",
          "Romania",
          "Romania",
          "Romania",
          "Romania",
          "Romania",
          "Romania",
          "Romania",
          "Romania"
         ],
         "legendgroup": "Country/Region=Romania",
         "line": {
          "color": "#19d3f3",
          "dash": "solid"
         },
         "mode": "lines",
         "name": "Country/Region=Romania",
         "showlegend": true,
         "type": "scattergl",
         "x": [
          "26/02",
          "27/02",
          "28/02",
          "29/02",
          "01/03",
          "02/03",
          "03/03",
          "04/03",
          "05/03",
          "06/03",
          "07/03"
         ],
         "xaxis": "x",
         "y": [
          1,
          1,
          3,
          3,
          3,
          3,
          3,
          4,
          6,
          9,
          9
         ],
         "yaxis": "y"
        },
        {
         "hoverlabel": {
          "namelength": 0
         },
         "hovertemplate": "<b>%{hovertext}</b><br><br>Country/Region=Pakistan<br>ObservationDate=%{x}<br>Confirmed=%{y}",
         "hovertext": [
          "Pakistan",
          "Pakistan",
          "Pakistan",
          "Pakistan",
          "Pakistan",
          "Pakistan",
          "Pakistan",
          "Pakistan",
          "Pakistan",
          "Pakistan",
          "Pakistan"
         ],
         "legendgroup": "Country/Region=Pakistan",
         "line": {
          "color": "#FF6692",
          "dash": "solid"
         },
         "mode": "lines",
         "name": "Country/Region=Pakistan",
         "showlegend": true,
         "type": "scattergl",
         "x": [
          "26/02",
          "27/02",
          "28/02",
          "29/02",
          "01/03",
          "02/03",
          "03/03",
          "04/03",
          "05/03",
          "06/03",
          "07/03"
         ],
         "xaxis": "x",
         "y": [
          2,
          2,
          2,
          4,
          4,
          4,
          5,
          5,
          5,
          6,
          6
         ],
         "yaxis": "y"
        },
        {
         "hoverlabel": {
          "namelength": 0
         },
         "hovertemplate": "<b>%{hovertext}</b><br><br>Country/Region=Norway<br>ObservationDate=%{x}<br>Confirmed=%{y}",
         "hovertext": [
          "Norway",
          "Norway",
          "Norway",
          "Norway",
          "Norway",
          "Norway",
          "Norway",
          "Norway",
          "Norway",
          "Norway",
          "Norway"
         ],
         "legendgroup": "Country/Region=Norway",
         "line": {
          "color": "#B6E880",
          "dash": "solid"
         },
         "mode": "lines",
         "name": "Country/Region=Norway",
         "showlegend": true,
         "type": "scattergl",
         "x": [
          "26/02",
          "27/02",
          "28/02",
          "29/02",
          "01/03",
          "02/03",
          "03/03",
          "04/03",
          "05/03",
          "06/03",
          "07/03"
         ],
         "xaxis": "x",
         "y": [
          1,
          1,
          6,
          15,
          19,
          25,
          32,
          56,
          87,
          108,
          147
         ],
         "yaxis": "y"
        },
        {
         "hoverlabel": {
          "namelength": 0
         },
         "hovertemplate": "<b>%{hovertext}</b><br><br>Country/Region=North Macedonia<br>ObservationDate=%{x}<br>Confirmed=%{y}",
         "hovertext": [
          "North Macedonia",
          "North Macedonia",
          "North Macedonia",
          "North Macedonia",
          "North Macedonia",
          "North Macedonia",
          "North Macedonia",
          "North Macedonia",
          "North Macedonia",
          "North Macedonia",
          "North Macedonia"
         ],
         "legendgroup": "Country/Region=North Macedonia",
         "line": {
          "color": "#FF97FF",
          "dash": "solid"
         },
         "mode": "lines",
         "name": "Country/Region=North Macedonia",
         "showlegend": true,
         "type": "scattergl",
         "x": [
          "26/02",
          "27/02",
          "28/02",
          "29/02",
          "01/03",
          "02/03",
          "03/03",
          "04/03",
          "05/03",
          "06/03",
          "07/03"
         ],
         "xaxis": "x",
         "y": [
          1,
          1,
          1,
          1,
          1,
          1,
          1,
          1,
          1,
          3,
          3
         ],
         "yaxis": "y"
        },
        {
         "hoverlabel": {
          "namelength": 0
         },
         "hovertemplate": "<b>%{hovertext}</b><br><br>Country/Region=Georgia<br>ObservationDate=%{x}<br>Confirmed=%{y}",
         "hovertext": [
          "Georgia",
          "Georgia",
          "Georgia",
          "Georgia",
          "Georgia",
          "Georgia",
          "Georgia",
          "Georgia",
          "Georgia",
          "Georgia",
          "Georgia"
         ],
         "legendgroup": "Country/Region=Georgia",
         "line": {
          "color": "#FECB52",
          "dash": "solid"
         },
         "mode": "lines",
         "name": "Country/Region=Georgia",
         "showlegend": true,
         "type": "scattergl",
         "x": [
          "26/02",
          "27/02",
          "28/02",
          "29/02",
          "01/03",
          "02/03",
          "03/03",
          "04/03",
          "05/03",
          "06/03",
          "07/03"
         ],
         "xaxis": "x",
         "y": [
          1,
          1,
          1,
          1,
          3,
          3,
          3,
          3,
          4,
          4,
          4
         ],
         "yaxis": "y"
        },
        {
         "hoverlabel": {
          "namelength": 0
         },
         "hovertemplate": "<b>%{hovertext}</b><br><br>Country/Region=Greece<br>ObservationDate=%{x}<br>Confirmed=%{y}",
         "hovertext": [
          "Greece",
          "Greece",
          "Greece",
          "Greece",
          "Greece",
          "Greece",
          "Greece",
          "Greece",
          "Greece",
          "Greece",
          "Greece"
         ],
         "legendgroup": "Country/Region=Greece",
         "line": {
          "color": "#636efa",
          "dash": "solid"
         },
         "mode": "lines",
         "name": "Country/Region=Greece",
         "showlegend": true,
         "type": "scattergl",
         "x": [
          "26/02",
          "27/02",
          "28/02",
          "29/02",
          "01/03",
          "02/03",
          "03/03",
          "04/03",
          "05/03",
          "06/03",
          "07/03"
         ],
         "xaxis": "x",
         "y": [
          1,
          3,
          4,
          4,
          7,
          7,
          7,
          9,
          31,
          45,
          46
         ],
         "yaxis": "y"
        },
        {
         "hoverlabel": {
          "namelength": 0
         },
         "hovertemplate": "<b>%{hovertext}</b><br><br>Country/Region=Netherlands<br>ObservationDate=%{x}<br>Confirmed=%{y}",
         "hovertext": [
          "Netherlands",
          "Netherlands",
          "Netherlands",
          "Netherlands",
          "Netherlands",
          "Netherlands",
          "Netherlands",
          "Netherlands",
          "Netherlands",
          "Netherlands"
         ],
         "legendgroup": "Country/Region=Netherlands",
         "line": {
          "color": "#EF553B",
          "dash": "solid"
         },
         "mode": "lines",
         "name": "Country/Region=Netherlands",
         "showlegend": true,
         "type": "scattergl",
         "x": [
          "27/02",
          "28/02",
          "29/02",
          "01/03",
          "02/03",
          "03/03",
          "04/03",
          "05/03",
          "06/03",
          "07/03"
         ],
         "xaxis": "x",
         "y": [
          1,
          1,
          6,
          10,
          18,
          24,
          38,
          82,
          128,
          188
         ],
         "yaxis": "y"
        },
        {
         "hoverlabel": {
          "namelength": 0
         },
         "hovertemplate": "<b>%{hovertext}</b><br><br>Country/Region=San Marino<br>ObservationDate=%{x}<br>Confirmed=%{y}",
         "hovertext": [
          "San Marino",
          "San Marino",
          "San Marino",
          "San Marino",
          "San Marino",
          "San Marino",
          "San Marino",
          "San Marino",
          "San Marino",
          "San Marino"
         ],
         "legendgroup": "Country/Region=San Marino",
         "line": {
          "color": "#00cc96",
          "dash": "solid"
         },
         "mode": "lines",
         "name": "Country/Region=San Marino",
         "showlegend": true,
         "type": "scattergl",
         "x": [
          "27/02",
          "28/02",
          "29/02",
          "01/03",
          "02/03",
          "03/03",
          "04/03",
          "05/03",
          "06/03",
          "07/03"
         ],
         "xaxis": "x",
         "y": [
          1,
          1,
          1,
          1,
          8,
          10,
          16,
          21,
          21,
          23
         ],
         "yaxis": "y"
        },
        {
         "hoverlabel": {
          "namelength": 0
         },
         "hovertemplate": "<b>%{hovertext}</b><br><br>Country/Region=Denmark<br>ObservationDate=%{x}<br>Confirmed=%{y}",
         "hovertext": [
          "Denmark",
          "Denmark",
          "Denmark",
          "Denmark",
          "Denmark",
          "Denmark",
          "Denmark",
          "Denmark",
          "Denmark",
          "Denmark"
         ],
         "legendgroup": "Country/Region=Denmark",
         "line": {
          "color": "#ab63fa",
          "dash": "solid"
         },
         "mode": "lines",
         "name": "Country/Region=Denmark",
         "showlegend": true,
         "type": "scattergl",
         "x": [
          "27/02",
          "28/02",
          "29/02",
          "01/03",
          "02/03",
          "03/03",
          "04/03",
          "05/03",
          "06/03",
          "07/03"
         ],
         "xaxis": "x",
         "y": [
          1,
          1,
          3,
          4,
          4,
          6,
          10,
          10,
          23,
          23
         ],
         "yaxis": "y"
        },
        {
         "hoverlabel": {
          "namelength": 0
         },
         "hovertemplate": "<b>%{hovertext}</b><br><br>Country/Region=Estonia<br>ObservationDate=%{x}<br>Confirmed=%{y}",
         "hovertext": [
          "Estonia",
          "Estonia",
          "Estonia",
          "Estonia",
          "Estonia",
          "Estonia",
          "Estonia",
          "Estonia",
          "Estonia",
          "Estonia"
         ],
         "legendgroup": "Country/Region=Estonia",
         "line": {
          "color": "#FFA15A",
          "dash": "solid"
         },
         "mode": "lines",
         "name": "Country/Region=Estonia",
         "showlegend": true,
         "type": "scattergl",
         "x": [
          "27/02",
          "28/02",
          "29/02",
          "01/03",
          "02/03",
          "03/03",
          "04/03",
          "05/03",
          "06/03",
          "07/03"
         ],
         "xaxis": "x",
         "y": [
          1,
          1,
          1,
          1,
          1,
          2,
          2,
          3,
          10,
          10
         ],
         "yaxis": "y"
        },
        {
         "hoverlabel": {
          "namelength": 0
         },
         "hovertemplate": "<b>%{hovertext}</b><br><br>Country/Region=North Ireland<br>ObservationDate=%{x}<br>Confirmed=%{y}",
         "hovertext": [
          "North Ireland"
         ],
         "legendgroup": "Country/Region=North Ireland",
         "line": {
          "color": "#19d3f3",
          "dash": "solid"
         },
         "mode": "lines",
         "name": "Country/Region=North Ireland",
         "showlegend": true,
         "type": "scattergl",
         "x": [
          "28/02"
         ],
         "xaxis": "x",
         "y": [
          1
         ],
         "yaxis": "y"
        },
        {
         "hoverlabel": {
          "namelength": 0
         },
         "hovertemplate": "<b>%{hovertext}</b><br><br>Country/Region=New Zealand<br>ObservationDate=%{x}<br>Confirmed=%{y}",
         "hovertext": [
          "New Zealand",
          "New Zealand",
          "New Zealand",
          "New Zealand",
          "New Zealand",
          "New Zealand",
          "New Zealand",
          "New Zealand",
          "New Zealand"
         ],
         "legendgroup": "Country/Region=New Zealand",
         "line": {
          "color": "#FF6692",
          "dash": "solid"
         },
         "mode": "lines",
         "name": "Country/Region=New Zealand",
         "showlegend": true,
         "type": "scattergl",
         "x": [
          "28/02",
          "29/02",
          "01/03",
          "02/03",
          "03/03",
          "04/03",
          "05/03",
          "06/03",
          "07/03"
         ],
         "xaxis": "x",
         "y": [
          1,
          1,
          1,
          1,
          1,
          3,
          3,
          4,
          5
         ],
         "yaxis": "y"
        },
        {
         "hoverlabel": {
          "namelength": 0
         },
         "hovertemplate": "<b>%{hovertext}</b><br><br>Country/Region=Nigeria<br>ObservationDate=%{x}<br>Confirmed=%{y}",
         "hovertext": [
          "Nigeria",
          "Nigeria",
          "Nigeria",
          "Nigeria",
          "Nigeria",
          "Nigeria",
          "Nigeria",
          "Nigeria",
          "Nigeria"
         ],
         "legendgroup": "Country/Region=Nigeria",
         "line": {
          "color": "#B6E880",
          "dash": "solid"
         },
         "mode": "lines",
         "name": "Country/Region=Nigeria",
         "showlegend": true,
         "type": "scattergl",
         "x": [
          "28/02",
          "29/02",
          "01/03",
          "02/03",
          "03/03",
          "04/03",
          "05/03",
          "06/03",
          "07/03"
         ],
         "xaxis": "x",
         "y": [
          1,
          1,
          1,
          1,
          1,
          1,
          1,
          1,
          1
         ],
         "yaxis": "y"
        },
        {
         "hoverlabel": {
          "namelength": 0
         },
         "hovertemplate": "<b>%{hovertext}</b><br><br>Country/Region=Lithuania<br>ObservationDate=%{x}<br>Confirmed=%{y}",
         "hovertext": [
          "Lithuania",
          "Lithuania",
          "Lithuania",
          "Lithuania",
          "Lithuania",
          "Lithuania",
          "Lithuania",
          "Lithuania",
          "Lithuania"
         ],
         "legendgroup": "Country/Region=Lithuania",
         "line": {
          "color": "#FF97FF",
          "dash": "solid"
         },
         "mode": "lines",
         "name": "Country/Region=Lithuania",
         "showlegend": true,
         "type": "scattergl",
         "x": [
          "28/02",
          "29/02",
          "01/03",
          "02/03",
          "03/03",
          "04/03",
          "05/03",
          "06/03",
          "07/03"
         ],
         "xaxis": "x",
         "y": [
          1,
          1,
          1,
          1,
          1,
          1,
          1,
          1,
          1
         ],
         "yaxis": "y"
        },
        {
         "hoverlabel": {
          "namelength": 0
         },
         "hovertemplate": "<b>%{hovertext}</b><br><br>Country/Region= Azerbaijan<br>ObservationDate=%{x}<br>Confirmed=%{y}",
         "hovertext": [
          " Azerbaijan"
         ],
         "legendgroup": "Country/Region= Azerbaijan",
         "line": {
          "color": "#FECB52",
          "dash": "solid"
         },
         "mode": "lines",
         "name": "Country/Region= Azerbaijan",
         "showlegend": true,
         "type": "scattergl",
         "x": [
          "28/02"
         ],
         "xaxis": "x",
         "y": [
          1
         ],
         "yaxis": "y"
        },
        {
         "hoverlabel": {
          "namelength": 0
         },
         "hovertemplate": "<b>%{hovertext}</b><br><br>Country/Region=Belarus<br>ObservationDate=%{x}<br>Confirmed=%{y}",
         "hovertext": [
          "Belarus",
          "Belarus",
          "Belarus",
          "Belarus",
          "Belarus",
          "Belarus",
          "Belarus",
          "Belarus",
          "Belarus"
         ],
         "legendgroup": "Country/Region=Belarus",
         "line": {
          "color": "#636efa",
          "dash": "solid"
         },
         "mode": "lines",
         "name": "Country/Region=Belarus",
         "showlegend": true,
         "type": "scattergl",
         "x": [
          "28/02",
          "29/02",
          "01/03",
          "02/03",
          "03/03",
          "04/03",
          "05/03",
          "06/03",
          "07/03"
         ],
         "xaxis": "x",
         "y": [
          1,
          1,
          1,
          1,
          1,
          6,
          6,
          6,
          6
         ],
         "yaxis": "y"
        },
        {
         "hoverlabel": {
          "namelength": 0
         },
         "hovertemplate": "<b>%{hovertext}</b><br><br>Country/Region=Iceland<br>ObservationDate=%{x}<br>Confirmed=%{y}",
         "hovertext": [
          "Iceland",
          "Iceland",
          "Iceland",
          "Iceland",
          "Iceland",
          "Iceland",
          "Iceland",
          "Iceland",
          "Iceland"
         ],
         "legendgroup": "Country/Region=Iceland",
         "line": {
          "color": "#EF553B",
          "dash": "solid"
         },
         "mode": "lines",
         "name": "Country/Region=Iceland",
         "showlegend": true,
         "type": "scattergl",
         "x": [
          "28/02",
          "29/02",
          "01/03",
          "02/03",
          "03/03",
          "04/03",
          "05/03",
          "06/03",
          "07/03"
         ],
         "xaxis": "x",
         "y": [
          1,
          1,
          3,
          6,
          11,
          26,
          34,
          43,
          50
         ],
         "yaxis": "y"
        },
        {
         "hoverlabel": {
          "namelength": 0
         },
         "hovertemplate": "<b>%{hovertext}</b><br><br>Country/Region=Monaco<br>ObservationDate=%{x}<br>Confirmed=%{y}",
         "hovertext": [
          "Monaco",
          "Monaco",
          "Monaco",
          "Monaco",
          "Monaco",
          "Monaco",
          "Monaco",
          "Monaco"
         ],
         "legendgroup": "Country/Region=Monaco",
         "line": {
          "color": "#00cc96",
          "dash": "solid"
         },
         "mode": "lines",
         "name": "Country/Region=Monaco",
         "showlegend": true,
         "type": "scattergl",
         "x": [
          "29/02",
          "01/03",
          "02/03",
          "03/03",
          "04/03",
          "05/03",
          "06/03",
          "07/03"
         ],
         "xaxis": "x",
         "y": [
          1,
          1,
          1,
          1,
          1,
          1,
          1,
          1
         ],
         "yaxis": "y"
        },
        {
         "hoverlabel": {
          "namelength": 0
         },
         "hovertemplate": "<b>%{hovertext}</b><br><br>Country/Region=Qatar<br>ObservationDate=%{x}<br>Confirmed=%{y}",
         "hovertext": [
          "Qatar",
          "Qatar",
          "Qatar",
          "Qatar",
          "Qatar",
          "Qatar",
          "Qatar",
          "Qatar"
         ],
         "legendgroup": "Country/Region=Qatar",
         "line": {
          "color": "#ab63fa",
          "dash": "solid"
         },
         "mode": "lines",
         "name": "Country/Region=Qatar",
         "showlegend": true,
         "type": "scattergl",
         "x": [
          "29/02",
          "01/03",
          "02/03",
          "03/03",
          "04/03",
          "05/03",
          "06/03",
          "07/03"
         ],
         "xaxis": "x",
         "y": [
          1,
          3,
          3,
          7,
          8,
          8,
          8,
          8
         ],
         "yaxis": "y"
        },
        {
         "hoverlabel": {
          "namelength": 0
         },
         "hovertemplate": "<b>%{hovertext}</b><br><br>Country/Region=Luxembourg<br>ObservationDate=%{x}<br>Confirmed=%{y}",
         "hovertext": [
          "Luxembourg",
          "Luxembourg",
          "Luxembourg",
          "Luxembourg",
          "Luxembourg",
          "Luxembourg",
          "Luxembourg",
          "Luxembourg"
         ],
         "legendgroup": "Country/Region=Luxembourg",
         "line": {
          "color": "#FFA15A",
          "dash": "solid"
         },
         "mode": "lines",
         "name": "Country/Region=Luxembourg",
         "showlegend": true,
         "type": "scattergl",
         "x": [
          "29/02",
          "01/03",
          "02/03",
          "03/03",
          "04/03",
          "05/03",
          "06/03",
          "07/03"
         ],
         "xaxis": "x",
         "y": [
          1,
          1,
          1,
          1,
          1,
          1,
          2,
          2
         ],
         "yaxis": "y"
        },
        {
         "hoverlabel": {
          "namelength": 0
         },
         "hovertemplate": "<b>%{hovertext}</b><br><br>Country/Region=Ireland<br>ObservationDate=%{x}<br>Confirmed=%{y}",
         "hovertext": [
          "Ireland",
          "Ireland",
          "Ireland",
          "Ireland",
          "Ireland",
          "Ireland",
          "Ireland",
          "Ireland"
         ],
         "legendgroup": "Country/Region=Ireland",
         "line": {
          "color": "#19d3f3",
          "dash": "solid"
         },
         "mode": "lines",
         "name": "Country/Region=Ireland",
         "showlegend": true,
         "type": "scattergl",
         "x": [
          "29/02",
          "01/03",
          "02/03",
          "03/03",
          "04/03",
          "05/03",
          "06/03",
          "07/03"
         ],
         "xaxis": "x",
         "y": [
          1,
          1,
          1,
          2,
          6,
          6,
          18,
          18
         ],
         "yaxis": "y"
        },
        {
         "hoverlabel": {
          "namelength": 0
         },
         "hovertemplate": "<b>%{hovertext}</b><br><br>Country/Region=Czech Republic<br>ObservationDate=%{x}<br>Confirmed=%{y}",
         "hovertext": [
          "Czech Republic",
          "Czech Republic",
          "Czech Republic",
          "Czech Republic",
          "Czech Republic",
          "Czech Republic",
          "Czech Republic"
         ],
         "legendgroup": "Country/Region=Czech Republic",
         "line": {
          "color": "#FF6692",
          "dash": "solid"
         },
         "mode": "lines",
         "name": "Country/Region=Czech Republic",
         "showlegend": true,
         "type": "scattergl",
         "x": [
          "01/03",
          "02/03",
          "03/03",
          "04/03",
          "05/03",
          "06/03",
          "07/03"
         ],
         "xaxis": "x",
         "y": [
          3,
          3,
          5,
          8,
          12,
          18,
          19
         ],
         "yaxis": "y"
        },
        {
         "hoverlabel": {
          "namelength": 0
         },
         "hovertemplate": "<b>%{hovertext}</b><br><br>Country/Region=Armenia<br>ObservationDate=%{x}<br>Confirmed=%{y}",
         "hovertext": [
          "Armenia",
          "Armenia",
          "Armenia",
          "Armenia",
          "Armenia",
          "Armenia",
          "Armenia"
         ],
         "legendgroup": "Country/Region=Armenia",
         "line": {
          "color": "#B6E880",
          "dash": "solid"
         },
         "mode": "lines",
         "name": "Country/Region=Armenia",
         "showlegend": true,
         "type": "scattergl",
         "x": [
          "01/03",
          "02/03",
          "03/03",
          "04/03",
          "05/03",
          "06/03",
          "07/03"
         ],
         "xaxis": "x",
         "y": [
          1,
          1,
          1,
          1,
          1,
          1,
          1
         ],
         "yaxis": "y"
        },
        {
         "hoverlabel": {
          "namelength": 0
         },
         "hovertemplate": "<b>%{hovertext}</b><br><br>Country/Region=Azerbaijan<br>ObservationDate=%{x}<br>Confirmed=%{y}",
         "hovertext": [
          "Azerbaijan",
          "Azerbaijan",
          "Azerbaijan",
          "Azerbaijan",
          "Azerbaijan",
          "Azerbaijan",
          "Azerbaijan"
         ],
         "legendgroup": "Country/Region=Azerbaijan",
         "line": {
          "color": "#FF97FF",
          "dash": "solid"
         },
         "mode": "lines",
         "name": "Country/Region=Azerbaijan",
         "showlegend": true,
         "type": "scattergl",
         "x": [
          "01/03",
          "02/03",
          "03/03",
          "04/03",
          "05/03",
          "06/03",
          "07/03"
         ],
         "xaxis": "x",
         "y": [
          3,
          3,
          3,
          3,
          6,
          6,
          9
         ],
         "yaxis": "y"
        },
        {
         "hoverlabel": {
          "namelength": 0
         },
         "hovertemplate": "<b>%{hovertext}</b><br><br>Country/Region=Dominican Republic<br>ObservationDate=%{x}<br>Confirmed=%{y}",
         "hovertext": [
          "Dominican Republic",
          "Dominican Republic",
          "Dominican Republic",
          "Dominican Republic",
          "Dominican Republic",
          "Dominican Republic",
          "Dominican Republic"
         ],
         "legendgroup": "Country/Region=Dominican Republic",
         "line": {
          "color": "#FECB52",
          "dash": "solid"
         },
         "mode": "lines",
         "name": "Country/Region=Dominican Republic",
         "showlegend": true,
         "type": "scattergl",
         "x": [
          "01/03",
          "02/03",
          "03/03",
          "04/03",
          "05/03",
          "06/03",
          "07/03"
         ],
         "xaxis": "x",
         "y": [
          1,
          1,
          1,
          1,
          1,
          2,
          2
         ],
         "yaxis": "y"
        },
        {
         "hoverlabel": {
          "namelength": 0
         },
         "hovertemplate": "<b>%{hovertext}</b><br><br>Country/Region=Ecuador<br>ObservationDate=%{x}<br>Confirmed=%{y}",
         "hovertext": [
          "Ecuador",
          "Ecuador",
          "Ecuador",
          "Ecuador",
          "Ecuador",
          "Ecuador",
          "Ecuador"
         ],
         "legendgroup": "Country/Region=Ecuador",
         "line": {
          "color": "#636efa",
          "dash": "solid"
         },
         "mode": "lines",
         "name": "Country/Region=Ecuador",
         "showlegend": true,
         "type": "scattergl",
         "x": [
          "01/03",
          "02/03",
          "03/03",
          "04/03",
          "05/03",
          "06/03",
          "07/03"
         ],
         "xaxis": "x",
         "y": [
          6,
          6,
          7,
          10,
          13,
          13,
          13
         ],
         "yaxis": "y"
        },
        {
         "hoverlabel": {
          "namelength": 0
         },
         "hovertemplate": "<b>%{hovertext}</b><br><br>Country/Region=Morocco<br>ObservationDate=%{x}<br>Confirmed=%{y}",
         "hovertext": [
          "Morocco",
          "Morocco",
          "Morocco",
          "Morocco",
          "Morocco",
          "Morocco"
         ],
         "legendgroup": "Country/Region=Morocco",
         "line": {
          "color": "#EF553B",
          "dash": "solid"
         },
         "mode": "lines",
         "name": "Country/Region=Morocco",
         "showlegend": true,
         "type": "scattergl",
         "x": [
          "02/03",
          "03/03",
          "04/03",
          "05/03",
          "06/03",
          "07/03"
         ],
         "xaxis": "x",
         "y": [
          1,
          1,
          1,
          2,
          2,
          2
         ],
         "yaxis": "y"
        },
        {
         "hoverlabel": {
          "namelength": 0
         },
         "hovertemplate": "<b>%{hovertext}</b><br><br>Country/Region=Portugal<br>ObservationDate=%{x}<br>Confirmed=%{y}",
         "hovertext": [
          "Portugal",
          "Portugal",
          "Portugal",
          "Portugal",
          "Portugal",
          "Portugal"
         ],
         "legendgroup": "Country/Region=Portugal",
         "line": {
          "color": "#00cc96",
          "dash": "solid"
         },
         "mode": "lines",
         "name": "Country/Region=Portugal",
         "showlegend": true,
         "type": "scattergl",
         "x": [
          "02/03",
          "03/03",
          "04/03",
          "05/03",
          "06/03",
          "07/03"
         ],
         "xaxis": "x",
         "y": [
          2,
          2,
          5,
          8,
          13,
          20
         ],
         "yaxis": "y"
        },
        {
         "hoverlabel": {
          "namelength": 0
         },
         "hovertemplate": "<b>%{hovertext}</b><br><br>Country/Region=Senegal<br>ObservationDate=%{x}<br>Confirmed=%{y}",
         "hovertext": [
          "Senegal",
          "Senegal",
          "Senegal",
          "Senegal",
          "Senegal",
          "Senegal"
         ],
         "legendgroup": "Country/Region=Senegal",
         "line": {
          "color": "#ab63fa",
          "dash": "solid"
         },
         "mode": "lines",
         "name": "Country/Region=Senegal",
         "showlegend": true,
         "type": "scattergl",
         "x": [
          "02/03",
          "03/03",
          "04/03",
          "05/03",
          "06/03",
          "07/03"
         ],
         "xaxis": "x",
         "y": [
          1,
          2,
          4,
          4,
          4,
          4
         ],
         "yaxis": "y"
        },
        {
         "hoverlabel": {
          "namelength": 0
         },
         "hovertemplate": "<b>%{hovertext}</b><br><br>Country/Region=Saudi Arabia<br>ObservationDate=%{x}<br>Confirmed=%{y}",
         "hovertext": [
          "Saudi Arabia",
          "Saudi Arabia",
          "Saudi Arabia",
          "Saudi Arabia",
          "Saudi Arabia",
          "Saudi Arabia"
         ],
         "legendgroup": "Country/Region=Saudi Arabia",
         "line": {
          "color": "#FFA15A",
          "dash": "solid"
         },
         "mode": "lines",
         "name": "Country/Region=Saudi Arabia",
         "showlegend": true,
         "type": "scattergl",
         "x": [
          "02/03",
          "03/03",
          "04/03",
          "05/03",
          "06/03",
          "07/03"
         ],
         "xaxis": "x",
         "y": [
          1,
          1,
          1,
          5,
          5,
          5
         ],
         "yaxis": "y"
        },
        {
         "hoverlabel": {
          "namelength": 0
         },
         "hovertemplate": "<b>%{hovertext}</b><br><br>Country/Region=Latvia<br>ObservationDate=%{x}<br>Confirmed=%{y}",
         "hovertext": [
          "Latvia",
          "Latvia",
          "Latvia",
          "Latvia",
          "Latvia",
          "Latvia"
         ],
         "legendgroup": "Country/Region=Latvia",
         "line": {
          "color": "#19d3f3",
          "dash": "solid"
         },
         "mode": "lines",
         "name": "Country/Region=Latvia",
         "showlegend": true,
         "type": "scattergl",
         "x": [
          "02/03",
          "03/03",
          "04/03",
          "05/03",
          "06/03",
          "07/03"
         ],
         "xaxis": "x",
         "y": [
          1,
          1,
          1,
          1,
          1,
          1
         ],
         "yaxis": "y"
        },
        {
         "hoverlabel": {
          "namelength": 0
         },
         "hovertemplate": "<b>%{hovertext}</b><br><br>Country/Region=Andorra<br>ObservationDate=%{x}<br>Confirmed=%{y}",
         "hovertext": [
          "Andorra",
          "Andorra",
          "Andorra",
          "Andorra",
          "Andorra",
          "Andorra"
         ],
         "legendgroup": "Country/Region=Andorra",
         "line": {
          "color": "#FF6692",
          "dash": "solid"
         },
         "mode": "lines",
         "name": "Country/Region=Andorra",
         "showlegend": true,
         "type": "scattergl",
         "x": [
          "02/03",
          "03/03",
          "04/03",
          "05/03",
          "06/03",
          "07/03"
         ],
         "xaxis": "x",
         "y": [
          1,
          1,
          1,
          1,
          1,
          1
         ],
         "yaxis": "y"
        },
        {
         "hoverlabel": {
          "namelength": 0
         },
         "hovertemplate": "<b>%{hovertext}</b><br><br>Country/Region=Indonesia<br>ObservationDate=%{x}<br>Confirmed=%{y}",
         "hovertext": [
          "Indonesia",
          "Indonesia",
          "Indonesia",
          "Indonesia",
          "Indonesia",
          "Indonesia"
         ],
         "legendgroup": "Country/Region=Indonesia",
         "line": {
          "color": "#B6E880",
          "dash": "solid"
         },
         "mode": "lines",
         "name": "Country/Region=Indonesia",
         "showlegend": true,
         "type": "scattergl",
         "x": [
          "02/03",
          "03/03",
          "04/03",
          "05/03",
          "06/03",
          "07/03"
         ],
         "xaxis": "x",
         "y": [
          2,
          2,
          2,
          2,
          4,
          4
         ],
         "yaxis": "y"
        },
        {
         "hoverlabel": {
          "namelength": 0
         },
         "hovertemplate": "<b>%{hovertext}</b><br><br>Country/Region=Ukraine<br>ObservationDate=%{x}<br>Confirmed=%{y}",
         "hovertext": [
          "Ukraine",
          "Ukraine",
          "Ukraine",
          "Ukraine",
          "Ukraine"
         ],
         "legendgroup": "Country/Region=Ukraine",
         "line": {
          "color": "#FF97FF",
          "dash": "solid"
         },
         "mode": "lines",
         "name": "Country/Region=Ukraine",
         "showlegend": true,
         "type": "scattergl",
         "x": [
          "03/03",
          "04/03",
          "05/03",
          "06/03",
          "07/03"
         ],
         "xaxis": "x",
         "y": [
          1,
          1,
          1,
          1,
          1
         ],
         "yaxis": "y"
        },
        {
         "hoverlabel": {
          "namelength": 0
         },
         "hovertemplate": "<b>%{hovertext}</b><br><br>Country/Region=Chile<br>ObservationDate=%{x}<br>Confirmed=%{y}",
         "hovertext": [
          "Chile",
          "Chile",
          "Chile",
          "Chile",
          "Chile"
         ],
         "legendgroup": "Country/Region=Chile",
         "line": {
          "color": "#FECB52",
          "dash": "solid"
         },
         "mode": "lines",
         "name": "Country/Region=Chile",
         "showlegend": true,
         "type": "scattergl",
         "x": [
          "03/03",
          "04/03",
          "05/03",
          "06/03",
          "07/03"
         ],
         "xaxis": "x",
         "y": [
          1,
          1,
          4,
          4,
          4
         ],
         "yaxis": "y"
        },
        {
         "hoverlabel": {
          "namelength": 0
         },
         "hovertemplate": "<b>%{hovertext}</b><br><br>Country/Region=Argentina<br>ObservationDate=%{x}<br>Confirmed=%{y}",
         "hovertext": [
          "Argentina",
          "Argentina",
          "Argentina",
          "Argentina",
          "Argentina"
         ],
         "legendgroup": "Country/Region=Argentina",
         "line": {
          "color": "#636efa",
          "dash": "solid"
         },
         "mode": "lines",
         "name": "Country/Region=Argentina",
         "showlegend": true,
         "type": "scattergl",
         "x": [
          "03/03",
          "04/03",
          "05/03",
          "06/03",
          "07/03"
         ],
         "xaxis": "x",
         "y": [
          1,
          1,
          1,
          2,
          8
         ],
         "yaxis": "y"
        },
        {
         "hoverlabel": {
          "namelength": 0
         },
         "hovertemplate": "<b>%{hovertext}</b><br><br>Country/Region=Jordan<br>ObservationDate=%{x}<br>Confirmed=%{y}",
         "hovertext": [
          "Jordan",
          "Jordan",
          "Jordan",
          "Jordan",
          "Jordan"
         ],
         "legendgroup": "Country/Region=Jordan",
         "line": {
          "color": "#EF553B",
          "dash": "solid"
         },
         "mode": "lines",
         "name": "Country/Region=Jordan",
         "showlegend": true,
         "type": "scattergl",
         "x": [
          "03/03",
          "04/03",
          "05/03",
          "06/03",
          "07/03"
         ],
         "xaxis": "x",
         "y": [
          1,
          1,
          1,
          1,
          1
         ],
         "yaxis": "y"
        },
        {
         "hoverlabel": {
          "namelength": 0
         },
         "hovertemplate": "<b>%{hovertext}</b><br><br>Country/Region=Poland<br>ObservationDate=%{x}<br>Confirmed=%{y}",
         "hovertext": [
          "Poland",
          "Poland",
          "Poland",
          "Poland"
         ],
         "legendgroup": "Country/Region=Poland",
         "line": {
          "color": "#00cc96",
          "dash": "solid"
         },
         "mode": "lines",
         "name": "Country/Region=Poland",
         "showlegend": true,
         "type": "scattergl",
         "x": [
          "04/03",
          "05/03",
          "06/03",
          "07/03"
         ],
         "xaxis": "x",
         "y": [
          1,
          1,
          5,
          5
         ],
         "yaxis": "y"
        },
        {
         "hoverlabel": {
          "namelength": 0
         },
         "hovertemplate": "<b>%{hovertext}</b><br><br>Country/Region=Liechtenstein<br>ObservationDate=%{x}<br>Confirmed=%{y}",
         "hovertext": [
          "Liechtenstein",
          "Liechtenstein",
          "Liechtenstein",
          "Liechtenstein"
         ],
         "legendgroup": "Country/Region=Liechtenstein",
         "line": {
          "color": "#ab63fa",
          "dash": "solid"
         },
         "mode": "lines",
         "name": "Country/Region=Liechtenstein",
         "showlegend": true,
         "type": "scattergl",
         "x": [
          "04/03",
          "05/03",
          "06/03",
          "07/03"
         ],
         "xaxis": "x",
         "y": [
          1,
          1,
          1,
          1
         ],
         "yaxis": "y"
        },
        {
         "hoverlabel": {
          "namelength": 0
         },
         "hovertemplate": "<b>%{hovertext}</b><br><br>Country/Region=Tunisia<br>ObservationDate=%{x}<br>Confirmed=%{y}",
         "hovertext": [
          "Tunisia",
          "Tunisia",
          "Tunisia",
          "Tunisia"
         ],
         "legendgroup": "Country/Region=Tunisia",
         "line": {
          "color": "#FFA15A",
          "dash": "solid"
         },
         "mode": "lines",
         "name": "Country/Region=Tunisia",
         "showlegend": true,
         "type": "scattergl",
         "x": [
          "04/03",
          "05/03",
          "06/03",
          "07/03"
         ],
         "xaxis": "x",
         "y": [
          1,
          1,
          1,
          1
         ],
         "yaxis": "y"
        },
        {
         "hoverlabel": {
          "namelength": 0
         },
         "hovertemplate": "<b>%{hovertext}</b><br><br>Country/Region=Saint Barthelemy<br>ObservationDate=%{x}<br>Confirmed=%{y}",
         "hovertext": [
          "Saint Barthelemy",
          "Saint Barthelemy",
          "Saint Barthelemy",
          "Saint Barthelemy"
         ],
         "legendgroup": "Country/Region=Saint Barthelemy",
         "line": {
          "color": "#19d3f3",
          "dash": "solid"
         },
         "mode": "lines",
         "name": "Country/Region=Saint Barthelemy",
         "showlegend": true,
         "type": "scattergl",
         "x": [
          "04/03",
          "05/03",
          "06/03",
          "07/03"
         ],
         "xaxis": "x",
         "y": [
          3,
          3,
          3,
          3
         ],
         "yaxis": "y"
        },
        {
         "hoverlabel": {
          "namelength": 0
         },
         "hovertemplate": "<b>%{hovertext}</b><br><br>Country/Region=Faroe Islands<br>ObservationDate=%{x}<br>Confirmed=%{y}",
         "hovertext": [
          "Faroe Islands",
          "Faroe Islands",
          "Faroe Islands",
          "Faroe Islands"
         ],
         "legendgroup": "Country/Region=Faroe Islands",
         "line": {
          "color": "#FF6692",
          "dash": "solid"
         },
         "mode": "lines",
         "name": "Country/Region=Faroe Islands",
         "showlegend": true,
         "type": "scattergl",
         "x": [
          "04/03",
          "05/03",
          "06/03",
          "07/03"
         ],
         "xaxis": "x",
         "y": [
          1,
          1,
          1,
          1
         ],
         "yaxis": "y"
        },
        {
         "hoverlabel": {
          "namelength": 0
         },
         "hovertemplate": "<b>%{hovertext}</b><br><br>Country/Region=Hungary<br>ObservationDate=%{x}<br>Confirmed=%{y}",
         "hovertext": [
          "Hungary",
          "Hungary",
          "Hungary",
          "Hungary"
         ],
         "legendgroup": "Country/Region=Hungary",
         "line": {
          "color": "#B6E880",
          "dash": "solid"
         },
         "mode": "lines",
         "name": "Country/Region=Hungary",
         "showlegend": true,
         "type": "scattergl",
         "x": [
          "04/03",
          "05/03",
          "06/03",
          "07/03"
         ],
         "xaxis": "x",
         "y": [
          2,
          2,
          2,
          4
         ],
         "yaxis": "y"
        },
        {
         "hoverlabel": {
          "namelength": 0
         },
         "hovertemplate": "<b>%{hovertext}</b><br><br>Country/Region=Gibraltar<br>ObservationDate=%{x}<br>Confirmed=%{y}",
         "hovertext": [
          "Gibraltar",
          "Gibraltar",
          "Gibraltar",
          "Gibraltar"
         ],
         "legendgroup": "Country/Region=Gibraltar",
         "line": {
          "color": "#FF97FF",
          "dash": "solid"
         },
         "mode": "lines",
         "name": "Country/Region=Gibraltar",
         "showlegend": true,
         "type": "scattergl",
         "x": [
          "04/03",
          "05/03",
          "06/03",
          "07/03"
         ],
         "xaxis": "x",
         "y": [
          1,
          1,
          1,
          1
         ],
         "yaxis": "y"
        },
        {
         "hoverlabel": {
          "namelength": 0
         },
         "hovertemplate": "<b>%{hovertext}</b><br><br>Country/Region=Palestine<br>ObservationDate=%{x}<br>Confirmed=%{y}",
         "hovertext": [
          "Palestine",
          "Palestine",
          "Palestine"
         ],
         "legendgroup": "Country/Region=Palestine",
         "line": {
          "color": "#FECB52",
          "dash": "solid"
         },
         "mode": "lines",
         "name": "Country/Region=Palestine",
         "showlegend": true,
         "type": "scattergl",
         "x": [
          "05/03",
          "06/03",
          "07/03"
         ],
         "xaxis": "x",
         "y": [
          4,
          16,
          22
         ],
         "yaxis": "y"
        },
        {
         "hoverlabel": {
          "namelength": 0
         },
         "hovertemplate": "<b>%{hovertext}</b><br><br>Country/Region=South Africa<br>ObservationDate=%{x}<br>Confirmed=%{y}",
         "hovertext": [
          "South Africa",
          "South Africa",
          "South Africa"
         ],
         "legendgroup": "Country/Region=South Africa",
         "line": {
          "color": "#636efa",
          "dash": "solid"
         },
         "mode": "lines",
         "name": "Country/Region=South Africa",
         "showlegend": true,
         "type": "scattergl",
         "x": [
          "05/03",
          "06/03",
          "07/03"
         ],
         "xaxis": "x",
         "y": [
          1,
          1,
          1
         ],
         "yaxis": "y"
        },
        {
         "hoverlabel": {
          "namelength": 0
         },
         "hovertemplate": "<b>%{hovertext}</b><br><br>Country/Region=Slovenia<br>ObservationDate=%{x}<br>Confirmed=%{y}",
         "hovertext": [
          "Slovenia",
          "Slovenia",
          "Slovenia"
         ],
         "legendgroup": "Country/Region=Slovenia",
         "line": {
          "color": "#EF553B",
          "dash": "solid"
         },
         "mode": "lines",
         "name": "Country/Region=Slovenia",
         "showlegend": true,
         "type": "scattergl",
         "x": [
          "05/03",
          "06/03",
          "07/03"
         ],
         "xaxis": "x",
         "y": [
          2,
          7,
          7
         ],
         "yaxis": "y"
        },
        {
         "hoverlabel": {
          "namelength": 0
         },
         "hovertemplate": "<b>%{hovertext}</b><br><br>Country/Region=Bosnia and Herzegovina<br>ObservationDate=%{x}<br>Confirmed=%{y}",
         "hovertext": [
          "Bosnia and Herzegovina",
          "Bosnia and Herzegovina",
          "Bosnia and Herzegovina"
         ],
         "legendgroup": "Country/Region=Bosnia and Herzegovina",
         "line": {
          "color": "#00cc96",
          "dash": "solid"
         },
         "mode": "lines",
         "name": "Country/Region=Bosnia and Herzegovina",
         "showlegend": true,
         "type": "scattergl",
         "x": [
          "05/03",
          "06/03",
          "07/03"
         ],
         "xaxis": "x",
         "y": [
          2,
          2,
          3
         ],
         "yaxis": "y"
        },
        {
         "hoverlabel": {
          "namelength": 0
         },
         "hovertemplate": "<b>%{hovertext}</b><br><br>Country/Region=Peru<br>ObservationDate=%{x}<br>Confirmed=%{y}",
         "hovertext": [
          "Peru",
          "Peru"
         ],
         "legendgroup": "Country/Region=Peru",
         "line": {
          "color": "#ab63fa",
          "dash": "solid"
         },
         "mode": "lines",
         "name": "Country/Region=Peru",
         "showlegend": true,
         "type": "scattergl",
         "x": [
          "06/03",
          "07/03"
         ],
         "xaxis": "x",
         "y": [
          1,
          1
         ],
         "yaxis": "y"
        },
        {
         "hoverlabel": {
          "namelength": 0
         },
         "hovertemplate": "<b>%{hovertext}</b><br><br>Country/Region=Vatican City<br>ObservationDate=%{x}<br>Confirmed=%{y}",
         "hovertext": [
          "Vatican City",
          "Vatican City"
         ],
         "legendgroup": "Country/Region=Vatican City",
         "line": {
          "color": "#FFA15A",
          "dash": "solid"
         },
         "mode": "lines",
         "name": "Country/Region=Vatican City",
         "showlegend": true,
         "type": "scattergl",
         "x": [
          "06/03",
          "07/03"
         ],
         "xaxis": "x",
         "y": [
          1,
          1
         ],
         "yaxis": "y"
        },
        {
         "hoverlabel": {
          "namelength": 0
         },
         "hovertemplate": "<b>%{hovertext}</b><br><br>Country/Region=Togo<br>ObservationDate=%{x}<br>Confirmed=%{y}",
         "hovertext": [
          "Togo",
          "Togo"
         ],
         "legendgroup": "Country/Region=Togo",
         "line": {
          "color": "#19d3f3",
          "dash": "solid"
         },
         "mode": "lines",
         "name": "Country/Region=Togo",
         "showlegend": true,
         "type": "scattergl",
         "x": [
          "06/03",
          "07/03"
         ],
         "xaxis": "x",
         "y": [
          1,
          1
         ],
         "yaxis": "y"
        },
        {
         "hoverlabel": {
          "namelength": 0
         },
         "hovertemplate": "<b>%{hovertext}</b><br><br>Country/Region=Slovakia<br>ObservationDate=%{x}<br>Confirmed=%{y}",
         "hovertext": [
          "Slovakia",
          "Slovakia"
         ],
         "legendgroup": "Country/Region=Slovakia",
         "line": {
          "color": "#FF6692",
          "dash": "solid"
         },
         "mode": "lines",
         "name": "Country/Region=Slovakia",
         "showlegend": true,
         "type": "scattergl",
         "x": [
          "06/03",
          "07/03"
         ],
         "xaxis": "x",
         "y": [
          1,
          1
         ],
         "yaxis": "y"
        },
        {
         "hoverlabel": {
          "namelength": 0
         },
         "hovertemplate": "<b>%{hovertext}</b><br><br>Country/Region=Serbia<br>ObservationDate=%{x}<br>Confirmed=%{y}",
         "hovertext": [
          "Serbia",
          "Serbia"
         ],
         "legendgroup": "Country/Region=Serbia",
         "line": {
          "color": "#B6E880",
          "dash": "solid"
         },
         "mode": "lines",
         "name": "Country/Region=Serbia",
         "showlegend": true,
         "type": "scattergl",
         "x": [
          "06/03",
          "07/03"
         ],
         "xaxis": "x",
         "y": [
          1,
          1
         ],
         "yaxis": "y"
        },
        {
         "hoverlabel": {
          "namelength": 0
         },
         "hovertemplate": "<b>%{hovertext}</b><br><br>Country/Region=Costa Rica<br>ObservationDate=%{x}<br>Confirmed=%{y}",
         "hovertext": [
          "Costa Rica",
          "Costa Rica"
         ],
         "legendgroup": "Country/Region=Costa Rica",
         "line": {
          "color": "#FF97FF",
          "dash": "solid"
         },
         "mode": "lines",
         "name": "Country/Region=Costa Rica",
         "showlegend": true,
         "type": "scattergl",
         "x": [
          "06/03",
          "07/03"
         ],
         "xaxis": "x",
         "y": [
          1,
          1
         ],
         "yaxis": "y"
        },
        {
         "hoverlabel": {
          "namelength": 0
         },
         "hovertemplate": "<b>%{hovertext}</b><br><br>Country/Region=Cameroon<br>ObservationDate=%{x}<br>Confirmed=%{y}",
         "hovertext": [
          "Cameroon",
          "Cameroon"
         ],
         "legendgroup": "Country/Region=Cameroon",
         "line": {
          "color": "#FECB52",
          "dash": "solid"
         },
         "mode": "lines",
         "name": "Country/Region=Cameroon",
         "showlegend": true,
         "type": "scattergl",
         "x": [
          "06/03",
          "07/03"
         ],
         "xaxis": "x",
         "y": [
          1,
          1
         ],
         "yaxis": "y"
        },
        {
         "hoverlabel": {
          "namelength": 0
         },
         "hovertemplate": "<b>%{hovertext}</b><br><br>Country/Region=Bhutan<br>ObservationDate=%{x}<br>Confirmed=%{y}",
         "hovertext": [
          "Bhutan",
          "Bhutan"
         ],
         "legendgroup": "Country/Region=Bhutan",
         "line": {
          "color": "#636efa",
          "dash": "solid"
         },
         "mode": "lines",
         "name": "Country/Region=Bhutan",
         "showlegend": true,
         "type": "scattergl",
         "x": [
          "06/03",
          "07/03"
         ],
         "xaxis": "x",
         "y": [
          1,
          1
         ],
         "yaxis": "y"
        },
        {
         "hoverlabel": {
          "namelength": 0
         },
         "hovertemplate": "<b>%{hovertext}</b><br><br>Country/Region=Martinique<br>ObservationDate=%{x}<br>Confirmed=%{y}",
         "hovertext": [
          "Martinique"
         ],
         "legendgroup": "Country/Region=Martinique",
         "line": {
          "color": "#EF553B",
          "dash": "solid"
         },
         "mode": "lines",
         "name": "Country/Region=Martinique",
         "showlegend": true,
         "type": "scattergl",
         "x": [
          "07/03"
         ],
         "xaxis": "x",
         "y": [
          2
         ],
         "yaxis": "y"
        },
        {
         "hoverlabel": {
          "namelength": 0
         },
         "hovertemplate": "<b>%{hovertext}</b><br><br>Country/Region=Malta<br>ObservationDate=%{x}<br>Confirmed=%{y}",
         "hovertext": [
          "Malta"
         ],
         "legendgroup": "Country/Region=Malta",
         "line": {
          "color": "#00cc96",
          "dash": "solid"
         },
         "mode": "lines",
         "name": "Country/Region=Malta",
         "showlegend": true,
         "type": "scattergl",
         "x": [
          "07/03"
         ],
         "xaxis": "x",
         "y": [
          3
         ],
         "yaxis": "y"
        },
        {
         "hoverlabel": {
          "namelength": 0
         },
         "hovertemplate": "<b>%{hovertext}</b><br><br>Country/Region=French Guiana<br>ObservationDate=%{x}<br>Confirmed=%{y}",
         "hovertext": [
          "French Guiana"
         ],
         "legendgroup": "Country/Region=French Guiana",
         "line": {
          "color": "#ab63fa",
          "dash": "solid"
         },
         "mode": "lines",
         "name": "Country/Region=French Guiana",
         "showlegend": true,
         "type": "scattergl",
         "x": [
          "07/03"
         ],
         "xaxis": "x",
         "y": [
          5
         ],
         "yaxis": "y"
        }
       ],
       "layout": {
        "legend": {
         "tracegroupgap": 0
        },
        "margin": {
         "t": 60
        },
        "template": {
         "data": {
          "bar": [
           {
            "error_x": {
             "color": "#f2f5fa"
            },
            "error_y": {
             "color": "#f2f5fa"
            },
            "marker": {
             "line": {
              "color": "rgb(17,17,17)",
              "width": 0.5
             }
            },
            "type": "bar"
           }
          ],
          "barpolar": [
           {
            "marker": {
             "line": {
              "color": "rgb(17,17,17)",
              "width": 0.5
             }
            },
            "type": "barpolar"
           }
          ],
          "carpet": [
           {
            "aaxis": {
             "endlinecolor": "#A2B1C6",
             "gridcolor": "#506784",
             "linecolor": "#506784",
             "minorgridcolor": "#506784",
             "startlinecolor": "#A2B1C6"
            },
            "baxis": {
             "endlinecolor": "#A2B1C6",
             "gridcolor": "#506784",
             "linecolor": "#506784",
             "minorgridcolor": "#506784",
             "startlinecolor": "#A2B1C6"
            },
            "type": "carpet"
           }
          ],
          "choropleth": [
           {
            "colorbar": {
             "outlinewidth": 0,
             "ticks": ""
            },
            "type": "choropleth"
           }
          ],
          "contour": [
           {
            "colorbar": {
             "outlinewidth": 0,
             "ticks": ""
            },
            "colorscale": [
             [
              0,
              "#0d0887"
             ],
             [
              0.1111111111111111,
              "#46039f"
             ],
             [
              0.2222222222222222,
              "#7201a8"
             ],
             [
              0.3333333333333333,
              "#9c179e"
             ],
             [
              0.4444444444444444,
              "#bd3786"
             ],
             [
              0.5555555555555556,
              "#d8576b"
             ],
             [
              0.6666666666666666,
              "#ed7953"
             ],
             [
              0.7777777777777778,
              "#fb9f3a"
             ],
             [
              0.8888888888888888,
              "#fdca26"
             ],
             [
              1,
              "#f0f921"
             ]
            ],
            "type": "contour"
           }
          ],
          "contourcarpet": [
           {
            "colorbar": {
             "outlinewidth": 0,
             "ticks": ""
            },
            "type": "contourcarpet"
           }
          ],
          "heatmap": [
           {
            "colorbar": {
             "outlinewidth": 0,
             "ticks": ""
            },
            "colorscale": [
             [
              0,
              "#0d0887"
             ],
             [
              0.1111111111111111,
              "#46039f"
             ],
             [
              0.2222222222222222,
              "#7201a8"
             ],
             [
              0.3333333333333333,
              "#9c179e"
             ],
             [
              0.4444444444444444,
              "#bd3786"
             ],
             [
              0.5555555555555556,
              "#d8576b"
             ],
             [
              0.6666666666666666,
              "#ed7953"
             ],
             [
              0.7777777777777778,
              "#fb9f3a"
             ],
             [
              0.8888888888888888,
              "#fdca26"
             ],
             [
              1,
              "#f0f921"
             ]
            ],
            "type": "heatmap"
           }
          ],
          "heatmapgl": [
           {
            "colorbar": {
             "outlinewidth": 0,
             "ticks": ""
            },
            "colorscale": [
             [
              0,
              "#0d0887"
             ],
             [
              0.1111111111111111,
              "#46039f"
             ],
             [
              0.2222222222222222,
              "#7201a8"
             ],
             [
              0.3333333333333333,
              "#9c179e"
             ],
             [
              0.4444444444444444,
              "#bd3786"
             ],
             [
              0.5555555555555556,
              "#d8576b"
             ],
             [
              0.6666666666666666,
              "#ed7953"
             ],
             [
              0.7777777777777778,
              "#fb9f3a"
             ],
             [
              0.8888888888888888,
              "#fdca26"
             ],
             [
              1,
              "#f0f921"
             ]
            ],
            "type": "heatmapgl"
           }
          ],
          "histogram": [
           {
            "marker": {
             "colorbar": {
              "outlinewidth": 0,
              "ticks": ""
             }
            },
            "type": "histogram"
           }
          ],
          "histogram2d": [
           {
            "colorbar": {
             "outlinewidth": 0,
             "ticks": ""
            },
            "colorscale": [
             [
              0,
              "#0d0887"
             ],
             [
              0.1111111111111111,
              "#46039f"
             ],
             [
              0.2222222222222222,
              "#7201a8"
             ],
             [
              0.3333333333333333,
              "#9c179e"
             ],
             [
              0.4444444444444444,
              "#bd3786"
             ],
             [
              0.5555555555555556,
              "#d8576b"
             ],
             [
              0.6666666666666666,
              "#ed7953"
             ],
             [
              0.7777777777777778,
              "#fb9f3a"
             ],
             [
              0.8888888888888888,
              "#fdca26"
             ],
             [
              1,
              "#f0f921"
             ]
            ],
            "type": "histogram2d"
           }
          ],
          "histogram2dcontour": [
           {
            "colorbar": {
             "outlinewidth": 0,
             "ticks": ""
            },
            "colorscale": [
             [
              0,
              "#0d0887"
             ],
             [
              0.1111111111111111,
              "#46039f"
             ],
             [
              0.2222222222222222,
              "#7201a8"
             ],
             [
              0.3333333333333333,
              "#9c179e"
             ],
             [
              0.4444444444444444,
              "#bd3786"
             ],
             [
              0.5555555555555556,
              "#d8576b"
             ],
             [
              0.6666666666666666,
              "#ed7953"
             ],
             [
              0.7777777777777778,
              "#fb9f3a"
             ],
             [
              0.8888888888888888,
              "#fdca26"
             ],
             [
              1,
              "#f0f921"
             ]
            ],
            "type": "histogram2dcontour"
           }
          ],
          "mesh3d": [
           {
            "colorbar": {
             "outlinewidth": 0,
             "ticks": ""
            },
            "type": "mesh3d"
           }
          ],
          "parcoords": [
           {
            "line": {
             "colorbar": {
              "outlinewidth": 0,
              "ticks": ""
             }
            },
            "type": "parcoords"
           }
          ],
          "pie": [
           {
            "automargin": true,
            "type": "pie"
           }
          ],
          "scatter": [
           {
            "marker": {
             "line": {
              "color": "#283442"
             }
            },
            "type": "scatter"
           }
          ],
          "scatter3d": [
           {
            "line": {
             "colorbar": {
              "outlinewidth": 0,
              "ticks": ""
             }
            },
            "marker": {
             "colorbar": {
              "outlinewidth": 0,
              "ticks": ""
             }
            },
            "type": "scatter3d"
           }
          ],
          "scattercarpet": [
           {
            "marker": {
             "colorbar": {
              "outlinewidth": 0,
              "ticks": ""
             }
            },
            "type": "scattercarpet"
           }
          ],
          "scattergeo": [
           {
            "marker": {
             "colorbar": {
              "outlinewidth": 0,
              "ticks": ""
             }
            },
            "type": "scattergeo"
           }
          ],
          "scattergl": [
           {
            "marker": {
             "line": {
              "color": "#283442"
             }
            },
            "type": "scattergl"
           }
          ],
          "scattermapbox": [
           {
            "marker": {
             "colorbar": {
              "outlinewidth": 0,
              "ticks": ""
             }
            },
            "type": "scattermapbox"
           }
          ],
          "scatterpolar": [
           {
            "marker": {
             "colorbar": {
              "outlinewidth": 0,
              "ticks": ""
             }
            },
            "type": "scatterpolar"
           }
          ],
          "scatterpolargl": [
           {
            "marker": {
             "colorbar": {
              "outlinewidth": 0,
              "ticks": ""
             }
            },
            "type": "scatterpolargl"
           }
          ],
          "scatterternary": [
           {
            "marker": {
             "colorbar": {
              "outlinewidth": 0,
              "ticks": ""
             }
            },
            "type": "scatterternary"
           }
          ],
          "surface": [
           {
            "colorbar": {
             "outlinewidth": 0,
             "ticks": ""
            },
            "colorscale": [
             [
              0,
              "#0d0887"
             ],
             [
              0.1111111111111111,
              "#46039f"
             ],
             [
              0.2222222222222222,
              "#7201a8"
             ],
             [
              0.3333333333333333,
              "#9c179e"
             ],
             [
              0.4444444444444444,
              "#bd3786"
             ],
             [
              0.5555555555555556,
              "#d8576b"
             ],
             [
              0.6666666666666666,
              "#ed7953"
             ],
             [
              0.7777777777777778,
              "#fb9f3a"
             ],
             [
              0.8888888888888888,
              "#fdca26"
             ],
             [
              1,
              "#f0f921"
             ]
            ],
            "type": "surface"
           }
          ],
          "table": [
           {
            "cells": {
             "fill": {
              "color": "#506784"
             },
             "line": {
              "color": "rgb(17,17,17)"
             }
            },
            "header": {
             "fill": {
              "color": "#2a3f5f"
             },
             "line": {
              "color": "rgb(17,17,17)"
             }
            },
            "type": "table"
           }
          ]
         },
         "layout": {
          "annotationdefaults": {
           "arrowcolor": "#f2f5fa",
           "arrowhead": 0,
           "arrowwidth": 1
          },
          "coloraxis": {
           "colorbar": {
            "outlinewidth": 0,
            "ticks": ""
           }
          },
          "colorscale": {
           "diverging": [
            [
             0,
             "#8e0152"
            ],
            [
             0.1,
             "#c51b7d"
            ],
            [
             0.2,
             "#de77ae"
            ],
            [
             0.3,
             "#f1b6da"
            ],
            [
             0.4,
             "#fde0ef"
            ],
            [
             0.5,
             "#f7f7f7"
            ],
            [
             0.6,
             "#e6f5d0"
            ],
            [
             0.7,
             "#b8e186"
            ],
            [
             0.8,
             "#7fbc41"
            ],
            [
             0.9,
             "#4d9221"
            ],
            [
             1,
             "#276419"
            ]
           ],
           "sequential": [
            [
             0,
             "#0d0887"
            ],
            [
             0.1111111111111111,
             "#46039f"
            ],
            [
             0.2222222222222222,
             "#7201a8"
            ],
            [
             0.3333333333333333,
             "#9c179e"
            ],
            [
             0.4444444444444444,
             "#bd3786"
            ],
            [
             0.5555555555555556,
             "#d8576b"
            ],
            [
             0.6666666666666666,
             "#ed7953"
            ],
            [
             0.7777777777777778,
             "#fb9f3a"
            ],
            [
             0.8888888888888888,
             "#fdca26"
            ],
            [
             1,
             "#f0f921"
            ]
           ],
           "sequentialminus": [
            [
             0,
             "#0d0887"
            ],
            [
             0.1111111111111111,
             "#46039f"
            ],
            [
             0.2222222222222222,
             "#7201a8"
            ],
            [
             0.3333333333333333,
             "#9c179e"
            ],
            [
             0.4444444444444444,
             "#bd3786"
            ],
            [
             0.5555555555555556,
             "#d8576b"
            ],
            [
             0.6666666666666666,
             "#ed7953"
            ],
            [
             0.7777777777777778,
             "#fb9f3a"
            ],
            [
             0.8888888888888888,
             "#fdca26"
            ],
            [
             1,
             "#f0f921"
            ]
           ]
          },
          "colorway": [
           "#636efa",
           "#EF553B",
           "#00cc96",
           "#ab63fa",
           "#FFA15A",
           "#19d3f3",
           "#FF6692",
           "#B6E880",
           "#FF97FF",
           "#FECB52"
          ],
          "font": {
           "color": "#f2f5fa"
          },
          "geo": {
           "bgcolor": "rgb(17,17,17)",
           "lakecolor": "rgb(17,17,17)",
           "landcolor": "rgb(17,17,17)",
           "showlakes": true,
           "showland": true,
           "subunitcolor": "#506784"
          },
          "hoverlabel": {
           "align": "left"
          },
          "hovermode": "closest",
          "mapbox": {
           "style": "dark"
          },
          "paper_bgcolor": "rgb(17,17,17)",
          "plot_bgcolor": "rgb(17,17,17)",
          "polar": {
           "angularaxis": {
            "gridcolor": "#506784",
            "linecolor": "#506784",
            "ticks": ""
           },
           "bgcolor": "rgb(17,17,17)",
           "radialaxis": {
            "gridcolor": "#506784",
            "linecolor": "#506784",
            "ticks": ""
           }
          },
          "scene": {
           "xaxis": {
            "backgroundcolor": "rgb(17,17,17)",
            "gridcolor": "#506784",
            "gridwidth": 2,
            "linecolor": "#506784",
            "showbackground": true,
            "ticks": "",
            "zerolinecolor": "#C8D4E3"
           },
           "yaxis": {
            "backgroundcolor": "rgb(17,17,17)",
            "gridcolor": "#506784",
            "gridwidth": 2,
            "linecolor": "#506784",
            "showbackground": true,
            "ticks": "",
            "zerolinecolor": "#C8D4E3"
           },
           "zaxis": {
            "backgroundcolor": "rgb(17,17,17)",
            "gridcolor": "#506784",
            "gridwidth": 2,
            "linecolor": "#506784",
            "showbackground": true,
            "ticks": "",
            "zerolinecolor": "#C8D4E3"
           }
          },
          "shapedefaults": {
           "line": {
            "color": "#f2f5fa"
           }
          },
          "sliderdefaults": {
           "bgcolor": "#C8D4E3",
           "bordercolor": "rgb(17,17,17)",
           "borderwidth": 1,
           "tickwidth": 0
          },
          "ternary": {
           "aaxis": {
            "gridcolor": "#506784",
            "linecolor": "#506784",
            "ticks": ""
           },
           "baxis": {
            "gridcolor": "#506784",
            "linecolor": "#506784",
            "ticks": ""
           },
           "bgcolor": "rgb(17,17,17)",
           "caxis": {
            "gridcolor": "#506784",
            "linecolor": "#506784",
            "ticks": ""
           }
          },
          "title": {
           "x": 0.05
          },
          "updatemenudefaults": {
           "bgcolor": "#506784",
           "borderwidth": 0
          },
          "xaxis": {
           "automargin": true,
           "gridcolor": "#283442",
           "linecolor": "#506784",
           "ticks": "",
           "title": {
            "standoff": 15
           },
           "zerolinecolor": "#283442",
           "zerolinewidth": 2
          },
          "yaxis": {
           "automargin": true,
           "gridcolor": "#283442",
           "linecolor": "#506784",
           "ticks": "",
           "title": {
            "standoff": 15
           },
           "zerolinecolor": "#283442",
           "zerolinewidth": 2
          }
         }
        },
        "title": {
         "text": "spreading of COVID-19 outside China"
        },
        "xaxis": {
         "anchor": "y",
         "domain": [
          0,
          1
         ],
         "title": {
          "text": "ObservationDate"
         }
        },
        "yaxis": {
         "anchor": "x",
         "domain": [
          0,
          1
         ],
         "title": {
          "text": "Confirmed"
         }
        }
       }
      },
      "text/html": [
       "<div>\n",
       "        \n",
       "        \n",
       "            <div id=\"fba61177-e7cb-41ec-89c9-c1710a9aa4c9\" class=\"plotly-graph-div\" style=\"height:525px; width:100%;\"></div>\n",
       "            <script type=\"text/javascript\">\n",
       "                require([\"plotly\"], function(Plotly) {\n",
       "                    window.PLOTLYENV=window.PLOTLYENV || {};\n",
       "                    \n",
       "                if (document.getElementById(\"fba61177-e7cb-41ec-89c9-c1710a9aa4c9\")) {\n",
       "                    Plotly.newPlot(\n",
       "                        'fba61177-e7cb-41ec-89c9-c1710a9aa4c9',\n",
       "                        [{\"hoverlabel\": {\"namelength\": 0}, \"hovertemplate\": \"<b>%{hovertext}</b><br><br>Country/Region=Hong Kong<br>ObservationDate=%{x}<br>Confirmed=%{y}\", \"hovertext\": [\"Hong Kong\", \"Hong Kong\", \"Hong Kong\", \"Hong Kong\", \"Hong Kong\", \"Hong Kong\", \"Hong Kong\", \"Hong Kong\", \"Hong Kong\", \"Hong Kong\", \"Hong Kong\", \"Hong Kong\", \"Hong Kong\", \"Hong Kong\", \"Hong Kong\", \"Hong Kong\", \"Hong Kong\", \"Hong Kong\", \"Hong Kong\", \"Hong Kong\", \"Hong Kong\", \"Hong Kong\", \"Hong Kong\", \"Hong Kong\", \"Hong Kong\", \"Hong Kong\", \"Hong Kong\", \"Hong Kong\", \"Hong Kong\", \"Hong Kong\", \"Hong Kong\", \"Hong Kong\", \"Hong Kong\", \"Hong Kong\", \"Hong Kong\", \"Hong Kong\", \"Hong Kong\", \"Hong Kong\", \"Hong Kong\", \"Hong Kong\", \"Hong Kong\", \"Hong Kong\", \"Hong Kong\", \"Hong Kong\", \"Hong Kong\", \"Hong Kong\"], \"legendgroup\": \"Country/Region=Hong Kong\", \"line\": {\"color\": \"#636efa\", \"dash\": \"solid\"}, \"mode\": \"lines\", \"name\": \"Country/Region=Hong Kong\", \"showlegend\": true, \"type\": \"scattergl\", \"x\": [\"22/01\", \"23/01\", \"24/01\", \"25/01\", \"26/01\", \"27/01\", \"28/01\", \"29/01\", \"30/01\", \"31/01\", \"01/02\", \"02/02\", \"03/02\", \"04/02\", \"05/02\", \"06/02\", \"07/02\", \"08/02\", \"09/02\", \"10/02\", \"11/02\", \"12/02\", \"13/02\", \"14/02\", \"15/02\", \"16/02\", \"17/02\", \"18/02\", \"19/02\", \"20/02\", \"21/02\", \"22/02\", \"23/02\", \"24/02\", \"25/02\", \"26/02\", \"27/02\", \"28/02\", \"29/02\", \"01/03\", \"02/03\", \"03/03\", \"04/03\", \"05/03\", \"06/03\", \"07/03\"], \"xaxis\": \"x\", \"y\": [0, 2, 2, 5, 8, 8, 8, 10, 10, 12, 13, 15, 15, 17, 21, 24, 25, 26, 29, 38, 49, 50, 53, 56, 56, 57, 60, 62, 63, 68, 68, 69, 74, 79, 84, 91, 92, 94, 95, 96, 100, 100, 105, 105, 107, 108], \"yaxis\": \"y\"}, {\"hoverlabel\": {\"namelength\": 0}, \"hovertemplate\": \"<b>%{hovertext}</b><br><br>Country/Region=Japan<br>ObservationDate=%{x}<br>Confirmed=%{y}\", \"hovertext\": [\"Japan\", \"Japan\", \"Japan\", \"Japan\", \"Japan\", \"Japan\", \"Japan\", \"Japan\", \"Japan\", \"Japan\", \"Japan\", \"Japan\", \"Japan\", \"Japan\", \"Japan\", \"Japan\", \"Japan\", \"Japan\", \"Japan\", \"Japan\", \"Japan\", \"Japan\", \"Japan\", \"Japan\", \"Japan\", \"Japan\", \"Japan\", \"Japan\", \"Japan\", \"Japan\", \"Japan\", \"Japan\", \"Japan\", \"Japan\", \"Japan\", \"Japan\", \"Japan\", \"Japan\", \"Japan\", \"Japan\", \"Japan\", \"Japan\", \"Japan\", \"Japan\", \"Japan\", \"Japan\"], \"legendgroup\": \"Country/Region=Japan\", \"line\": {\"color\": \"#EF553B\", \"dash\": \"solid\"}, \"mode\": \"lines\", \"name\": \"Country/Region=Japan\", \"showlegend\": true, \"type\": \"scattergl\", \"x\": [\"22/01\", \"23/01\", \"24/01\", \"25/01\", \"26/01\", \"27/01\", \"28/01\", \"29/01\", \"30/01\", \"31/01\", \"01/02\", \"02/02\", \"03/02\", \"04/02\", \"05/02\", \"06/02\", \"07/02\", \"08/02\", \"09/02\", \"10/02\", \"11/02\", \"12/02\", \"13/02\", \"14/02\", \"15/02\", \"16/02\", \"17/02\", \"18/02\", \"19/02\", \"20/02\", \"21/02\", \"22/02\", \"23/02\", \"24/02\", \"25/02\", \"26/02\", \"27/02\", \"28/02\", \"29/02\", \"01/03\", \"02/03\", \"03/03\", \"04/03\", \"05/03\", \"06/03\", \"07/03\"], \"xaxis\": \"x\", \"y\": [2, 1, 2, 2, 4, 4, 7, 7, 11, 15, 20, 20, 20, 22, 22, 45, 25, 25, 26, 26, 26, 28, 28, 29, 43, 59, 66, 74, 84, 94, 105, 122, 147, 159, 170, 189, 214, 228, 241, 256, 274, 293, 331, 360, 420, 461], \"yaxis\": \"y\"}, {\"hoverlabel\": {\"namelength\": 0}, \"hovertemplate\": \"<b>%{hovertext}</b><br><br>Country/Region=Macau<br>ObservationDate=%{x}<br>Confirmed=%{y}\", \"hovertext\": [\"Macau\", \"Macau\", \"Macau\", \"Macau\", \"Macau\", \"Macau\", \"Macau\", \"Macau\", \"Macau\", \"Macau\", \"Macau\", \"Macau\", \"Macau\", \"Macau\", \"Macau\", \"Macau\", \"Macau\", \"Macau\", \"Macau\", \"Macau\", \"Macau\", \"Macau\", \"Macau\", \"Macau\", \"Macau\", \"Macau\", \"Macau\", \"Macau\", \"Macau\", \"Macau\", \"Macau\", \"Macau\", \"Macau\", \"Macau\", \"Macau\", \"Macau\", \"Macau\", \"Macau\", \"Macau\", \"Macau\", \"Macau\", \"Macau\", \"Macau\", \"Macau\", \"Macau\", \"Macau\"], \"legendgroup\": \"Country/Region=Macau\", \"line\": {\"color\": \"#00cc96\", \"dash\": \"solid\"}, \"mode\": \"lines\", \"name\": \"Country/Region=Macau\", \"showlegend\": true, \"type\": \"scattergl\", \"x\": [\"22/01\", \"23/01\", \"24/01\", \"25/01\", \"26/01\", \"27/01\", \"28/01\", \"29/01\", \"30/01\", \"31/01\", \"01/02\", \"02/02\", \"03/02\", \"04/02\", \"05/02\", \"06/02\", \"07/02\", \"08/02\", \"09/02\", \"10/02\", \"11/02\", \"12/02\", \"13/02\", \"14/02\", \"15/02\", \"16/02\", \"17/02\", \"18/02\", \"19/02\", \"20/02\", \"21/02\", \"22/02\", \"23/02\", \"24/02\", \"25/02\", \"26/02\", \"27/02\", \"28/02\", \"29/02\", \"01/03\", \"02/03\", \"03/03\", \"04/03\", \"05/03\", \"06/03\", \"07/03\"], \"xaxis\": \"x\", \"y\": [1, 2, 2, 2, 5, 6, 7, 7, 7, 7, 7, 8, 8, 10, 10, 10, 10, 10, 10, 10, 10, 10, 10, 10, 10, 10, 10, 10, 10, 10, 10, 10, 10, 10, 10, 10, 10, 10, 10, 10, 10, 10, 10, 10, 10, 10], \"yaxis\": \"y\"}, {\"hoverlabel\": {\"namelength\": 0}, \"hovertemplate\": \"<b>%{hovertext}</b><br><br>Country/Region=South Korea<br>ObservationDate=%{x}<br>Confirmed=%{y}\", \"hovertext\": [\"South Korea\", \"South Korea\", \"South Korea\", \"South Korea\", \"South Korea\", \"South Korea\", \"South Korea\", \"South Korea\", \"South Korea\", \"South Korea\", \"South Korea\", \"South Korea\", \"South Korea\", \"South Korea\", \"South Korea\", \"South Korea\", \"South Korea\", \"South Korea\", \"South Korea\", \"South Korea\", \"South Korea\", \"South Korea\", \"South Korea\", \"South Korea\", \"South Korea\", \"South Korea\", \"South Korea\", \"South Korea\", \"South Korea\", \"South Korea\", \"South Korea\", \"South Korea\", \"South Korea\", \"South Korea\", \"South Korea\", \"South Korea\", \"South Korea\", \"South Korea\", \"South Korea\", \"South Korea\", \"South Korea\", \"South Korea\", \"South Korea\", \"South Korea\", \"South Korea\", \"South Korea\"], \"legendgroup\": \"Country/Region=South Korea\", \"line\": {\"color\": \"#ab63fa\", \"dash\": \"solid\"}, \"mode\": \"lines\", \"name\": \"Country/Region=South Korea\", \"showlegend\": true, \"type\": \"scattergl\", \"x\": [\"22/01\", \"23/01\", \"24/01\", \"25/01\", \"26/01\", \"27/01\", \"28/01\", \"29/01\", \"30/01\", \"31/01\", \"01/02\", \"02/02\", \"03/02\", \"04/02\", \"05/02\", \"06/02\", \"07/02\", \"08/02\", \"09/02\", \"10/02\", \"11/02\", \"12/02\", \"13/02\", \"14/02\", \"15/02\", \"16/02\", \"17/02\", \"18/02\", \"19/02\", \"20/02\", \"21/02\", \"22/02\", \"23/02\", \"24/02\", \"25/02\", \"26/02\", \"27/02\", \"28/02\", \"29/02\", \"01/03\", \"02/03\", \"03/03\", \"04/03\", \"05/03\", \"06/03\", \"07/03\"], \"xaxis\": \"x\", \"y\": [1, 1, 2, 2, 3, 4, 4, 4, 4, 11, 12, 15, 15, 16, 19, 23, 24, 24, 25, 27, 28, 28, 28, 28, 28, 29, 30, 31, 31, 104, 204, 433, 602, 833, 977, 1261, 1766, 2337, 3150, 3736, 4335, 5186, 5621, 6088, 6593, 7041], \"yaxis\": \"y\"}, {\"hoverlabel\": {\"namelength\": 0}, \"hovertemplate\": \"<b>%{hovertext}</b><br><br>Country/Region=Taiwan<br>ObservationDate=%{x}<br>Confirmed=%{y}\", \"hovertext\": [\"Taiwan\", \"Taiwan\", \"Taiwan\", \"Taiwan\", \"Taiwan\", \"Taiwan\", \"Taiwan\", \"Taiwan\", \"Taiwan\", \"Taiwan\", \"Taiwan\", \"Taiwan\", \"Taiwan\", \"Taiwan\", \"Taiwan\", \"Taiwan\", \"Taiwan\", \"Taiwan\", \"Taiwan\", \"Taiwan\", \"Taiwan\", \"Taiwan\", \"Taiwan\", \"Taiwan\", \"Taiwan\", \"Taiwan\", \"Taiwan\", \"Taiwan\", \"Taiwan\", \"Taiwan\", \"Taiwan\", \"Taiwan\", \"Taiwan\", \"Taiwan\", \"Taiwan\", \"Taiwan\", \"Taiwan\", \"Taiwan\", \"Taiwan\", \"Taiwan\", \"Taiwan\", \"Taiwan\", \"Taiwan\", \"Taiwan\", \"Taiwan\", \"Taiwan\"], \"legendgroup\": \"Country/Region=Taiwan\", \"line\": {\"color\": \"#FFA15A\", \"dash\": \"solid\"}, \"mode\": \"lines\", \"name\": \"Country/Region=Taiwan\", \"showlegend\": true, \"type\": \"scattergl\", \"x\": [\"22/01\", \"23/01\", \"24/01\", \"25/01\", \"26/01\", \"27/01\", \"28/01\", \"29/01\", \"30/01\", \"31/01\", \"01/02\", \"02/02\", \"03/02\", \"04/02\", \"05/02\", \"06/02\", \"07/02\", \"08/02\", \"09/02\", \"10/02\", \"11/02\", \"12/02\", \"13/02\", \"14/02\", \"15/02\", \"16/02\", \"17/02\", \"18/02\", \"19/02\", \"20/02\", \"21/02\", \"22/02\", \"23/02\", \"24/02\", \"25/02\", \"26/02\", \"27/02\", \"28/02\", \"29/02\", \"01/03\", \"02/03\", \"03/03\", \"04/03\", \"05/03\", \"06/03\", \"07/03\"], \"xaxis\": \"x\", \"y\": [1, 1, 3, 3, 4, 5, 8, 8, 9, 10, 10, 10, 10, 11, 11, 16, 16, 17, 18, 18, 18, 18, 18, 18, 18, 20, 22, 22, 23, 24, 26, 26, 28, 30, 31, 32, 32, 34, 39, 40, 41, 42, 42, 44, 45, 45], \"yaxis\": \"y\"}, {\"hoverlabel\": {\"namelength\": 0}, \"hovertemplate\": \"<b>%{hovertext}</b><br><br>Country/Region=Thailand<br>ObservationDate=%{x}<br>Confirmed=%{y}\", \"hovertext\": [\"Thailand\", \"Thailand\", \"Thailand\", \"Thailand\", \"Thailand\", \"Thailand\", \"Thailand\", \"Thailand\", \"Thailand\", \"Thailand\", \"Thailand\", \"Thailand\", \"Thailand\", \"Thailand\", \"Thailand\", \"Thailand\", \"Thailand\", \"Thailand\", \"Thailand\", \"Thailand\", \"Thailand\", \"Thailand\", \"Thailand\", \"Thailand\", \"Thailand\", \"Thailand\", \"Thailand\", \"Thailand\", \"Thailand\", \"Thailand\", \"Thailand\", \"Thailand\", \"Thailand\", \"Thailand\", \"Thailand\", \"Thailand\", \"Thailand\", \"Thailand\", \"Thailand\", \"Thailand\", \"Thailand\", \"Thailand\", \"Thailand\", \"Thailand\", \"Thailand\", \"Thailand\"], \"legendgroup\": \"Country/Region=Thailand\", \"line\": {\"color\": \"#19d3f3\", \"dash\": \"solid\"}, \"mode\": \"lines\", \"name\": \"Country/Region=Thailand\", \"showlegend\": true, \"type\": \"scattergl\", \"x\": [\"22/01\", \"23/01\", \"24/01\", \"25/01\", \"26/01\", \"27/01\", \"28/01\", \"29/01\", \"30/01\", \"31/01\", \"01/02\", \"02/02\", \"03/02\", \"04/02\", \"05/02\", \"06/02\", \"07/02\", \"08/02\", \"09/02\", \"10/02\", \"11/02\", \"12/02\", \"13/02\", \"14/02\", \"15/02\", \"16/02\", \"17/02\", \"18/02\", \"19/02\", \"20/02\", \"21/02\", \"22/02\", \"23/02\", \"24/02\", \"25/02\", \"26/02\", \"27/02\", \"28/02\", \"29/02\", \"01/03\", \"02/03\", \"03/03\", \"04/03\", \"05/03\", \"06/03\", \"07/03\"], \"xaxis\": \"x\", \"y\": [2, 3, 5, 7, 8, 8, 14, 14, 14, 19, 19, 19, 19, 25, 25, 25, 25, 32, 32, 32, 33, 33, 33, 33, 33, 34, 35, 35, 35, 35, 35, 35, 35, 35, 37, 40, 40, 41, 42, 42, 43, 43, 43, 47, 48, 50], \"yaxis\": \"y\"}, {\"hoverlabel\": {\"namelength\": 0}, \"hovertemplate\": \"<b>%{hovertext}</b><br><br>Country/Region=US<br>ObservationDate=%{x}<br>Confirmed=%{y}\", \"hovertext\": [\"US\", \"US\", \"US\", \"US\", \"US\", \"US\", \"US\", \"US\", \"US\", \"US\", \"US\", \"US\", \"US\", \"US\", \"US\", \"US\", \"US\", \"US\", \"US\", \"US\", \"US\", \"US\", \"US\", \"US\", \"US\", \"US\", \"US\", \"US\", \"US\", \"US\", \"US\", \"US\", \"US\", \"US\", \"US\", \"US\", \"US\", \"US\", \"US\", \"US\", \"US\", \"US\", \"US\", \"US\", \"US\", \"US\"], \"legendgroup\": \"Country/Region=US\", \"line\": {\"color\": \"#FF6692\", \"dash\": \"solid\"}, \"mode\": \"lines\", \"name\": \"Country/Region=US\", \"showlegend\": true, \"type\": \"scattergl\", \"x\": [\"22/01\", \"23/01\", \"24/01\", \"25/01\", \"26/01\", \"27/01\", \"28/01\", \"29/01\", \"30/01\", \"31/01\", \"01/02\", \"02/02\", \"03/02\", \"04/02\", \"05/02\", \"06/02\", \"07/02\", \"08/02\", \"09/02\", \"10/02\", \"11/02\", \"12/02\", \"13/02\", \"14/02\", \"15/02\", \"16/02\", \"17/02\", \"18/02\", \"19/02\", \"20/02\", \"21/02\", \"22/02\", \"23/02\", \"24/02\", \"25/02\", \"26/02\", \"27/02\", \"28/02\", \"29/02\", \"01/03\", \"02/03\", \"03/03\", \"04/03\", \"05/03\", \"06/03\", \"07/03\"], \"xaxis\": \"x\", \"y\": [1, 1, 2, 2, 5, 5, 5, 5, 5, 6, 8, 8, 11, 11, 12, 12, 12, 12, 12, 12, 13, 13, 15, 15, 15, 15, 15, 15, 15, 15, 35, 35, 35, 53, 53, 59, 60, 62, 70, 76, 101, 122, 153, 221, 278, 417], \"yaxis\": \"y\"}, {\"hoverlabel\": {\"namelength\": 0}, \"hovertemplate\": \"<b>%{hovertext}</b><br><br>Country/Region=Vietnam<br>ObservationDate=%{x}<br>Confirmed=%{y}\", \"hovertext\": [\"Vietnam\", \"Vietnam\", \"Vietnam\", \"Vietnam\", \"Vietnam\", \"Vietnam\", \"Vietnam\", \"Vietnam\", \"Vietnam\", \"Vietnam\", \"Vietnam\", \"Vietnam\", \"Vietnam\", \"Vietnam\", \"Vietnam\", \"Vietnam\", \"Vietnam\", \"Vietnam\", \"Vietnam\", \"Vietnam\", \"Vietnam\", \"Vietnam\", \"Vietnam\", \"Vietnam\", \"Vietnam\", \"Vietnam\", \"Vietnam\", \"Vietnam\", \"Vietnam\", \"Vietnam\", \"Vietnam\", \"Vietnam\", \"Vietnam\", \"Vietnam\", \"Vietnam\", \"Vietnam\", \"Vietnam\", \"Vietnam\", \"Vietnam\", \"Vietnam\", \"Vietnam\", \"Vietnam\", \"Vietnam\", \"Vietnam\", \"Vietnam\"], \"legendgroup\": \"Country/Region=Vietnam\", \"line\": {\"color\": \"#B6E880\", \"dash\": \"solid\"}, \"mode\": \"lines\", \"name\": \"Country/Region=Vietnam\", \"showlegend\": true, \"type\": \"scattergl\", \"x\": [\"23/01\", \"24/01\", \"25/01\", \"26/01\", \"27/01\", \"28/01\", \"29/01\", \"30/01\", \"31/01\", \"01/02\", \"02/02\", \"03/02\", \"04/02\", \"05/02\", \"06/02\", \"07/02\", \"08/02\", \"09/02\", \"10/02\", \"11/02\", \"12/02\", \"13/02\", \"14/02\", \"15/02\", \"16/02\", \"17/02\", \"18/02\", \"19/02\", \"20/02\", \"21/02\", \"22/02\", \"23/02\", \"24/02\", \"25/02\", \"26/02\", \"27/02\", \"28/02\", \"29/02\", \"01/03\", \"02/03\", \"03/03\", \"04/03\", \"05/03\", \"06/03\", \"07/03\"], \"xaxis\": \"x\", \"y\": [2, 2, 2, 2, 2, 2, 2, 2, 2, 6, 6, 8, 8, 8, 10, 10, 13, 13, 14, 15, 15, 16, 16, 16, 16, 16, 16, 16, 16, 16, 16, 16, 16, 16, 16, 16, 16, 16, 16, 16, 16, 16, 16, 16, 18], \"yaxis\": \"y\"}, {\"hoverlabel\": {\"namelength\": 0}, \"hovertemplate\": \"<b>%{hovertext}</b><br><br>Country/Region=Singapore<br>ObservationDate=%{x}<br>Confirmed=%{y}\", \"hovertext\": [\"Singapore\", \"Singapore\", \"Singapore\", \"Singapore\", \"Singapore\", \"Singapore\", \"Singapore\", \"Singapore\", \"Singapore\", \"Singapore\", \"Singapore\", \"Singapore\", \"Singapore\", \"Singapore\", \"Singapore\", \"Singapore\", \"Singapore\", \"Singapore\", \"Singapore\", \"Singapore\", \"Singapore\", \"Singapore\", \"Singapore\", \"Singapore\", \"Singapore\", \"Singapore\", \"Singapore\", \"Singapore\", \"Singapore\", \"Singapore\", \"Singapore\", \"Singapore\", \"Singapore\", \"Singapore\", \"Singapore\", \"Singapore\", \"Singapore\", \"Singapore\", \"Singapore\", \"Singapore\", \"Singapore\", \"Singapore\", \"Singapore\", \"Singapore\", \"Singapore\"], \"legendgroup\": \"Country/Region=Singapore\", \"line\": {\"color\": \"#FF97FF\", \"dash\": \"solid\"}, \"mode\": \"lines\", \"name\": \"Country/Region=Singapore\", \"showlegend\": true, \"type\": \"scattergl\", \"x\": [\"23/01\", \"24/01\", \"25/01\", \"26/01\", \"27/01\", \"28/01\", \"29/01\", \"30/01\", \"31/01\", \"01/02\", \"02/02\", \"03/02\", \"04/02\", \"05/02\", \"06/02\", \"07/02\", \"08/02\", \"09/02\", \"10/02\", \"11/02\", \"12/02\", \"13/02\", \"14/02\", \"15/02\", \"16/02\", \"17/02\", \"18/02\", \"19/02\", \"20/02\", \"21/02\", \"22/02\", \"23/02\", \"24/02\", \"25/02\", \"26/02\", \"27/02\", \"28/02\", \"29/02\", \"01/03\", \"02/03\", \"03/03\", \"04/03\", \"05/03\", \"06/03\", \"07/03\"], \"xaxis\": \"x\", \"y\": [1, 3, 3, 4, 5, 7, 7, 10, 13, 16, 18, 18, 24, 28, 28, 30, 33, 40, 45, 47, 50, 58, 67, 72, 75, 77, 81, 84, 84, 85, 85, 89, 89, 91, 93, 93, 93, 102, 106, 108, 110, 110, 117, 130, 138], \"yaxis\": \"y\"}, {\"hoverlabel\": {\"namelength\": 0}, \"hovertemplate\": \"<b>%{hovertext}</b><br><br>Country/Region=Philippines<br>ObservationDate=%{x}<br>Confirmed=%{y}\", \"hovertext\": [\"Philippines\", \"Philippines\", \"Philippines\", \"Philippines\", \"Philippines\", \"Philippines\", \"Philippines\", \"Philippines\", \"Philippines\", \"Philippines\", \"Philippines\", \"Philippines\", \"Philippines\", \"Philippines\", \"Philippines\", \"Philippines\", \"Philippines\", \"Philippines\", \"Philippines\", \"Philippines\", \"Philippines\", \"Philippines\", \"Philippines\", \"Philippines\", \"Philippines\", \"Philippines\", \"Philippines\", \"Philippines\", \"Philippines\", \"Philippines\", \"Philippines\", \"Philippines\", \"Philippines\", \"Philippines\", \"Philippines\", \"Philippines\", \"Philippines\", \"Philippines\", \"Philippines\"], \"legendgroup\": \"Country/Region=Philippines\", \"line\": {\"color\": \"#FECB52\", \"dash\": \"solid\"}, \"mode\": \"lines\", \"name\": \"Country/Region=Philippines\", \"showlegend\": true, \"type\": \"scattergl\", \"x\": [\"23/01\", \"30/01\", \"31/01\", \"01/02\", \"02/02\", \"03/02\", \"04/02\", \"05/02\", \"06/02\", \"07/02\", \"08/02\", \"09/02\", \"10/02\", \"11/02\", \"12/02\", \"13/02\", \"14/02\", \"15/02\", \"16/02\", \"17/02\", \"18/02\", \"19/02\", \"20/02\", \"21/02\", \"22/02\", \"23/02\", \"24/02\", \"25/02\", \"26/02\", \"27/02\", \"28/02\", \"29/02\", \"01/03\", \"02/03\", \"03/03\", \"04/03\", \"05/03\", \"06/03\", \"07/03\"], \"xaxis\": \"x\", \"y\": [0, 1, 1, 1, 2, 2, 2, 2, 2, 3, 3, 3, 3, 3, 3, 3, 3, 3, 3, 3, 3, 3, 3, 3, 3, 3, 3, 3, 3, 3, 3, 3, 3, 3, 3, 3, 3, 5, 6], \"yaxis\": \"y\"}, {\"hoverlabel\": {\"namelength\": 0}, \"hovertemplate\": \"<b>%{hovertext}</b><br><br>Country/Region=Mexico<br>ObservationDate=%{x}<br>Confirmed=%{y}\", \"hovertext\": [\"Mexico\", \"Mexico\", \"Mexico\", \"Mexico\", \"Mexico\", \"Mexico\", \"Mexico\", \"Mexico\", \"Mexico\", \"Mexico\"], \"legendgroup\": \"Country/Region=Mexico\", \"line\": {\"color\": \"#636efa\", \"dash\": \"solid\"}, \"mode\": \"lines\", \"name\": \"Country/Region=Mexico\", \"showlegend\": true, \"type\": \"scattergl\", \"x\": [\"23/01\", \"28/02\", \"29/02\", \"01/03\", \"02/03\", \"03/03\", \"04/03\", \"05/03\", \"06/03\", \"07/03\"], \"xaxis\": \"x\", \"y\": [0, 1, 4, 5, 5, 5, 5, 5, 6, 6], \"yaxis\": \"y\"}, {\"hoverlabel\": {\"namelength\": 0}, \"hovertemplate\": \"<b>%{hovertext}</b><br><br>Country/Region=Colombia<br>ObservationDate=%{x}<br>Confirmed=%{y}\", \"hovertext\": [\"Colombia\", \"Colombia\", \"Colombia\"], \"legendgroup\": \"Country/Region=Colombia\", \"line\": {\"color\": \"#EF553B\", \"dash\": \"solid\"}, \"mode\": \"lines\", \"name\": \"Country/Region=Colombia\", \"showlegend\": true, \"type\": \"scattergl\", \"x\": [\"23/01\", \"06/03\", \"07/03\"], \"xaxis\": \"x\", \"y\": [0, 1, 1], \"yaxis\": \"y\"}, {\"hoverlabel\": {\"namelength\": 0}, \"hovertemplate\": \"<b>%{hovertext}</b><br><br>Country/Region=Brazil<br>ObservationDate=%{x}<br>Confirmed=%{y}\", \"hovertext\": [\"Brazil\", \"Brazil\", \"Brazil\", \"Brazil\", \"Brazil\", \"Brazil\", \"Brazil\", \"Brazil\", \"Brazil\", \"Brazil\", \"Brazil\", \"Brazil\"], \"legendgroup\": \"Country/Region=Brazil\", \"line\": {\"color\": \"#00cc96\", \"dash\": \"solid\"}, \"mode\": \"lines\", \"name\": \"Country/Region=Brazil\", \"showlegend\": true, \"type\": \"scattergl\", \"x\": [\"23/01\", \"26/02\", \"27/02\", \"28/02\", \"29/02\", \"01/03\", \"02/03\", \"03/03\", \"04/03\", \"05/03\", \"06/03\", \"07/03\"], \"xaxis\": \"x\", \"y\": [0, 1, 1, 1, 2, 2, 2, 2, 4, 4, 13, 13], \"yaxis\": \"y\"}, {\"hoverlabel\": {\"namelength\": 0}, \"hovertemplate\": \"<b>%{hovertext}</b><br><br>Country/Region=Australia<br>ObservationDate=%{x}<br>Confirmed=%{y}\", \"hovertext\": [\"Australia\", \"Australia\", \"Australia\", \"Australia\", \"Australia\", \"Australia\", \"Australia\", \"Australia\", \"Australia\", \"Australia\", \"Australia\", \"Australia\", \"Australia\", \"Australia\", \"Australia\", \"Australia\", \"Australia\", \"Australia\", \"Australia\", \"Australia\", \"Australia\", \"Australia\", \"Australia\", \"Australia\", \"Australia\", \"Australia\", \"Australia\", \"Australia\", \"Australia\", \"Australia\", \"Australia\", \"Australia\", \"Australia\", \"Australia\", \"Australia\", \"Australia\", \"Australia\", \"Australia\", \"Australia\", \"Australia\", \"Australia\", \"Australia\", \"Australia\", \"Australia\"], \"legendgroup\": \"Country/Region=Australia\", \"line\": {\"color\": \"#ab63fa\", \"dash\": \"solid\"}, \"mode\": \"lines\", \"name\": \"Country/Region=Australia\", \"showlegend\": true, \"type\": \"scattergl\", \"x\": [\"23/01\", \"25/01\", \"26/01\", \"27/01\", \"28/01\", \"29/01\", \"30/01\", \"31/01\", \"01/02\", \"02/02\", \"03/02\", \"04/02\", \"05/02\", \"06/02\", \"07/02\", \"08/02\", \"09/02\", \"10/02\", \"11/02\", \"12/02\", \"13/02\", \"14/02\", \"15/02\", \"16/02\", \"17/02\", \"18/02\", \"19/02\", \"20/02\", \"21/02\", \"22/02\", \"23/02\", \"24/02\", \"25/02\", \"26/02\", \"27/02\", \"28/02\", \"29/02\", \"01/03\", \"02/03\", \"03/03\", \"04/03\", \"05/03\", \"06/03\", \"07/03\"], \"xaxis\": \"x\", \"y\": [0, 4, 4, 5, 5, 5, 9, 9, 12, 12, 12, 13, 13, 14, 15, 15, 15, 15, 15, 15, 15, 15, 15, 15, 15, 15, 15, 15, 19, 22, 22, 22, 22, 22, 23, 23, 25, 27, 30, 39, 52, 55, 60, 63], \"yaxis\": \"y\"}, {\"hoverlabel\": {\"namelength\": 0}, \"hovertemplate\": \"<b>%{hovertext}</b><br><br>Country/Region=Malaysia<br>ObservationDate=%{x}<br>Confirmed=%{y}\", \"hovertext\": [\"Malaysia\", \"Malaysia\", \"Malaysia\", \"Malaysia\", \"Malaysia\", \"Malaysia\", \"Malaysia\", \"Malaysia\", \"Malaysia\", \"Malaysia\", \"Malaysia\", \"Malaysia\", \"Malaysia\", \"Malaysia\", \"Malaysia\", \"Malaysia\", \"Malaysia\", \"Malaysia\", \"Malaysia\", \"Malaysia\", \"Malaysia\", \"Malaysia\", \"Malaysia\", \"Malaysia\", \"Malaysia\", \"Malaysia\", \"Malaysia\", \"Malaysia\", \"Malaysia\", \"Malaysia\", \"Malaysia\", \"Malaysia\", \"Malaysia\", \"Malaysia\", \"Malaysia\", \"Malaysia\", \"Malaysia\", \"Malaysia\", \"Malaysia\", \"Malaysia\", \"Malaysia\", \"Malaysia\", \"Malaysia\", \"Malaysia\"], \"legendgroup\": \"Country/Region=Malaysia\", \"line\": {\"color\": \"#FFA15A\", \"dash\": \"solid\"}, \"mode\": \"lines\", \"name\": \"Country/Region=Malaysia\", \"showlegend\": true, \"type\": \"scattergl\", \"x\": [\"23/01\", \"25/01\", \"26/01\", \"27/01\", \"28/01\", \"29/01\", \"30/01\", \"31/01\", \"01/02\", \"02/02\", \"03/02\", \"04/02\", \"05/02\", \"06/02\", \"07/02\", \"08/02\", \"09/02\", \"10/02\", \"11/02\", \"12/02\", \"13/02\", \"14/02\", \"15/02\", \"16/02\", \"17/02\", \"18/02\", \"19/02\", \"20/02\", \"21/02\", \"22/02\", \"23/02\", \"24/02\", \"25/02\", \"26/02\", \"27/02\", \"28/02\", \"29/02\", \"01/03\", \"02/03\", \"03/03\", \"04/03\", \"05/03\", \"06/03\", \"07/03\"], \"xaxis\": \"x\", \"y\": [0, 3, 4, 4, 4, 7, 8, 8, 8, 8, 8, 10, 12, 12, 12, 16, 16, 18, 18, 18, 19, 19, 22, 22, 22, 22, 22, 22, 22, 22, 22, 22, 22, 22, 23, 23, 25, 29, 29, 36, 50, 50, 83, 93], \"yaxis\": \"y\"}, {\"hoverlabel\": {\"namelength\": 0}, \"hovertemplate\": \"<b>%{hovertext}</b><br><br>Country/Region=France<br>ObservationDate=%{x}<br>Confirmed=%{y}\", \"hovertext\": [\"France\", \"France\", \"France\", \"France\", \"France\", \"France\", \"France\", \"France\", \"France\", \"France\", \"France\", \"France\", \"France\", \"France\", \"France\", \"France\", \"France\", \"France\", \"France\", \"France\", \"France\", \"France\", \"France\", \"France\", \"France\", \"France\", \"France\", \"France\", \"France\", \"France\", \"France\", \"France\", \"France\", \"France\", \"France\", \"France\", \"France\", \"France\", \"France\", \"France\", \"France\", \"France\", \"France\", \"France\"], \"legendgroup\": \"Country/Region=France\", \"line\": {\"color\": \"#19d3f3\", \"dash\": \"solid\"}, \"mode\": \"lines\", \"name\": \"Country/Region=France\", \"showlegend\": true, \"type\": \"scattergl\", \"x\": [\"24/01\", \"25/01\", \"26/01\", \"27/01\", \"28/01\", \"29/01\", \"30/01\", \"31/01\", \"01/02\", \"02/02\", \"03/02\", \"04/02\", \"05/02\", \"06/02\", \"07/02\", \"08/02\", \"09/02\", \"10/02\", \"11/02\", \"12/02\", \"13/02\", \"14/02\", \"15/02\", \"16/02\", \"17/02\", \"18/02\", \"19/02\", \"20/02\", \"21/02\", \"22/02\", \"23/02\", \"24/02\", \"25/02\", \"26/02\", \"27/02\", \"28/02\", \"29/02\", \"01/03\", \"02/03\", \"03/03\", \"04/03\", \"05/03\", \"06/03\", \"07/03\"], \"xaxis\": \"x\", \"y\": [2, 3, 3, 3, 4, 5, 5, 5, 6, 6, 6, 6, 6, 6, 6, 11, 11, 11, 11, 11, 11, 11, 12, 12, 12, 12, 12, 12, 12, 12, 12, 12, 14, 18, 38, 57, 100, 130, 191, 204, 285, 377, 653, 949], \"yaxis\": \"y\"}, {\"hoverlabel\": {\"namelength\": 0}, \"hovertemplate\": \"<b>%{hovertext}</b><br><br>Country/Region=Nepal<br>ObservationDate=%{x}<br>Confirmed=%{y}\", \"hovertext\": [\"Nepal\", \"Nepal\", \"Nepal\", \"Nepal\", \"Nepal\", \"Nepal\", \"Nepal\", \"Nepal\", \"Nepal\", \"Nepal\", \"Nepal\", \"Nepal\", \"Nepal\", \"Nepal\", \"Nepal\", \"Nepal\", \"Nepal\", \"Nepal\", \"Nepal\", \"Nepal\", \"Nepal\", \"Nepal\", \"Nepal\", \"Nepal\", \"Nepal\", \"Nepal\", \"Nepal\", \"Nepal\", \"Nepal\", \"Nepal\", \"Nepal\", \"Nepal\", \"Nepal\", \"Nepal\", \"Nepal\", \"Nepal\", \"Nepal\", \"Nepal\", \"Nepal\", \"Nepal\", \"Nepal\", \"Nepal\", \"Nepal\"], \"legendgroup\": \"Country/Region=Nepal\", \"line\": {\"color\": \"#FF6692\", \"dash\": \"solid\"}, \"mode\": \"lines\", \"name\": \"Country/Region=Nepal\", \"showlegend\": true, \"type\": \"scattergl\", \"x\": [\"25/01\", \"26/01\", \"27/01\", \"28/01\", \"29/01\", \"30/01\", \"31/01\", \"01/02\", \"02/02\", \"03/02\", \"04/02\", \"05/02\", \"06/02\", \"07/02\", \"08/02\", \"09/02\", \"10/02\", \"11/02\", \"12/02\", \"13/02\", \"14/02\", \"15/02\", \"16/02\", \"17/02\", \"18/02\", \"19/02\", \"20/02\", \"21/02\", \"22/02\", \"23/02\", \"24/02\", \"25/02\", \"26/02\", \"27/02\", \"28/02\", \"29/02\", \"01/03\", \"02/03\", \"03/03\", \"04/03\", \"05/03\", \"06/03\", \"07/03\"], \"xaxis\": \"x\", \"y\": [1, 1, 1, 1, 1, 1, 1, 1, 1, 1, 1, 1, 1, 1, 1, 1, 1, 1, 1, 1, 1, 1, 1, 1, 1, 1, 1, 1, 1, 1, 1, 1, 1, 1, 1, 1, 1, 1, 1, 1, 1, 1, 1], \"yaxis\": \"y\"}, {\"hoverlabel\": {\"namelength\": 0}, \"hovertemplate\": \"<b>%{hovertext}</b><br><br>Country/Region=Canada<br>ObservationDate=%{x}<br>Confirmed=%{y}\", \"hovertext\": [\"Canada\", \"Canada\", \"Canada\", \"Canada\", \"Canada\", \"Canada\", \"Canada\", \"Canada\", \"Canada\", \"Canada\", \"Canada\", \"Canada\", \"Canada\", \"Canada\", \"Canada\", \"Canada\", \"Canada\", \"Canada\", \"Canada\", \"Canada\", \"Canada\", \"Canada\", \"Canada\", \"Canada\", \"Canada\", \"Canada\", \"Canada\", \"Canada\", \"Canada\", \"Canada\", \"Canada\", \"Canada\", \"Canada\", \"Canada\", \"Canada\", \"Canada\", \"Canada\", \"Canada\", \"Canada\", \"Canada\", \"Canada\", \"Canada\"], \"legendgroup\": \"Country/Region=Canada\", \"line\": {\"color\": \"#B6E880\", \"dash\": \"solid\"}, \"mode\": \"lines\", \"name\": \"Country/Region=Canada\", \"showlegend\": true, \"type\": \"scattergl\", \"x\": [\"26/01\", \"27/01\", \"28/01\", \"29/01\", \"30/01\", \"31/01\", \"01/02\", \"02/02\", \"03/02\", \"04/02\", \"05/02\", \"06/02\", \"07/02\", \"08/02\", \"09/02\", \"10/02\", \"11/02\", \"12/02\", \"13/02\", \"14/02\", \"15/02\", \"16/02\", \"17/02\", \"18/02\", \"19/02\", \"20/02\", \"21/02\", \"22/02\", \"23/02\", \"24/02\", \"25/02\", \"26/02\", \"27/02\", \"28/02\", \"29/02\", \"01/03\", \"02/03\", \"03/03\", \"04/03\", \"05/03\", \"06/03\", \"07/03\"], \"xaxis\": \"x\", \"y\": [1, 1, 2, 2, 3, 3, 4, 4, 4, 4, 5, 5, 7, 7, 7, 7, 7, 7, 7, 7, 7, 7, 8, 8, 8, 8, 9, 9, 9, 10, 11, 11, 13, 14, 20, 24, 27, 30, 33, 37, 49, 54], \"yaxis\": \"y\"}, {\"hoverlabel\": {\"namelength\": 0}, \"hovertemplate\": \"<b>%{hovertext}</b><br><br>Country/Region=Sri Lanka<br>ObservationDate=%{x}<br>Confirmed=%{y}\", \"hovertext\": [\"Sri Lanka\", \"Sri Lanka\", \"Sri Lanka\", \"Sri Lanka\", \"Sri Lanka\", \"Sri Lanka\", \"Sri Lanka\", \"Sri Lanka\", \"Sri Lanka\", \"Sri Lanka\", \"Sri Lanka\", \"Sri Lanka\", \"Sri Lanka\", \"Sri Lanka\", \"Sri Lanka\", \"Sri Lanka\", \"Sri Lanka\", \"Sri Lanka\", \"Sri Lanka\", \"Sri Lanka\", \"Sri Lanka\", \"Sri Lanka\", \"Sri Lanka\", \"Sri Lanka\", \"Sri Lanka\", \"Sri Lanka\", \"Sri Lanka\", \"Sri Lanka\", \"Sri Lanka\", \"Sri Lanka\", \"Sri Lanka\", \"Sri Lanka\", \"Sri Lanka\", \"Sri Lanka\", \"Sri Lanka\", \"Sri Lanka\", \"Sri Lanka\", \"Sri Lanka\", \"Sri Lanka\", \"Sri Lanka\", \"Sri Lanka\"], \"legendgroup\": \"Country/Region=Sri Lanka\", \"line\": {\"color\": \"#FF97FF\", \"dash\": \"solid\"}, \"mode\": \"lines\", \"name\": \"Country/Region=Sri Lanka\", \"showlegend\": true, \"type\": \"scattergl\", \"x\": [\"27/01\", \"28/01\", \"29/01\", \"30/01\", \"31/01\", \"01/02\", \"02/02\", \"03/02\", \"04/02\", \"05/02\", \"06/02\", \"07/02\", \"08/02\", \"09/02\", \"10/02\", \"11/02\", \"12/02\", \"13/02\", \"14/02\", \"15/02\", \"16/02\", \"17/02\", \"18/02\", \"19/02\", \"20/02\", \"21/02\", \"22/02\", \"23/02\", \"24/02\", \"25/02\", \"26/02\", \"27/02\", \"28/02\", \"29/02\", \"01/03\", \"02/03\", \"03/03\", \"04/03\", \"05/03\", \"06/03\", \"07/03\"], \"xaxis\": \"x\", \"y\": [1, 1, 1, 1, 1, 1, 1, 1, 1, 1, 1, 1, 1, 1, 1, 1, 1, 1, 1, 1, 1, 1, 1, 1, 1, 1, 1, 1, 1, 1, 1, 1, 1, 1, 1, 1, 1, 1, 1, 1, 1], \"yaxis\": \"y\"}, {\"hoverlabel\": {\"namelength\": 0}, \"hovertemplate\": \"<b>%{hovertext}</b><br><br>Country/Region=Ivory Coast<br>ObservationDate=%{x}<br>Confirmed=%{y}\", \"hovertext\": [\"Ivory Coast\"], \"legendgroup\": \"Country/Region=Ivory Coast\", \"line\": {\"color\": \"#FECB52\", \"dash\": \"solid\"}, \"mode\": \"lines\", \"name\": \"Country/Region=Ivory Coast\", \"showlegend\": true, \"type\": \"scattergl\", \"x\": [\"27/01\"], \"xaxis\": \"x\", \"y\": [1], \"yaxis\": \"y\"}, {\"hoverlabel\": {\"namelength\": 0}, \"hovertemplate\": \"<b>%{hovertext}</b><br><br>Country/Region=Cambodia<br>ObservationDate=%{x}<br>Confirmed=%{y}\", \"hovertext\": [\"Cambodia\", \"Cambodia\", \"Cambodia\", \"Cambodia\", \"Cambodia\", \"Cambodia\", \"Cambodia\", \"Cambodia\", \"Cambodia\", \"Cambodia\", \"Cambodia\", \"Cambodia\", \"Cambodia\", \"Cambodia\", \"Cambodia\", \"Cambodia\", \"Cambodia\", \"Cambodia\", \"Cambodia\", \"Cambodia\", \"Cambodia\", \"Cambodia\", \"Cambodia\", \"Cambodia\", \"Cambodia\", \"Cambodia\", \"Cambodia\", \"Cambodia\", \"Cambodia\", \"Cambodia\", \"Cambodia\", \"Cambodia\", \"Cambodia\", \"Cambodia\", \"Cambodia\", \"Cambodia\", \"Cambodia\", \"Cambodia\", \"Cambodia\", \"Cambodia\", \"Cambodia\"], \"legendgroup\": \"Country/Region=Cambodia\", \"line\": {\"color\": \"#636efa\", \"dash\": \"solid\"}, \"mode\": \"lines\", \"name\": \"Country/Region=Cambodia\", \"showlegend\": true, \"type\": \"scattergl\", \"x\": [\"27/01\", \"28/01\", \"29/01\", \"30/01\", \"31/01\", \"01/02\", \"02/02\", \"03/02\", \"04/02\", \"05/02\", \"06/02\", \"07/02\", \"08/02\", \"09/02\", \"10/02\", \"11/02\", \"12/02\", \"13/02\", \"14/02\", \"15/02\", \"16/02\", \"17/02\", \"18/02\", \"19/02\", \"20/02\", \"21/02\", \"22/02\", \"23/02\", \"24/02\", \"25/02\", \"26/02\", \"27/02\", \"28/02\", \"29/02\", \"01/03\", \"02/03\", \"03/03\", \"04/03\", \"05/03\", \"06/03\", \"07/03\"], \"xaxis\": \"x\", \"y\": [1, 1, 1, 1, 1, 1, 1, 1, 1, 1, 1, 1, 1, 1, 1, 1, 1, 1, 1, 1, 1, 1, 1, 1, 1, 1, 1, 1, 1, 1, 1, 1, 1, 1, 1, 1, 1, 1, 1, 1, 1], \"yaxis\": \"y\"}, {\"hoverlabel\": {\"namelength\": 0}, \"hovertemplate\": \"<b>%{hovertext}</b><br><br>Country/Region=Germany<br>ObservationDate=%{x}<br>Confirmed=%{y}\", \"hovertext\": [\"Germany\", \"Germany\", \"Germany\", \"Germany\", \"Germany\", \"Germany\", \"Germany\", \"Germany\", \"Germany\", \"Germany\", \"Germany\", \"Germany\", \"Germany\", \"Germany\", \"Germany\", \"Germany\", \"Germany\", \"Germany\", \"Germany\", \"Germany\", \"Germany\", \"Germany\", \"Germany\", \"Germany\", \"Germany\", \"Germany\", \"Germany\", \"Germany\", \"Germany\", \"Germany\", \"Germany\", \"Germany\", \"Germany\", \"Germany\", \"Germany\", \"Germany\", \"Germany\", \"Germany\", \"Germany\", \"Germany\"], \"legendgroup\": \"Country/Region=Germany\", \"line\": {\"color\": \"#EF553B\", \"dash\": \"solid\"}, \"mode\": \"lines\", \"name\": \"Country/Region=Germany\", \"showlegend\": true, \"type\": \"scattergl\", \"x\": [\"28/01\", \"29/01\", \"30/01\", \"31/01\", \"01/02\", \"02/02\", \"03/02\", \"04/02\", \"05/02\", \"06/02\", \"07/02\", \"08/02\", \"09/02\", \"10/02\", \"11/02\", \"12/02\", \"13/02\", \"14/02\", \"15/02\", \"16/02\", \"17/02\", \"18/02\", \"19/02\", \"20/02\", \"21/02\", \"22/02\", \"23/02\", \"24/02\", \"25/02\", \"26/02\", \"27/02\", \"28/02\", \"29/02\", \"01/03\", \"02/03\", \"03/03\", \"04/03\", \"05/03\", \"06/03\", \"07/03\"], \"xaxis\": \"x\", \"y\": [4, 4, 4, 5, 8, 10, 12, 12, 12, 12, 13, 13, 14, 14, 16, 16, 16, 16, 16, 16, 16, 16, 16, 16, 16, 16, 16, 16, 17, 27, 46, 48, 79, 130, 159, 196, 262, 482, 670, 799], \"yaxis\": \"y\"}, {\"hoverlabel\": {\"namelength\": 0}, \"hovertemplate\": \"<b>%{hovertext}</b><br><br>Country/Region=United Arab Emirates<br>ObservationDate=%{x}<br>Confirmed=%{y}\", \"hovertext\": [\"United Arab Emirates\", \"United Arab Emirates\", \"United Arab Emirates\", \"United Arab Emirates\", \"United Arab Emirates\", \"United Arab Emirates\", \"United Arab Emirates\", \"United Arab Emirates\", \"United Arab Emirates\", \"United Arab Emirates\", \"United Arab Emirates\", \"United Arab Emirates\", \"United Arab Emirates\", \"United Arab Emirates\", \"United Arab Emirates\", \"United Arab Emirates\", \"United Arab Emirates\", \"United Arab Emirates\", \"United Arab Emirates\", \"United Arab Emirates\", \"United Arab Emirates\", \"United Arab Emirates\", \"United Arab Emirates\", \"United Arab Emirates\", \"United Arab Emirates\", \"United Arab Emirates\", \"United Arab Emirates\", \"United Arab Emirates\", \"United Arab Emirates\", \"United Arab Emirates\", \"United Arab Emirates\", \"United Arab Emirates\", \"United Arab Emirates\", \"United Arab Emirates\", \"United Arab Emirates\", \"United Arab Emirates\", \"United Arab Emirates\", \"United Arab Emirates\", \"United Arab Emirates\"], \"legendgroup\": \"Country/Region=United Arab Emirates\", \"line\": {\"color\": \"#00cc96\", \"dash\": \"solid\"}, \"mode\": \"lines\", \"name\": \"Country/Region=United Arab Emirates\", \"showlegend\": true, \"type\": \"scattergl\", \"x\": [\"29/01\", \"30/01\", \"31/01\", \"01/02\", \"02/02\", \"03/02\", \"04/02\", \"05/02\", \"06/02\", \"07/02\", \"08/02\", \"09/02\", \"10/02\", \"11/02\", \"12/02\", \"13/02\", \"14/02\", \"15/02\", \"16/02\", \"17/02\", \"18/02\", \"19/02\", \"20/02\", \"21/02\", \"22/02\", \"23/02\", \"24/02\", \"25/02\", \"26/02\", \"27/02\", \"28/02\", \"29/02\", \"01/03\", \"02/03\", \"03/03\", \"04/03\", \"05/03\", \"06/03\", \"07/03\"], \"xaxis\": \"x\", \"y\": [4, 4, 4, 4, 5, 5, 5, 5, 5, 5, 7, 7, 8, 8, 8, 8, 8, 8, 9, 9, 9, 9, 9, 9, 13, 13, 13, 13, 13, 13, 19, 21, 21, 21, 27, 27, 29, 29, 45], \"yaxis\": \"y\"}, {\"hoverlabel\": {\"namelength\": 0}, \"hovertemplate\": \"<b>%{hovertext}</b><br><br>Country/Region=Finland<br>ObservationDate=%{x}<br>Confirmed=%{y}\", \"hovertext\": [\"Finland\", \"Finland\", \"Finland\", \"Finland\", \"Finland\", \"Finland\", \"Finland\", \"Finland\", \"Finland\", \"Finland\", \"Finland\", \"Finland\", \"Finland\", \"Finland\", \"Finland\", \"Finland\", \"Finland\", \"Finland\", \"Finland\", \"Finland\", \"Finland\", \"Finland\", \"Finland\", \"Finland\", \"Finland\", \"Finland\", \"Finland\", \"Finland\", \"Finland\", \"Finland\", \"Finland\", \"Finland\", \"Finland\", \"Finland\", \"Finland\", \"Finland\", \"Finland\", \"Finland\", \"Finland\"], \"legendgroup\": \"Country/Region=Finland\", \"line\": {\"color\": \"#ab63fa\", \"dash\": \"solid\"}, \"mode\": \"lines\", \"name\": \"Country/Region=Finland\", \"showlegend\": true, \"type\": \"scattergl\", \"x\": [\"29/01\", \"30/01\", \"31/01\", \"01/02\", \"02/02\", \"03/02\", \"04/02\", \"05/02\", \"06/02\", \"07/02\", \"08/02\", \"09/02\", \"10/02\", \"11/02\", \"12/02\", \"13/02\", \"14/02\", \"15/02\", \"16/02\", \"17/02\", \"18/02\", \"19/02\", \"20/02\", \"21/02\", \"22/02\", \"23/02\", \"24/02\", \"25/02\", \"26/02\", \"27/02\", \"28/02\", \"29/02\", \"01/03\", \"02/03\", \"03/03\", \"04/03\", \"05/03\", \"06/03\", \"07/03\"], \"xaxis\": \"x\", \"y\": [1, 1, 1, 1, 1, 1, 1, 1, 1, 1, 1, 1, 1, 1, 1, 1, 1, 1, 1, 1, 1, 1, 1, 1, 1, 1, 1, 1, 2, 2, 2, 3, 6, 6, 6, 6, 12, 15, 15], \"yaxis\": \"y\"}, {\"hoverlabel\": {\"namelength\": 0}, \"hovertemplate\": \"<b>%{hovertext}</b><br><br>Country/Region=India<br>ObservationDate=%{x}<br>Confirmed=%{y}\", \"hovertext\": [\"India\", \"India\", \"India\", \"India\", \"India\", \"India\", \"India\", \"India\", \"India\", \"India\", \"India\", \"India\", \"India\", \"India\", \"India\", \"India\", \"India\", \"India\", \"India\", \"India\", \"India\", \"India\", \"India\", \"India\", \"India\", \"India\", \"India\", \"India\", \"India\", \"India\", \"India\", \"India\", \"India\", \"India\", \"India\", \"India\", \"India\", \"India\"], \"legendgroup\": \"Country/Region=India\", \"line\": {\"color\": \"#FFA15A\", \"dash\": \"solid\"}, \"mode\": \"lines\", \"name\": \"Country/Region=India\", \"showlegend\": true, \"type\": \"scattergl\", \"x\": [\"30/01\", \"31/01\", \"01/02\", \"02/02\", \"03/02\", \"04/02\", \"05/02\", \"06/02\", \"07/02\", \"08/02\", \"09/02\", \"10/02\", \"11/02\", \"12/02\", \"13/02\", \"14/02\", \"15/02\", \"16/02\", \"17/02\", \"18/02\", \"19/02\", \"20/02\", \"21/02\", \"22/02\", \"23/02\", \"24/02\", \"25/02\", \"26/02\", \"27/02\", \"28/02\", \"29/02\", \"01/03\", \"02/03\", \"03/03\", \"04/03\", \"05/03\", \"06/03\", \"07/03\"], \"xaxis\": \"x\", \"y\": [1, 1, 1, 2, 3, 3, 3, 3, 3, 3, 3, 3, 3, 3, 3, 3, 3, 3, 3, 3, 3, 3, 3, 3, 3, 3, 3, 3, 3, 3, 3, 3, 5, 5, 28, 30, 31, 34], \"yaxis\": \"y\"}, {\"hoverlabel\": {\"namelength\": 0}, \"hovertemplate\": \"<b>%{hovertext}</b><br><br>Country/Region=Russia<br>ObservationDate=%{x}<br>Confirmed=%{y}\", \"hovertext\": [\"Russia\", \"Russia\", \"Russia\", \"Russia\", \"Russia\", \"Russia\", \"Russia\", \"Russia\", \"Russia\", \"Russia\", \"Russia\", \"Russia\", \"Russia\", \"Russia\", \"Russia\", \"Russia\", \"Russia\", \"Russia\", \"Russia\", \"Russia\", \"Russia\", \"Russia\", \"Russia\", \"Russia\", \"Russia\", \"Russia\", \"Russia\", \"Russia\", \"Russia\", \"Russia\", \"Russia\", \"Russia\", \"Russia\", \"Russia\", \"Russia\", \"Russia\", \"Russia\"], \"legendgroup\": \"Country/Region=Russia\", \"line\": {\"color\": \"#19d3f3\", \"dash\": \"solid\"}, \"mode\": \"lines\", \"name\": \"Country/Region=Russia\", \"showlegend\": true, \"type\": \"scattergl\", \"x\": [\"31/01\", \"01/02\", \"02/02\", \"03/02\", \"04/02\", \"05/02\", \"06/02\", \"07/02\", \"08/02\", \"09/02\", \"10/02\", \"11/02\", \"12/02\", \"13/02\", \"14/02\", \"15/02\", \"16/02\", \"17/02\", \"18/02\", \"19/02\", \"20/02\", \"21/02\", \"22/02\", \"23/02\", \"24/02\", \"25/02\", \"26/02\", \"27/02\", \"28/02\", \"29/02\", \"01/03\", \"02/03\", \"03/03\", \"04/03\", \"05/03\", \"06/03\", \"07/03\"], \"xaxis\": \"x\", \"y\": [2, 2, 2, 2, 2, 2, 2, 2, 2, 2, 2, 2, 2, 2, 2, 2, 2, 2, 2, 2, 2, 2, 2, 2, 2, 2, 2, 2, 2, 2, 2, 3, 3, 3, 4, 13, 13], \"yaxis\": \"y\"}, {\"hoverlabel\": {\"namelength\": 0}, \"hovertemplate\": \"<b>%{hovertext}</b><br><br>Country/Region=Sweden<br>ObservationDate=%{x}<br>Confirmed=%{y}\", \"hovertext\": [\"Sweden\", \"Sweden\", \"Sweden\", \"Sweden\", \"Sweden\", \"Sweden\", \"Sweden\", \"Sweden\", \"Sweden\", \"Sweden\", \"Sweden\", \"Sweden\", \"Sweden\", \"Sweden\", \"Sweden\", \"Sweden\", \"Sweden\", \"Sweden\", \"Sweden\", \"Sweden\", \"Sweden\", \"Sweden\", \"Sweden\", \"Sweden\", \"Sweden\", \"Sweden\", \"Sweden\", \"Sweden\", \"Sweden\", \"Sweden\", \"Sweden\", \"Sweden\", \"Sweden\", \"Sweden\", \"Sweden\", \"Sweden\", \"Sweden\"], \"legendgroup\": \"Country/Region=Sweden\", \"line\": {\"color\": \"#FF6692\", \"dash\": \"solid\"}, \"mode\": \"lines\", \"name\": \"Country/Region=Sweden\", \"showlegend\": true, \"type\": \"scattergl\", \"x\": [\"31/01\", \"01/02\", \"02/02\", \"03/02\", \"04/02\", \"05/02\", \"06/02\", \"07/02\", \"08/02\", \"09/02\", \"10/02\", \"11/02\", \"12/02\", \"13/02\", \"14/02\", \"15/02\", \"16/02\", \"17/02\", \"18/02\", \"19/02\", \"20/02\", \"21/02\", \"22/02\", \"23/02\", \"24/02\", \"25/02\", \"26/02\", \"27/02\", \"28/02\", \"29/02\", \"01/03\", \"02/03\", \"03/03\", \"04/03\", \"05/03\", \"06/03\", \"07/03\"], \"xaxis\": \"x\", \"y\": [1, 1, 1, 1, 1, 1, 1, 1, 1, 1, 1, 1, 1, 1, 1, 1, 1, 1, 1, 1, 1, 1, 1, 1, 1, 1, 2, 7, 7, 12, 14, 15, 21, 35, 94, 101, 161], \"yaxis\": \"y\"}, {\"hoverlabel\": {\"namelength\": 0}, \"hovertemplate\": \"<b>%{hovertext}</b><br><br>Country/Region=UK<br>ObservationDate=%{x}<br>Confirmed=%{y}\", \"hovertext\": [\"UK\", \"UK\", \"UK\", \"UK\", \"UK\", \"UK\", \"UK\", \"UK\", \"UK\", \"UK\", \"UK\", \"UK\", \"UK\", \"UK\", \"UK\", \"UK\", \"UK\", \"UK\", \"UK\", \"UK\", \"UK\", \"UK\", \"UK\", \"UK\", \"UK\", \"UK\", \"UK\", \"UK\", \"UK\", \"UK\", \"UK\", \"UK\", \"UK\", \"UK\", \"UK\", \"UK\", \"UK\"], \"legendgroup\": \"Country/Region=UK\", \"line\": {\"color\": \"#B6E880\", \"dash\": \"solid\"}, \"mode\": \"lines\", \"name\": \"Country/Region=UK\", \"showlegend\": true, \"type\": \"scattergl\", \"x\": [\"31/01\", \"01/02\", \"02/02\", \"03/02\", \"04/02\", \"05/02\", \"06/02\", \"07/02\", \"08/02\", \"09/02\", \"10/02\", \"11/02\", \"12/02\", \"13/02\", \"14/02\", \"15/02\", \"16/02\", \"17/02\", \"18/02\", \"19/02\", \"20/02\", \"21/02\", \"22/02\", \"23/02\", \"24/02\", \"25/02\", \"26/02\", \"27/02\", \"28/02\", \"29/02\", \"01/03\", \"02/03\", \"03/03\", \"04/03\", \"05/03\", \"06/03\", \"07/03\"], \"xaxis\": \"x\", \"y\": [2, 2, 2, 2, 2, 2, 2, 3, 3, 3, 8, 8, 9, 9, 9, 9, 9, 9, 9, 9, 9, 9, 9, 9, 13, 13, 13, 15, 20, 23, 36, 40, 51, 85, 115, 163, 206], \"yaxis\": \"y\"}, {\"hoverlabel\": {\"namelength\": 0}, \"hovertemplate\": \"<b>%{hovertext}</b><br><br>Country/Region=Italy<br>ObservationDate=%{x}<br>Confirmed=%{y}\", \"hovertext\": [\"Italy\", \"Italy\", \"Italy\", \"Italy\", \"Italy\", \"Italy\", \"Italy\", \"Italy\", \"Italy\", \"Italy\", \"Italy\", \"Italy\", \"Italy\", \"Italy\", \"Italy\", \"Italy\", \"Italy\", \"Italy\", \"Italy\", \"Italy\", \"Italy\", \"Italy\", \"Italy\", \"Italy\", \"Italy\", \"Italy\", \"Italy\", \"Italy\", \"Italy\", \"Italy\", \"Italy\", \"Italy\", \"Italy\", \"Italy\", \"Italy\", \"Italy\", \"Italy\"], \"legendgroup\": \"Country/Region=Italy\", \"line\": {\"color\": \"#FF97FF\", \"dash\": \"solid\"}, \"mode\": \"lines\", \"name\": \"Country/Region=Italy\", \"showlegend\": true, \"type\": \"scattergl\", \"x\": [\"31/01\", \"01/02\", \"02/02\", \"03/02\", \"04/02\", \"05/02\", \"06/02\", \"07/02\", \"08/02\", \"09/02\", \"10/02\", \"11/02\", \"12/02\", \"13/02\", \"14/02\", \"15/02\", \"16/02\", \"17/02\", \"18/02\", \"19/02\", \"20/02\", \"21/02\", \"22/02\", \"23/02\", \"24/02\", \"25/02\", \"26/02\", \"27/02\", \"28/02\", \"29/02\", \"01/03\", \"02/03\", \"03/03\", \"04/03\", \"05/03\", \"06/03\", \"07/03\"], \"xaxis\": \"x\", \"y\": [2, 2, 2, 2, 2, 2, 2, 3, 3, 3, 3, 3, 3, 3, 3, 3, 3, 3, 3, 3, 3, 20, 62, 155, 229, 322, 453, 655, 888, 1128, 1694, 2036, 2502, 3089, 3858, 4636, 5883], \"yaxis\": \"y\"}, {\"hoverlabel\": {\"namelength\": 0}, \"hovertemplate\": \"<b>%{hovertext}</b><br><br>Country/Region=Spain<br>ObservationDate=%{x}<br>Confirmed=%{y}\", \"hovertext\": [\"Spain\", \"Spain\", \"Spain\", \"Spain\", \"Spain\", \"Spain\", \"Spain\", \"Spain\", \"Spain\", \"Spain\", \"Spain\", \"Spain\", \"Spain\", \"Spain\", \"Spain\", \"Spain\", \"Spain\", \"Spain\", \"Spain\", \"Spain\", \"Spain\", \"Spain\", \"Spain\", \"Spain\", \"Spain\", \"Spain\", \"Spain\", \"Spain\", \"Spain\", \"Spain\", \"Spain\", \"Spain\", \"Spain\", \"Spain\", \"Spain\", \"Spain\"], \"legendgroup\": \"Country/Region=Spain\", \"line\": {\"color\": \"#FECB52\", \"dash\": \"solid\"}, \"mode\": \"lines\", \"name\": \"Country/Region=Spain\", \"showlegend\": true, \"type\": \"scattergl\", \"x\": [\"01/02\", \"02/02\", \"03/02\", \"04/02\", \"05/02\", \"06/02\", \"07/02\", \"08/02\", \"09/02\", \"10/02\", \"11/02\", \"12/02\", \"13/02\", \"14/02\", \"15/02\", \"16/02\", \"17/02\", \"18/02\", \"19/02\", \"20/02\", \"21/02\", \"22/02\", \"23/02\", \"24/02\", \"25/02\", \"26/02\", \"27/02\", \"28/02\", \"29/02\", \"01/03\", \"02/03\", \"03/03\", \"04/03\", \"05/03\", \"06/03\", \"07/03\"], \"xaxis\": \"x\", \"y\": [1, 1, 1, 1, 1, 1, 1, 1, 2, 2, 2, 2, 2, 2, 2, 2, 2, 2, 2, 2, 2, 2, 2, 2, 6, 13, 15, 32, 45, 84, 120, 165, 222, 259, 400, 500], \"yaxis\": \"y\"}, {\"hoverlabel\": {\"namelength\": 0}, \"hovertemplate\": \"<b>%{hovertext}</b><br><br>Country/Region=Belgium<br>ObservationDate=%{x}<br>Confirmed=%{y}\", \"hovertext\": [\"Belgium\", \"Belgium\", \"Belgium\", \"Belgium\", \"Belgium\", \"Belgium\", \"Belgium\", \"Belgium\", \"Belgium\", \"Belgium\", \"Belgium\", \"Belgium\", \"Belgium\", \"Belgium\", \"Belgium\", \"Belgium\", \"Belgium\", \"Belgium\", \"Belgium\", \"Belgium\", \"Belgium\", \"Belgium\", \"Belgium\", \"Belgium\", \"Belgium\", \"Belgium\", \"Belgium\", \"Belgium\", \"Belgium\", \"Belgium\", \"Belgium\", \"Belgium\", \"Belgium\"], \"legendgroup\": \"Country/Region=Belgium\", \"line\": {\"color\": \"#636efa\", \"dash\": \"solid\"}, \"mode\": \"lines\", \"name\": \"Country/Region=Belgium\", \"showlegend\": true, \"type\": \"scattergl\", \"x\": [\"04/02\", \"05/02\", \"06/02\", \"07/02\", \"08/02\", \"09/02\", \"10/02\", \"11/02\", \"12/02\", \"13/02\", \"14/02\", \"15/02\", \"16/02\", \"17/02\", \"18/02\", \"19/02\", \"20/02\", \"21/02\", \"22/02\", \"23/02\", \"24/02\", \"25/02\", \"26/02\", \"27/02\", \"28/02\", \"29/02\", \"01/03\", \"02/03\", \"03/03\", \"04/03\", \"05/03\", \"06/03\", \"07/03\"], \"xaxis\": \"x\", \"y\": [1, 1, 1, 1, 1, 1, 1, 1, 1, 1, 1, 1, 1, 1, 1, 1, 1, 1, 1, 1, 1, 1, 1, 1, 1, 1, 2, 8, 13, 23, 50, 109, 169], \"yaxis\": \"y\"}, {\"hoverlabel\": {\"namelength\": 0}, \"hovertemplate\": \"<b>%{hovertext}</b><br><br>Country/Region=Others<br>ObservationDate=%{x}<br>Confirmed=%{y}\", \"hovertext\": [\"Others\", \"Others\", \"Others\", \"Others\", \"Others\", \"Others\", \"Others\", \"Others\", \"Others\", \"Others\", \"Others\", \"Others\", \"Others\", \"Others\", \"Others\", \"Others\", \"Others\", \"Others\", \"Others\", \"Others\", \"Others\", \"Others\", \"Others\", \"Others\", \"Others\", \"Others\", \"Others\", \"Others\", \"Others\", \"Others\"], \"legendgroup\": \"Country/Region=Others\", \"line\": {\"color\": \"#EF553B\", \"dash\": \"solid\"}, \"mode\": \"lines\", \"name\": \"Country/Region=Others\", \"showlegend\": true, \"type\": \"scattergl\", \"x\": [\"07/02\", \"08/02\", \"09/02\", \"10/02\", \"11/02\", \"12/02\", \"13/02\", \"14/02\", \"15/02\", \"16/02\", \"17/02\", \"18/02\", \"19/02\", \"20/02\", \"21/02\", \"22/02\", \"23/02\", \"24/02\", \"25/02\", \"26/02\", \"27/02\", \"28/02\", \"29/02\", \"01/03\", \"02/03\", \"03/03\", \"04/03\", \"05/03\", \"06/03\", \"07/03\"], \"xaxis\": \"x\", \"y\": [61, 61, 64, 135, 135, 175, 175, 218, 285, 355, 454, 542, 621, 634, 634, 634, 691, 691, 691, 705, 705, 705, 705, 705, 705, 706, 706, 706, 696, 696], \"yaxis\": \"y\"}, {\"hoverlabel\": {\"namelength\": 0}, \"hovertemplate\": \"<b>%{hovertext}</b><br><br>Country/Region=Egypt<br>ObservationDate=%{x}<br>Confirmed=%{y}\", \"hovertext\": [\"Egypt\", \"Egypt\", \"Egypt\", \"Egypt\", \"Egypt\", \"Egypt\", \"Egypt\", \"Egypt\", \"Egypt\", \"Egypt\", \"Egypt\", \"Egypt\", \"Egypt\", \"Egypt\", \"Egypt\", \"Egypt\", \"Egypt\", \"Egypt\", \"Egypt\", \"Egypt\", \"Egypt\", \"Egypt\", \"Egypt\"], \"legendgroup\": \"Country/Region=Egypt\", \"line\": {\"color\": \"#00cc96\", \"dash\": \"solid\"}, \"mode\": \"lines\", \"name\": \"Country/Region=Egypt\", \"showlegend\": true, \"type\": \"scattergl\", \"x\": [\"14/02\", \"15/02\", \"16/02\", \"17/02\", \"18/02\", \"19/02\", \"20/02\", \"21/02\", \"22/02\", \"23/02\", \"24/02\", \"25/02\", \"26/02\", \"27/02\", \"28/02\", \"29/02\", \"01/03\", \"02/03\", \"03/03\", \"04/03\", \"05/03\", \"06/03\", \"07/03\"], \"xaxis\": \"x\", \"y\": [1, 1, 1, 1, 1, 1, 1, 1, 1, 1, 1, 1, 1, 1, 1, 1, 2, 2, 2, 2, 3, 15, 15], \"yaxis\": \"y\"}, {\"hoverlabel\": {\"namelength\": 0}, \"hovertemplate\": \"<b>%{hovertext}</b><br><br>Country/Region=Iran<br>ObservationDate=%{x}<br>Confirmed=%{y}\", \"hovertext\": [\"Iran\", \"Iran\", \"Iran\", \"Iran\", \"Iran\", \"Iran\", \"Iran\", \"Iran\", \"Iran\", \"Iran\", \"Iran\", \"Iran\", \"Iran\", \"Iran\", \"Iran\", \"Iran\", \"Iran\", \"Iran\"], \"legendgroup\": \"Country/Region=Iran\", \"line\": {\"color\": \"#ab63fa\", \"dash\": \"solid\"}, \"mode\": \"lines\", \"name\": \"Country/Region=Iran\", \"showlegend\": true, \"type\": \"scattergl\", \"x\": [\"19/02\", \"20/02\", \"21/02\", \"22/02\", \"23/02\", \"24/02\", \"25/02\", \"26/02\", \"27/02\", \"28/02\", \"29/02\", \"01/03\", \"02/03\", \"03/03\", \"04/03\", \"05/03\", \"06/03\", \"07/03\"], \"xaxis\": \"x\", \"y\": [2, 5, 18, 28, 43, 61, 95, 139, 245, 388, 593, 978, 1501, 2336, 2922, 3513, 4747, 5823], \"yaxis\": \"y\"}, {\"hoverlabel\": {\"namelength\": 0}, \"hovertemplate\": \"<b>%{hovertext}</b><br><br>Country/Region=Israel<br>ObservationDate=%{x}<br>Confirmed=%{y}\", \"hovertext\": [\"Israel\", \"Israel\", \"Israel\", \"Israel\", \"Israel\", \"Israel\", \"Israel\", \"Israel\", \"Israel\", \"Israel\", \"Israel\", \"Israel\", \"Israel\", \"Israel\", \"Israel\", \"Israel\"], \"legendgroup\": \"Country/Region=Israel\", \"line\": {\"color\": \"#FFA15A\", \"dash\": \"solid\"}, \"mode\": \"lines\", \"name\": \"Country/Region=Israel\", \"showlegend\": true, \"type\": \"scattergl\", \"x\": [\"21/02\", \"22/02\", \"23/02\", \"24/02\", \"25/02\", \"26/02\", \"27/02\", \"28/02\", \"29/02\", \"01/03\", \"02/03\", \"03/03\", \"04/03\", \"05/03\", \"06/03\", \"07/03\"], \"xaxis\": \"x\", \"y\": [1, 1, 1, 1, 1, 2, 3, 4, 7, 10, 10, 12, 15, 16, 21, 21], \"yaxis\": \"y\"}, {\"hoverlabel\": {\"namelength\": 0}, \"hovertemplate\": \"<b>%{hovertext}</b><br><br>Country/Region=Lebanon<br>ObservationDate=%{x}<br>Confirmed=%{y}\", \"hovertext\": [\"Lebanon\", \"Lebanon\", \"Lebanon\", \"Lebanon\", \"Lebanon\", \"Lebanon\", \"Lebanon\", \"Lebanon\", \"Lebanon\", \"Lebanon\", \"Lebanon\", \"Lebanon\", \"Lebanon\", \"Lebanon\", \"Lebanon\", \"Lebanon\"], \"legendgroup\": \"Country/Region=Lebanon\", \"line\": {\"color\": \"#19d3f3\", \"dash\": \"solid\"}, \"mode\": \"lines\", \"name\": \"Country/Region=Lebanon\", \"showlegend\": true, \"type\": \"scattergl\", \"x\": [\"21/02\", \"22/02\", \"23/02\", \"24/02\", \"25/02\", \"26/02\", \"27/02\", \"28/02\", \"29/02\", \"01/03\", \"02/03\", \"03/03\", \"04/03\", \"05/03\", \"06/03\", \"07/03\"], \"xaxis\": \"x\", \"y\": [1, 1, 1, 1, 1, 2, 2, 2, 4, 10, 13, 13, 13, 16, 22, 22], \"yaxis\": \"y\"}, {\"hoverlabel\": {\"namelength\": 0}, \"hovertemplate\": \"<b>%{hovertext}</b><br><br>Country/Region=Iraq<br>ObservationDate=%{x}<br>Confirmed=%{y}\", \"hovertext\": [\"Iraq\", \"Iraq\", \"Iraq\", \"Iraq\", \"Iraq\", \"Iraq\", \"Iraq\", \"Iraq\", \"Iraq\", \"Iraq\", \"Iraq\", \"Iraq\", \"Iraq\", \"Iraq\"], \"legendgroup\": \"Country/Region=Iraq\", \"line\": {\"color\": \"#FF6692\", \"dash\": \"solid\"}, \"mode\": \"lines\", \"name\": \"Country/Region=Iraq\", \"showlegend\": true, \"type\": \"scattergl\", \"x\": [\"23/02\", \"24/02\", \"25/02\", \"26/02\", \"27/02\", \"28/02\", \"29/02\", \"01/03\", \"02/03\", \"03/03\", \"04/03\", \"05/03\", \"06/03\", \"07/03\"], \"xaxis\": \"x\", \"y\": [0, 1, 1, 5, 7, 7, 13, 19, 26, 32, 35, 35, 40, 54], \"yaxis\": \"y\"}, {\"hoverlabel\": {\"namelength\": 0}, \"hovertemplate\": \"<b>%{hovertext}</b><br><br>Country/Region=Oman<br>ObservationDate=%{x}<br>Confirmed=%{y}\", \"hovertext\": [\"Oman\", \"Oman\", \"Oman\", \"Oman\", \"Oman\", \"Oman\", \"Oman\", \"Oman\", \"Oman\", \"Oman\", \"Oman\", \"Oman\", \"Oman\"], \"legendgroup\": \"Country/Region=Oman\", \"line\": {\"color\": \"#B6E880\", \"dash\": \"solid\"}, \"mode\": \"lines\", \"name\": \"Country/Region=Oman\", \"showlegend\": true, \"type\": \"scattergl\", \"x\": [\"24/02\", \"25/02\", \"26/02\", \"27/02\", \"28/02\", \"29/02\", \"01/03\", \"02/03\", \"03/03\", \"04/03\", \"05/03\", \"06/03\", \"07/03\"], \"xaxis\": \"x\", \"y\": [2, 2, 4, 4, 4, 6, 6, 6, 12, 15, 16, 16, 16], \"yaxis\": \"y\"}, {\"hoverlabel\": {\"namelength\": 0}, \"hovertemplate\": \"<b>%{hovertext}</b><br><br>Country/Region=Kuwait<br>ObservationDate=%{x}<br>Confirmed=%{y}\", \"hovertext\": [\"Kuwait\", \"Kuwait\", \"Kuwait\", \"Kuwait\", \"Kuwait\", \"Kuwait\", \"Kuwait\", \"Kuwait\", \"Kuwait\", \"Kuwait\", \"Kuwait\", \"Kuwait\", \"Kuwait\"], \"legendgroup\": \"Country/Region=Kuwait\", \"line\": {\"color\": \"#FF97FF\", \"dash\": \"solid\"}, \"mode\": \"lines\", \"name\": \"Country/Region=Kuwait\", \"showlegend\": true, \"type\": \"scattergl\", \"x\": [\"24/02\", \"25/02\", \"26/02\", \"27/02\", \"28/02\", \"29/02\", \"01/03\", \"02/03\", \"03/03\", \"04/03\", \"05/03\", \"06/03\", \"07/03\"], \"xaxis\": \"x\", \"y\": [1, 11, 26, 43, 45, 45, 45, 56, 56, 56, 58, 58, 61], \"yaxis\": \"y\"}, {\"hoverlabel\": {\"namelength\": 0}, \"hovertemplate\": \"<b>%{hovertext}</b><br><br>Country/Region=Afghanistan<br>ObservationDate=%{x}<br>Confirmed=%{y}\", \"hovertext\": [\"Afghanistan\", \"Afghanistan\", \"Afghanistan\", \"Afghanistan\", \"Afghanistan\", \"Afghanistan\", \"Afghanistan\", \"Afghanistan\", \"Afghanistan\", \"Afghanistan\", \"Afghanistan\", \"Afghanistan\", \"Afghanistan\"], \"legendgroup\": \"Country/Region=Afghanistan\", \"line\": {\"color\": \"#FECB52\", \"dash\": \"solid\"}, \"mode\": \"lines\", \"name\": \"Country/Region=Afghanistan\", \"showlegend\": true, \"type\": \"scattergl\", \"x\": [\"24/02\", \"25/02\", \"26/02\", \"27/02\", \"28/02\", \"29/02\", \"01/03\", \"02/03\", \"03/03\", \"04/03\", \"05/03\", \"06/03\", \"07/03\"], \"xaxis\": \"x\", \"y\": [1, 1, 1, 1, 1, 1, 1, 1, 1, 1, 1, 1, 1], \"yaxis\": \"y\"}, {\"hoverlabel\": {\"namelength\": 0}, \"hovertemplate\": \"<b>%{hovertext}</b><br><br>Country/Region=Bahrain<br>ObservationDate=%{x}<br>Confirmed=%{y}\", \"hovertext\": [\"Bahrain\", \"Bahrain\", \"Bahrain\", \"Bahrain\", \"Bahrain\", \"Bahrain\", \"Bahrain\", \"Bahrain\", \"Bahrain\", \"Bahrain\", \"Bahrain\", \"Bahrain\", \"Bahrain\"], \"legendgroup\": \"Country/Region=Bahrain\", \"line\": {\"color\": \"#636efa\", \"dash\": \"solid\"}, \"mode\": \"lines\", \"name\": \"Country/Region=Bahrain\", \"showlegend\": true, \"type\": \"scattergl\", \"x\": [\"24/02\", \"25/02\", \"26/02\", \"27/02\", \"28/02\", \"29/02\", \"01/03\", \"02/03\", \"03/03\", \"04/03\", \"05/03\", \"06/03\", \"07/03\"], \"xaxis\": \"x\", \"y\": [1, 23, 33, 33, 36, 41, 47, 49, 49, 52, 55, 60, 85], \"yaxis\": \"y\"}, {\"hoverlabel\": {\"namelength\": 0}, \"hovertemplate\": \"<b>%{hovertext}</b><br><br>Country/Region=Switzerland<br>ObservationDate=%{x}<br>Confirmed=%{y}\", \"hovertext\": [\"Switzerland\", \"Switzerland\", \"Switzerland\", \"Switzerland\", \"Switzerland\", \"Switzerland\", \"Switzerland\", \"Switzerland\", \"Switzerland\", \"Switzerland\", \"Switzerland\", \"Switzerland\"], \"legendgroup\": \"Country/Region=Switzerland\", \"line\": {\"color\": \"#EF553B\", \"dash\": \"solid\"}, \"mode\": \"lines\", \"name\": \"Country/Region=Switzerland\", \"showlegend\": true, \"type\": \"scattergl\", \"x\": [\"25/02\", \"26/02\", \"27/02\", \"28/02\", \"29/02\", \"01/03\", \"02/03\", \"03/03\", \"04/03\", \"05/03\", \"06/03\", \"07/03\"], \"xaxis\": \"x\", \"y\": [1, 1, 8, 8, 18, 27, 42, 56, 90, 114, 214, 268], \"yaxis\": \"y\"}, {\"hoverlabel\": {\"namelength\": 0}, \"hovertemplate\": \"<b>%{hovertext}</b><br><br>Country/Region=Algeria<br>ObservationDate=%{x}<br>Confirmed=%{y}\", \"hovertext\": [\"Algeria\", \"Algeria\", \"Algeria\", \"Algeria\", \"Algeria\", \"Algeria\", \"Algeria\", \"Algeria\", \"Algeria\", \"Algeria\", \"Algeria\", \"Algeria\"], \"legendgroup\": \"Country/Region=Algeria\", \"line\": {\"color\": \"#00cc96\", \"dash\": \"solid\"}, \"mode\": \"lines\", \"name\": \"Country/Region=Algeria\", \"showlegend\": true, \"type\": \"scattergl\", \"x\": [\"25/02\", \"26/02\", \"27/02\", \"28/02\", \"29/02\", \"01/03\", \"02/03\", \"03/03\", \"04/03\", \"05/03\", \"06/03\", \"07/03\"], \"xaxis\": \"x\", \"y\": [1, 1, 1, 1, 1, 1, 3, 5, 12, 12, 17, 17], \"yaxis\": \"y\"}, {\"hoverlabel\": {\"namelength\": 0}, \"hovertemplate\": \"<b>%{hovertext}</b><br><br>Country/Region=Austria<br>ObservationDate=%{x}<br>Confirmed=%{y}\", \"hovertext\": [\"Austria\", \"Austria\", \"Austria\", \"Austria\", \"Austria\", \"Austria\", \"Austria\", \"Austria\", \"Austria\", \"Austria\", \"Austria\", \"Austria\"], \"legendgroup\": \"Country/Region=Austria\", \"line\": {\"color\": \"#ab63fa\", \"dash\": \"solid\"}, \"mode\": \"lines\", \"name\": \"Country/Region=Austria\", \"showlegend\": true, \"type\": \"scattergl\", \"x\": [\"25/02\", \"26/02\", \"27/02\", \"28/02\", \"29/02\", \"01/03\", \"02/03\", \"03/03\", \"04/03\", \"05/03\", \"06/03\", \"07/03\"], \"xaxis\": \"x\", \"y\": [2, 2, 3, 3, 9, 14, 18, 21, 29, 41, 55, 79], \"yaxis\": \"y\"}, {\"hoverlabel\": {\"namelength\": 0}, \"hovertemplate\": \"<b>%{hovertext}</b><br><br>Country/Region=Croatia<br>ObservationDate=%{x}<br>Confirmed=%{y}\", \"hovertext\": [\"Croatia\", \"Croatia\", \"Croatia\", \"Croatia\", \"Croatia\", \"Croatia\", \"Croatia\", \"Croatia\", \"Croatia\", \"Croatia\", \"Croatia\", \"Croatia\"], \"legendgroup\": \"Country/Region=Croatia\", \"line\": {\"color\": \"#FFA15A\", \"dash\": \"solid\"}, \"mode\": \"lines\", \"name\": \"Country/Region=Croatia\", \"showlegend\": true, \"type\": \"scattergl\", \"x\": [\"25/02\", \"26/02\", \"27/02\", \"28/02\", \"29/02\", \"01/03\", \"02/03\", \"03/03\", \"04/03\", \"05/03\", \"06/03\", \"07/03\"], \"xaxis\": \"x\", \"y\": [1, 3, 3, 5, 6, 7, 7, 9, 10, 10, 11, 12], \"yaxis\": \"y\"}, {\"hoverlabel\": {\"namelength\": 0}, \"hovertemplate\": \"<b>%{hovertext}</b><br><br>Country/Region=Romania<br>ObservationDate=%{x}<br>Confirmed=%{y}\", \"hovertext\": [\"Romania\", \"Romania\", \"Romania\", \"Romania\", \"Romania\", \"Romania\", \"Romania\", \"Romania\", \"Romania\", \"Romania\", \"Romania\"], \"legendgroup\": \"Country/Region=Romania\", \"line\": {\"color\": \"#19d3f3\", \"dash\": \"solid\"}, \"mode\": \"lines\", \"name\": \"Country/Region=Romania\", \"showlegend\": true, \"type\": \"scattergl\", \"x\": [\"26/02\", \"27/02\", \"28/02\", \"29/02\", \"01/03\", \"02/03\", \"03/03\", \"04/03\", \"05/03\", \"06/03\", \"07/03\"], \"xaxis\": \"x\", \"y\": [1, 1, 3, 3, 3, 3, 3, 4, 6, 9, 9], \"yaxis\": \"y\"}, {\"hoverlabel\": {\"namelength\": 0}, \"hovertemplate\": \"<b>%{hovertext}</b><br><br>Country/Region=Pakistan<br>ObservationDate=%{x}<br>Confirmed=%{y}\", \"hovertext\": [\"Pakistan\", \"Pakistan\", \"Pakistan\", \"Pakistan\", \"Pakistan\", \"Pakistan\", \"Pakistan\", \"Pakistan\", \"Pakistan\", \"Pakistan\", \"Pakistan\"], \"legendgroup\": \"Country/Region=Pakistan\", \"line\": {\"color\": \"#FF6692\", \"dash\": \"solid\"}, \"mode\": \"lines\", \"name\": \"Country/Region=Pakistan\", \"showlegend\": true, \"type\": \"scattergl\", \"x\": [\"26/02\", \"27/02\", \"28/02\", \"29/02\", \"01/03\", \"02/03\", \"03/03\", \"04/03\", \"05/03\", \"06/03\", \"07/03\"], \"xaxis\": \"x\", \"y\": [2, 2, 2, 4, 4, 4, 5, 5, 5, 6, 6], \"yaxis\": \"y\"}, {\"hoverlabel\": {\"namelength\": 0}, \"hovertemplate\": \"<b>%{hovertext}</b><br><br>Country/Region=Norway<br>ObservationDate=%{x}<br>Confirmed=%{y}\", \"hovertext\": [\"Norway\", \"Norway\", \"Norway\", \"Norway\", \"Norway\", \"Norway\", \"Norway\", \"Norway\", \"Norway\", \"Norway\", \"Norway\"], \"legendgroup\": \"Country/Region=Norway\", \"line\": {\"color\": \"#B6E880\", \"dash\": \"solid\"}, \"mode\": \"lines\", \"name\": \"Country/Region=Norway\", \"showlegend\": true, \"type\": \"scattergl\", \"x\": [\"26/02\", \"27/02\", \"28/02\", \"29/02\", \"01/03\", \"02/03\", \"03/03\", \"04/03\", \"05/03\", \"06/03\", \"07/03\"], \"xaxis\": \"x\", \"y\": [1, 1, 6, 15, 19, 25, 32, 56, 87, 108, 147], \"yaxis\": \"y\"}, {\"hoverlabel\": {\"namelength\": 0}, \"hovertemplate\": \"<b>%{hovertext}</b><br><br>Country/Region=North Macedonia<br>ObservationDate=%{x}<br>Confirmed=%{y}\", \"hovertext\": [\"North Macedonia\", \"North Macedonia\", \"North Macedonia\", \"North Macedonia\", \"North Macedonia\", \"North Macedonia\", \"North Macedonia\", \"North Macedonia\", \"North Macedonia\", \"North Macedonia\", \"North Macedonia\"], \"legendgroup\": \"Country/Region=North Macedonia\", \"line\": {\"color\": \"#FF97FF\", \"dash\": \"solid\"}, \"mode\": \"lines\", \"name\": \"Country/Region=North Macedonia\", \"showlegend\": true, \"type\": \"scattergl\", \"x\": [\"26/02\", \"27/02\", \"28/02\", \"29/02\", \"01/03\", \"02/03\", \"03/03\", \"04/03\", \"05/03\", \"06/03\", \"07/03\"], \"xaxis\": \"x\", \"y\": [1, 1, 1, 1, 1, 1, 1, 1, 1, 3, 3], \"yaxis\": \"y\"}, {\"hoverlabel\": {\"namelength\": 0}, \"hovertemplate\": \"<b>%{hovertext}</b><br><br>Country/Region=Georgia<br>ObservationDate=%{x}<br>Confirmed=%{y}\", \"hovertext\": [\"Georgia\", \"Georgia\", \"Georgia\", \"Georgia\", \"Georgia\", \"Georgia\", \"Georgia\", \"Georgia\", \"Georgia\", \"Georgia\", \"Georgia\"], \"legendgroup\": \"Country/Region=Georgia\", \"line\": {\"color\": \"#FECB52\", \"dash\": \"solid\"}, \"mode\": \"lines\", \"name\": \"Country/Region=Georgia\", \"showlegend\": true, \"type\": \"scattergl\", \"x\": [\"26/02\", \"27/02\", \"28/02\", \"29/02\", \"01/03\", \"02/03\", \"03/03\", \"04/03\", \"05/03\", \"06/03\", \"07/03\"], \"xaxis\": \"x\", \"y\": [1, 1, 1, 1, 3, 3, 3, 3, 4, 4, 4], \"yaxis\": \"y\"}, {\"hoverlabel\": {\"namelength\": 0}, \"hovertemplate\": \"<b>%{hovertext}</b><br><br>Country/Region=Greece<br>ObservationDate=%{x}<br>Confirmed=%{y}\", \"hovertext\": [\"Greece\", \"Greece\", \"Greece\", \"Greece\", \"Greece\", \"Greece\", \"Greece\", \"Greece\", \"Greece\", \"Greece\", \"Greece\"], \"legendgroup\": \"Country/Region=Greece\", \"line\": {\"color\": \"#636efa\", \"dash\": \"solid\"}, \"mode\": \"lines\", \"name\": \"Country/Region=Greece\", \"showlegend\": true, \"type\": \"scattergl\", \"x\": [\"26/02\", \"27/02\", \"28/02\", \"29/02\", \"01/03\", \"02/03\", \"03/03\", \"04/03\", \"05/03\", \"06/03\", \"07/03\"], \"xaxis\": \"x\", \"y\": [1, 3, 4, 4, 7, 7, 7, 9, 31, 45, 46], \"yaxis\": \"y\"}, {\"hoverlabel\": {\"namelength\": 0}, \"hovertemplate\": \"<b>%{hovertext}</b><br><br>Country/Region=Netherlands<br>ObservationDate=%{x}<br>Confirmed=%{y}\", \"hovertext\": [\"Netherlands\", \"Netherlands\", \"Netherlands\", \"Netherlands\", \"Netherlands\", \"Netherlands\", \"Netherlands\", \"Netherlands\", \"Netherlands\", \"Netherlands\"], \"legendgroup\": \"Country/Region=Netherlands\", \"line\": {\"color\": \"#EF553B\", \"dash\": \"solid\"}, \"mode\": \"lines\", \"name\": \"Country/Region=Netherlands\", \"showlegend\": true, \"type\": \"scattergl\", \"x\": [\"27/02\", \"28/02\", \"29/02\", \"01/03\", \"02/03\", \"03/03\", \"04/03\", \"05/03\", \"06/03\", \"07/03\"], \"xaxis\": \"x\", \"y\": [1, 1, 6, 10, 18, 24, 38, 82, 128, 188], \"yaxis\": \"y\"}, {\"hoverlabel\": {\"namelength\": 0}, \"hovertemplate\": \"<b>%{hovertext}</b><br><br>Country/Region=San Marino<br>ObservationDate=%{x}<br>Confirmed=%{y}\", \"hovertext\": [\"San Marino\", \"San Marino\", \"San Marino\", \"San Marino\", \"San Marino\", \"San Marino\", \"San Marino\", \"San Marino\", \"San Marino\", \"San Marino\"], \"legendgroup\": \"Country/Region=San Marino\", \"line\": {\"color\": \"#00cc96\", \"dash\": \"solid\"}, \"mode\": \"lines\", \"name\": \"Country/Region=San Marino\", \"showlegend\": true, \"type\": \"scattergl\", \"x\": [\"27/02\", \"28/02\", \"29/02\", \"01/03\", \"02/03\", \"03/03\", \"04/03\", \"05/03\", \"06/03\", \"07/03\"], \"xaxis\": \"x\", \"y\": [1, 1, 1, 1, 8, 10, 16, 21, 21, 23], \"yaxis\": \"y\"}, {\"hoverlabel\": {\"namelength\": 0}, \"hovertemplate\": \"<b>%{hovertext}</b><br><br>Country/Region=Denmark<br>ObservationDate=%{x}<br>Confirmed=%{y}\", \"hovertext\": [\"Denmark\", \"Denmark\", \"Denmark\", \"Denmark\", \"Denmark\", \"Denmark\", \"Denmark\", \"Denmark\", \"Denmark\", \"Denmark\"], \"legendgroup\": \"Country/Region=Denmark\", \"line\": {\"color\": \"#ab63fa\", \"dash\": \"solid\"}, \"mode\": \"lines\", \"name\": \"Country/Region=Denmark\", \"showlegend\": true, \"type\": \"scattergl\", \"x\": [\"27/02\", \"28/02\", \"29/02\", \"01/03\", \"02/03\", \"03/03\", \"04/03\", \"05/03\", \"06/03\", \"07/03\"], \"xaxis\": \"x\", \"y\": [1, 1, 3, 4, 4, 6, 10, 10, 23, 23], \"yaxis\": \"y\"}, {\"hoverlabel\": {\"namelength\": 0}, \"hovertemplate\": \"<b>%{hovertext}</b><br><br>Country/Region=Estonia<br>ObservationDate=%{x}<br>Confirmed=%{y}\", \"hovertext\": [\"Estonia\", \"Estonia\", \"Estonia\", \"Estonia\", \"Estonia\", \"Estonia\", \"Estonia\", \"Estonia\", \"Estonia\", \"Estonia\"], \"legendgroup\": \"Country/Region=Estonia\", \"line\": {\"color\": \"#FFA15A\", \"dash\": \"solid\"}, \"mode\": \"lines\", \"name\": \"Country/Region=Estonia\", \"showlegend\": true, \"type\": \"scattergl\", \"x\": [\"27/02\", \"28/02\", \"29/02\", \"01/03\", \"02/03\", \"03/03\", \"04/03\", \"05/03\", \"06/03\", \"07/03\"], \"xaxis\": \"x\", \"y\": [1, 1, 1, 1, 1, 2, 2, 3, 10, 10], \"yaxis\": \"y\"}, {\"hoverlabel\": {\"namelength\": 0}, \"hovertemplate\": \"<b>%{hovertext}</b><br><br>Country/Region=North Ireland<br>ObservationDate=%{x}<br>Confirmed=%{y}\", \"hovertext\": [\"North Ireland\"], \"legendgroup\": \"Country/Region=North Ireland\", \"line\": {\"color\": \"#19d3f3\", \"dash\": \"solid\"}, \"mode\": \"lines\", \"name\": \"Country/Region=North Ireland\", \"showlegend\": true, \"type\": \"scattergl\", \"x\": [\"28/02\"], \"xaxis\": \"x\", \"y\": [1], \"yaxis\": \"y\"}, {\"hoverlabel\": {\"namelength\": 0}, \"hovertemplate\": \"<b>%{hovertext}</b><br><br>Country/Region=New Zealand<br>ObservationDate=%{x}<br>Confirmed=%{y}\", \"hovertext\": [\"New Zealand\", \"New Zealand\", \"New Zealand\", \"New Zealand\", \"New Zealand\", \"New Zealand\", \"New Zealand\", \"New Zealand\", \"New Zealand\"], \"legendgroup\": \"Country/Region=New Zealand\", \"line\": {\"color\": \"#FF6692\", \"dash\": \"solid\"}, \"mode\": \"lines\", \"name\": \"Country/Region=New Zealand\", \"showlegend\": true, \"type\": \"scattergl\", \"x\": [\"28/02\", \"29/02\", \"01/03\", \"02/03\", \"03/03\", \"04/03\", \"05/03\", \"06/03\", \"07/03\"], \"xaxis\": \"x\", \"y\": [1, 1, 1, 1, 1, 3, 3, 4, 5], \"yaxis\": \"y\"}, {\"hoverlabel\": {\"namelength\": 0}, \"hovertemplate\": \"<b>%{hovertext}</b><br><br>Country/Region=Nigeria<br>ObservationDate=%{x}<br>Confirmed=%{y}\", \"hovertext\": [\"Nigeria\", \"Nigeria\", \"Nigeria\", \"Nigeria\", \"Nigeria\", \"Nigeria\", \"Nigeria\", \"Nigeria\", \"Nigeria\"], \"legendgroup\": \"Country/Region=Nigeria\", \"line\": {\"color\": \"#B6E880\", \"dash\": \"solid\"}, \"mode\": \"lines\", \"name\": \"Country/Region=Nigeria\", \"showlegend\": true, \"type\": \"scattergl\", \"x\": [\"28/02\", \"29/02\", \"01/03\", \"02/03\", \"03/03\", \"04/03\", \"05/03\", \"06/03\", \"07/03\"], \"xaxis\": \"x\", \"y\": [1, 1, 1, 1, 1, 1, 1, 1, 1], \"yaxis\": \"y\"}, {\"hoverlabel\": {\"namelength\": 0}, \"hovertemplate\": \"<b>%{hovertext}</b><br><br>Country/Region=Lithuania<br>ObservationDate=%{x}<br>Confirmed=%{y}\", \"hovertext\": [\"Lithuania\", \"Lithuania\", \"Lithuania\", \"Lithuania\", \"Lithuania\", \"Lithuania\", \"Lithuania\", \"Lithuania\", \"Lithuania\"], \"legendgroup\": \"Country/Region=Lithuania\", \"line\": {\"color\": \"#FF97FF\", \"dash\": \"solid\"}, \"mode\": \"lines\", \"name\": \"Country/Region=Lithuania\", \"showlegend\": true, \"type\": \"scattergl\", \"x\": [\"28/02\", \"29/02\", \"01/03\", \"02/03\", \"03/03\", \"04/03\", \"05/03\", \"06/03\", \"07/03\"], \"xaxis\": \"x\", \"y\": [1, 1, 1, 1, 1, 1, 1, 1, 1], \"yaxis\": \"y\"}, {\"hoverlabel\": {\"namelength\": 0}, \"hovertemplate\": \"<b>%{hovertext}</b><br><br>Country/Region= Azerbaijan<br>ObservationDate=%{x}<br>Confirmed=%{y}\", \"hovertext\": [\" Azerbaijan\"], \"legendgroup\": \"Country/Region= Azerbaijan\", \"line\": {\"color\": \"#FECB52\", \"dash\": \"solid\"}, \"mode\": \"lines\", \"name\": \"Country/Region= Azerbaijan\", \"showlegend\": true, \"type\": \"scattergl\", \"x\": [\"28/02\"], \"xaxis\": \"x\", \"y\": [1], \"yaxis\": \"y\"}, {\"hoverlabel\": {\"namelength\": 0}, \"hovertemplate\": \"<b>%{hovertext}</b><br><br>Country/Region=Belarus<br>ObservationDate=%{x}<br>Confirmed=%{y}\", \"hovertext\": [\"Belarus\", \"Belarus\", \"Belarus\", \"Belarus\", \"Belarus\", \"Belarus\", \"Belarus\", \"Belarus\", \"Belarus\"], \"legendgroup\": \"Country/Region=Belarus\", \"line\": {\"color\": \"#636efa\", \"dash\": \"solid\"}, \"mode\": \"lines\", \"name\": \"Country/Region=Belarus\", \"showlegend\": true, \"type\": \"scattergl\", \"x\": [\"28/02\", \"29/02\", \"01/03\", \"02/03\", \"03/03\", \"04/03\", \"05/03\", \"06/03\", \"07/03\"], \"xaxis\": \"x\", \"y\": [1, 1, 1, 1, 1, 6, 6, 6, 6], \"yaxis\": \"y\"}, {\"hoverlabel\": {\"namelength\": 0}, \"hovertemplate\": \"<b>%{hovertext}</b><br><br>Country/Region=Iceland<br>ObservationDate=%{x}<br>Confirmed=%{y}\", \"hovertext\": [\"Iceland\", \"Iceland\", \"Iceland\", \"Iceland\", \"Iceland\", \"Iceland\", \"Iceland\", \"Iceland\", \"Iceland\"], \"legendgroup\": \"Country/Region=Iceland\", \"line\": {\"color\": \"#EF553B\", \"dash\": \"solid\"}, \"mode\": \"lines\", \"name\": \"Country/Region=Iceland\", \"showlegend\": true, \"type\": \"scattergl\", \"x\": [\"28/02\", \"29/02\", \"01/03\", \"02/03\", \"03/03\", \"04/03\", \"05/03\", \"06/03\", \"07/03\"], \"xaxis\": \"x\", \"y\": [1, 1, 3, 6, 11, 26, 34, 43, 50], \"yaxis\": \"y\"}, {\"hoverlabel\": {\"namelength\": 0}, \"hovertemplate\": \"<b>%{hovertext}</b><br><br>Country/Region=Monaco<br>ObservationDate=%{x}<br>Confirmed=%{y}\", \"hovertext\": [\"Monaco\", \"Monaco\", \"Monaco\", \"Monaco\", \"Monaco\", \"Monaco\", \"Monaco\", \"Monaco\"], \"legendgroup\": \"Country/Region=Monaco\", \"line\": {\"color\": \"#00cc96\", \"dash\": \"solid\"}, \"mode\": \"lines\", \"name\": \"Country/Region=Monaco\", \"showlegend\": true, \"type\": \"scattergl\", \"x\": [\"29/02\", \"01/03\", \"02/03\", \"03/03\", \"04/03\", \"05/03\", \"06/03\", \"07/03\"], \"xaxis\": \"x\", \"y\": [1, 1, 1, 1, 1, 1, 1, 1], \"yaxis\": \"y\"}, {\"hoverlabel\": {\"namelength\": 0}, \"hovertemplate\": \"<b>%{hovertext}</b><br><br>Country/Region=Qatar<br>ObservationDate=%{x}<br>Confirmed=%{y}\", \"hovertext\": [\"Qatar\", \"Qatar\", \"Qatar\", \"Qatar\", \"Qatar\", \"Qatar\", \"Qatar\", \"Qatar\"], \"legendgroup\": \"Country/Region=Qatar\", \"line\": {\"color\": \"#ab63fa\", \"dash\": \"solid\"}, \"mode\": \"lines\", \"name\": \"Country/Region=Qatar\", \"showlegend\": true, \"type\": \"scattergl\", \"x\": [\"29/02\", \"01/03\", \"02/03\", \"03/03\", \"04/03\", \"05/03\", \"06/03\", \"07/03\"], \"xaxis\": \"x\", \"y\": [1, 3, 3, 7, 8, 8, 8, 8], \"yaxis\": \"y\"}, {\"hoverlabel\": {\"namelength\": 0}, \"hovertemplate\": \"<b>%{hovertext}</b><br><br>Country/Region=Luxembourg<br>ObservationDate=%{x}<br>Confirmed=%{y}\", \"hovertext\": [\"Luxembourg\", \"Luxembourg\", \"Luxembourg\", \"Luxembourg\", \"Luxembourg\", \"Luxembourg\", \"Luxembourg\", \"Luxembourg\"], \"legendgroup\": \"Country/Region=Luxembourg\", \"line\": {\"color\": \"#FFA15A\", \"dash\": \"solid\"}, \"mode\": \"lines\", \"name\": \"Country/Region=Luxembourg\", \"showlegend\": true, \"type\": \"scattergl\", \"x\": [\"29/02\", \"01/03\", \"02/03\", \"03/03\", \"04/03\", \"05/03\", \"06/03\", \"07/03\"], \"xaxis\": \"x\", \"y\": [1, 1, 1, 1, 1, 1, 2, 2], \"yaxis\": \"y\"}, {\"hoverlabel\": {\"namelength\": 0}, \"hovertemplate\": \"<b>%{hovertext}</b><br><br>Country/Region=Ireland<br>ObservationDate=%{x}<br>Confirmed=%{y}\", \"hovertext\": [\"Ireland\", \"Ireland\", \"Ireland\", \"Ireland\", \"Ireland\", \"Ireland\", \"Ireland\", \"Ireland\"], \"legendgroup\": \"Country/Region=Ireland\", \"line\": {\"color\": \"#19d3f3\", \"dash\": \"solid\"}, \"mode\": \"lines\", \"name\": \"Country/Region=Ireland\", \"showlegend\": true, \"type\": \"scattergl\", \"x\": [\"29/02\", \"01/03\", \"02/03\", \"03/03\", \"04/03\", \"05/03\", \"06/03\", \"07/03\"], \"xaxis\": \"x\", \"y\": [1, 1, 1, 2, 6, 6, 18, 18], \"yaxis\": \"y\"}, {\"hoverlabel\": {\"namelength\": 0}, \"hovertemplate\": \"<b>%{hovertext}</b><br><br>Country/Region=Czech Republic<br>ObservationDate=%{x}<br>Confirmed=%{y}\", \"hovertext\": [\"Czech Republic\", \"Czech Republic\", \"Czech Republic\", \"Czech Republic\", \"Czech Republic\", \"Czech Republic\", \"Czech Republic\"], \"legendgroup\": \"Country/Region=Czech Republic\", \"line\": {\"color\": \"#FF6692\", \"dash\": \"solid\"}, \"mode\": \"lines\", \"name\": \"Country/Region=Czech Republic\", \"showlegend\": true, \"type\": \"scattergl\", \"x\": [\"01/03\", \"02/03\", \"03/03\", \"04/03\", \"05/03\", \"06/03\", \"07/03\"], \"xaxis\": \"x\", \"y\": [3, 3, 5, 8, 12, 18, 19], \"yaxis\": \"y\"}, {\"hoverlabel\": {\"namelength\": 0}, \"hovertemplate\": \"<b>%{hovertext}</b><br><br>Country/Region=Armenia<br>ObservationDate=%{x}<br>Confirmed=%{y}\", \"hovertext\": [\"Armenia\", \"Armenia\", \"Armenia\", \"Armenia\", \"Armenia\", \"Armenia\", \"Armenia\"], \"legendgroup\": \"Country/Region=Armenia\", \"line\": {\"color\": \"#B6E880\", \"dash\": \"solid\"}, \"mode\": \"lines\", \"name\": \"Country/Region=Armenia\", \"showlegend\": true, \"type\": \"scattergl\", \"x\": [\"01/03\", \"02/03\", \"03/03\", \"04/03\", \"05/03\", \"06/03\", \"07/03\"], \"xaxis\": \"x\", \"y\": [1, 1, 1, 1, 1, 1, 1], \"yaxis\": \"y\"}, {\"hoverlabel\": {\"namelength\": 0}, \"hovertemplate\": \"<b>%{hovertext}</b><br><br>Country/Region=Azerbaijan<br>ObservationDate=%{x}<br>Confirmed=%{y}\", \"hovertext\": [\"Azerbaijan\", \"Azerbaijan\", \"Azerbaijan\", \"Azerbaijan\", \"Azerbaijan\", \"Azerbaijan\", \"Azerbaijan\"], \"legendgroup\": \"Country/Region=Azerbaijan\", \"line\": {\"color\": \"#FF97FF\", \"dash\": \"solid\"}, \"mode\": \"lines\", \"name\": \"Country/Region=Azerbaijan\", \"showlegend\": true, \"type\": \"scattergl\", \"x\": [\"01/03\", \"02/03\", \"03/03\", \"04/03\", \"05/03\", \"06/03\", \"07/03\"], \"xaxis\": \"x\", \"y\": [3, 3, 3, 3, 6, 6, 9], \"yaxis\": \"y\"}, {\"hoverlabel\": {\"namelength\": 0}, \"hovertemplate\": \"<b>%{hovertext}</b><br><br>Country/Region=Dominican Republic<br>ObservationDate=%{x}<br>Confirmed=%{y}\", \"hovertext\": [\"Dominican Republic\", \"Dominican Republic\", \"Dominican Republic\", \"Dominican Republic\", \"Dominican Republic\", \"Dominican Republic\", \"Dominican Republic\"], \"legendgroup\": \"Country/Region=Dominican Republic\", \"line\": {\"color\": \"#FECB52\", \"dash\": \"solid\"}, \"mode\": \"lines\", \"name\": \"Country/Region=Dominican Republic\", \"showlegend\": true, \"type\": \"scattergl\", \"x\": [\"01/03\", \"02/03\", \"03/03\", \"04/03\", \"05/03\", \"06/03\", \"07/03\"], \"xaxis\": \"x\", \"y\": [1, 1, 1, 1, 1, 2, 2], \"yaxis\": \"y\"}, {\"hoverlabel\": {\"namelength\": 0}, \"hovertemplate\": \"<b>%{hovertext}</b><br><br>Country/Region=Ecuador<br>ObservationDate=%{x}<br>Confirmed=%{y}\", \"hovertext\": [\"Ecuador\", \"Ecuador\", \"Ecuador\", \"Ecuador\", \"Ecuador\", \"Ecuador\", \"Ecuador\"], \"legendgroup\": \"Country/Region=Ecuador\", \"line\": {\"color\": \"#636efa\", \"dash\": \"solid\"}, \"mode\": \"lines\", \"name\": \"Country/Region=Ecuador\", \"showlegend\": true, \"type\": \"scattergl\", \"x\": [\"01/03\", \"02/03\", \"03/03\", \"04/03\", \"05/03\", \"06/03\", \"07/03\"], \"xaxis\": \"x\", \"y\": [6, 6, 7, 10, 13, 13, 13], \"yaxis\": \"y\"}, {\"hoverlabel\": {\"namelength\": 0}, \"hovertemplate\": \"<b>%{hovertext}</b><br><br>Country/Region=Morocco<br>ObservationDate=%{x}<br>Confirmed=%{y}\", \"hovertext\": [\"Morocco\", \"Morocco\", \"Morocco\", \"Morocco\", \"Morocco\", \"Morocco\"], \"legendgroup\": \"Country/Region=Morocco\", \"line\": {\"color\": \"#EF553B\", \"dash\": \"solid\"}, \"mode\": \"lines\", \"name\": \"Country/Region=Morocco\", \"showlegend\": true, \"type\": \"scattergl\", \"x\": [\"02/03\", \"03/03\", \"04/03\", \"05/03\", \"06/03\", \"07/03\"], \"xaxis\": \"x\", \"y\": [1, 1, 1, 2, 2, 2], \"yaxis\": \"y\"}, {\"hoverlabel\": {\"namelength\": 0}, \"hovertemplate\": \"<b>%{hovertext}</b><br><br>Country/Region=Portugal<br>ObservationDate=%{x}<br>Confirmed=%{y}\", \"hovertext\": [\"Portugal\", \"Portugal\", \"Portugal\", \"Portugal\", \"Portugal\", \"Portugal\"], \"legendgroup\": \"Country/Region=Portugal\", \"line\": {\"color\": \"#00cc96\", \"dash\": \"solid\"}, \"mode\": \"lines\", \"name\": \"Country/Region=Portugal\", \"showlegend\": true, \"type\": \"scattergl\", \"x\": [\"02/03\", \"03/03\", \"04/03\", \"05/03\", \"06/03\", \"07/03\"], \"xaxis\": \"x\", \"y\": [2, 2, 5, 8, 13, 20], \"yaxis\": \"y\"}, {\"hoverlabel\": {\"namelength\": 0}, \"hovertemplate\": \"<b>%{hovertext}</b><br><br>Country/Region=Senegal<br>ObservationDate=%{x}<br>Confirmed=%{y}\", \"hovertext\": [\"Senegal\", \"Senegal\", \"Senegal\", \"Senegal\", \"Senegal\", \"Senegal\"], \"legendgroup\": \"Country/Region=Senegal\", \"line\": {\"color\": \"#ab63fa\", \"dash\": \"solid\"}, \"mode\": \"lines\", \"name\": \"Country/Region=Senegal\", \"showlegend\": true, \"type\": \"scattergl\", \"x\": [\"02/03\", \"03/03\", \"04/03\", \"05/03\", \"06/03\", \"07/03\"], \"xaxis\": \"x\", \"y\": [1, 2, 4, 4, 4, 4], \"yaxis\": \"y\"}, {\"hoverlabel\": {\"namelength\": 0}, \"hovertemplate\": \"<b>%{hovertext}</b><br><br>Country/Region=Saudi Arabia<br>ObservationDate=%{x}<br>Confirmed=%{y}\", \"hovertext\": [\"Saudi Arabia\", \"Saudi Arabia\", \"Saudi Arabia\", \"Saudi Arabia\", \"Saudi Arabia\", \"Saudi Arabia\"], \"legendgroup\": \"Country/Region=Saudi Arabia\", \"line\": {\"color\": \"#FFA15A\", \"dash\": \"solid\"}, \"mode\": \"lines\", \"name\": \"Country/Region=Saudi Arabia\", \"showlegend\": true, \"type\": \"scattergl\", \"x\": [\"02/03\", \"03/03\", \"04/03\", \"05/03\", \"06/03\", \"07/03\"], \"xaxis\": \"x\", \"y\": [1, 1, 1, 5, 5, 5], \"yaxis\": \"y\"}, {\"hoverlabel\": {\"namelength\": 0}, \"hovertemplate\": \"<b>%{hovertext}</b><br><br>Country/Region=Latvia<br>ObservationDate=%{x}<br>Confirmed=%{y}\", \"hovertext\": [\"Latvia\", \"Latvia\", \"Latvia\", \"Latvia\", \"Latvia\", \"Latvia\"], \"legendgroup\": \"Country/Region=Latvia\", \"line\": {\"color\": \"#19d3f3\", \"dash\": \"solid\"}, \"mode\": \"lines\", \"name\": \"Country/Region=Latvia\", \"showlegend\": true, \"type\": \"scattergl\", \"x\": [\"02/03\", \"03/03\", \"04/03\", \"05/03\", \"06/03\", \"07/03\"], \"xaxis\": \"x\", \"y\": [1, 1, 1, 1, 1, 1], \"yaxis\": \"y\"}, {\"hoverlabel\": {\"namelength\": 0}, \"hovertemplate\": \"<b>%{hovertext}</b><br><br>Country/Region=Andorra<br>ObservationDate=%{x}<br>Confirmed=%{y}\", \"hovertext\": [\"Andorra\", \"Andorra\", \"Andorra\", \"Andorra\", \"Andorra\", \"Andorra\"], \"legendgroup\": \"Country/Region=Andorra\", \"line\": {\"color\": \"#FF6692\", \"dash\": \"solid\"}, \"mode\": \"lines\", \"name\": \"Country/Region=Andorra\", \"showlegend\": true, \"type\": \"scattergl\", \"x\": [\"02/03\", \"03/03\", \"04/03\", \"05/03\", \"06/03\", \"07/03\"], \"xaxis\": \"x\", \"y\": [1, 1, 1, 1, 1, 1], \"yaxis\": \"y\"}, {\"hoverlabel\": {\"namelength\": 0}, \"hovertemplate\": \"<b>%{hovertext}</b><br><br>Country/Region=Indonesia<br>ObservationDate=%{x}<br>Confirmed=%{y}\", \"hovertext\": [\"Indonesia\", \"Indonesia\", \"Indonesia\", \"Indonesia\", \"Indonesia\", \"Indonesia\"], \"legendgroup\": \"Country/Region=Indonesia\", \"line\": {\"color\": \"#B6E880\", \"dash\": \"solid\"}, \"mode\": \"lines\", \"name\": \"Country/Region=Indonesia\", \"showlegend\": true, \"type\": \"scattergl\", \"x\": [\"02/03\", \"03/03\", \"04/03\", \"05/03\", \"06/03\", \"07/03\"], \"xaxis\": \"x\", \"y\": [2, 2, 2, 2, 4, 4], \"yaxis\": \"y\"}, {\"hoverlabel\": {\"namelength\": 0}, \"hovertemplate\": \"<b>%{hovertext}</b><br><br>Country/Region=Ukraine<br>ObservationDate=%{x}<br>Confirmed=%{y}\", \"hovertext\": [\"Ukraine\", \"Ukraine\", \"Ukraine\", \"Ukraine\", \"Ukraine\"], \"legendgroup\": \"Country/Region=Ukraine\", \"line\": {\"color\": \"#FF97FF\", \"dash\": \"solid\"}, \"mode\": \"lines\", \"name\": \"Country/Region=Ukraine\", \"showlegend\": true, \"type\": \"scattergl\", \"x\": [\"03/03\", \"04/03\", \"05/03\", \"06/03\", \"07/03\"], \"xaxis\": \"x\", \"y\": [1, 1, 1, 1, 1], \"yaxis\": \"y\"}, {\"hoverlabel\": {\"namelength\": 0}, \"hovertemplate\": \"<b>%{hovertext}</b><br><br>Country/Region=Chile<br>ObservationDate=%{x}<br>Confirmed=%{y}\", \"hovertext\": [\"Chile\", \"Chile\", \"Chile\", \"Chile\", \"Chile\"], \"legendgroup\": \"Country/Region=Chile\", \"line\": {\"color\": \"#FECB52\", \"dash\": \"solid\"}, \"mode\": \"lines\", \"name\": \"Country/Region=Chile\", \"showlegend\": true, \"type\": \"scattergl\", \"x\": [\"03/03\", \"04/03\", \"05/03\", \"06/03\", \"07/03\"], \"xaxis\": \"x\", \"y\": [1, 1, 4, 4, 4], \"yaxis\": \"y\"}, {\"hoverlabel\": {\"namelength\": 0}, \"hovertemplate\": \"<b>%{hovertext}</b><br><br>Country/Region=Argentina<br>ObservationDate=%{x}<br>Confirmed=%{y}\", \"hovertext\": [\"Argentina\", \"Argentina\", \"Argentina\", \"Argentina\", \"Argentina\"], \"legendgroup\": \"Country/Region=Argentina\", \"line\": {\"color\": \"#636efa\", \"dash\": \"solid\"}, \"mode\": \"lines\", \"name\": \"Country/Region=Argentina\", \"showlegend\": true, \"type\": \"scattergl\", \"x\": [\"03/03\", \"04/03\", \"05/03\", \"06/03\", \"07/03\"], \"xaxis\": \"x\", \"y\": [1, 1, 1, 2, 8], \"yaxis\": \"y\"}, {\"hoverlabel\": {\"namelength\": 0}, \"hovertemplate\": \"<b>%{hovertext}</b><br><br>Country/Region=Jordan<br>ObservationDate=%{x}<br>Confirmed=%{y}\", \"hovertext\": [\"Jordan\", \"Jordan\", \"Jordan\", \"Jordan\", \"Jordan\"], \"legendgroup\": \"Country/Region=Jordan\", \"line\": {\"color\": \"#EF553B\", \"dash\": \"solid\"}, \"mode\": \"lines\", \"name\": \"Country/Region=Jordan\", \"showlegend\": true, \"type\": \"scattergl\", \"x\": [\"03/03\", \"04/03\", \"05/03\", \"06/03\", \"07/03\"], \"xaxis\": \"x\", \"y\": [1, 1, 1, 1, 1], \"yaxis\": \"y\"}, {\"hoverlabel\": {\"namelength\": 0}, \"hovertemplate\": \"<b>%{hovertext}</b><br><br>Country/Region=Poland<br>ObservationDate=%{x}<br>Confirmed=%{y}\", \"hovertext\": [\"Poland\", \"Poland\", \"Poland\", \"Poland\"], \"legendgroup\": \"Country/Region=Poland\", \"line\": {\"color\": \"#00cc96\", \"dash\": \"solid\"}, \"mode\": \"lines\", \"name\": \"Country/Region=Poland\", \"showlegend\": true, \"type\": \"scattergl\", \"x\": [\"04/03\", \"05/03\", \"06/03\", \"07/03\"], \"xaxis\": \"x\", \"y\": [1, 1, 5, 5], \"yaxis\": \"y\"}, {\"hoverlabel\": {\"namelength\": 0}, \"hovertemplate\": \"<b>%{hovertext}</b><br><br>Country/Region=Liechtenstein<br>ObservationDate=%{x}<br>Confirmed=%{y}\", \"hovertext\": [\"Liechtenstein\", \"Liechtenstein\", \"Liechtenstein\", \"Liechtenstein\"], \"legendgroup\": \"Country/Region=Liechtenstein\", \"line\": {\"color\": \"#ab63fa\", \"dash\": \"solid\"}, \"mode\": \"lines\", \"name\": \"Country/Region=Liechtenstein\", \"showlegend\": true, \"type\": \"scattergl\", \"x\": [\"04/03\", \"05/03\", \"06/03\", \"07/03\"], \"xaxis\": \"x\", \"y\": [1, 1, 1, 1], \"yaxis\": \"y\"}, {\"hoverlabel\": {\"namelength\": 0}, \"hovertemplate\": \"<b>%{hovertext}</b><br><br>Country/Region=Tunisia<br>ObservationDate=%{x}<br>Confirmed=%{y}\", \"hovertext\": [\"Tunisia\", \"Tunisia\", \"Tunisia\", \"Tunisia\"], \"legendgroup\": \"Country/Region=Tunisia\", \"line\": {\"color\": \"#FFA15A\", \"dash\": \"solid\"}, \"mode\": \"lines\", \"name\": \"Country/Region=Tunisia\", \"showlegend\": true, \"type\": \"scattergl\", \"x\": [\"04/03\", \"05/03\", \"06/03\", \"07/03\"], \"xaxis\": \"x\", \"y\": [1, 1, 1, 1], \"yaxis\": \"y\"}, {\"hoverlabel\": {\"namelength\": 0}, \"hovertemplate\": \"<b>%{hovertext}</b><br><br>Country/Region=Saint Barthelemy<br>ObservationDate=%{x}<br>Confirmed=%{y}\", \"hovertext\": [\"Saint Barthelemy\", \"Saint Barthelemy\", \"Saint Barthelemy\", \"Saint Barthelemy\"], \"legendgroup\": \"Country/Region=Saint Barthelemy\", \"line\": {\"color\": \"#19d3f3\", \"dash\": \"solid\"}, \"mode\": \"lines\", \"name\": \"Country/Region=Saint Barthelemy\", \"showlegend\": true, \"type\": \"scattergl\", \"x\": [\"04/03\", \"05/03\", \"06/03\", \"07/03\"], \"xaxis\": \"x\", \"y\": [3, 3, 3, 3], \"yaxis\": \"y\"}, {\"hoverlabel\": {\"namelength\": 0}, \"hovertemplate\": \"<b>%{hovertext}</b><br><br>Country/Region=Faroe Islands<br>ObservationDate=%{x}<br>Confirmed=%{y}\", \"hovertext\": [\"Faroe Islands\", \"Faroe Islands\", \"Faroe Islands\", \"Faroe Islands\"], \"legendgroup\": \"Country/Region=Faroe Islands\", \"line\": {\"color\": \"#FF6692\", \"dash\": \"solid\"}, \"mode\": \"lines\", \"name\": \"Country/Region=Faroe Islands\", \"showlegend\": true, \"type\": \"scattergl\", \"x\": [\"04/03\", \"05/03\", \"06/03\", \"07/03\"], \"xaxis\": \"x\", \"y\": [1, 1, 1, 1], \"yaxis\": \"y\"}, {\"hoverlabel\": {\"namelength\": 0}, \"hovertemplate\": \"<b>%{hovertext}</b><br><br>Country/Region=Hungary<br>ObservationDate=%{x}<br>Confirmed=%{y}\", \"hovertext\": [\"Hungary\", \"Hungary\", \"Hungary\", \"Hungary\"], \"legendgroup\": \"Country/Region=Hungary\", \"line\": {\"color\": \"#B6E880\", \"dash\": \"solid\"}, \"mode\": \"lines\", \"name\": \"Country/Region=Hungary\", \"showlegend\": true, \"type\": \"scattergl\", \"x\": [\"04/03\", \"05/03\", \"06/03\", \"07/03\"], \"xaxis\": \"x\", \"y\": [2, 2, 2, 4], \"yaxis\": \"y\"}, {\"hoverlabel\": {\"namelength\": 0}, \"hovertemplate\": \"<b>%{hovertext}</b><br><br>Country/Region=Gibraltar<br>ObservationDate=%{x}<br>Confirmed=%{y}\", \"hovertext\": [\"Gibraltar\", \"Gibraltar\", \"Gibraltar\", \"Gibraltar\"], \"legendgroup\": \"Country/Region=Gibraltar\", \"line\": {\"color\": \"#FF97FF\", \"dash\": \"solid\"}, \"mode\": \"lines\", \"name\": \"Country/Region=Gibraltar\", \"showlegend\": true, \"type\": \"scattergl\", \"x\": [\"04/03\", \"05/03\", \"06/03\", \"07/03\"], \"xaxis\": \"x\", \"y\": [1, 1, 1, 1], \"yaxis\": \"y\"}, {\"hoverlabel\": {\"namelength\": 0}, \"hovertemplate\": \"<b>%{hovertext}</b><br><br>Country/Region=Palestine<br>ObservationDate=%{x}<br>Confirmed=%{y}\", \"hovertext\": [\"Palestine\", \"Palestine\", \"Palestine\"], \"legendgroup\": \"Country/Region=Palestine\", \"line\": {\"color\": \"#FECB52\", \"dash\": \"solid\"}, \"mode\": \"lines\", \"name\": \"Country/Region=Palestine\", \"showlegend\": true, \"type\": \"scattergl\", \"x\": [\"05/03\", \"06/03\", \"07/03\"], \"xaxis\": \"x\", \"y\": [4, 16, 22], \"yaxis\": \"y\"}, {\"hoverlabel\": {\"namelength\": 0}, \"hovertemplate\": \"<b>%{hovertext}</b><br><br>Country/Region=South Africa<br>ObservationDate=%{x}<br>Confirmed=%{y}\", \"hovertext\": [\"South Africa\", \"South Africa\", \"South Africa\"], \"legendgroup\": \"Country/Region=South Africa\", \"line\": {\"color\": \"#636efa\", \"dash\": \"solid\"}, \"mode\": \"lines\", \"name\": \"Country/Region=South Africa\", \"showlegend\": true, \"type\": \"scattergl\", \"x\": [\"05/03\", \"06/03\", \"07/03\"], \"xaxis\": \"x\", \"y\": [1, 1, 1], \"yaxis\": \"y\"}, {\"hoverlabel\": {\"namelength\": 0}, \"hovertemplate\": \"<b>%{hovertext}</b><br><br>Country/Region=Slovenia<br>ObservationDate=%{x}<br>Confirmed=%{y}\", \"hovertext\": [\"Slovenia\", \"Slovenia\", \"Slovenia\"], \"legendgroup\": \"Country/Region=Slovenia\", \"line\": {\"color\": \"#EF553B\", \"dash\": \"solid\"}, \"mode\": \"lines\", \"name\": \"Country/Region=Slovenia\", \"showlegend\": true, \"type\": \"scattergl\", \"x\": [\"05/03\", \"06/03\", \"07/03\"], \"xaxis\": \"x\", \"y\": [2, 7, 7], \"yaxis\": \"y\"}, {\"hoverlabel\": {\"namelength\": 0}, \"hovertemplate\": \"<b>%{hovertext}</b><br><br>Country/Region=Bosnia and Herzegovina<br>ObservationDate=%{x}<br>Confirmed=%{y}\", \"hovertext\": [\"Bosnia and Herzegovina\", \"Bosnia and Herzegovina\", \"Bosnia and Herzegovina\"], \"legendgroup\": \"Country/Region=Bosnia and Herzegovina\", \"line\": {\"color\": \"#00cc96\", \"dash\": \"solid\"}, \"mode\": \"lines\", \"name\": \"Country/Region=Bosnia and Herzegovina\", \"showlegend\": true, \"type\": \"scattergl\", \"x\": [\"05/03\", \"06/03\", \"07/03\"], \"xaxis\": \"x\", \"y\": [2, 2, 3], \"yaxis\": \"y\"}, {\"hoverlabel\": {\"namelength\": 0}, \"hovertemplate\": \"<b>%{hovertext}</b><br><br>Country/Region=Peru<br>ObservationDate=%{x}<br>Confirmed=%{y}\", \"hovertext\": [\"Peru\", \"Peru\"], \"legendgroup\": \"Country/Region=Peru\", \"line\": {\"color\": \"#ab63fa\", \"dash\": \"solid\"}, \"mode\": \"lines\", \"name\": \"Country/Region=Peru\", \"showlegend\": true, \"type\": \"scattergl\", \"x\": [\"06/03\", \"07/03\"], \"xaxis\": \"x\", \"y\": [1, 1], \"yaxis\": \"y\"}, {\"hoverlabel\": {\"namelength\": 0}, \"hovertemplate\": \"<b>%{hovertext}</b><br><br>Country/Region=Vatican City<br>ObservationDate=%{x}<br>Confirmed=%{y}\", \"hovertext\": [\"Vatican City\", \"Vatican City\"], \"legendgroup\": \"Country/Region=Vatican City\", \"line\": {\"color\": \"#FFA15A\", \"dash\": \"solid\"}, \"mode\": \"lines\", \"name\": \"Country/Region=Vatican City\", \"showlegend\": true, \"type\": \"scattergl\", \"x\": [\"06/03\", \"07/03\"], \"xaxis\": \"x\", \"y\": [1, 1], \"yaxis\": \"y\"}, {\"hoverlabel\": {\"namelength\": 0}, \"hovertemplate\": \"<b>%{hovertext}</b><br><br>Country/Region=Togo<br>ObservationDate=%{x}<br>Confirmed=%{y}\", \"hovertext\": [\"Togo\", \"Togo\"], \"legendgroup\": \"Country/Region=Togo\", \"line\": {\"color\": \"#19d3f3\", \"dash\": \"solid\"}, \"mode\": \"lines\", \"name\": \"Country/Region=Togo\", \"showlegend\": true, \"type\": \"scattergl\", \"x\": [\"06/03\", \"07/03\"], \"xaxis\": \"x\", \"y\": [1, 1], \"yaxis\": \"y\"}, {\"hoverlabel\": {\"namelength\": 0}, \"hovertemplate\": \"<b>%{hovertext}</b><br><br>Country/Region=Slovakia<br>ObservationDate=%{x}<br>Confirmed=%{y}\", \"hovertext\": [\"Slovakia\", \"Slovakia\"], \"legendgroup\": \"Country/Region=Slovakia\", \"line\": {\"color\": \"#FF6692\", \"dash\": \"solid\"}, \"mode\": \"lines\", \"name\": \"Country/Region=Slovakia\", \"showlegend\": true, \"type\": \"scattergl\", \"x\": [\"06/03\", \"07/03\"], \"xaxis\": \"x\", \"y\": [1, 1], \"yaxis\": \"y\"}, {\"hoverlabel\": {\"namelength\": 0}, \"hovertemplate\": \"<b>%{hovertext}</b><br><br>Country/Region=Serbia<br>ObservationDate=%{x}<br>Confirmed=%{y}\", \"hovertext\": [\"Serbia\", \"Serbia\"], \"legendgroup\": \"Country/Region=Serbia\", \"line\": {\"color\": \"#B6E880\", \"dash\": \"solid\"}, \"mode\": \"lines\", \"name\": \"Country/Region=Serbia\", \"showlegend\": true, \"type\": \"scattergl\", \"x\": [\"06/03\", \"07/03\"], \"xaxis\": \"x\", \"y\": [1, 1], \"yaxis\": \"y\"}, {\"hoverlabel\": {\"namelength\": 0}, \"hovertemplate\": \"<b>%{hovertext}</b><br><br>Country/Region=Costa Rica<br>ObservationDate=%{x}<br>Confirmed=%{y}\", \"hovertext\": [\"Costa Rica\", \"Costa Rica\"], \"legendgroup\": \"Country/Region=Costa Rica\", \"line\": {\"color\": \"#FF97FF\", \"dash\": \"solid\"}, \"mode\": \"lines\", \"name\": \"Country/Region=Costa Rica\", \"showlegend\": true, \"type\": \"scattergl\", \"x\": [\"06/03\", \"07/03\"], \"xaxis\": \"x\", \"y\": [1, 1], \"yaxis\": \"y\"}, {\"hoverlabel\": {\"namelength\": 0}, \"hovertemplate\": \"<b>%{hovertext}</b><br><br>Country/Region=Cameroon<br>ObservationDate=%{x}<br>Confirmed=%{y}\", \"hovertext\": [\"Cameroon\", \"Cameroon\"], \"legendgroup\": \"Country/Region=Cameroon\", \"line\": {\"color\": \"#FECB52\", \"dash\": \"solid\"}, \"mode\": \"lines\", \"name\": \"Country/Region=Cameroon\", \"showlegend\": true, \"type\": \"scattergl\", \"x\": [\"06/03\", \"07/03\"], \"xaxis\": \"x\", \"y\": [1, 1], \"yaxis\": \"y\"}, {\"hoverlabel\": {\"namelength\": 0}, \"hovertemplate\": \"<b>%{hovertext}</b><br><br>Country/Region=Bhutan<br>ObservationDate=%{x}<br>Confirmed=%{y}\", \"hovertext\": [\"Bhutan\", \"Bhutan\"], \"legendgroup\": \"Country/Region=Bhutan\", \"line\": {\"color\": \"#636efa\", \"dash\": \"solid\"}, \"mode\": \"lines\", \"name\": \"Country/Region=Bhutan\", \"showlegend\": true, \"type\": \"scattergl\", \"x\": [\"06/03\", \"07/03\"], \"xaxis\": \"x\", \"y\": [1, 1], \"yaxis\": \"y\"}, {\"hoverlabel\": {\"namelength\": 0}, \"hovertemplate\": \"<b>%{hovertext}</b><br><br>Country/Region=Martinique<br>ObservationDate=%{x}<br>Confirmed=%{y}\", \"hovertext\": [\"Martinique\"], \"legendgroup\": \"Country/Region=Martinique\", \"line\": {\"color\": \"#EF553B\", \"dash\": \"solid\"}, \"mode\": \"lines\", \"name\": \"Country/Region=Martinique\", \"showlegend\": true, \"type\": \"scattergl\", \"x\": [\"07/03\"], \"xaxis\": \"x\", \"y\": [2], \"yaxis\": \"y\"}, {\"hoverlabel\": {\"namelength\": 0}, \"hovertemplate\": \"<b>%{hovertext}</b><br><br>Country/Region=Malta<br>ObservationDate=%{x}<br>Confirmed=%{y}\", \"hovertext\": [\"Malta\"], \"legendgroup\": \"Country/Region=Malta\", \"line\": {\"color\": \"#00cc96\", \"dash\": \"solid\"}, \"mode\": \"lines\", \"name\": \"Country/Region=Malta\", \"showlegend\": true, \"type\": \"scattergl\", \"x\": [\"07/03\"], \"xaxis\": \"x\", \"y\": [3], \"yaxis\": \"y\"}, {\"hoverlabel\": {\"namelength\": 0}, \"hovertemplate\": \"<b>%{hovertext}</b><br><br>Country/Region=French Guiana<br>ObservationDate=%{x}<br>Confirmed=%{y}\", \"hovertext\": [\"French Guiana\"], \"legendgroup\": \"Country/Region=French Guiana\", \"line\": {\"color\": \"#ab63fa\", \"dash\": \"solid\"}, \"mode\": \"lines\", \"name\": \"Country/Region=French Guiana\", \"showlegend\": true, \"type\": \"scattergl\", \"x\": [\"07/03\"], \"xaxis\": \"x\", \"y\": [5], \"yaxis\": \"y\"}],\n",
       "                        {\"legend\": {\"tracegroupgap\": 0}, \"margin\": {\"t\": 60}, \"template\": {\"data\": {\"bar\": [{\"error_x\": {\"color\": \"#f2f5fa\"}, \"error_y\": {\"color\": \"#f2f5fa\"}, \"marker\": {\"line\": {\"color\": \"rgb(17,17,17)\", \"width\": 0.5}}, \"type\": \"bar\"}], \"barpolar\": [{\"marker\": {\"line\": {\"color\": \"rgb(17,17,17)\", \"width\": 0.5}}, \"type\": \"barpolar\"}], \"carpet\": [{\"aaxis\": {\"endlinecolor\": \"#A2B1C6\", \"gridcolor\": \"#506784\", \"linecolor\": \"#506784\", \"minorgridcolor\": \"#506784\", \"startlinecolor\": \"#A2B1C6\"}, \"baxis\": {\"endlinecolor\": \"#A2B1C6\", \"gridcolor\": \"#506784\", \"linecolor\": \"#506784\", \"minorgridcolor\": \"#506784\", \"startlinecolor\": \"#A2B1C6\"}, \"type\": \"carpet\"}], \"choropleth\": [{\"colorbar\": {\"outlinewidth\": 0, \"ticks\": \"\"}, \"type\": \"choropleth\"}], \"contour\": [{\"colorbar\": {\"outlinewidth\": 0, \"ticks\": \"\"}, \"colorscale\": [[0.0, \"#0d0887\"], [0.1111111111111111, \"#46039f\"], [0.2222222222222222, \"#7201a8\"], [0.3333333333333333, \"#9c179e\"], [0.4444444444444444, \"#bd3786\"], [0.5555555555555556, \"#d8576b\"], [0.6666666666666666, \"#ed7953\"], [0.7777777777777778, \"#fb9f3a\"], [0.8888888888888888, \"#fdca26\"], [1.0, \"#f0f921\"]], \"type\": \"contour\"}], \"contourcarpet\": [{\"colorbar\": {\"outlinewidth\": 0, \"ticks\": \"\"}, \"type\": \"contourcarpet\"}], \"heatmap\": [{\"colorbar\": {\"outlinewidth\": 0, \"ticks\": \"\"}, \"colorscale\": [[0.0, \"#0d0887\"], [0.1111111111111111, \"#46039f\"], [0.2222222222222222, \"#7201a8\"], [0.3333333333333333, \"#9c179e\"], [0.4444444444444444, \"#bd3786\"], [0.5555555555555556, \"#d8576b\"], [0.6666666666666666, \"#ed7953\"], [0.7777777777777778, \"#fb9f3a\"], [0.8888888888888888, \"#fdca26\"], [1.0, \"#f0f921\"]], \"type\": \"heatmap\"}], \"heatmapgl\": [{\"colorbar\": {\"outlinewidth\": 0, \"ticks\": \"\"}, \"colorscale\": [[0.0, \"#0d0887\"], [0.1111111111111111, \"#46039f\"], [0.2222222222222222, \"#7201a8\"], [0.3333333333333333, \"#9c179e\"], [0.4444444444444444, \"#bd3786\"], [0.5555555555555556, \"#d8576b\"], [0.6666666666666666, \"#ed7953\"], [0.7777777777777778, \"#fb9f3a\"], [0.8888888888888888, \"#fdca26\"], [1.0, \"#f0f921\"]], \"type\": \"heatmapgl\"}], \"histogram\": [{\"marker\": {\"colorbar\": {\"outlinewidth\": 0, \"ticks\": \"\"}}, \"type\": \"histogram\"}], \"histogram2d\": [{\"colorbar\": {\"outlinewidth\": 0, \"ticks\": \"\"}, \"colorscale\": [[0.0, \"#0d0887\"], [0.1111111111111111, \"#46039f\"], [0.2222222222222222, \"#7201a8\"], [0.3333333333333333, \"#9c179e\"], [0.4444444444444444, \"#bd3786\"], [0.5555555555555556, \"#d8576b\"], [0.6666666666666666, \"#ed7953\"], [0.7777777777777778, \"#fb9f3a\"], [0.8888888888888888, \"#fdca26\"], [1.0, \"#f0f921\"]], \"type\": \"histogram2d\"}], \"histogram2dcontour\": [{\"colorbar\": {\"outlinewidth\": 0, \"ticks\": \"\"}, \"colorscale\": [[0.0, \"#0d0887\"], [0.1111111111111111, \"#46039f\"], [0.2222222222222222, \"#7201a8\"], [0.3333333333333333, \"#9c179e\"], [0.4444444444444444, \"#bd3786\"], [0.5555555555555556, \"#d8576b\"], [0.6666666666666666, \"#ed7953\"], [0.7777777777777778, \"#fb9f3a\"], [0.8888888888888888, \"#fdca26\"], [1.0, \"#f0f921\"]], \"type\": \"histogram2dcontour\"}], \"mesh3d\": [{\"colorbar\": {\"outlinewidth\": 0, \"ticks\": \"\"}, \"type\": \"mesh3d\"}], \"parcoords\": [{\"line\": {\"colorbar\": {\"outlinewidth\": 0, \"ticks\": \"\"}}, \"type\": \"parcoords\"}], \"pie\": [{\"automargin\": true, \"type\": \"pie\"}], \"scatter\": [{\"marker\": {\"line\": {\"color\": \"#283442\"}}, \"type\": \"scatter\"}], \"scatter3d\": [{\"line\": {\"colorbar\": {\"outlinewidth\": 0, \"ticks\": \"\"}}, \"marker\": {\"colorbar\": {\"outlinewidth\": 0, \"ticks\": \"\"}}, \"type\": \"scatter3d\"}], \"scattercarpet\": [{\"marker\": {\"colorbar\": {\"outlinewidth\": 0, \"ticks\": \"\"}}, \"type\": \"scattercarpet\"}], \"scattergeo\": [{\"marker\": {\"colorbar\": {\"outlinewidth\": 0, \"ticks\": \"\"}}, \"type\": \"scattergeo\"}], \"scattergl\": [{\"marker\": {\"line\": {\"color\": \"#283442\"}}, \"type\": \"scattergl\"}], \"scattermapbox\": [{\"marker\": {\"colorbar\": {\"outlinewidth\": 0, \"ticks\": \"\"}}, \"type\": \"scattermapbox\"}], \"scatterpolar\": [{\"marker\": {\"colorbar\": {\"outlinewidth\": 0, \"ticks\": \"\"}}, \"type\": \"scatterpolar\"}], \"scatterpolargl\": [{\"marker\": {\"colorbar\": {\"outlinewidth\": 0, \"ticks\": \"\"}}, \"type\": \"scatterpolargl\"}], \"scatterternary\": [{\"marker\": {\"colorbar\": {\"outlinewidth\": 0, \"ticks\": \"\"}}, \"type\": \"scatterternary\"}], \"surface\": [{\"colorbar\": {\"outlinewidth\": 0, \"ticks\": \"\"}, \"colorscale\": [[0.0, \"#0d0887\"], [0.1111111111111111, \"#46039f\"], [0.2222222222222222, \"#7201a8\"], [0.3333333333333333, \"#9c179e\"], [0.4444444444444444, \"#bd3786\"], [0.5555555555555556, \"#d8576b\"], [0.6666666666666666, \"#ed7953\"], [0.7777777777777778, \"#fb9f3a\"], [0.8888888888888888, \"#fdca26\"], [1.0, \"#f0f921\"]], \"type\": \"surface\"}], \"table\": [{\"cells\": {\"fill\": {\"color\": \"#506784\"}, \"line\": {\"color\": \"rgb(17,17,17)\"}}, \"header\": {\"fill\": {\"color\": \"#2a3f5f\"}, \"line\": {\"color\": \"rgb(17,17,17)\"}}, \"type\": \"table\"}]}, \"layout\": {\"annotationdefaults\": {\"arrowcolor\": \"#f2f5fa\", \"arrowhead\": 0, \"arrowwidth\": 1}, \"coloraxis\": {\"colorbar\": {\"outlinewidth\": 0, \"ticks\": \"\"}}, \"colorscale\": {\"diverging\": [[0, \"#8e0152\"], [0.1, \"#c51b7d\"], [0.2, \"#de77ae\"], [0.3, \"#f1b6da\"], [0.4, \"#fde0ef\"], [0.5, \"#f7f7f7\"], [0.6, \"#e6f5d0\"], [0.7, \"#b8e186\"], [0.8, \"#7fbc41\"], [0.9, \"#4d9221\"], [1, \"#276419\"]], \"sequential\": [[0.0, \"#0d0887\"], [0.1111111111111111, \"#46039f\"], [0.2222222222222222, \"#7201a8\"], [0.3333333333333333, \"#9c179e\"], [0.4444444444444444, \"#bd3786\"], [0.5555555555555556, \"#d8576b\"], [0.6666666666666666, \"#ed7953\"], [0.7777777777777778, \"#fb9f3a\"], [0.8888888888888888, \"#fdca26\"], [1.0, \"#f0f921\"]], \"sequentialminus\": [[0.0, \"#0d0887\"], [0.1111111111111111, \"#46039f\"], [0.2222222222222222, \"#7201a8\"], [0.3333333333333333, \"#9c179e\"], [0.4444444444444444, \"#bd3786\"], [0.5555555555555556, \"#d8576b\"], [0.6666666666666666, \"#ed7953\"], [0.7777777777777778, \"#fb9f3a\"], [0.8888888888888888, \"#fdca26\"], [1.0, \"#f0f921\"]]}, \"colorway\": [\"#636efa\", \"#EF553B\", \"#00cc96\", \"#ab63fa\", \"#FFA15A\", \"#19d3f3\", \"#FF6692\", \"#B6E880\", \"#FF97FF\", \"#FECB52\"], \"font\": {\"color\": \"#f2f5fa\"}, \"geo\": {\"bgcolor\": \"rgb(17,17,17)\", \"lakecolor\": \"rgb(17,17,17)\", \"landcolor\": \"rgb(17,17,17)\", \"showlakes\": true, \"showland\": true, \"subunitcolor\": \"#506784\"}, \"hoverlabel\": {\"align\": \"left\"}, \"hovermode\": \"closest\", \"mapbox\": {\"style\": \"dark\"}, \"paper_bgcolor\": \"rgb(17,17,17)\", \"plot_bgcolor\": \"rgb(17,17,17)\", \"polar\": {\"angularaxis\": {\"gridcolor\": \"#506784\", \"linecolor\": \"#506784\", \"ticks\": \"\"}, \"bgcolor\": \"rgb(17,17,17)\", \"radialaxis\": {\"gridcolor\": \"#506784\", \"linecolor\": \"#506784\", \"ticks\": \"\"}}, \"scene\": {\"xaxis\": {\"backgroundcolor\": \"rgb(17,17,17)\", \"gridcolor\": \"#506784\", \"gridwidth\": 2, \"linecolor\": \"#506784\", \"showbackground\": true, \"ticks\": \"\", \"zerolinecolor\": \"#C8D4E3\"}, \"yaxis\": {\"backgroundcolor\": \"rgb(17,17,17)\", \"gridcolor\": \"#506784\", \"gridwidth\": 2, \"linecolor\": \"#506784\", \"showbackground\": true, \"ticks\": \"\", \"zerolinecolor\": \"#C8D4E3\"}, \"zaxis\": {\"backgroundcolor\": \"rgb(17,17,17)\", \"gridcolor\": \"#506784\", \"gridwidth\": 2, \"linecolor\": \"#506784\", \"showbackground\": true, \"ticks\": \"\", \"zerolinecolor\": \"#C8D4E3\"}}, \"shapedefaults\": {\"line\": {\"color\": \"#f2f5fa\"}}, \"sliderdefaults\": {\"bgcolor\": \"#C8D4E3\", \"bordercolor\": \"rgb(17,17,17)\", \"borderwidth\": 1, \"tickwidth\": 0}, \"ternary\": {\"aaxis\": {\"gridcolor\": \"#506784\", \"linecolor\": \"#506784\", \"ticks\": \"\"}, \"baxis\": {\"gridcolor\": \"#506784\", \"linecolor\": \"#506784\", \"ticks\": \"\"}, \"bgcolor\": \"rgb(17,17,17)\", \"caxis\": {\"gridcolor\": \"#506784\", \"linecolor\": \"#506784\", \"ticks\": \"\"}}, \"title\": {\"x\": 0.05}, \"updatemenudefaults\": {\"bgcolor\": \"#506784\", \"borderwidth\": 0}, \"xaxis\": {\"automargin\": true, \"gridcolor\": \"#283442\", \"linecolor\": \"#506784\", \"ticks\": \"\", \"title\": {\"standoff\": 15}, \"zerolinecolor\": \"#283442\", \"zerolinewidth\": 2}, \"yaxis\": {\"automargin\": true, \"gridcolor\": \"#283442\", \"linecolor\": \"#506784\", \"ticks\": \"\", \"title\": {\"standoff\": 15}, \"zerolinecolor\": \"#283442\", \"zerolinewidth\": 2}}}, \"title\": {\"text\": \"spreading of COVID-19 outside China\"}, \"xaxis\": {\"anchor\": \"y\", \"domain\": [0.0, 1.0], \"title\": {\"text\": \"ObservationDate\"}}, \"yaxis\": {\"anchor\": \"x\", \"domain\": [0.0, 1.0], \"title\": {\"text\": \"Confirmed\"}}},\n",
       "                        {\"responsive\": true}\n",
       "                    ).then(function(){\n",
       "                            \n",
       "var gd = document.getElementById('fba61177-e7cb-41ec-89c9-c1710a9aa4c9');\n",
       "var x = new MutationObserver(function (mutations, observer) {{\n",
       "        var display = window.getComputedStyle(gd).display;\n",
       "        if (!display || display === 'none') {{\n",
       "            console.log([gd, 'removed!']);\n",
       "            Plotly.purge(gd);\n",
       "            observer.disconnect();\n",
       "        }}\n",
       "}});\n",
       "\n",
       "// Listen for the removal of the full notebook cells\n",
       "var notebookContainer = gd.closest('#notebook-container');\n",
       "if (notebookContainer) {{\n",
       "    x.observe(notebookContainer, {childList: true});\n",
       "}}\n",
       "\n",
       "// Listen for the clearing of the current output cell\n",
       "var outputEl = gd.closest('.output');\n",
       "if (outputEl) {{\n",
       "    x.observe(outputEl, {childList: true});\n",
       "}}\n",
       "\n",
       "                        })\n",
       "                };\n",
       "                });\n",
       "            </script>\n",
       "        </div>"
      ]
     },
     "metadata": {},
     "output_type": "display_data"
    }
   ],
   "source": [
    "fig=go.Figure()\n",
    "x=[i.split('/')[1]+'/'+i.split('/')[0] for i in data.ObservationDate ]\n",
    "data['ObservationDate']=x\n",
    "fig.update_layout(template='plotly_dark')\n",
    "fig = px.line(data, x=\"ObservationDate\", y=\"Confirmed\", color=\"Country/Region\",\n",
    "              line_group=\"Country/Region\", hover_name=\"Country/Region\")\n",
    "fig.update_layout(template='plotly_dark',title_text='spreading of COVID-19 outside China')\n",
    "fig.show()"
   ]
  },
  {
   "cell_type": "markdown",
   "metadata": {},
   "source": [
    "#### Q8. How many new incidents (confirmed/ recovered/ Death) are reported on a daily basis?"
   ]
  },
  {
   "cell_type": "code",
   "execution_count": 286,
   "metadata": {},
   "outputs": [
    {
     "data": {
      "text/html": [
       "<div>\n",
       "<style scoped>\n",
       "    .dataframe tbody tr th:only-of-type {\n",
       "        vertical-align: middle;\n",
       "    }\n",
       "\n",
       "    .dataframe tbody tr th {\n",
       "        vertical-align: top;\n",
       "    }\n",
       "\n",
       "    .dataframe thead th {\n",
       "        text-align: right;\n",
       "    }\n",
       "</style>\n",
       "<table border=\"1\" class=\"dataframe\">\n",
       "  <thead>\n",
       "    <tr style=\"text-align: right;\">\n",
       "      <th></th>\n",
       "      <th>ObservationDate</th>\n",
       "      <th>Confirmed</th>\n",
       "      <th>Deaths</th>\n",
       "      <th>Recovered</th>\n",
       "      <th>New</th>\n",
       "      <th>Newly Confirmed</th>\n",
       "      <th>New Death</th>\n",
       "      <th>New Recovered</th>\n",
       "    </tr>\n",
       "  </thead>\n",
       "  <tbody>\n",
       "    <tr>\n",
       "      <th>0</th>\n",
       "      <td>22/01</td>\n",
       "      <td>555</td>\n",
       "      <td>17</td>\n",
       "      <td>28</td>\n",
       "      <td>555</td>\n",
       "      <td>555</td>\n",
       "      <td>17</td>\n",
       "      <td>28</td>\n",
       "    </tr>\n",
       "    <tr>\n",
       "      <th>1</th>\n",
       "      <td>23/01</td>\n",
       "      <td>653</td>\n",
       "      <td>18</td>\n",
       "      <td>30</td>\n",
       "      <td>98</td>\n",
       "      <td>98</td>\n",
       "      <td>1</td>\n",
       "      <td>2</td>\n",
       "    </tr>\n",
       "    <tr>\n",
       "      <th>2</th>\n",
       "      <td>24/01</td>\n",
       "      <td>941</td>\n",
       "      <td>26</td>\n",
       "      <td>36</td>\n",
       "      <td>288</td>\n",
       "      <td>288</td>\n",
       "      <td>8</td>\n",
       "      <td>6</td>\n",
       "    </tr>\n",
       "    <tr>\n",
       "      <th>3</th>\n",
       "      <td>25/01</td>\n",
       "      <td>1438</td>\n",
       "      <td>42</td>\n",
       "      <td>39</td>\n",
       "      <td>497</td>\n",
       "      <td>497</td>\n",
       "      <td>16</td>\n",
       "      <td>3</td>\n",
       "    </tr>\n",
       "    <tr>\n",
       "      <th>4</th>\n",
       "      <td>26/01</td>\n",
       "      <td>2118</td>\n",
       "      <td>56</td>\n",
       "      <td>52</td>\n",
       "      <td>680</td>\n",
       "      <td>680</td>\n",
       "      <td>14</td>\n",
       "      <td>13</td>\n",
       "    </tr>\n",
       "  </tbody>\n",
       "</table>\n",
       "</div>"
      ],
      "text/plain": [
       "  ObservationDate  Confirmed  Deaths  Recovered  New  Newly Confirmed  \\\n",
       "0           22/01        555      17         28  555              555   \n",
       "1           23/01        653      18         30   98               98   \n",
       "2           24/01        941      26         36  288              288   \n",
       "3           25/01       1438      42         39  497              497   \n",
       "4           26/01       2118      56         52  680              680   \n",
       "\n",
       "   New Death  New Recovered  \n",
       "0         17             28  \n",
       "1          1              2  \n",
       "2          8              6  \n",
       "3         16              3  \n",
       "4         14             13  "
      ]
     },
     "execution_count": 286,
     "metadata": {},
     "output_type": "execute_result"
    }
   ],
   "source": [
    "Newly_reported=[555]\n",
    "New_deaths=[17]\n",
    "New_recovered=[28]\n",
    "covid_confirmed=covid_timeseries.Confirmed\n",
    "covid_death=covid_timeseries.Deaths\n",
    "covid_recovered=covid_timeseries.Recovered\n",
    "for i in range(1,len(covid_confirmed)):\n",
    "    Newly_reported.append(covid_confirmed[i]-covid_confirmed[i-1])\n",
    "    New_deaths.append(covid_death[i]-covid_death[i-1])\n",
    "    New_recovered.append(covid_recovered[i]-covid_recovered[i-1])\n",
    "covid_timeseries['Newly Confirmed']=Newly_reported \n",
    "covid_timeseries['New Death']=New_deaths\n",
    "covid_timeseries['New Recovered']=New_recovered\n",
    "covid_timeseries.head()"
   ]
  },
  {
   "cell_type": "code",
   "execution_count": 288,
   "metadata": {},
   "outputs": [
    {
     "data": {
      "application/vnd.plotly.v1+json": {
       "config": {
        "plotlyServerURL": "https://plot.ly"
       },
       "data": [
        {
         "line": {
          "color": "rgb(102, 102, 255)",
          "width": 2
         },
         "mode": "lines",
         "name": "New Confirmed Incident",
         "type": "scatter",
         "x": [
          "22/01",
          "23/01",
          "24/01",
          "25/01",
          "26/01",
          "27/01",
          "28/01",
          "29/01",
          "30/01",
          "31/01",
          "01/02",
          "02/02",
          "03/02",
          "04/02",
          "05/02",
          "06/02",
          "07/02",
          "08/02",
          "09/02",
          "10/02",
          "11/02",
          "12/02",
          "13/02",
          "14/02",
          "15/02",
          "16/02",
          "17/02",
          "18/02",
          "19/02",
          "20/02",
          "21/02",
          "22/02",
          "23/02",
          "24/02",
          "25/02",
          "26/02",
          "27/02",
          "28/02",
          "29/02",
          "01/03",
          "02/03",
          "03/03",
          "04/03",
          "05/03",
          "06/03",
          "07/03"
         ],
         "y": [
          555,
          98,
          288,
          497,
          680,
          809,
          2651,
          587,
          2070,
          1690,
          2113,
          4749,
          3094,
          4011,
          3744,
          3182,
          3574,
          2729,
          3030,
          2612,
          2040,
          419,
          15148,
          6517,
          2145,
          2194,
          2034,
          1878,
          503,
          558,
          644,
          1756,
          386,
          585,
          845,
          982,
          1359,
          1368,
          1889,
          2358,
          1938,
          2535,
          2280,
          2762,
          3914,
          4036
         ]
        },
        {
         "line": {
          "color": "rgb(255, 102, 102)",
          "width": 2
         },
         "mode": "lines",
         "name": "New Death Incident",
         "type": "scatter",
         "x": [
          "22/01",
          "23/01",
          "24/01",
          "25/01",
          "26/01",
          "27/01",
          "28/01",
          "29/01",
          "30/01",
          "31/01",
          "01/02",
          "02/02",
          "03/02",
          "04/02",
          "05/02",
          "06/02",
          "07/02",
          "08/02",
          "09/02",
          "10/02",
          "11/02",
          "12/02",
          "13/02",
          "14/02",
          "15/02",
          "16/02",
          "17/02",
          "18/02",
          "19/02",
          "20/02",
          "21/02",
          "22/02",
          "23/02",
          "24/02",
          "25/02",
          "26/02",
          "27/02",
          "28/02",
          "29/02",
          "01/03",
          "02/03",
          "03/03",
          "04/03",
          "05/03",
          "06/03",
          "07/03"
         ],
         "y": [
          17,
          1,
          8,
          16,
          14,
          26,
          49,
          2,
          38,
          42,
          46,
          103,
          64,
          66,
          72,
          70,
          85,
          87,
          100,
          107,
          100,
          5,
          253,
          152,
          143,
          104,
          98,
          139,
          115,
          125,
          4,
          207,
          11,
          160,
          79,
          62,
          44,
          58,
          69,
          55,
          89,
          75,
          94,
          94,
          112,
          98
         ]
        },
        {
         "line": {
          "color": "rgb(0,255,153)",
          "width": 2
         },
         "mode": "lines",
         "name": "New Recovery Incident",
         "type": "scatter",
         "x": [
          "22/01",
          "23/01",
          "24/01",
          "25/01",
          "26/01",
          "27/01",
          "28/01",
          "29/01",
          "30/01",
          "31/01",
          "01/02",
          "02/02",
          "03/02",
          "04/02",
          "05/02",
          "06/02",
          "07/02",
          "08/02",
          "09/02",
          "10/02",
          "11/02",
          "12/02",
          "13/02",
          "14/02",
          "15/02",
          "16/02",
          "17/02",
          "18/02",
          "19/02",
          "20/02",
          "21/02",
          "22/02",
          "23/02",
          "24/02",
          "25/02",
          "26/02",
          "27/02",
          "28/02",
          "29/02",
          "01/03",
          "02/03",
          "03/03",
          "04/03",
          "05/03",
          "06/03",
          "07/03"
         ],
         "y": [
          28,
          2,
          6,
          3,
          13,
          9,
          46,
          19,
          17,
          79,
          62,
          188,
          151,
          229,
          272,
          363,
          524,
          605,
          628,
          702,
          737,
          467,
          1145,
          1763,
          1337,
          1470,
          1718,
          1769,
          1769,
          2056,
          713,
          3996,
          508,
          1833,
          2678,
          2479,
          2893,
          3434,
          3071,
          2934,
          2886,
          2627,
          2942,
          2626,
          2069,
          2493
         ]
        }
       ],
       "layout": {
        "template": {
         "data": {
          "bar": [
           {
            "error_x": {
             "color": "#f2f5fa"
            },
            "error_y": {
             "color": "#f2f5fa"
            },
            "marker": {
             "line": {
              "color": "rgb(17,17,17)",
              "width": 0.5
             }
            },
            "type": "bar"
           }
          ],
          "barpolar": [
           {
            "marker": {
             "line": {
              "color": "rgb(17,17,17)",
              "width": 0.5
             }
            },
            "type": "barpolar"
           }
          ],
          "carpet": [
           {
            "aaxis": {
             "endlinecolor": "#A2B1C6",
             "gridcolor": "#506784",
             "linecolor": "#506784",
             "minorgridcolor": "#506784",
             "startlinecolor": "#A2B1C6"
            },
            "baxis": {
             "endlinecolor": "#A2B1C6",
             "gridcolor": "#506784",
             "linecolor": "#506784",
             "minorgridcolor": "#506784",
             "startlinecolor": "#A2B1C6"
            },
            "type": "carpet"
           }
          ],
          "choropleth": [
           {
            "colorbar": {
             "outlinewidth": 0,
             "ticks": ""
            },
            "type": "choropleth"
           }
          ],
          "contour": [
           {
            "colorbar": {
             "outlinewidth": 0,
             "ticks": ""
            },
            "colorscale": [
             [
              0,
              "#0d0887"
             ],
             [
              0.1111111111111111,
              "#46039f"
             ],
             [
              0.2222222222222222,
              "#7201a8"
             ],
             [
              0.3333333333333333,
              "#9c179e"
             ],
             [
              0.4444444444444444,
              "#bd3786"
             ],
             [
              0.5555555555555556,
              "#d8576b"
             ],
             [
              0.6666666666666666,
              "#ed7953"
             ],
             [
              0.7777777777777778,
              "#fb9f3a"
             ],
             [
              0.8888888888888888,
              "#fdca26"
             ],
             [
              1,
              "#f0f921"
             ]
            ],
            "type": "contour"
           }
          ],
          "contourcarpet": [
           {
            "colorbar": {
             "outlinewidth": 0,
             "ticks": ""
            },
            "type": "contourcarpet"
           }
          ],
          "heatmap": [
           {
            "colorbar": {
             "outlinewidth": 0,
             "ticks": ""
            },
            "colorscale": [
             [
              0,
              "#0d0887"
             ],
             [
              0.1111111111111111,
              "#46039f"
             ],
             [
              0.2222222222222222,
              "#7201a8"
             ],
             [
              0.3333333333333333,
              "#9c179e"
             ],
             [
              0.4444444444444444,
              "#bd3786"
             ],
             [
              0.5555555555555556,
              "#d8576b"
             ],
             [
              0.6666666666666666,
              "#ed7953"
             ],
             [
              0.7777777777777778,
              "#fb9f3a"
             ],
             [
              0.8888888888888888,
              "#fdca26"
             ],
             [
              1,
              "#f0f921"
             ]
            ],
            "type": "heatmap"
           }
          ],
          "heatmapgl": [
           {
            "colorbar": {
             "outlinewidth": 0,
             "ticks": ""
            },
            "colorscale": [
             [
              0,
              "#0d0887"
             ],
             [
              0.1111111111111111,
              "#46039f"
             ],
             [
              0.2222222222222222,
              "#7201a8"
             ],
             [
              0.3333333333333333,
              "#9c179e"
             ],
             [
              0.4444444444444444,
              "#bd3786"
             ],
             [
              0.5555555555555556,
              "#d8576b"
             ],
             [
              0.6666666666666666,
              "#ed7953"
             ],
             [
              0.7777777777777778,
              "#fb9f3a"
             ],
             [
              0.8888888888888888,
              "#fdca26"
             ],
             [
              1,
              "#f0f921"
             ]
            ],
            "type": "heatmapgl"
           }
          ],
          "histogram": [
           {
            "marker": {
             "colorbar": {
              "outlinewidth": 0,
              "ticks": ""
             }
            },
            "type": "histogram"
           }
          ],
          "histogram2d": [
           {
            "colorbar": {
             "outlinewidth": 0,
             "ticks": ""
            },
            "colorscale": [
             [
              0,
              "#0d0887"
             ],
             [
              0.1111111111111111,
              "#46039f"
             ],
             [
              0.2222222222222222,
              "#7201a8"
             ],
             [
              0.3333333333333333,
              "#9c179e"
             ],
             [
              0.4444444444444444,
              "#bd3786"
             ],
             [
              0.5555555555555556,
              "#d8576b"
             ],
             [
              0.6666666666666666,
              "#ed7953"
             ],
             [
              0.7777777777777778,
              "#fb9f3a"
             ],
             [
              0.8888888888888888,
              "#fdca26"
             ],
             [
              1,
              "#f0f921"
             ]
            ],
            "type": "histogram2d"
           }
          ],
          "histogram2dcontour": [
           {
            "colorbar": {
             "outlinewidth": 0,
             "ticks": ""
            },
            "colorscale": [
             [
              0,
              "#0d0887"
             ],
             [
              0.1111111111111111,
              "#46039f"
             ],
             [
              0.2222222222222222,
              "#7201a8"
             ],
             [
              0.3333333333333333,
              "#9c179e"
             ],
             [
              0.4444444444444444,
              "#bd3786"
             ],
             [
              0.5555555555555556,
              "#d8576b"
             ],
             [
              0.6666666666666666,
              "#ed7953"
             ],
             [
              0.7777777777777778,
              "#fb9f3a"
             ],
             [
              0.8888888888888888,
              "#fdca26"
             ],
             [
              1,
              "#f0f921"
             ]
            ],
            "type": "histogram2dcontour"
           }
          ],
          "mesh3d": [
           {
            "colorbar": {
             "outlinewidth": 0,
             "ticks": ""
            },
            "type": "mesh3d"
           }
          ],
          "parcoords": [
           {
            "line": {
             "colorbar": {
              "outlinewidth": 0,
              "ticks": ""
             }
            },
            "type": "parcoords"
           }
          ],
          "pie": [
           {
            "automargin": true,
            "type": "pie"
           }
          ],
          "scatter": [
           {
            "marker": {
             "line": {
              "color": "#283442"
             }
            },
            "type": "scatter"
           }
          ],
          "scatter3d": [
           {
            "line": {
             "colorbar": {
              "outlinewidth": 0,
              "ticks": ""
             }
            },
            "marker": {
             "colorbar": {
              "outlinewidth": 0,
              "ticks": ""
             }
            },
            "type": "scatter3d"
           }
          ],
          "scattercarpet": [
           {
            "marker": {
             "colorbar": {
              "outlinewidth": 0,
              "ticks": ""
             }
            },
            "type": "scattercarpet"
           }
          ],
          "scattergeo": [
           {
            "marker": {
             "colorbar": {
              "outlinewidth": 0,
              "ticks": ""
             }
            },
            "type": "scattergeo"
           }
          ],
          "scattergl": [
           {
            "marker": {
             "line": {
              "color": "#283442"
             }
            },
            "type": "scattergl"
           }
          ],
          "scattermapbox": [
           {
            "marker": {
             "colorbar": {
              "outlinewidth": 0,
              "ticks": ""
             }
            },
            "type": "scattermapbox"
           }
          ],
          "scatterpolar": [
           {
            "marker": {
             "colorbar": {
              "outlinewidth": 0,
              "ticks": ""
             }
            },
            "type": "scatterpolar"
           }
          ],
          "scatterpolargl": [
           {
            "marker": {
             "colorbar": {
              "outlinewidth": 0,
              "ticks": ""
             }
            },
            "type": "scatterpolargl"
           }
          ],
          "scatterternary": [
           {
            "marker": {
             "colorbar": {
              "outlinewidth": 0,
              "ticks": ""
             }
            },
            "type": "scatterternary"
           }
          ],
          "surface": [
           {
            "colorbar": {
             "outlinewidth": 0,
             "ticks": ""
            },
            "colorscale": [
             [
              0,
              "#0d0887"
             ],
             [
              0.1111111111111111,
              "#46039f"
             ],
             [
              0.2222222222222222,
              "#7201a8"
             ],
             [
              0.3333333333333333,
              "#9c179e"
             ],
             [
              0.4444444444444444,
              "#bd3786"
             ],
             [
              0.5555555555555556,
              "#d8576b"
             ],
             [
              0.6666666666666666,
              "#ed7953"
             ],
             [
              0.7777777777777778,
              "#fb9f3a"
             ],
             [
              0.8888888888888888,
              "#fdca26"
             ],
             [
              1,
              "#f0f921"
             ]
            ],
            "type": "surface"
           }
          ],
          "table": [
           {
            "cells": {
             "fill": {
              "color": "#506784"
             },
             "line": {
              "color": "rgb(17,17,17)"
             }
            },
            "header": {
             "fill": {
              "color": "#2a3f5f"
             },
             "line": {
              "color": "rgb(17,17,17)"
             }
            },
            "type": "table"
           }
          ]
         },
         "layout": {
          "annotationdefaults": {
           "arrowcolor": "#f2f5fa",
           "arrowhead": 0,
           "arrowwidth": 1
          },
          "coloraxis": {
           "colorbar": {
            "outlinewidth": 0,
            "ticks": ""
           }
          },
          "colorscale": {
           "diverging": [
            [
             0,
             "#8e0152"
            ],
            [
             0.1,
             "#c51b7d"
            ],
            [
             0.2,
             "#de77ae"
            ],
            [
             0.3,
             "#f1b6da"
            ],
            [
             0.4,
             "#fde0ef"
            ],
            [
             0.5,
             "#f7f7f7"
            ],
            [
             0.6,
             "#e6f5d0"
            ],
            [
             0.7,
             "#b8e186"
            ],
            [
             0.8,
             "#7fbc41"
            ],
            [
             0.9,
             "#4d9221"
            ],
            [
             1,
             "#276419"
            ]
           ],
           "sequential": [
            [
             0,
             "#0d0887"
            ],
            [
             0.1111111111111111,
             "#46039f"
            ],
            [
             0.2222222222222222,
             "#7201a8"
            ],
            [
             0.3333333333333333,
             "#9c179e"
            ],
            [
             0.4444444444444444,
             "#bd3786"
            ],
            [
             0.5555555555555556,
             "#d8576b"
            ],
            [
             0.6666666666666666,
             "#ed7953"
            ],
            [
             0.7777777777777778,
             "#fb9f3a"
            ],
            [
             0.8888888888888888,
             "#fdca26"
            ],
            [
             1,
             "#f0f921"
            ]
           ],
           "sequentialminus": [
            [
             0,
             "#0d0887"
            ],
            [
             0.1111111111111111,
             "#46039f"
            ],
            [
             0.2222222222222222,
             "#7201a8"
            ],
            [
             0.3333333333333333,
             "#9c179e"
            ],
            [
             0.4444444444444444,
             "#bd3786"
            ],
            [
             0.5555555555555556,
             "#d8576b"
            ],
            [
             0.6666666666666666,
             "#ed7953"
            ],
            [
             0.7777777777777778,
             "#fb9f3a"
            ],
            [
             0.8888888888888888,
             "#fdca26"
            ],
            [
             1,
             "#f0f921"
            ]
           ]
          },
          "colorway": [
           "#636efa",
           "#EF553B",
           "#00cc96",
           "#ab63fa",
           "#FFA15A",
           "#19d3f3",
           "#FF6692",
           "#B6E880",
           "#FF97FF",
           "#FECB52"
          ],
          "font": {
           "color": "#f2f5fa"
          },
          "geo": {
           "bgcolor": "rgb(17,17,17)",
           "lakecolor": "rgb(17,17,17)",
           "landcolor": "rgb(17,17,17)",
           "showlakes": true,
           "showland": true,
           "subunitcolor": "#506784"
          },
          "hoverlabel": {
           "align": "left"
          },
          "hovermode": "closest",
          "mapbox": {
           "style": "dark"
          },
          "paper_bgcolor": "rgb(17,17,17)",
          "plot_bgcolor": "rgb(17,17,17)",
          "polar": {
           "angularaxis": {
            "gridcolor": "#506784",
            "linecolor": "#506784",
            "ticks": ""
           },
           "bgcolor": "rgb(17,17,17)",
           "radialaxis": {
            "gridcolor": "#506784",
            "linecolor": "#506784",
            "ticks": ""
           }
          },
          "scene": {
           "xaxis": {
            "backgroundcolor": "rgb(17,17,17)",
            "gridcolor": "#506784",
            "gridwidth": 2,
            "linecolor": "#506784",
            "showbackground": true,
            "ticks": "",
            "zerolinecolor": "#C8D4E3"
           },
           "yaxis": {
            "backgroundcolor": "rgb(17,17,17)",
            "gridcolor": "#506784",
            "gridwidth": 2,
            "linecolor": "#506784",
            "showbackground": true,
            "ticks": "",
            "zerolinecolor": "#C8D4E3"
           },
           "zaxis": {
            "backgroundcolor": "rgb(17,17,17)",
            "gridcolor": "#506784",
            "gridwidth": 2,
            "linecolor": "#506784",
            "showbackground": true,
            "ticks": "",
            "zerolinecolor": "#C8D4E3"
           }
          },
          "shapedefaults": {
           "line": {
            "color": "#f2f5fa"
           }
          },
          "sliderdefaults": {
           "bgcolor": "#C8D4E3",
           "bordercolor": "rgb(17,17,17)",
           "borderwidth": 1,
           "tickwidth": 0
          },
          "ternary": {
           "aaxis": {
            "gridcolor": "#506784",
            "linecolor": "#506784",
            "ticks": ""
           },
           "baxis": {
            "gridcolor": "#506784",
            "linecolor": "#506784",
            "ticks": ""
           },
           "bgcolor": "rgb(17,17,17)",
           "caxis": {
            "gridcolor": "#506784",
            "linecolor": "#506784",
            "ticks": ""
           }
          },
          "title": {
           "x": 0.05
          },
          "updatemenudefaults": {
           "bgcolor": "#506784",
           "borderwidth": 0
          },
          "xaxis": {
           "automargin": true,
           "gridcolor": "#283442",
           "linecolor": "#506784",
           "ticks": "",
           "title": {
            "standoff": 15
           },
           "zerolinecolor": "#283442",
           "zerolinewidth": 2
          },
          "yaxis": {
           "automargin": true,
           "gridcolor": "#283442",
           "linecolor": "#506784",
           "ticks": "",
           "title": {
            "standoff": 15
           },
           "zerolinecolor": "#283442",
           "zerolinewidth": 2
          }
         }
        },
        "title": {
         "text": "New Incident Reported/Recovered/Death per Day"
        },
        "xaxis": {
         "tickformat": "%d %B (%a)<br>%Y"
        }
       }
      },
      "text/html": [
       "<div>\n",
       "        \n",
       "        \n",
       "            <div id=\"e0a39292-a8de-4a72-8b02-f68cf227fb09\" class=\"plotly-graph-div\" style=\"height:525px; width:100%;\"></div>\n",
       "            <script type=\"text/javascript\">\n",
       "                require([\"plotly\"], function(Plotly) {\n",
       "                    window.PLOTLYENV=window.PLOTLYENV || {};\n",
       "                    \n",
       "                if (document.getElementById(\"e0a39292-a8de-4a72-8b02-f68cf227fb09\")) {\n",
       "                    Plotly.newPlot(\n",
       "                        'e0a39292-a8de-4a72-8b02-f68cf227fb09',\n",
       "                        [{\"line\": {\"color\": \"rgb(102, 102, 255)\", \"width\": 2}, \"mode\": \"lines\", \"name\": \"New Confirmed Incident\", \"type\": \"scatter\", \"x\": [\"22/01\", \"23/01\", \"24/01\", \"25/01\", \"26/01\", \"27/01\", \"28/01\", \"29/01\", \"30/01\", \"31/01\", \"01/02\", \"02/02\", \"03/02\", \"04/02\", \"05/02\", \"06/02\", \"07/02\", \"08/02\", \"09/02\", \"10/02\", \"11/02\", \"12/02\", \"13/02\", \"14/02\", \"15/02\", \"16/02\", \"17/02\", \"18/02\", \"19/02\", \"20/02\", \"21/02\", \"22/02\", \"23/02\", \"24/02\", \"25/02\", \"26/02\", \"27/02\", \"28/02\", \"29/02\", \"01/03\", \"02/03\", \"03/03\", \"04/03\", \"05/03\", \"06/03\", \"07/03\"], \"y\": [555, 98, 288, 497, 680, 809, 2651, 587, 2070, 1690, 2113, 4749, 3094, 4011, 3744, 3182, 3574, 2729, 3030, 2612, 2040, 419, 15148, 6517, 2145, 2194, 2034, 1878, 503, 558, 644, 1756, 386, 585, 845, 982, 1359, 1368, 1889, 2358, 1938, 2535, 2280, 2762, 3914, 4036]}, {\"line\": {\"color\": \"rgb(255, 102, 102)\", \"width\": 2}, \"mode\": \"lines\", \"name\": \"New Death Incident\", \"type\": \"scatter\", \"x\": [\"22/01\", \"23/01\", \"24/01\", \"25/01\", \"26/01\", \"27/01\", \"28/01\", \"29/01\", \"30/01\", \"31/01\", \"01/02\", \"02/02\", \"03/02\", \"04/02\", \"05/02\", \"06/02\", \"07/02\", \"08/02\", \"09/02\", \"10/02\", \"11/02\", \"12/02\", \"13/02\", \"14/02\", \"15/02\", \"16/02\", \"17/02\", \"18/02\", \"19/02\", \"20/02\", \"21/02\", \"22/02\", \"23/02\", \"24/02\", \"25/02\", \"26/02\", \"27/02\", \"28/02\", \"29/02\", \"01/03\", \"02/03\", \"03/03\", \"04/03\", \"05/03\", \"06/03\", \"07/03\"], \"y\": [17, 1, 8, 16, 14, 26, 49, 2, 38, 42, 46, 103, 64, 66, 72, 70, 85, 87, 100, 107, 100, 5, 253, 152, 143, 104, 98, 139, 115, 125, 4, 207, 11, 160, 79, 62, 44, 58, 69, 55, 89, 75, 94, 94, 112, 98]}, {\"line\": {\"color\": \"rgb(0,255,153)\", \"width\": 2}, \"mode\": \"lines\", \"name\": \"New Recovery Incident\", \"type\": \"scatter\", \"x\": [\"22/01\", \"23/01\", \"24/01\", \"25/01\", \"26/01\", \"27/01\", \"28/01\", \"29/01\", \"30/01\", \"31/01\", \"01/02\", \"02/02\", \"03/02\", \"04/02\", \"05/02\", \"06/02\", \"07/02\", \"08/02\", \"09/02\", \"10/02\", \"11/02\", \"12/02\", \"13/02\", \"14/02\", \"15/02\", \"16/02\", \"17/02\", \"18/02\", \"19/02\", \"20/02\", \"21/02\", \"22/02\", \"23/02\", \"24/02\", \"25/02\", \"26/02\", \"27/02\", \"28/02\", \"29/02\", \"01/03\", \"02/03\", \"03/03\", \"04/03\", \"05/03\", \"06/03\", \"07/03\"], \"y\": [28, 2, 6, 3, 13, 9, 46, 19, 17, 79, 62, 188, 151, 229, 272, 363, 524, 605, 628, 702, 737, 467, 1145, 1763, 1337, 1470, 1718, 1769, 1769, 2056, 713, 3996, 508, 1833, 2678, 2479, 2893, 3434, 3071, 2934, 2886, 2627, 2942, 2626, 2069, 2493]}],\n",
       "                        {\"template\": {\"data\": {\"bar\": [{\"error_x\": {\"color\": \"#f2f5fa\"}, \"error_y\": {\"color\": \"#f2f5fa\"}, \"marker\": {\"line\": {\"color\": \"rgb(17,17,17)\", \"width\": 0.5}}, \"type\": \"bar\"}], \"barpolar\": [{\"marker\": {\"line\": {\"color\": \"rgb(17,17,17)\", \"width\": 0.5}}, \"type\": \"barpolar\"}], \"carpet\": [{\"aaxis\": {\"endlinecolor\": \"#A2B1C6\", \"gridcolor\": \"#506784\", \"linecolor\": \"#506784\", \"minorgridcolor\": \"#506784\", \"startlinecolor\": \"#A2B1C6\"}, \"baxis\": {\"endlinecolor\": \"#A2B1C6\", \"gridcolor\": \"#506784\", \"linecolor\": \"#506784\", \"minorgridcolor\": \"#506784\", \"startlinecolor\": \"#A2B1C6\"}, \"type\": \"carpet\"}], \"choropleth\": [{\"colorbar\": {\"outlinewidth\": 0, \"ticks\": \"\"}, \"type\": \"choropleth\"}], \"contour\": [{\"colorbar\": {\"outlinewidth\": 0, \"ticks\": \"\"}, \"colorscale\": [[0.0, \"#0d0887\"], [0.1111111111111111, \"#46039f\"], [0.2222222222222222, \"#7201a8\"], [0.3333333333333333, \"#9c179e\"], [0.4444444444444444, \"#bd3786\"], [0.5555555555555556, \"#d8576b\"], [0.6666666666666666, \"#ed7953\"], [0.7777777777777778, \"#fb9f3a\"], [0.8888888888888888, \"#fdca26\"], [1.0, \"#f0f921\"]], \"type\": \"contour\"}], \"contourcarpet\": [{\"colorbar\": {\"outlinewidth\": 0, \"ticks\": \"\"}, \"type\": \"contourcarpet\"}], \"heatmap\": [{\"colorbar\": {\"outlinewidth\": 0, \"ticks\": \"\"}, \"colorscale\": [[0.0, \"#0d0887\"], [0.1111111111111111, \"#46039f\"], [0.2222222222222222, \"#7201a8\"], [0.3333333333333333, \"#9c179e\"], [0.4444444444444444, \"#bd3786\"], [0.5555555555555556, \"#d8576b\"], [0.6666666666666666, \"#ed7953\"], [0.7777777777777778, \"#fb9f3a\"], [0.8888888888888888, \"#fdca26\"], [1.0, \"#f0f921\"]], \"type\": \"heatmap\"}], \"heatmapgl\": [{\"colorbar\": {\"outlinewidth\": 0, \"ticks\": \"\"}, \"colorscale\": [[0.0, \"#0d0887\"], [0.1111111111111111, \"#46039f\"], [0.2222222222222222, \"#7201a8\"], [0.3333333333333333, \"#9c179e\"], [0.4444444444444444, \"#bd3786\"], [0.5555555555555556, \"#d8576b\"], [0.6666666666666666, \"#ed7953\"], [0.7777777777777778, \"#fb9f3a\"], [0.8888888888888888, \"#fdca26\"], [1.0, \"#f0f921\"]], \"type\": \"heatmapgl\"}], \"histogram\": [{\"marker\": {\"colorbar\": {\"outlinewidth\": 0, \"ticks\": \"\"}}, \"type\": \"histogram\"}], \"histogram2d\": [{\"colorbar\": {\"outlinewidth\": 0, \"ticks\": \"\"}, \"colorscale\": [[0.0, \"#0d0887\"], [0.1111111111111111, \"#46039f\"], [0.2222222222222222, \"#7201a8\"], [0.3333333333333333, \"#9c179e\"], [0.4444444444444444, \"#bd3786\"], [0.5555555555555556, \"#d8576b\"], [0.6666666666666666, \"#ed7953\"], [0.7777777777777778, \"#fb9f3a\"], [0.8888888888888888, \"#fdca26\"], [1.0, \"#f0f921\"]], \"type\": \"histogram2d\"}], \"histogram2dcontour\": [{\"colorbar\": {\"outlinewidth\": 0, \"ticks\": \"\"}, \"colorscale\": [[0.0, \"#0d0887\"], [0.1111111111111111, \"#46039f\"], [0.2222222222222222, \"#7201a8\"], [0.3333333333333333, \"#9c179e\"], [0.4444444444444444, \"#bd3786\"], [0.5555555555555556, \"#d8576b\"], [0.6666666666666666, \"#ed7953\"], [0.7777777777777778, \"#fb9f3a\"], [0.8888888888888888, \"#fdca26\"], [1.0, \"#f0f921\"]], \"type\": \"histogram2dcontour\"}], \"mesh3d\": [{\"colorbar\": {\"outlinewidth\": 0, \"ticks\": \"\"}, \"type\": \"mesh3d\"}], \"parcoords\": [{\"line\": {\"colorbar\": {\"outlinewidth\": 0, \"ticks\": \"\"}}, \"type\": \"parcoords\"}], \"pie\": [{\"automargin\": true, \"type\": \"pie\"}], \"scatter\": [{\"marker\": {\"line\": {\"color\": \"#283442\"}}, \"type\": \"scatter\"}], \"scatter3d\": [{\"line\": {\"colorbar\": {\"outlinewidth\": 0, \"ticks\": \"\"}}, \"marker\": {\"colorbar\": {\"outlinewidth\": 0, \"ticks\": \"\"}}, \"type\": \"scatter3d\"}], \"scattercarpet\": [{\"marker\": {\"colorbar\": {\"outlinewidth\": 0, \"ticks\": \"\"}}, \"type\": \"scattercarpet\"}], \"scattergeo\": [{\"marker\": {\"colorbar\": {\"outlinewidth\": 0, \"ticks\": \"\"}}, \"type\": \"scattergeo\"}], \"scattergl\": [{\"marker\": {\"line\": {\"color\": \"#283442\"}}, \"type\": \"scattergl\"}], \"scattermapbox\": [{\"marker\": {\"colorbar\": {\"outlinewidth\": 0, \"ticks\": \"\"}}, \"type\": \"scattermapbox\"}], \"scatterpolar\": [{\"marker\": {\"colorbar\": {\"outlinewidth\": 0, \"ticks\": \"\"}}, \"type\": \"scatterpolar\"}], \"scatterpolargl\": [{\"marker\": {\"colorbar\": {\"outlinewidth\": 0, \"ticks\": \"\"}}, \"type\": \"scatterpolargl\"}], \"scatterternary\": [{\"marker\": {\"colorbar\": {\"outlinewidth\": 0, \"ticks\": \"\"}}, \"type\": \"scatterternary\"}], \"surface\": [{\"colorbar\": {\"outlinewidth\": 0, \"ticks\": \"\"}, \"colorscale\": [[0.0, \"#0d0887\"], [0.1111111111111111, \"#46039f\"], [0.2222222222222222, \"#7201a8\"], [0.3333333333333333, \"#9c179e\"], [0.4444444444444444, \"#bd3786\"], [0.5555555555555556, \"#d8576b\"], [0.6666666666666666, \"#ed7953\"], [0.7777777777777778, \"#fb9f3a\"], [0.8888888888888888, \"#fdca26\"], [1.0, \"#f0f921\"]], \"type\": \"surface\"}], \"table\": [{\"cells\": {\"fill\": {\"color\": \"#506784\"}, \"line\": {\"color\": \"rgb(17,17,17)\"}}, \"header\": {\"fill\": {\"color\": \"#2a3f5f\"}, \"line\": {\"color\": \"rgb(17,17,17)\"}}, \"type\": \"table\"}]}, \"layout\": {\"annotationdefaults\": {\"arrowcolor\": \"#f2f5fa\", \"arrowhead\": 0, \"arrowwidth\": 1}, \"coloraxis\": {\"colorbar\": {\"outlinewidth\": 0, \"ticks\": \"\"}}, \"colorscale\": {\"diverging\": [[0, \"#8e0152\"], [0.1, \"#c51b7d\"], [0.2, \"#de77ae\"], [0.3, \"#f1b6da\"], [0.4, \"#fde0ef\"], [0.5, \"#f7f7f7\"], [0.6, \"#e6f5d0\"], [0.7, \"#b8e186\"], [0.8, \"#7fbc41\"], [0.9, \"#4d9221\"], [1, \"#276419\"]], \"sequential\": [[0.0, \"#0d0887\"], [0.1111111111111111, \"#46039f\"], [0.2222222222222222, \"#7201a8\"], [0.3333333333333333, \"#9c179e\"], [0.4444444444444444, \"#bd3786\"], [0.5555555555555556, \"#d8576b\"], [0.6666666666666666, \"#ed7953\"], [0.7777777777777778, \"#fb9f3a\"], [0.8888888888888888, \"#fdca26\"], [1.0, \"#f0f921\"]], \"sequentialminus\": [[0.0, \"#0d0887\"], [0.1111111111111111, \"#46039f\"], [0.2222222222222222, \"#7201a8\"], [0.3333333333333333, \"#9c179e\"], [0.4444444444444444, \"#bd3786\"], [0.5555555555555556, \"#d8576b\"], [0.6666666666666666, \"#ed7953\"], [0.7777777777777778, \"#fb9f3a\"], [0.8888888888888888, \"#fdca26\"], [1.0, \"#f0f921\"]]}, \"colorway\": [\"#636efa\", \"#EF553B\", \"#00cc96\", \"#ab63fa\", \"#FFA15A\", \"#19d3f3\", \"#FF6692\", \"#B6E880\", \"#FF97FF\", \"#FECB52\"], \"font\": {\"color\": \"#f2f5fa\"}, \"geo\": {\"bgcolor\": \"rgb(17,17,17)\", \"lakecolor\": \"rgb(17,17,17)\", \"landcolor\": \"rgb(17,17,17)\", \"showlakes\": true, \"showland\": true, \"subunitcolor\": \"#506784\"}, \"hoverlabel\": {\"align\": \"left\"}, \"hovermode\": \"closest\", \"mapbox\": {\"style\": \"dark\"}, \"paper_bgcolor\": \"rgb(17,17,17)\", \"plot_bgcolor\": \"rgb(17,17,17)\", \"polar\": {\"angularaxis\": {\"gridcolor\": \"#506784\", \"linecolor\": \"#506784\", \"ticks\": \"\"}, \"bgcolor\": \"rgb(17,17,17)\", \"radialaxis\": {\"gridcolor\": \"#506784\", \"linecolor\": \"#506784\", \"ticks\": \"\"}}, \"scene\": {\"xaxis\": {\"backgroundcolor\": \"rgb(17,17,17)\", \"gridcolor\": \"#506784\", \"gridwidth\": 2, \"linecolor\": \"#506784\", \"showbackground\": true, \"ticks\": \"\", \"zerolinecolor\": \"#C8D4E3\"}, \"yaxis\": {\"backgroundcolor\": \"rgb(17,17,17)\", \"gridcolor\": \"#506784\", \"gridwidth\": 2, \"linecolor\": \"#506784\", \"showbackground\": true, \"ticks\": \"\", \"zerolinecolor\": \"#C8D4E3\"}, \"zaxis\": {\"backgroundcolor\": \"rgb(17,17,17)\", \"gridcolor\": \"#506784\", \"gridwidth\": 2, \"linecolor\": \"#506784\", \"showbackground\": true, \"ticks\": \"\", \"zerolinecolor\": \"#C8D4E3\"}}, \"shapedefaults\": {\"line\": {\"color\": \"#f2f5fa\"}}, \"sliderdefaults\": {\"bgcolor\": \"#C8D4E3\", \"bordercolor\": \"rgb(17,17,17)\", \"borderwidth\": 1, \"tickwidth\": 0}, \"ternary\": {\"aaxis\": {\"gridcolor\": \"#506784\", \"linecolor\": \"#506784\", \"ticks\": \"\"}, \"baxis\": {\"gridcolor\": \"#506784\", \"linecolor\": \"#506784\", \"ticks\": \"\"}, \"bgcolor\": \"rgb(17,17,17)\", \"caxis\": {\"gridcolor\": \"#506784\", \"linecolor\": \"#506784\", \"ticks\": \"\"}}, \"title\": {\"x\": 0.05}, \"updatemenudefaults\": {\"bgcolor\": \"#506784\", \"borderwidth\": 0}, \"xaxis\": {\"automargin\": true, \"gridcolor\": \"#283442\", \"linecolor\": \"#506784\", \"ticks\": \"\", \"title\": {\"standoff\": 15}, \"zerolinecolor\": \"#283442\", \"zerolinewidth\": 2}, \"yaxis\": {\"automargin\": true, \"gridcolor\": \"#283442\", \"linecolor\": \"#506784\", \"ticks\": \"\", \"title\": {\"standoff\": 15}, \"zerolinecolor\": \"#283442\", \"zerolinewidth\": 2}}}, \"title\": {\"text\": \"New Incident Reported/Recovered/Death per Day\"}, \"xaxis\": {\"tickformat\": \"%d %B (%a)<br>%Y\"}},\n",
       "                        {\"responsive\": true}\n",
       "                    ).then(function(){\n",
       "                            \n",
       "var gd = document.getElementById('e0a39292-a8de-4a72-8b02-f68cf227fb09');\n",
       "var x = new MutationObserver(function (mutations, observer) {{\n",
       "        var display = window.getComputedStyle(gd).display;\n",
       "        if (!display || display === 'none') {{\n",
       "            console.log([gd, 'removed!']);\n",
       "            Plotly.purge(gd);\n",
       "            observer.disconnect();\n",
       "        }}\n",
       "}});\n",
       "\n",
       "// Listen for the removal of the full notebook cells\n",
       "var notebookContainer = gd.closest('#notebook-container');\n",
       "if (notebookContainer) {{\n",
       "    x.observe(notebookContainer, {childList: true});\n",
       "}}\n",
       "\n",
       "// Listen for the clearing of the current output cell\n",
       "var outputEl = gd.closest('.output');\n",
       "if (outputEl) {{\n",
       "    x.observe(outputEl, {childList: true});\n",
       "}}\n",
       "\n",
       "                        })\n",
       "                };\n",
       "                });\n",
       "            </script>\n",
       "        </div>"
      ]
     },
     "metadata": {},
     "output_type": "display_data"
    }
   ],
   "source": [
    "fig=go.Figure()\n",
    "x=[i.split('/')[0]+'/'+i.split('/')[1] for i in covid_timeseries.ObservationDate ]\n",
    "fig.add_trace(go.Scatter(x=x, \n",
    "                         y=covid_timeseries['Newly Confirmed'],\n",
    "                         mode='lines',\n",
    "                         name='New Confirmed Incident',\n",
    "                         line=dict(color='rgb(102, 102, 255)', width=2)))\n",
    "fig.add_trace(go.Scatter(x=x,y=covid_timeseries['New Death'],name='New Death Incident',\n",
    "                        mode='lines',line=dict(color='rgb(255, 102, 102)', width=2)))\n",
    "\n",
    "fig.add_trace(go.Scatter(x=x,y=covid_timeseries['New Recovered'],name='New Recovery Incident',\n",
    "             mode='lines',line=dict(color='rgb(0,255,153)', width=2)))\n",
    "fig.update_layout(\n",
    "    title = 'New Incident Reported/Recovered/Death per Day',\n",
    "    xaxis_tickformat = '%d %B (%a)<br>%Y',template='plotly_dark'\n",
    ")\n",
    "fig.show()"
   ]
  },
  {
   "cell_type": "markdown",
   "metadata": {},
   "source": [
    "### Analysis of spread over regions"
   ]
  },
  {
   "cell_type": "code",
   "execution_count": 216,
   "metadata": {},
   "outputs": [],
   "source": [
    "covid_country=[con.lower() for con in covid_countrywise.country]\n",
    "covid_country[23]='china'\n",
    "covid_countrywise.country=covid_country"
   ]
  },
  {
   "cell_type": "code",
   "execution_count": 220,
   "metadata": {},
   "outputs": [],
   "source": [
    "coordinates=pd.read_csv('world_coordinates.csv')\n",
    "coordinates=coordinates.rename(columns={'Country':'country'})\n",
    "cords_country=[con.lower() for con in coordinates.country]\n",
    "coordinates.country=cords_country\n",
    "world_data=pd.merge(covid_countrywise,coordinates,on='country')"
   ]
  },
  {
   "cell_type": "markdown",
   "metadata": {},
   "source": [
    "#### Q9. How the virus is spread across various regions?\n"
   ]
  },
  {
   "cell_type": "code",
   "execution_count": 232,
   "metadata": {},
   "outputs": [],
   "source": [
    "# We will create a world map with circles in affected regions\n",
    "# We will choose the circle radius based on the confirmed ratio\n",
    "total_confirmed=sum(i for i in covid_countrywise['confirmed'])\n",
    "total_confirmed_countrywise=world_data.confirmed\n",
    "percentage_confirmed_per_country=(total_confirmed_countrywise/total_confirmed)*100\n",
    "for i in range(len(percentage_confirmed_per_country)):\n",
    "    if(percentage_confirmed_per_country[i]<5):\n",
    "        percentage_confirmed_per_country[i]=5\n",
    "    elif(percentage_confirmed_per_country[i]>5 and percentage_confirmed_per_country[i]<25):\n",
    "        percentage_confirmed_per_country[i]=10\n",
    "    elif(percentage_confirmed_per_country[i]>25 and percentage_confirmed_per_country[i]<50):\n",
    "        percentage_confirmed_per_country[i]=15\n",
    "    else:\n",
    "         percentage_confirmed_per_country[i]=20\n",
    "world_data['radius']=percentage_confirmed_per_country"
   ]
  },
  {
   "cell_type": "code",
   "execution_count": 233,
   "metadata": {
    "scrolled": true
   },
   "outputs": [],
   "source": [
    "# create map and display it\n",
    "# How to create map using Folium\n",
    "#https://python-visualization.github.io/folium/modules.html\n",
    "# credit: https://www.kaggle.com/parulpandey/wuhan-coronavirus-a-geographical-analysis/data\n",
    "world_map = folium.Map(location=[30, 0], zoom_start=1.5,tiles='Stamen Toner')\n",
    "for lat, lon, value, name,confirm_ratio in zip(world_data['latitude'], world_data['longitude'], world_data['confirmed'], world_data['country'],world_data['radius']):\n",
    "    folium.CircleMarker([lat, lon],\n",
    "                        radius=confirm_ratio,\n",
    "                        popup = ('<strong>Country</strong>: ' + str(name).capitalize() + '<br>'\n",
    "                                '<strong>Confirmed Cases</strong>: ' + str(value) + '<br>'),\n",
    "                        color='rgb(102, 102, 255)',\n",
    "                        \n",
    "                        fill_color='rgb(102, 102, 255)',\n",
    "                        fill_opacity=0.7 ).add_to(world_map)"
   ]
  },
  {
   "cell_type": "code",
   "execution_count": 234,
   "metadata": {},
   "outputs": [
    {
     "data": {
      "text/html": [
       "<div style=\"width:100%;\"><div style=\"position:relative;width:100%;height:0;padding-bottom:60%;\"><iframe src=\"data:text/html;charset=utf-8;base64,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\" style=\"position:absolute;width:100%;height:100%;left:0;top:0;border:none !important;\" allowfullscreen webkitallowfullscreen mozallowfullscreen></iframe></div></div>"
      ],
      "text/plain": [
       "<folium.folium.Map at 0x1cdcc6ac748>"
      ]
     },
     "execution_count": 234,
     "metadata": {},
     "output_type": "execute_result"
    }
   ],
   "source": [
    "world_map"
   ]
  },
  {
   "cell_type": "markdown",
   "metadata": {},
   "source": [
    "#### Q10. Which are the regious where death cases are reported?"
   ]
  },
  {
   "cell_type": "code",
   "execution_count": 256,
   "metadata": {},
   "outputs": [],
   "source": [
    "world_map_deaths = folium.Map(location=[30, 0], zoom_start=1.5,tiles='Stamen Toner')\n",
    "world_data_deaths=world_data[world_data['deaths']>0]\n",
    "death_confirm_ratio=((world_data.deaths)/(world_data.confirmed))*100\n",
    "world_data_deaths['death_rates']=death_confirm_ratio\n",
    "for lat, lon, value, name,rad in zip(world_data_deaths['latitude'], world_data_deaths['longitude'], world_data_deaths['deaths'], world_data_deaths['country'],world_data_deaths['death_rates']):\n",
    "    folium.CircleMarker([lat, lon],\n",
    "                        radius=10,\n",
    "                        popup = ('<strong>Country</strong>: ' + str(name).capitalize() + '<br>'\n",
    "                                '<strong>Death Cases</strong>: ' + str(value) + '<br>'),\n",
    "                        color='red',\n",
    "                        \n",
    "                        fill_color='red',\n",
    "                        fill_opacity=0.7 ).add_to(world_map_deaths)"
   ]
  },
  {
   "cell_type": "code",
   "execution_count": 258,
   "metadata": {},
   "outputs": [
    {
     "data": {
      "text/html": [
       "<div style=\"width:100%;\"><div style=\"position:relative;width:100%;height:0;padding-bottom:60%;\"><iframe src=\"data:text/html;charset=utf-8;base64,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\" style=\"position:absolute;width:100%;height:100%;left:0;top:0;border:none !important;\" allowfullscreen webkitallowfullscreen mozallowfullscreen></iframe></div></div>"
      ],
      "text/plain": [
       "<folium.folium.Map at 0x1cdcfcb6cf8>"
      ]
     },
     "execution_count": 258,
     "metadata": {},
     "output_type": "execute_result"
    }
   ],
   "source": [
    "world_map_deaths"
   ]
  },
  {
   "cell_type": "markdown",
   "metadata": {},
   "source": [
    "#### Q11. Which countries are completely recovered tilll date (All confirmed cases are recovred)?\n"
   ]
  },
  {
   "cell_type": "code",
   "execution_count": 253,
   "metadata": {},
   "outputs": [],
   "source": [
    "world_map_recovered = folium.Map(location=[30, 0], zoom_start=1.5,tiles='Stamen Toner')\n",
    "world_data_totaly_recovered=world_data[world_data['confirmed']==world_data['recovered']]\n",
    "for lat, lon, value, name in zip(world_data_totaly_recovered['latitude'], world_data_totaly_recovered['longitude'], world_data_totaly_recovered['recovered'], world_data_totaly_recovered['country']):\n",
    "    folium.CircleMarker([lat, lon],\n",
    "                        radius=10,\n",
    "                        popup = ('<strong>Country</strong>: ' + str(name).capitalize() + '<br>'\n",
    "                                '<strong>Recovered</strong>: ' + str(value) + '<br>'),\n",
    "                        color='green',\n",
    "                        \n",
    "                        fill_color='green',\n",
    "                        fill_opacity=0.7 ).add_to(world_map_recovered)"
   ]
  },
  {
   "cell_type": "code",
   "execution_count": 254,
   "metadata": {},
   "outputs": [
    {
     "data": {
      "text/html": [
       "<div style=\"width:100%;\"><div style=\"position:relative;width:100%;height:0;padding-bottom:60%;\"><iframe src=\"data:text/html;charset=utf-8;base64,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\" style=\"position:absolute;width:100%;height:100%;left:0;top:0;border:none !important;\" allowfullscreen webkitallowfullscreen mozallowfullscreen></iframe></div></div>"
      ],
      "text/plain": [
       "<folium.folium.Map at 0x1cdcfc876a0>"
      ]
     },
     "execution_count": 254,
     "metadata": {},
     "output_type": "execute_result"
    }
   ],
   "source": [
    "world_map_recovered"
   ]
  },
  {
   "cell_type": "code",
   "execution_count": null,
   "metadata": {},
   "outputs": [],
   "source": []
  }
 ],
 "metadata": {
  "kernelspec": {
   "display_name": "Python 3",
   "language": "python",
   "name": "python3"
  },
  "language_info": {
   "codemirror_mode": {
    "name": "ipython",
    "version": 3
   },
   "file_extension": ".py",
   "mimetype": "text/x-python",
   "name": "python",
   "nbconvert_exporter": "python",
   "pygments_lexer": "ipython3",
   "version": "3.6.10"
  }
 },
 "nbformat": 4,
 "nbformat_minor": 4
}
